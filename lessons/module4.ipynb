{
 "cells": [
  {
   "cell_type": "markdown",
   "metadata": {},
   "source": [
    "## Module 4:"
   ]
  },
  {
   "cell_type": "markdown",
   "metadata": {},
   "source": [
    "### Module 4.1 Dictionaries and Sets"
   ]
  },
  {
   "cell_type": "markdown",
   "metadata": {},
   "source": [
    "Let's add two more builtin types to our tool belt: **dictionaries** and **sets**."
   ]
  },
  {
   "cell_type": "markdown",
   "metadata": {},
   "source": [
    "#### Dictionaries"
   ]
  },
  {
   "cell_type": "markdown",
   "metadata": {},
   "source": [
    "A dictionary is a data type that maps keys to values. Dictionaries can be indexed using a key to get a value:"
   ]
  },
  {
   "cell_type": "code",
   "execution_count": null,
   "metadata": {},
   "outputs": [],
   "source": [
    "# dictionary format\n",
    "# { \n",
    "#   <key> : <value>,\n",
    "#   <key> : <value>,\n",
    "#   ...\n",
    "# }\n",
    "my_dictionary = {\n",
    "    \"fly\": \"to flap your wings\",\n",
    "    \"swim\": \"to move through water\"\n",
    "}\n",
    "print(my_dictionary[\"fly\"])\n",
    "print(my_dictionary[\"swim\"])"
   ]
  },
  {
   "cell_type": "markdown",
   "metadata": {},
   "source": [
    "Dictionaries are defined using curly braces (**{}**), and contain pairs of keys and values separated by commas. If you index the dictionary with a key in the dictionary, it returns the value. If you use a key that's not in the dictionary, you get an exception:"
   ]
  },
  {
   "cell_type": "code",
   "execution_count": null,
   "metadata": {},
   "outputs": [],
   "source": [
    "number_to_text_converter = {\n",
    "    1: \"one\",\n",
    "    2: \"two\",\n",
    "    3: \"three\",\n",
    "    4: \"four\",\n",
    "    5: \"five\",\n",
    "}\n",
    "print(number_to_text_converter[1])\n",
    "print(number_to_text_converter[7])"
   ]
  },
  {
   "cell_type": "markdown",
   "metadata": {},
   "source": [
    "The values of a dictionary can be of any type, but the keys of a dictionary must be an immutable type (int, float, str, bool, tuple, None). So if we try to use a mutable type like list, we get an exception:"
   ]
  },
  {
   "cell_type": "code",
   "execution_count": 1,
   "metadata": {},
   "outputs": [
    {
     "ename": "TypeError",
     "evalue": "unhashable type: 'list'",
     "output_type": "error",
     "traceback": [
      "\u001b[1;31m---------------------------------------------------------------------------\u001b[0m",
      "\u001b[1;31mTypeError\u001b[0m                                 Traceback (most recent call last)",
      "\u001b[1;32mc:\\Users\\luker\\coding\\coding-bootcamp\\lessons\\module4.ipynb Cell 9'\u001b[0m in \u001b[0;36m<module>\u001b[1;34m\u001b[0m\n\u001b[1;32m----> <a href='vscode-notebook-cell:/c%3A/Users/luker/coding/coding-bootcamp/lessons/module4.ipynb#ch0000010?line=0'>1</a>\u001b[0m my_not_so_awesome_dictionary \u001b[39m=\u001b[39m {\n\u001b[0;32m      <a href='vscode-notebook-cell:/c%3A/Users/luker/coding/coding-bootcamp/lessons/module4.ipynb#ch0000010?line=1'>2</a>\u001b[0m     [\u001b[39m1\u001b[39m, \u001b[39m2\u001b[39m, \u001b[39m3\u001b[39m]: \u001b[39m\"\u001b[39m\u001b[39mfoo\u001b[39m\u001b[39m\"\u001b[39m,\n\u001b[0;32m      <a href='vscode-notebook-cell:/c%3A/Users/luker/coding/coding-bootcamp/lessons/module4.ipynb#ch0000010?line=2'>3</a>\u001b[0m     [\u001b[39m4\u001b[39m, \u001b[39m5\u001b[39m, \u001b[39m6\u001b[39m]: \u001b[39m\"\u001b[39m\u001b[39mbar\u001b[39m\u001b[39m\"\u001b[39m,\n\u001b[0;32m      <a href='vscode-notebook-cell:/c%3A/Users/luker/coding/coding-bootcamp/lessons/module4.ipynb#ch0000010?line=3'>4</a>\u001b[0m }\n",
      "\u001b[1;31mTypeError\u001b[0m: unhashable type: 'list'"
     ]
    }
   ],
   "source": [
    "my_not_so_awesome_dictionary = {\n",
    "    [1, 2, 3]: \"foo\",\n",
    "    [4, 5, 6]: \"bar\",\n",
    "}"
   ]
  },
  {
   "cell_type": "markdown",
   "metadata": {},
   "source": [
    "We can add more entries into dictionaries using index assignment, like lists:"
   ]
  },
  {
   "cell_type": "code",
   "execution_count": null,
   "metadata": {},
   "outputs": [],
   "source": [
    "plus_one = {\n",
    "    1: 2,\n",
    "    2: 3,\n",
    "    3: 4\n",
    "}\n",
    "plus_one[4] = 5\n",
    "print(plus_one)"
   ]
  },
  {
   "cell_type": "markdown",
   "metadata": {},
   "source": [
    "If we assign into an existing key, that key's value gets overwritten:"
   ]
  },
  {
   "cell_type": "code",
   "execution_count": null,
   "metadata": {},
   "outputs": [],
   "source": [
    "best_friends = {\n",
    "    \"bob\": \"joe\",\n",
    "    \"joe\": \"bob\"\n",
    "}\n",
    "best_friends[\"bob\"] = \"jill\"\n",
    "print(best_friends)"
   ]
  },
  {
   "cell_type": "markdown",
   "metadata": {},
   "source": [
    "We can also have an empty dictionary:"
   ]
  },
  {
   "cell_type": "code",
   "execution_count": 2,
   "metadata": {},
   "outputs": [
    {
     "name": "stdout",
     "output_type": "stream",
     "text": [
      "0\n"
     ]
    }
   ],
   "source": [
    "empty_dictionary = {}\n",
    "print(empty_dictionary)"
   ]
  },
  {
   "cell_type": "markdown",
   "metadata": {},
   "source": [
    "We can also create dictionaries using the dictionary constructor, which creates an empty dictionary:"
   ]
  },
  {
   "cell_type": "code",
   "execution_count": null,
   "metadata": {},
   "outputs": [],
   "source": [
    "another_empty_dictionary = dict()\n",
    "print(another_empty_dictionary)"
   ]
  },
  {
   "cell_type": "markdown",
   "metadata": {},
   "source": [
    "#### Dictionary Operators"
   ]
  },
  {
   "cell_type": "markdown",
   "metadata": {},
   "source": [
    "We can call the **len** function on a dictionary to get the number of entries it has:"
   ]
  },
  {
   "cell_type": "code",
   "execution_count": null,
   "metadata": {},
   "outputs": [],
   "source": [
    "animal_heights = {\n",
    "    \"dog\": 5,\n",
    "    \"cat\": 3\n",
    "}\n",
    "print(len(animal_heights))"
   ]
  },
  {
   "cell_type": "markdown",
   "metadata": {},
   "source": [
    "Two dictionaries are equal if they have the same keys and values:"
   ]
  },
  {
   "cell_type": "code",
   "execution_count": 3,
   "metadata": {},
   "outputs": [
    {
     "name": "stdout",
     "output_type": "stream",
     "text": [
      "True\n",
      "False\n"
     ]
    }
   ],
   "source": [
    "animal_heights = {\n",
    "    \"dog\": 5,\n",
    "    \"cat\": 3\n",
    "}\n",
    "# order of the keys doesn't matter\n",
    "print(animal_heights == {\n",
    "    \"cat\": 3,\n",
    "    \"dog\": 5\n",
    "})\n",
    "# not the same if you swap the values\n",
    "print(animal_heights == {\n",
    "    \"dog\": 3,\n",
    "    \"cat\": 5\n",
    "})"
   ]
  },
  {
   "cell_type": "markdown",
   "metadata": {},
   "source": [
    "To remove an entry from a dictionary, we can use the **del** (delete) operator:"
   ]
  },
  {
   "cell_type": "code",
   "execution_count": 1,
   "metadata": {},
   "outputs": [
    {
     "name": "stdout",
     "output_type": "stream",
     "text": [
      "{'dog': 5}\n"
     ]
    }
   ],
   "source": [
    "animal_heights = {\n",
    "    \"dog\": 5,\n",
    "    \"cat\": 3\n",
    "}\n",
    "del animal_heights[\"cat\"]\n",
    "print(animal_heights)"
   ]
  },
  {
   "cell_type": "markdown",
   "metadata": {},
   "source": [
    "We can also check if keys are in dictionaries or not in them using the **in** operator:"
   ]
  },
  {
   "cell_type": "code",
   "execution_count": null,
   "metadata": {},
   "outputs": [],
   "source": [
    "animal_lengths = {\n",
    "    \"dog\": 10,\n",
    "    \"cat\": 7\n",
    "}\n",
    "print(\"bird\" in animal_lengths)\n",
    "print(\"snake\" not in animal_lengths)"
   ]
  },
  {
   "cell_type": "markdown",
   "metadata": {},
   "source": [
    "This is pretty useful if we want to check whether a key exists in a dictionary before we reference/set its value:"
   ]
  },
  {
   "cell_type": "code",
   "execution_count": null,
   "metadata": {},
   "outputs": [],
   "source": [
    "account_data = {\n",
    "    \"bob123\": \"password\",\n",
    "    \"jimmy24\": \"12345\",\n",
    "    \"TheLegend27\": \"dinosaur\"\n",
    "}\n",
    "if \"jimmy24\" in account_data:\n",
    "    print(\"His password is:\", account_data[\"jimmy24\"])"
   ]
  },
  {
   "cell_type": "markdown",
   "metadata": {},
   "source": [
    "#### **Coding Activity 1**"
   ]
  },
  {
   "cell_type": "code",
   "execution_count": null,
   "metadata": {},
   "outputs": [],
   "source": [
    "# Write the following function\n",
    "def deposit_bank(bank_accounts: dict, username: str, amount: int):\n",
    "    \"\"\"\n",
    "    Given a dictionary of bank account usernames and balances,\n",
    "    add the amount to their balance if their username is in\n",
    "    the dictionary. Otherwise, create a new entry for that\n",
    "    username and start it with the amount.\n",
    "    Modify the bank_accounts dict and don't return anything.\n",
    "    Ex.\n",
    "    deposit_bank({\n",
    "     \"bob123\": 2400,\n",
    "     \"jimmy24\": 100\n",
    "     }, \"jimmy24\", 120) -> \n",
    "     {\n",
    "     \"bob123\": 2400,\n",
    "     \"jimmy24\": 220\n",
    "     }\n",
    "     deposit_bank({\n",
    "     \"bob123\": 2400,\n",
    "     \"jimmy24\": 100\n",
    "     }, \"TheLegend27\", 500) -> \n",
    "     {\n",
    "     \"bob123\": 2400,\n",
    "     \"jimmy24\": 100,\n",
    "     \"TheLegend27\": 500\n",
    "     }\n",
    "    \"\"\"\n",
    "    pass\n",
    "bank_accounts = {\n",
    "     \"bob123\": 2400,\n",
    "     \"jimmy24\": 100\n",
    "     }\n",
    "deposit_bank(bank_accounts, \"jimmy24\", 120)\n",
    "print(bank_accounts ==\n",
    "     {\n",
    "     \"bob123\": 2400,\n",
    "     \"jimmy24\": 220\n",
    "     })\n",
    "\n",
    "bank_accounts = {\n",
    "     \"bob123\": 2400,\n",
    "     \"jimmy24\": 100\n",
    "     }\n",
    "deposit_bank(bank_accounts, \"TheLegend27\", 500)\n",
    "\n",
    "print(bank_accounts == {\n",
    "     \"bob123\": 2400,\n",
    "     \"jimmy24\": 100,\n",
    "     \"TheLegend27\": 500\n",
    "     })"
   ]
  },
  {
   "cell_type": "markdown",
   "metadata": {},
   "source": [
    "#### Nested Dictionaries"
   ]
  },
  {
   "cell_type": "markdown",
   "metadata": {},
   "source": [
    "You can nest dictionaries inside other dictionaries like you can lists and tuples:"
   ]
  },
  {
   "cell_type": "code",
   "execution_count": null,
   "metadata": {},
   "outputs": [],
   "source": [
    "house = {\n",
    "    \"height\": 10,\n",
    "    \"width\": 20,\n",
    "    \"garage\": {\n",
    "        \"height\": 10,\n",
    "        \"width\": 20\n",
    "    }\n",
    "print(house[\"garage\"][\"height\"])"
   ]
  },
  {
   "cell_type": "markdown",
   "metadata": {},
   "source": [
    "#### Dictionary Loops"
   ]
  },
  {
   "cell_type": "markdown",
   "metadata": {},
   "source": [
    "When we loop through dictionaries, we get the keys of that dictionary:"
   ]
  },
  {
   "cell_type": "code",
   "execution_count": null,
   "metadata": {},
   "outputs": [],
   "source": [
    "accounts = {\n",
    "    \"bob@gmail.com\": \"123\",\n",
    "    \"joe@gmail.com\": \"dinosaur145\",\n",
    "    \"jill@gmail.com\": \"password\"\n",
    "}\n",
    "for email in accounts:\n",
    "    print(email, accounts[email])"
   ]
  },
  {
   "cell_type": "markdown",
   "metadata": {},
   "source": [
    "Keep in mind, dictionaries are **unordered**, which means that when we iterate through them, we won't always iterate through them in the same order:"
   ]
  },
  {
   "cell_type": "code",
   "execution_count": null,
   "metadata": {},
   "outputs": [],
   "source": [
    "my_simple_dict = {\n",
    "    \"a\": \"b\",\n",
    "    1: 2\n",
    "}\n",
    "for key in my_simple_dict:\n",
    "    # might print a first, then 1\n",
    "    # or print 1 first, then a\n",
    "    # it's random\n",
    "    print(key)"
   ]
  },
  {
   "cell_type": "markdown",
   "metadata": {},
   "source": [
    "Lists are ordered, which means that when we iterate through them, we will always iterate through them in the same order:"
   ]
  },
  {
   "cell_type": "code",
   "execution_count": null,
   "metadata": {},
   "outputs": [],
   "source": [
    "my_simple_list = [1, 2]\n",
    "for number in my_simple_list:\n",
    "    # 1 will always be printed before 2\n",
    "    print(number)"
   ]
  },
  {
   "cell_type": "markdown",
   "metadata": {},
   "source": [
    "#### **Coding Activity 2**"
   ]
  },
  {
   "cell_type": "code",
   "execution_count": 4,
   "metadata": {},
   "outputs": [
    {
     "ename": "TypeError",
     "evalue": "object of type 'NoneType' has no len()",
     "output_type": "error",
     "traceback": [
      "\u001b[1;31m---------------------------------------------------------------------------\u001b[0m",
      "\u001b[1;31mTypeError\u001b[0m                                 Traceback (most recent call last)",
      "Input \u001b[1;32mIn [4]\u001b[0m, in \u001b[0;36m<cell line: 28>\u001b[1;34m()\u001b[0m\n\u001b[0;32m     22\u001b[0m \u001b[38;5;66;03m# don't worry if this test code doesn't make sense! We'll\u001b[39;00m\n\u001b[0;32m     23\u001b[0m \u001b[38;5;66;03m# learn about sets very soon\u001b[39;00m\n\u001b[0;32m     24\u001b[0m ans1 \u001b[38;5;241m=\u001b[39m get_even_values({\n\u001b[0;32m     25\u001b[0m         \u001b[38;5;124m\"\u001b[39m\u001b[38;5;124mfoo\u001b[39m\u001b[38;5;124m\"\u001b[39m: \u001b[38;5;241m123\u001b[39m,\n\u001b[0;32m     26\u001b[0m         \u001b[38;5;124m\"\u001b[39m\u001b[38;5;124mbar\u001b[39m\u001b[38;5;124m\"\u001b[39m: \u001b[38;5;241m46\u001b[39m,\n\u001b[0;32m     27\u001b[0m         \u001b[38;5;124m\"\u001b[39m\u001b[38;5;124mbaz\u001b[39m\u001b[38;5;124m\"\u001b[39m: \u001b[38;5;241m4\u001b[39m})\n\u001b[1;32m---> 28\u001b[0m \u001b[38;5;28mprint\u001b[39m(\u001b[38;5;28;43mlen\u001b[39;49m\u001b[43m(\u001b[49m\u001b[43mans1\u001b[49m\u001b[43m)\u001b[49m \u001b[38;5;241m==\u001b[39m \u001b[38;5;241m2\u001b[39m \u001b[38;5;129;01mand\u001b[39;00m \u001b[38;5;28mset\u001b[39m(ans1) \u001b[38;5;241m==\u001b[39m \u001b[38;5;28mset\u001b[39m([\u001b[38;5;124m\"\u001b[39m\u001b[38;5;124mbar\u001b[39m\u001b[38;5;124m\"\u001b[39m, \u001b[38;5;124m\"\u001b[39m\u001b[38;5;124mbaz\u001b[39m\u001b[38;5;124m\"\u001b[39m]))\n\u001b[0;32m     29\u001b[0m ans2 \u001b[38;5;241m=\u001b[39m get_even_values({\n\u001b[0;32m     30\u001b[0m         \u001b[38;5;124m\"\u001b[39m\u001b[38;5;124mfoo\u001b[39m\u001b[38;5;124m\"\u001b[39m: \u001b[38;5;241m2\u001b[39m,\n\u001b[0;32m     31\u001b[0m         \u001b[38;5;124m\"\u001b[39m\u001b[38;5;124mbar\u001b[39m\u001b[38;5;124m\"\u001b[39m: \u001b[38;5;241m0\u001b[39m,\n\u001b[0;32m     32\u001b[0m         \u001b[38;5;124m\"\u001b[39m\u001b[38;5;124mbaz\u001b[39m\u001b[38;5;124m\"\u001b[39m: \u001b[38;5;241m6\u001b[39m})\n\u001b[0;32m     33\u001b[0m \u001b[38;5;28mprint\u001b[39m(\u001b[38;5;28mlen\u001b[39m(ans2) \u001b[38;5;241m==\u001b[39m \u001b[38;5;241m2\u001b[39m \u001b[38;5;129;01mand\u001b[39;00m \u001b[38;5;28mset\u001b[39m(ans2) \u001b[38;5;241m==\u001b[39m \u001b[38;5;28mset\u001b[39m([\u001b[38;5;124m\"\u001b[39m\u001b[38;5;124mfoo\u001b[39m\u001b[38;5;124m\"\u001b[39m, \u001b[38;5;124m\"\u001b[39m\u001b[38;5;124mbar\u001b[39m\u001b[38;5;124m\"\u001b[39m, \u001b[38;5;124m\"\u001b[39m\u001b[38;5;124mbaz\u001b[39m\u001b[38;5;124m\"\u001b[39m]))\n",
      "\u001b[1;31mTypeError\u001b[0m: object of type 'NoneType' has no len()"
     ]
    }
   ],
   "source": [
    "# Write the following function\n",
    "def get_even_values(my_dict: dict) -> list:\n",
    "    \"\"\"\n",
    "    Given a dictionary of strings as keys and numbers as values,\n",
    "    return a list of all keys whose values are even.\n",
    "    The order of the elements in your answer does not matter.\n",
    "    Ex.\n",
    "    get_even_values({\n",
    "        \"foo\": 123,\n",
    "        \"bar\": 46,\n",
    "        \"baz\": 4}) == [\"bar\", \"baz\"]\n",
    "    get_even_values({\n",
    "        \"foo\": 2,\n",
    "        \"bar\": 0,\n",
    "        \"baz\": 6}) == [\"foo\", \"bar\", \"baz\"]\n",
    "    get_even_values({\n",
    "        \"foo\": 123,\n",
    "        \"bar\": 5,\n",
    "        \"baz\": 7}) == []\n",
    "    \"\"\"\n",
    "    pass\n",
    "# don't worry if this test code doesn't make sense! We'll\n",
    "# learn about sets very soon\n",
    "ans1 = get_even_values({\n",
    "        \"foo\": 123,\n",
    "        \"bar\": 46,\n",
    "        \"baz\": 4})\n",
    "print(len(ans1) == 2 and set(ans1) == set([\"bar\", \"baz\"]))\n",
    "ans2 = get_even_values({\n",
    "        \"foo\": 2,\n",
    "        \"bar\": 0,\n",
    "        \"baz\": 6})\n",
    "print(len(ans2) == 3 and set(ans2) == set([\"foo\", \"bar\", \"baz\"]))\n",
    "ans3 = get_even_values({\n",
    "        \"foo\": 123,\n",
    "        \"bar\": 5,\n",
    "        \"baz\": 67})\n",
    "print(len(ans3) == 0)"
   ]
  },
  {
   "cell_type": "markdown",
   "metadata": {},
   "source": [
    "#### Sets"
   ]
  },
  {
   "cell_type": "markdown",
   "metadata": {},
   "source": [
    "Sets are unordered lists that only contain one of each element. Sets will remove duplicates automatically:"
   ]
  },
  {
   "cell_type": "code",
   "execution_count": 10,
   "metadata": {},
   "outputs": [
    {
     "name": "stdout",
     "output_type": "stream",
     "text": [
      "{1, 2, 3}\n"
     ]
    }
   ],
   "source": [
    "# set format\n",
    "# <set> = { <element>, <element>, ... }\n",
    "my_set = { 1, 2, 3, 2 }\n",
    "print(my_set)"
   ]
  },
  {
   "cell_type": "markdown",
   "metadata": {},
   "source": [
    "Sets, like dictionary keys, can only contain immutable types (int, float, string, tuple, and None). If you try to use a mutable type, like list, you'll see a familiar exception:"
   ]
  },
  {
   "cell_type": "code",
   "execution_count": null,
   "metadata": {},
   "outputs": [],
   "source": [
    "my_not_so_awesome_set = {1, 2, [1, 2, 3]}"
   ]
  },
  {
   "cell_type": "markdown",
   "metadata": {},
   "source": [
    "You can also create sets using the set constructor. You can use this to create empty sets too:"
   ]
  },
  {
   "cell_type": "code",
   "execution_count": null,
   "metadata": {},
   "outputs": [],
   "source": [
    "my_set = set([1, 2, 1, 3])\n",
    "print(my_set)\n",
    "\n",
    "empty_set = set()\n",
    "print(empty_set)"
   ]
  },
  {
   "cell_type": "markdown",
   "metadata": {},
   "source": [
    "#### Set Operators"
   ]
  },
  {
   "cell_type": "markdown",
   "metadata": {},
   "source": [
    "You can't index into sets, but you can check if they contain elements using **in** and **not in**:"
   ]
  },
  {
   "cell_type": "code",
   "execution_count": null,
   "metadata": {},
   "outputs": [],
   "source": [
    "my_awesome_set = set([2, 3, 3, 4])\n",
    "print(my_awesome_set[2])"
   ]
  },
  {
   "cell_type": "code",
   "execution_count": null,
   "metadata": {},
   "outputs": [],
   "source": [
    "my_other_awesome_set = set([\"a\", \"b\", \"c\"])\n",
    "print(\"a\" in my_other_awesome_set)"
   ]
  },
  {
   "cell_type": "markdown",
   "metadata": {},
   "source": [
    "You can also find the length of a set with **len**:"
   ]
  },
  {
   "cell_type": "code",
   "execution_count": 4,
   "metadata": {},
   "outputs": [
    {
     "name": "stdout",
     "output_type": "stream",
     "text": [
      "2\n"
     ]
    }
   ],
   "source": [
    "my_small_set = set([1, 2, 2])\n",
    "print(len(my_small_set))"
   ]
  },
  {
   "cell_type": "markdown",
   "metadata": {},
   "source": [
    "You can also check if 2 sets are equal, which compares whether they have the same elements."
   ]
  },
  {
   "cell_type": "code",
   "execution_count": 5,
   "metadata": {},
   "outputs": [
    {
     "name": "stdout",
     "output_type": "stream",
     "text": [
      "True\n",
      "True\n",
      "False\n"
     ]
    }
   ],
   "source": [
    "# sets are unorderd, so order doesn't matter\n",
    "print({ 1, 2 } == { 2, 1 })\n",
    "# sets will get rid of duplicates too\n",
    "print({ 1, 2 } == { 2, 1, 1 })\n",
    "# but if they have different elements\n",
    "print({ 1, 2 } == { 3, 1 })"
   ]
  },
  {
   "cell_type": "markdown",
   "metadata": {},
   "source": [
    "You can even convert a set into a list and vice versa:"
   ]
  },
  {
   "cell_type": "code",
   "execution_count": 9,
   "metadata": {},
   "outputs": [
    {
     "name": "stdout",
     "output_type": "stream",
     "text": [
      "[1, 2, 3]\n",
      "{4, 5, 6}\n",
      "[1, 2, 3, 4, 5]\n"
     ]
    }
   ],
   "source": [
    "my_set = set([1, 2, 3, 2])\n",
    "my_list = list(my_set)\n",
    "print(my_list)\n",
    "\n",
    "my_list = [4, 5, 6]\n",
    "my_set = set(my_list)\n",
    "print(my_set)\n",
    "\n",
    "# WARNING: if you convert a list into a set, and convert it back,\n",
    "# it may be in a different order since sets are unordered:\n",
    "print(list(set([2, 1, 4, 3, 5])))"
   ]
  },
  {
   "cell_type": "markdown",
   "metadata": {},
   "source": [
    "We'll look more at set methods later, but the **add** method is the most important:"
   ]
  },
  {
   "cell_type": "code",
   "execution_count": null,
   "metadata": {},
   "outputs": [],
   "source": [
    "my_set = {1, 3, 5}\n",
    "my_set.add(2)\n",
    "print(my_set)"
   ]
  },
  {
   "cell_type": "markdown",
   "metadata": {},
   "source": [
    "The **add** method adds an item to a set if the set doesn't already contain the item. If it does, the method does nothing."
   ]
  },
  {
   "cell_type": "markdown",
   "metadata": {},
   "source": [
    "#### Set Loop"
   ]
  },
  {
   "cell_type": "markdown",
   "metadata": {},
   "source": [
    "Looping through a set is similar to looping through a dictionary since sets are unordered."
   ]
  },
  {
   "cell_type": "code",
   "execution_count": null,
   "metadata": {},
   "outputs": [],
   "source": [
    "my_set = set([2, 1, 4, 2])\n",
    "for item in my_set:\n",
    "    # the order that the items are printed is random\n",
    "    print(item)"
   ]
  },
  {
   "cell_type": "markdown",
   "metadata": {},
   "source": [
    "#### Why Sets?"
   ]
  },
  {
   "cell_type": "markdown",
   "metadata": {},
   "source": [
    "Why would you use sets? It seems like lists can do everything they do, but better. It's because sets are \"faster\" than lists in certain situations, and not by a little bit, but by a lot. To prove that point, run the two pieces of code below to see which one takes longer:"
   ]
  },
  {
   "cell_type": "code",
   "execution_count": 32,
   "metadata": {},
   "outputs": [
    {
     "name": "stdout",
     "output_type": "stream",
     "text": [
      "starting\n",
      "done\n"
     ]
    }
   ],
   "source": [
    "print(\"starting\")\n",
    "# create a list of the numbers from 0 to 29,999\n",
    "my_list = list(range(30000))\n",
    "for i in range(30000):\n",
    "    i in my_list\n",
    "print(\"done\")"
   ]
  },
  {
   "cell_type": "code",
   "execution_count": 33,
   "metadata": {},
   "outputs": [
    {
     "name": "stdout",
     "output_type": "stream",
     "text": [
      "starting\n",
      "done\n"
     ]
    }
   ],
   "source": [
    "print(\"starting\")\n",
    "# create a set of the numbers from 0 to 29,999\n",
    "my_set = set(range(30000))\n",
    "for i in range(30000):\n",
    "    i in my_set\n",
    "print(\"done\")"
   ]
  },
  {
   "cell_type": "markdown",
   "metadata": {},
   "source": [
    "#### **Coding Activity 3**"
   ]
  },
  {
   "cell_type": "code",
   "execution_count": null,
   "metadata": {},
   "outputs": [],
   "source": [
    "# Write the following function\n",
    "def catch_cheaters(names: list, answers: list) -> set:\n",
    "    \"\"\"\n",
    "    Given a list of names and answers, return a set of names of\n",
    "    students who gave unique answers.\n",
    "    If two or more students answer the same thing, only return \n",
    "    the name of the first one. \n",
    "    Make sure you use a set in your solution.\n",
    "    Ex.\n",
    "    catch_cheaters([\"Bob\", \"Jim\", \"Sally\"], [12, 12, 4]) == set([\"Bob\", \"Sally\"]))\n",
    "    catch_cheaters([\"Bob\", \"Jim\", \"Sally\"], [12, 12, 12]) == set([\"Bob\"])\n",
    "    catch_cheaters([\"Bob\", \"Jim\", \"Sally\"], [4, 12, 4]) == set([\"Bob\", \"Jim\"])\n",
    "    \"\"\"\n",
    "    pass\n",
    "\n",
    "print(catch_cheaters([\"Bob\", \"Jim\", \"Sally\"], [12, 12, 4]) == set([\"Bob\", \"Sally\"]))\n",
    "print(catch_cheaters([\"Bob\", \"Jim\", \"Sally\"], [12, 12, 12]) == set([\"Bob\"]))\n",
    "print(catch_cheaters([\"Bob\", \"Jim\", \"Sally\"], [4, 12, 4]) == set([\"Bob\", \"Jim\"]))"
   ]
  },
  {
   "cell_type": "markdown",
   "metadata": {},
   "source": [
    "#### Summary"
   ]
  },
  {
   "cell_type": "markdown",
   "metadata": {},
   "source": [
    "In this lesson, we learned about dictionaries and sets. Here is a summary of what we've learned:\n",
    "\n",
    "| Usage | Description |\n",
    "| --- | --- |\n",
    "| {key1: value1, key2: value2} | dictionary syntax |\n",
    "| dict() | dictionary constructor |\n",
    "| len(dict) | get number of entries |\n",
    "| del dict\\[key] | remove entry from dict |\n",
    "| key in dict | check if dict contains key |\n",
    "| dict == other_dict | dictionary equality |\n",
    "| {value1, value2} | set syntax\n",
    "| item in set | check if set contains item |\n",
    "| len(set) | get length of set |\n",
    "| set == other_set | set equality |\n",
    "| set.add(item) | adds the item to the set |"
   ]
  },
  {
   "cell_type": "markdown",
   "metadata": {},
   "source": [
    "#### Practice Problems"
   ]
  },
  {
   "cell_type": "markdown",
   "metadata": {},
   "source": [
    "1. Write the following function:"
   ]
  },
  {
   "cell_type": "code",
   "execution_count": null,
   "metadata": {},
   "outputs": [],
   "source": [
    "def compute_frequencies(nums: list) -> dict:\n",
    "    \"\"\"\n",
    "    Given a list of numbers, return a dictionary of the frequency\n",
    "    of each number, with that number being the key and its \n",
    "    frequency being the value.\n",
    "    The frequency of a number if how many times it appears in\n",
    "    the list.\n",
    "    Ex.\n",
    "    compute_frequencies([1, 2, 3, 1]) == {1: 2, 2: 1, 3: 1}\n",
    "    compute_frequencies([1, 2, 3, 1, 1, 3, 2, 1]) == {1: 4, 2: 2, 3: 2}\n",
    "    compute_frequencies([]) == {}\n",
    "    \"\"\"\n",
    "    pass\n",
    "print(compute_frequencies([1, 2, 3, 1]) == {1: 2, 2: 1, 3: 1})\n",
    "print(compute_frequencies([1, 2, 3, 1, 1, 3, 2, 1]) == {1: 4, 2: 2, 3: 2})\n",
    "print(compute_frequencies([]) == {})"
   ]
  },
  {
   "cell_type": "markdown",
   "metadata": {},
   "source": [
    "2. Write the following function:"
   ]
  },
  {
   "cell_type": "code",
   "execution_count": null,
   "metadata": {},
   "outputs": [],
   "source": [
    "def sum_unique(nums: list) -> int:\n",
    "    \"\"\"\n",
    "    Sum all unique numbers in the nums list.\n",
    "    If no numbers are given, return 0.\n",
    "    Ex.\n",
    "    sum_unique([1, 3, 4, 4]) == 8\n",
    "    sum_unique([3, 3, 3, 3]) == 3\n",
    "    sum_unique([]) == 0    \n",
    "    \"\"\"\n",
    "    pass\n",
    "print(sum_unique([1, 3, 4, 4]) == 8)\n",
    "print(sum_unique([3, 3, 3, 3]) == 3)\n",
    "print(sum_unique([]) == 0)\n",
    "\n",
    "long_list = list(range(20000))\n",
    "print(sum_unique(long_list) == 199990000)\n",
    "    "
   ]
  },
  {
   "cell_type": "markdown",
   "metadata": {},
   "source": [
    "3. Write the following function:"
   ]
  },
  {
   "cell_type": "code",
   "execution_count": null,
   "metadata": {},
   "outputs": [],
   "source": [
    "# Let's write our own version of the maketrans and translate methods\n",
    "def make_translation_dict(input_chars: str, output_chars: str) -> dict:\n",
    "    \"\"\"\n",
    "    Returns a dictionary mapping the input_chars to the output_chars.\n",
    "    Ex.\n",
    "    make_translation_dict(\"abc\", \"def\") == {\n",
    "        \"a\" : \"d\",\n",
    "        \"b\" : \"e\",\n",
    "        \"c\" : \"f\"\n",
    "        }\n",
    "    make_translation_dict(\"aso\", \"@$0\") == {\n",
    "        \"a\" : \"d\",\n",
    "        \"b\" : \"e\",\n",
    "        \"c\" : \"f\"\n",
    "        }\n",
    "    \"\"\"\n",
    "    pass\n",
    "\n",
    "def translate_string(string: str, translation_dict: dict) -> str:\n",
    "    \"\"\"\n",
    "    Given a string and a translation dict, return a new string\n",
    "    with the translations made.\n",
    "    Ex.\n",
    "    translate_string(\"cab\", {\n",
    "        \"a\" : \"d\",\n",
    "        \"b\" : \"e\",\n",
    "        \"c\" : \"f\"\n",
    "        }) == \"fde\"\n",
    "    translate_string(\"password\", {\n",
    "        \"a\" : \"@\",\n",
    "        \"s\" : \"$\",\n",
    "        \"o\" : \"0\"\n",
    "        }) == \"p@$$w0rd\"\n",
    "    \"\"\"\n",
    "    pass\n",
    "\n",
    "print(translate_string(\"cab\", make_translation_dict(\"abc\", \"def\")) == \"fde\")\n",
    "print(translate_string(\"password\", make_translation_dict(\"aso\", \"@$0\")) == \"p@$$w0rd\")"
   ]
  },
  {
   "cell_type": "markdown",
   "metadata": {},
   "source": [
    "4. Write the following function:"
   ]
  },
  {
   "cell_type": "code",
   "execution_count": null,
   "metadata": {},
   "outputs": [],
   "source": [
    "def calculate_stats(players: list) -> dict:\n",
    "    \"\"\"\n",
    "    Given a list of dictionaries representing players, return\n",
    "    a dictionary of a summary of their stats.\n",
    "    Player dictionaries have 3 keys, name, age, and score.\n",
    "    The name should be a string, and the age and score should be\n",
    "    integers.\n",
    "    The summary is a dictionary containing 3 keys, longest_name,\n",
    "    youngest_age, and average_score. \n",
    "    You can assume there will not be a tie for longest_name or \n",
    "    youngest_age.\n",
    "    If no players are given, return an empty dict.\n",
    "    Ex.\n",
    "    calculate_stats([\n",
    "        {\"name\": \"bob\", \"age\": 23, \"score\": 5},\n",
    "        {\"name\": \"jim\", \"age\": 22, \"score\": 8},\n",
    "        {\"name\": \"sally\", \"age\": 25, \"score\": 11}]) == \n",
    "        {\"longest_name\": \"sally\", \"youngest_age\": 22, \"average_score\": 8}\n",
    "    \n",
    "    calculate_stats([\n",
    "        {\"name\": \"spongebob\", \"age\": 100, \"score\": 1},\n",
    "        {\"name\": \"patrick\", \"age\": 5, \"score\": 2},\n",
    "        {\"name\": \"sandy\", \"age\": 29, \"score\": 3}]) == \n",
    "        {\"longest_name\": \"spongebob\", \"youngest_age\": 5, \"average_score\": 2}\n",
    "        \n",
    "    calculate_stats([]) == {}\n",
    "    \"\"\"\n",
    "    pass\n",
    "print(calculate_stats([\n",
    "        {\"name\": \"bob\", \"age\": 23, \"score\": 5},\n",
    "        {\"name\": \"jim\", \"age\": 22, \"score\": 8},\n",
    "        {\"name\": \"sally\", \"age\": 25, \"score\": 11}]) == \n",
    "        {\"longest_name\": \"sally\", \"youngest_age\": 22, \"average_score\": 8})\n",
    "print(calculate_stats([\n",
    "        {\"name\": \"spongebob\", \"age\": 100, \"score\": 1},\n",
    "        {\"name\": \"patrick\", \"age\": 5, \"score\": 2},\n",
    "        {\"name\": \"sandy\", \"age\": 29, \"score\": 3}]) == \n",
    "        {\"longest_name\": \"spongebob\", \"youngest_age\": 5, \"average_score\": 2})\n",
    "print(calculate_stats([]) == {})\n"
   ]
  },
  {
   "cell_type": "markdown",
   "metadata": {},
   "source": [
    "5. CHALLENGE PROBLEM"
   ]
  },
  {
   "cell_type": "code",
   "execution_count": 34,
   "metadata": {},
   "outputs": [
    {
     "name": "stdout",
     "output_type": "stream",
     "text": [
      "False\n",
      "False\n",
      "False\n"
     ]
    }
   ],
   "source": [
    "# Write the following function\n",
    "def two_sum(nums: list, target: int) -> tuple:\n",
    "    \"\"\"\n",
    "    This is a famous coding interview question. Given a list of\n",
    "    nums, return the indexes of 2 numbers that add up to target.\n",
    "    Return the 2 indexes in a tuple with the smaller index being\n",
    "    first.\n",
    "    The two indexes cannot be the same index.\n",
    "    There will always be an answer, and only one answer.\n",
    "    CHALLENGE: Can you do it with 1 for loop instead of 2?\n",
    "    HINT: Use what you learned today!\n",
    "    Ex.\n",
    "    two_sum([2, 7, 11, 15], 9) == (0, 1)\n",
    "    two_sum([3, 2, 4], 6) == (1, 2)\n",
    "    two_sum([3, 3], 6) == (0, 1)\n",
    "    \"\"\"\n",
    "    pass\n",
    "print(two_sum([2, 7, 11, 15], 9) == (0, 1))\n",
    "print(two_sum([3, 2, 4], 6) == (1, 2))\n",
    "print(two_sum([3, 3], 6) == (0, 1))"
   ]
  },
  {
   "cell_type": "markdown",
   "metadata": {},
   "source": [
    "### Module 4.2 Dictionary Methods, Set Methods, and Loop Modification"
   ]
  },
  {
   "cell_type": "markdown",
   "metadata": {},
   "source": [
    "#### Dictionary Methods"
   ]
  },
  {
   "cell_type": "markdown",
   "metadata": {},
   "source": [
    "Dictionaries have several important methods, such as the get method:"
   ]
  },
  {
   "cell_type": "markdown",
   "metadata": {},
   "source": [
    "#### get method"
   ]
  },
  {
   "cell_type": "code",
   "execution_count": null,
   "metadata": {},
   "outputs": [],
   "source": [
    "# get format\n",
    "# <dictionary>.get(<key>)\n",
    "my_dictionary = {\n",
    "    1: \"one\",\n",
    "    2: \"two\"\n",
    "}\n",
    "print(my_dictionary.get(1))\n",
    "print(my_dictionary.get(3))"
   ]
  },
  {
   "cell_type": "markdown",
   "metadata": {},
   "source": [
    "The **get** method will return the value associated with the given key if the key is in the dictionary, and None otherwise. This can be used to avoid raising an exception when the key is not in the dictionary."
   ]
  },
  {
   "cell_type": "markdown",
   "metadata": {},
   "source": [
    "#### pop method"
   ]
  },
  {
   "cell_type": "code",
   "execution_count": null,
   "metadata": {},
   "outputs": [],
   "source": [
    "# pop format\n",
    "# <dictionary>.pop(<key>)\n",
    "my_dictionary = {\n",
    "    1: \"one\",\n",
    "    2: \"two\"\n",
    "}\n",
    "print(my_dictionary.pop(1))\n",
    "print(my_dictionary)\n",
    "print(my_dictionary.pop(3))"
   ]
  },
  {
   "cell_type": "markdown",
   "metadata": {},
   "source": [
    "The **pop** method removes the key from the dictionary if it exists and returns the associated value. If the key is not in the dictionary, an exception is raised."
   ]
  },
  {
   "cell_type": "markdown",
   "metadata": {},
   "source": [
    "#### update method"
   ]
  },
  {
   "cell_type": "code",
   "execution_count": null,
   "metadata": {},
   "outputs": [],
   "source": [
    "# update format\n",
    "# <dictionary>.update(<other_dictionary>)\n",
    "my_dictionary = {\n",
    "    1: \"one\",\n",
    "    2: \"two\"\n",
    "}\n",
    "my_other_dictionary = {\n",
    "    2: \"too\",\n",
    "    3: \"three\"\n",
    "}\n",
    "my_dictionary.update(my_other_dictionary)\n",
    "print(my_dictionary)"
   ]
  },
  {
   "cell_type": "markdown",
   "metadata": {},
   "source": [
    "The **update** method updates the first dictionary with the second dictionary, replacing all the old values with the new values and adding new keys."
   ]
  },
  {
   "cell_type": "markdown",
   "metadata": {},
   "source": [
    "#### keys and values methods"
   ]
  },
  {
   "cell_type": "code",
   "execution_count": null,
   "metadata": {},
   "outputs": [],
   "source": [
    "# keys format\n",
    "# <dictionary>.keys()\n",
    "# values format\n",
    "# <dictionary>.values()\n",
    "my_dictionary = {\n",
    "    1: \"one\",\n",
    "    2: \"two\",\n",
    "    3: \"three\"\n",
    "}\n",
    "print(my_dictionary.keys())\n",
    "print(my_dictionary.values())"
   ]
  },
  {
   "cell_type": "markdown",
   "metadata": {},
   "source": [
    "The **keys** method returns an iterable of the dictionary's keys, and the **values** method returns an iterable of the dictionary's values. We can iterate through these iterables using a for loop, or we can convert them to lists/tuples/sets using the list/tuple/set constructors:"
   ]
  },
  {
   "cell_type": "code",
   "execution_count": null,
   "metadata": {},
   "outputs": [],
   "source": [
    "my_dictionary = {\n",
    "    1: \"one\",\n",
    "    2: \"two\",\n",
    "    3: \"three\"\n",
    "}\n",
    "for value in my_dictionary.values(): # iterate through the values iterable\n",
    "    print(value)\n",
    "\n",
    "keys_list = list(my_dictionary.keys()) # the list constructor can convert an iterable into a list\n",
    "print(keys_list)"
   ]
  },
  {
   "cell_type": "markdown",
   "metadata": {},
   "source": [
    "#### items method"
   ]
  },
  {
   "cell_type": "markdown",
   "metadata": {},
   "source": [
    "We know how to iterate through the keys and values of a dictionary now, but how do we loop through both at the same time? We can do this using the **items** method:"
   ]
  },
  {
   "cell_type": "code",
   "execution_count": null,
   "metadata": {},
   "outputs": [],
   "source": [
    "my_dictionary = {\n",
    "    1: \"one\",\n",
    "    2: \"two\",\n",
    "    3: \"three\"\n",
    "}\n",
    "for key, value in my_dictionary.items(): # iterate through the entries of the dictionary\n",
    "    print(key, value)"
   ]
  },
  {
   "cell_type": "markdown",
   "metadata": {},
   "source": [
    "The **items** method returns an iterable containing pairs of keys and values. If we want to view this iterable as a list, we can convert it using the list constructor:"
   ]
  },
  {
   "cell_type": "code",
   "execution_count": 8,
   "metadata": {},
   "outputs": [
    {
     "name": "stdout",
     "output_type": "stream",
     "text": [
      "[(1, 'one'), (2, 'two'), (3, 'three')]\n"
     ]
    }
   ],
   "source": [
    "my_dictionary = {\n",
    "    1: \"one\",\n",
    "    2: \"two\",\n",
    "    3: \"three\"\n",
    "}\n",
    "items_list = list(my_dictionary.items())\n",
    "print(items_list)"
   ]
  },
  {
   "cell_type": "markdown",
   "metadata": {},
   "source": [
    "We can see that the items iterable is a list of tuples, each of which contains key-value pairs. The for loop in Python is powerful because it can loop through these lists of tuples and break up the variables:"
   ]
  },
  {
   "cell_type": "code",
   "execution_count": null,
   "metadata": {},
   "outputs": [],
   "source": [
    "crazy_list = [\n",
    "    [1, 2, 3],\n",
    "    [4, 5, 6],\n",
    "    [7, 8, 9]\n",
    "]\n",
    "for x, y, z in crazy_list: # break up each row into 3 variables, x, y, and z\n",
    "    print(x, y, z)"
   ]
  },
  {
   "cell_type": "code",
   "execution_count": null,
   "metadata": {},
   "outputs": [],
   "source": [
    "# this is because Python can assign the values of a list\n",
    "# or tuple into multiple variables:\n",
    "var1, var2, var3 = [1, 2, 3]\n",
    "print(var1)\n",
    "print(var2)\n",
    "print(var3"
   ]
  },
  {
   "cell_type": "markdown",
   "metadata": {},
   "source": [
    "#### Set Methods"
   ]
  },
  {
   "cell_type": "markdown",
   "metadata": {},
   "source": [
    "Sets have a few important methods as well, such as the **add** method:"
   ]
  },
  {
   "cell_type": "markdown",
   "metadata": {},
   "source": [
    "#### add method"
   ]
  },
  {
   "cell_type": "code",
   "execution_count": null,
   "metadata": {},
   "outputs": [],
   "source": [
    "# add format\n",
    "# <set>.add(<item>)\n",
    "my_set = set([1, 2, 3, 2])\n",
    "print(my_set)\n",
    "my_set.add(4)\n",
    "print(my_set)\n",
    "my_set.add(2)\n",
    "print(my_set)"
   ]
  },
  {
   "cell_type": "markdown",
   "metadata": {},
   "source": [
    "The **add** method adds the given item into the set if it's not already in the set."
   ]
  },
  {
   "cell_type": "markdown",
   "metadata": {},
   "source": [
    "#### remove method"
   ]
  },
  {
   "cell_type": "code",
   "execution_count": null,
   "metadata": {},
   "outputs": [],
   "source": [
    "# remove format\n",
    "# <set>.remove(<item>)\n",
    "my_set = set([1, 2, 3, 4])\n",
    "my_set.remove(2)\n",
    "my_set.remove(5) # throws an exception, 5 doesn't exist in set"
   ]
  },
  {
   "cell_type": "markdown",
   "metadata": {},
   "source": [
    "The **remove** method removes the item from the set if it exists in the set and raises an exception otherwise."
   ]
  },
  {
   "cell_type": "markdown",
   "metadata": {},
   "source": [
    "#### clear method"
   ]
  },
  {
   "cell_type": "code",
   "execution_count": null,
   "metadata": {},
   "outputs": [],
   "source": [
    "# clear format\n",
    "# <set>.clear()\n",
    "my_set = set([1, 2, 3, 4])\n",
    "my_set.clear()\n",
    "print(my_set)"
   ]
  },
  {
   "cell_type": "markdown",
   "metadata": {},
   "source": [
    "The **clear** method removes all items from the set."
   ]
  },
  {
   "cell_type": "markdown",
   "metadata": {},
   "source": [
    "#### Modifying in a Loop"
   ]
  },
  {
   "cell_type": "markdown",
   "metadata": {},
   "source": [
    "As you're looping through a list, dictionary, or set, you might have come across one of these problems:"
   ]
  },
  {
   "cell_type": "code",
   "execution_count": 39,
   "metadata": {},
   "outputs": [
    {
     "ename": "RuntimeError",
     "evalue": "Set changed size during iteration",
     "output_type": "error",
     "traceback": [
      "\u001b[1;31m---------------------------------------------------------------------------\u001b[0m",
      "\u001b[1;31mRuntimeError\u001b[0m                              Traceback (most recent call last)",
      "Input \u001b[1;32mIn [39]\u001b[0m, in \u001b[0;36m<cell line: 2>\u001b[1;34m()\u001b[0m\n\u001b[0;32m      1\u001b[0m s \u001b[38;5;241m=\u001b[39m \u001b[38;5;28mset\u001b[39m([\u001b[38;5;241m1\u001b[39m, \u001b[38;5;241m2\u001b[39m, \u001b[38;5;241m3\u001b[39m])\n\u001b[1;32m----> 2\u001b[0m \u001b[38;5;28;01mfor\u001b[39;00m num \u001b[38;5;129;01min\u001b[39;00m s:\n\u001b[0;32m      3\u001b[0m     s\u001b[38;5;241m.\u001b[39madd(num \u001b[38;5;241m+\u001b[39m \u001b[38;5;241m1\u001b[39m)\n",
      "\u001b[1;31mRuntimeError\u001b[0m: Set changed size during iteration"
     ]
    }
   ],
   "source": [
    "s = set([1, 2, 3])\n",
    "for num in s:\n",
    "    s.add(num + 3)"
   ]
  },
  {
   "cell_type": "markdown",
   "metadata": {},
   "source": [
    "If we try to change the size of a set while we're iterating through it (such as adding/removing an element), Python won't be happy. How do we get around this problem?"
   ]
  },
  {
   "cell_type": "code",
   "execution_count": null,
   "metadata": {},
   "outputs": [],
   "source": [
    "s = set([1, 2, 3])\n",
    "temp = []\n",
    "for num in s:\n",
    "    temp.append(num + 3)\n",
    "for num in temp:\n",
    "    s.add(num)"
   ]
  },
  {
   "cell_type": "markdown",
   "metadata": {},
   "source": [
    "Instead of adding to the set while iterating it directly, we add the elements we want to add to a temporary list. Then, we iterate through the temporary list and add those values to the set. Since the size of temp won't change as we're iterating through it, this works."
   ]
  },
  {
   "cell_type": "markdown",
   "metadata": {},
   "source": [
    "Here's another problem you might have encountered:"
   ]
  },
  {
   "cell_type": "code",
   "execution_count": 42,
   "metadata": {},
   "outputs": [
    {
     "name": "stdout",
     "output_type": "stream",
     "text": [
      "0 [1, 2, 2, 3]\n",
      "1 [1, 2, 2, 3]\n",
      "2 [1, 2, 3]\n",
      "3 [1, 2, 3]\n"
     ]
    },
    {
     "ename": "IndexError",
     "evalue": "list index out of range",
     "output_type": "error",
     "traceback": [
      "\u001b[1;31m---------------------------------------------------------------------------\u001b[0m",
      "\u001b[1;31mIndexError\u001b[0m                                Traceback (most recent call last)",
      "Input \u001b[1;32mIn [42]\u001b[0m, in \u001b[0;36m<cell line: 2>\u001b[1;34m()\u001b[0m\n\u001b[0;32m      2\u001b[0m \u001b[38;5;28;01mfor\u001b[39;00m i \u001b[38;5;129;01min\u001b[39;00m \u001b[38;5;28mrange\u001b[39m(\u001b[38;5;28mlen\u001b[39m(nums)):\n\u001b[0;32m      3\u001b[0m     \u001b[38;5;28mprint\u001b[39m(i, nums)\n\u001b[1;32m----> 4\u001b[0m     \u001b[38;5;28;01mif\u001b[39;00m \u001b[43mnums\u001b[49m\u001b[43m[\u001b[49m\u001b[43mi\u001b[49m\u001b[43m]\u001b[49m \u001b[38;5;241m==\u001b[39m \u001b[38;5;241m2\u001b[39m:\n\u001b[0;32m      5\u001b[0m         nums\u001b[38;5;241m.\u001b[39mpop(i)\n\u001b[0;32m      6\u001b[0m \u001b[38;5;28mprint\u001b[39m(nums)\n",
      "\u001b[1;31mIndexError\u001b[0m: list index out of range"
     ]
    }
   ],
   "source": [
    "nums = [1, 2, 2, 3]\n",
    "for i in range(len(nums)):\n",
    "    if nums[i] == 2: # raises an exception\n",
    "        nums.pop(i)\n",
    "print(nums)"
   ]
  },
  {
   "cell_type": "markdown",
   "metadata": {},
   "source": [
    "Try and think through why the above code raises an exception. You might want to employ some print debugging to find out why:"
   ]
  },
  {
   "cell_type": "code",
   "execution_count": null,
   "metadata": {},
   "outputs": [],
   "source": [
    "nums = [1, 2, 2, 3]\n",
    "for i in range(len(nums)):\n",
    "    print(i, nums)\n",
    "    if nums[i] == 2: # raises an exception\n",
    "        nums.pop(i)\n",
    "print(nums)"
   ]
  },
  {
   "cell_type": "markdown",
   "metadata": {},
   "source": [
    "You'll see that even though we removed an element from nums, we kept iterating till the index 3 (the original end of the list). This is because the range iterable doesn't update if nums changes."
   ]
  },
  {
   "cell_type": "markdown",
   "metadata": {},
   "source": [
    "How do we fix this? You might try something similar to the previous example:"
   ]
  },
  {
   "cell_type": "code",
   "execution_count": 43,
   "metadata": {},
   "outputs": [
    {
     "name": "stdout",
     "output_type": "stream",
     "text": [
      "[1, 2]\n"
     ]
    }
   ],
   "source": [
    "nums = [1, 2, 2, 3]\n",
    "temp = []\n",
    "for i in range(len(nums)):\n",
    "    if nums[i] == 2:\n",
    "        temp.append(i)\n",
    "\n",
    "for i in temp:\n",
    "    nums.pop(i)\n",
    "print(nums)"
   ]
  },
  {
   "cell_type": "markdown",
   "metadata": {},
   "source": [
    "Instead of [1, 3], we get [1, 2], even though we were trying to get rid of the 2s. Let's employ print debugging again to find out why."
   ]
  },
  {
   "cell_type": "code",
   "execution_count": 44,
   "metadata": {},
   "outputs": [
    {
     "name": "stdout",
     "output_type": "stream",
     "text": [
      "1 [1, 2, 2, 3]\n",
      "2 [1, 2, 3]\n",
      "[1, 2]\n"
     ]
    }
   ],
   "source": [
    "nums = [1, 2, 2, 3]\n",
    "temp = []\n",
    "for i in range(len(nums)):\n",
    "    if nums[i] == 2:\n",
    "        temp.append(i)\n",
    "\n",
    "for i in temp:\n",
    "    print(i, nums)\n",
    "    nums.pop(i)\n",
    "print(nums)"
   ]
  },
  {
   "cell_type": "markdown",
   "metadata": {},
   "source": [
    "When we got rid of the first 2, the second 2 and the 3 shifted left a position. That means when we pop index 2, the 3 that got shifted left got popped instead. "
   ]
  },
  {
   "cell_type": "markdown",
   "metadata": {},
   "source": [
    "How do we fix this? All we have to do is go through the indexes backwards instead."
   ]
  },
  {
   "cell_type": "code",
   "execution_count": null,
   "metadata": {},
   "outputs": [],
   "source": [
    "nums = [1, 2, 2, 3]\n",
    "# the reversed function returns a new iterable\n",
    "# that is the reverse of the one passed in\n",
    "for i in reversed(range(len(nums))):\n",
    "    if nums[i] == 2:\n",
    "        nums.pop(i)\n",
    "print(nums)"
   ]
  },
  {
   "cell_type": "markdown",
   "metadata": {},
   "source": [
    "Remember, **if you're removing multiple items while you're looping through a list, always loop in reverse**."
   ]
  },
  {
   "cell_type": "markdown",
   "metadata": {},
   "source": [
    "#### Summary"
   ]
  },
  {
   "cell_type": "markdown",
   "metadata": {},
   "source": [
    "In this lesson, we learned about dictionary methods, set methods, and loop modification. Here is a summary of the things we learned:\n",
    "\n",
    "| Usage | Definition |\n",
    "| --- | --- |\n",
    "| dict.get(key) | returns dict[key] if it exists, otherwise None |\n",
    "| dict.pop(key) | removes key from dict |\n",
    "| dict.update(other_dict) | updates entries in dict with other_dict |\n",
    "| dict.keys() | returns an iterable of the keys |\n",
    "| dict.values() | returns an iterable of the values |\n",
    "| set.add(item) | adds item to set if not already in it |\n",
    "| set.remove(item) | removes item from set if in it |\n",
    "| set.clear() | removes all items from set |\n",
    "| reversed(iterable) | reverses the iterable |"
   ]
  },
  {
   "cell_type": "markdown",
   "metadata": {},
   "source": [
    "Now let's practice!"
   ]
  },
  {
   "cell_type": "markdown",
   "metadata": {},
   "source": [
    "#### Practice Problems"
   ]
  },
  {
   "cell_type": "markdown",
   "metadata": {},
   "source": [
    "1. Write the following method:"
   ]
  },
  {
   "cell_type": "code",
   "execution_count": null,
   "metadata": {},
   "outputs": [],
   "source": [
    "def get_courses_without_prerequisite(courses: list, prerequisite: str) -> set:\n",
    "    \"\"\"\n",
    "    Given a list of course dict objects, return the ids of \n",
    "    courses have do not have the prerequisite in a set.\n",
    "    A course dict has 2 keys, id and prerequisites.\n",
    "    The prerequisites key stores a list of ids of\n",
    "    prerequisites for that course.\n",
    "    Ex.\n",
    "    get_courses_without_prerequisite([\n",
    "        {\"id\": \"ART 132A\", \"prerequisites\": [\"ART 81A\", \"ART 81B\"]},\n",
    "        {\"id\": \"ART 132B\", \"prerequisites\": [\"ART 81A\", \"ART 81B\"]},\n",
    "        {\"id\": \"ART 133\", \"prerequisites\": [\"ART 65A\"]}], \"ART 81A\") == {\"ART 133\"}\n",
    "    get_courses_without_prerequisite([\n",
    "        {\"id\": \"ART 132A\", \"prerequisites\": [\"ART 81A\", \"ART 81B\"]},\n",
    "        {\"id\": \"ART 132B\", \"prerequisites\": [\"ART 81A\", \"ART 81B\"]},\n",
    "        {\"id\": \"ART 133\", \"prerequisites\": [\"ART 65A\"]}], \"ART 65A\") == {\"ART 132A\", \"ART 132B\"}\n",
    "    get_courses_without_prerequisite([\n",
    "        {\"id\": \"ART 132A\", \"prerequisites\": [\"ART 81A\", \"ART 81B\"]},\n",
    "        {\"id\": \"ART 132B\", \"prerequisites\": [\"ART 81A\", \"ART 81B\"]},\n",
    "        {\"id\": \"ART 133\", \"prerequisites\": [\"ART 65A\"]}], \"ART 100\") == {\"ART 132A\", \"ART 132B\", \"ART 133\"}\n",
    "    \"\"\"\n",
    "    pass\n",
    "print(get_courses_without_prerequisite([\n",
    "        {\"id\": \"ART 132A\", \"prerequisites\": [\"ART 81A\", \"ART 81B\"]},\n",
    "        {\"id\": \"ART 132B\", \"prerequisites\": [\"ART 81A\", \"ART 81B\"]},\n",
    "        {\"id\": \"ART 133\", \"prerequisites\": [\"ART 65A\"]}], \"ART 81A\") == {\"ART 133\"})\n",
    "print(get_courses_without_prerequisite([\n",
    "        {\"id\": \"ART 132A\", \"prerequisites\": [\"ART 81A\", \"ART 81B\"]},\n",
    "        {\"id\": \"ART 132B\", \"prerequisites\": [\"ART 81A\", \"ART 81B\"]},\n",
    "        {\"id\": \"ART 133\", \"prerequisites\": [\"ART 65A\"]}], \"ART 65A\") == {\"ART 132A\", \"ART 132B\"})\n",
    "print(get_courses_without_prerequisite([\n",
    "        {\"id\": \"ART 132A\", \"prerequisites\": [\"ART 81A\", \"ART 81B\"]},\n",
    "        {\"id\": \"ART 132B\", \"prerequisites\": [\"ART 81A\", \"ART 81B\"]},\n",
    "        {\"id\": \"ART 133\", \"prerequisites\": [\"ART 65A\"]}], \"ART 100\") == {\"ART 132A\", \"ART 132B\", \"ART 133\"})"
   ]
  },
  {
   "cell_type": "markdown",
   "metadata": {},
   "source": [
    "2. Write the following method:"
   ]
  },
  {
   "cell_type": "code",
   "execution_count": null,
   "metadata": {},
   "outputs": [],
   "source": [
    "def remove_evens(nums: list):\n",
    "    \"\"\"\n",
    "    Removes all even integers from the nums list.\n",
    "    Modify the nums list in-place instead of creating a new one,\n",
    "    and don't return anything.\n",
    "    Ex.\n",
    "    [1, 2, 3, 4, 5] -> [1, 3, 5]\n",
    "    [1, 1, 1, 1] -> [1, 1, 1, 1]\n",
    "    [2, 4, 6, 8] -> []\n",
    "    [] -> []\n",
    "    \"\"\"\n",
    "    pass\n",
    "nums = [1, 2, 3, 4, 5]\n",
    "remove_evens(nums)\n",
    "print(nums == [1, 3, 5])\n",
    "\n",
    "nums = [1, 1, 1, 1]\n",
    "remove_evens(nums)\n",
    "print(nums == [1, 1, 1, 1])\n",
    "\n",
    "nums = [2, 4, 6, 8]\n",
    "remove_evens(nums)\n",
    "print(nums == [])\n",
    "\n",
    "nums = []\n",
    "remove_evens(nums)\n",
    "print(nums == [])"
   ]
  },
  {
   "cell_type": "markdown",
   "metadata": {},
   "source": [
    "3. Write the following function:"
   ]
  },
  {
   "cell_type": "code",
   "execution_count": null,
   "metadata": {},
   "outputs": [],
   "source": [
    "def remove_odds(nums: set):\n",
    "    \"\"\"\n",
    "    Removes all odd integers from the nums set.\n",
    "    Modify the nums set in-place instead of creating a new one,\n",
    "    and don't return anything.\n",
    "    Ex.\n",
    "    {1, 2, 3, 4, 5} -> {1, 3, 5}\n",
    "    {1, 1, 1, 1} -> {}\n",
    "    {2, 4, 6, 8} -> {2, 4, 6, 8}\n",
    "    {} -> {}\n",
    "    \"\"\"\n",
    "    pass\n",
    "nums = {1, 2, 3, 4, 5}\n",
    "remove_odds(nums)\n",
    "print(nums == {1, 3, 5})\n",
    "\n",
    "nums = {1, 1, 1, 1}\n",
    "remove_odds(nums)\n",
    "print(nums == {1, 1, 1, 1})\n",
    "\n",
    "nums = {2, 4, 6, 8}\n",
    "remove_odds(nums)\n",
    "print(nums == {})\n",
    "\n",
    "nums = {}\n",
    "remove_odds(nums)\n",
    "print(nums == {})"
   ]
  },
  {
   "cell_type": "markdown",
   "metadata": {},
   "source": [
    "4. Write the following function:"
   ]
  },
  {
   "cell_type": "code",
   "execution_count": null,
   "metadata": {},
   "outputs": [],
   "source": [
    "def remove_lowest_scores(players: dict):\n",
    "    \"\"\"\n",
    "    Given a dictionary of players' names mapped to their score.\n",
    "    Remove the entries of the 3 lowest scoring players.\n",
    "    Modify the dict in-place instead of creating a new one.\n",
    "    Ex.\n",
    "    {\n",
    "        \"bob\": 4,\n",
    "        \"jim\": 3,\n",
    "        \"sally\": 5,\n",
    "        \"fred\": 7,\n",
    "        \"bill\": 2\n",
    "    } ->\n",
    "    {\n",
    "        \"sally\": 5,\n",
    "        \"fred\": 7\n",
    "    }\n",
    "    \n",
    "    {\n",
    "        \"bob\": 4,\n",
    "        \"jim\": 3,\n",
    "        \"sally\": 5,\n",
    "        \"fred\": 7\n",
    "    } ->\n",
    "    {\n",
    "        \"fred\": 7\n",
    "    }\n",
    "    \"\"\"\n",
    "    pass\n",
    "\n",
    "players = {\n",
    "        \"bob\": 4,\n",
    "        \"jim\": 3,\n",
    "        \"sally\": 5,\n",
    "        \"fred\": 7,\n",
    "        \"bill\": 2\n",
    "    }\n",
    "remove_lowest_scores(players)\n",
    "print(players == {\n",
    "        \"sally\": 5,\n",
    "        \"fred\": 7\n",
    "    })\n",
    "players = {\n",
    "        \"bob\": 4,\n",
    "        \"jim\": 3,\n",
    "        \"sally\": 5,\n",
    "        \"fred\": 7\n",
    "    }\n",
    "remove_lowest_scores(players)\n",
    "print(players == {\n",
    "        \"fred\": 7\n",
    "    })"
   ]
  },
  {
   "cell_type": "markdown",
   "metadata": {},
   "source": [
    "### Module 4.3 Namedtuples and The Restaurant Program"
   ]
  },
  {
   "cell_type": "markdown",
   "metadata": {},
   "source": [
    "You can skip this module section if you are not planning on taking the ICS 31 credit exam, but it will be good practice if you do go through it."
   ]
  },
  {
   "cell_type": "markdown",
   "metadata": {},
   "source": [
    "In this module part, we'll cover content that's mainly relevant to the ICS 31 credit exam. Although these things are still useful to know, they're not used very often in the real world."
   ]
  },
  {
   "cell_type": "markdown",
   "metadata": {},
   "source": [
    "WARNING: This module is not the end of the content for the ICS 31 credit exam. Module 5.1 will contain the last bit of content necessary for the ICS 31 credit exam."
   ]
  },
  {
   "cell_type": "markdown",
   "metadata": {},
   "source": [
    "#### Namedtuple"
   ]
  },
  {
   "cell_type": "markdown",
   "metadata": {},
   "source": [
    "There's an immutable type you can import into Python called **namedtuple**. Namedtuples let you build a new type:"
   ]
  },
  {
   "cell_type": "code",
   "execution_count": 1,
   "metadata": {},
   "outputs": [],
   "source": [
    "from collections import namedtuple\n",
    "\n",
    "# nametuple format\n",
    "# <type> = namedtuple(<type_name>, <field_names>)) \n",
    "\n",
    "Student = namedtuple('Student', 'name ID GPA year major') # create the type Student with fields name, ID, GPA, year, and major\n",
    "\n",
    "# create 2 students\n",
    "student_a = Student(\"Joe\", 12345, 3.5, 2020, \"CS\") # arguments go in same order as field names\n",
    "student_b = Student(\"Fred\", 52312, 4.0, 2021, \"BIOSCI\")\n",
    "\n",
    "# access fields either by name or index:\n",
    "print(student_a.name)\n",
    "print(student_a[1])"
   ]
  },
  {
   "cell_type": "markdown",
   "metadata": {},
   "source": [
    "The **namdtuple** function actually returns a constructor for a new type. This type has a list of fields names, specified by the 2nd argument to namedtuple, and these field names can be used to access data from our tuple."
   ]
  },
  {
   "cell_type": "markdown",
   "metadata": {},
   "source": [
    "Note that namedtuples are immutable, so if we tried to change the value of one of these fields, we'd get an exception:"
   ]
  },
  {
   "cell_type": "code",
   "execution_count": null,
   "metadata": {},
   "outputs": [],
   "source": [
    "from collections import namedtuple\n",
    "\n",
    "Fruit = namedtuple('Fruit', 'name color')\n",
    "\n",
    "apple = Fruit(\"apple\", \"red\")\n",
    "apple.color = \"blue\""
   ]
  },
  {
   "cell_type": "markdown",
   "metadata": {},
   "source": [
    "Instead of modifying our namedtuples, we can get a copy of them with one of their values replaced with the **_replace** method:"
   ]
  },
  {
   "cell_type": "code",
   "execution_count": 3,
   "metadata": {},
   "outputs": [
    {
     "name": "stdout",
     "output_type": "stream",
     "text": [
      "Fruit(name='apple', color='red')\n",
      "Fruit(name='apple', color='blue')\n"
     ]
    }
   ],
   "source": [
    "from collections import namedtuple\n",
    "\n",
    "Fruit = namedtuple('Fruit', 'name color') \n",
    "\n",
    "apple = Fruit(\"apple\", \"red\")\n",
    "blue_apple = apple._replace(color=\"blue\")\n",
    "print(apple)\n",
    "print(blue_apple)"
   ]
  },
  {
   "cell_type": "markdown",
   "metadata": {},
   "source": [
    "The **_replace** method lets you specify a keyword argument(s) for which field(s) you want to replace, and returns a new namedtuple with those changes without modifying the original."
   ]
  },
  {
   "cell_type": "markdown",
   "metadata": {},
   "source": [
    "#### The Restaurant Program"
   ]
  },
  {
   "cell_type": "markdown",
   "metadata": {},
   "source": [
    "The restaurant program is just some program that an ICS 31 professor wrote that involves a lot of the concepts we've learned about so far (like a review project). It's also the basis for some of the questions of the ICS 31 credit exam, so knowing it well will help you with the exam."
   ]
  },
  {
   "cell_type": "markdown",
   "metadata": {},
   "source": [
    "Rather than read through it, we're going to try to write it ourselves! Don't worry, I'll provide plenty of guidance."
   ]
  },
  {
   "cell_type": "markdown",
   "metadata": {},
   "source": [
    "So far, you've been writing single functions, some of which call other functions, but writing a whole program is actually not too far off."
   ]
  },
  {
   "cell_type": "markdown",
   "metadata": {},
   "source": [
    "#### Program Description"
   ]
  },
  {
   "cell_type": "markdown",
   "metadata": {},
   "source": [
    "In this program, we're going to allow users to create restaurants, remove restaurants, search for specific restaurants, and print all restaurants. We do this by continously taking input on what the user wants to do."
   ]
  },
  {
   "cell_type": "markdown",
   "metadata": {},
   "source": [
    "A **Restaurant** is an object that represents a restaurant. The Restaurant object will have 5 fields, a name, a kind of cuisine, a phone number, a best dish, and the price of that dish."
   ]
  },
  {
   "cell_type": "markdown",
   "metadata": {},
   "source": [
    "We should be able to create a new restaurant by taking input from the user for each of those fields, with the following prompts:"
   ]
  },
  {
   "cell_type": "code",
   "execution_count": null,
   "metadata": {},
   "outputs": [],
   "source": [
    "# \"Please enter the restaurant's name:  \"\n",
    "# \"Please enter the kind of food served:  \"\n",
    "# \"Please enter the phone number:  \"\n",
    "# \"Please enter the name of the best dish:  \"\n",
    "# \"Please enter the price of that dish:  \""
   ]
  },
  {
   "cell_type": "markdown",
   "metadata": {},
   "source": [
    "We should also be able to represent that restaurant as a string, like so:"
   ]
  },
  {
   "cell_type": "code",
   "execution_count": null,
   "metadata": {},
   "outputs": [],
   "source": [
    "# Name:     <name>\n",
    "# Cuisine:  <cuisine>\n",
    "# Phone:    <phone>\n",
    "# Dish:     <dish>\n",
    "# Price:    $<price>"
   ]
  },
  {
   "cell_type": "markdown",
   "metadata": {},
   "source": [
    "A **Collection** is a collection of restaurants."
   ]
  },
  {
   "cell_type": "markdown",
   "metadata": {},
   "source": [
    "We should be able to represent the collection as a string, like so:"
   ]
  },
  {
   "cell_type": "code",
   "execution_count": 45,
   "metadata": {},
   "outputs": [],
   "source": [
    "# Name:     <name1>\n",
    "# Cuisine:  <cuisine1>\n",
    "# Phone:    <phone1>\n",
    "# Dish:     <dish1>\n",
    "# Price:    $<price1>\n",
    "# Name:     <name2>\n",
    "# Cuisine:  <cuisine2>\n",
    "# Phone:    <phone2>\n",
    "# Dish:     <dish2>\n",
    "# Price:    $<price2>\n",
    "# ..."
   ]
  },
  {
   "cell_type": "markdown",
   "metadata": {},
   "source": [
    "Given a Restaurant name, our Collection should be able to retrieve a list of all restaurants in it with that name."
   ]
  },
  {
   "cell_type": "markdown",
   "metadata": {},
   "source": [
    "Given a Restaurant object, our Collection should be able that object to itself."
   ]
  },
  {
   "cell_type": "markdown",
   "metadata": {},
   "source": [
    "Given a Restaurant name, our Collection should be able to remove all restaurants in it with that name."
   ]
  },
  {
   "cell_type": "markdown",
   "metadata": {},
   "source": [
    "The **program flow** should be as follows:\n",
    "1. Create a new Collection to store Restaurant objects\n",
    "2. Handle commands until the user quits the program.\n",
    "    1. Print a menu prompt to the user\n",
    "    2. Take in user input.\n",
    "    3. Handle the command inputted by the user.\n",
    "3. Print a goodbye message."
   ]
  },
  {
   "cell_type": "markdown",
   "metadata": {},
   "source": [
    "The **menu prompt** should look as follows:"
   ]
  },
  {
   "cell_type": "code",
   "execution_count": null,
   "metadata": {},
   "outputs": [],
   "source": [
    "# Restaurant Collection Program --- Choose one\n",
    "#  a:  Add a new restaurant to the collection\n",
    "#  r:  Remove a restaurant from the collection\n",
    "#  s:  Search the collection for selected restaurants\n",
    "#  p:  Print all the restaurants\n",
    "#  q:  Quit"
   ]
  },
  {
   "cell_type": "markdown",
   "metadata": {},
   "source": [
    "The **a** command will prompt the user to type in information for a Restaurant, and then it will add that Restaurant to the Collection."
   ]
  },
  {
   "cell_type": "markdown",
   "metadata": {},
   "source": [
    "The **r** command will prompt the user for a Restaurant name, and then it will remove all Restaurants with that name from the collection. The prompt for the Restaurant name will look like so:"
   ]
  },
  {
   "cell_type": "code",
   "execution_count": null,
   "metadata": {},
   "outputs": [],
   "source": [
    "# \"Please enter the name of the restaurant to remove:  \""
   ]
  },
  {
   "cell_type": "markdown",
   "metadata": {},
   "source": [
    "The **s** command will prompt the user for a Restaurant name, and then it will print all Restaurants with that name from the collection. The prompt for the Restaurant name will look like so:"
   ]
  },
  {
   "cell_type": "code",
   "execution_count": null,
   "metadata": {},
   "outputs": [],
   "source": [
    "# \"Please enter the name of the restaurant to search for:  \""
   ]
  },
  {
   "cell_type": "markdown",
   "metadata": {},
   "source": [
    "The **p** command will print all the Restaurants in the collection."
   ]
  },
  {
   "cell_type": "markdown",
   "metadata": {},
   "source": [
    "The **q** command will stop the program, which will print the goodbye message:"
   ]
  },
  {
   "cell_type": "code",
   "execution_count": null,
   "metadata": {},
   "outputs": [],
   "source": [
    "# \\nThank you.  Good-bye."
   ]
  },
  {
   "cell_type": "markdown",
   "metadata": {},
   "source": [
    "If the user types in an invalid command, print a message like so:"
   ]
  },
  {
   "cell_type": "code",
   "execution_count": null,
   "metadata": {},
   "outputs": [],
   "source": [
    "#\"Sorry; '<command>' isn't a valid command.  Please try again.\""
   ]
  },
  {
   "cell_type": "markdown",
   "metadata": {},
   "source": [
    "#### Writing the Program"
   ]
  },
  {
   "cell_type": "markdown",
   "metadata": {},
   "source": [
    "We'll write the program function by functions, starting from the simplest (this is called the bottom-up approach)."
   ]
  },
  {
   "cell_type": "markdown",
   "metadata": {},
   "source": [
    "##### Restaurants"
   ]
  },
  {
   "cell_type": "markdown",
   "metadata": {},
   "source": [
    "Let's start by writing the functions related to Restaurants."
   ]
  },
  {
   "cell_type": "code",
   "execution_count": 47,
   "metadata": {},
   "outputs": [],
   "source": [
    "# I wrote this part of the code for you\n",
    "from collections import namedtuple\n",
    "# we'll define our own Restaurant type using the namedtuple constructor\n",
    "Restaurant = namedtuple('Restaurant', 'name cuisine phone dish price')\n",
    "\n",
    "# write the 2 functions below, based on the descriptions given\n",
    "# above and in the docstrings:\n",
    "def Restaurant_str(self: Restaurant) -> str:\n",
    "    \"\"\"\n",
    "    Given a Restaurant object called self, return what its string\n",
    "    representation:\n",
    "    Ex.\n",
    "    Restaurant_str(\n",
    "        Restaurant(\n",
    "            'Taillevent', \n",
    "            'French', \n",
    "            '01-11-22-33-44', \n",
    "            'Escargots', \n",
    "            23.50)) ==\n",
    "    \"Name:     Taillevent\\nCuisine:  French\\nPhone:    01-11-22-33-44\\nDish:     Escargots\\n Price:    $23.50\"\n",
    "    \"\"\"\n",
    "    pass\n",
    "\n",
    "def Restaurant_get_info() -> Restaurant:\n",
    "    \"\"\" Prompt user for fields of Restaurant; create and return.\n",
    "    \"\"\"\n",
    "    pass\n",
    "\n",
    "# Write your own test cases for each function and test that they\n",
    "# work before moving onto the next ones"
   ]
  },
  {
   "cell_type": "markdown",
   "metadata": {},
   "source": [
    "##### Collections"
   ]
  },
  {
   "cell_type": "markdown",
   "metadata": {},
   "source": [
    "Now let's write functions related to Collections."
   ]
  },
  {
   "cell_type": "code",
   "execution_count": null,
   "metadata": {},
   "outputs": [],
   "source": [
    "# Now write these functions to represent what a Collection should\n",
    "# be able to do\n",
    "def Collection_new() -> list:\n",
    "    ''' Return a new, empty collection\n",
    "    '''\n",
    "    pass\n",
    "\n",
    "def Collection_str(C: list) -> str:\n",
    "    ''' Return a string representing the collection\n",
    "    '''\n",
    "    pass\n",
    "\n",
    "def Collection_search_by_name(C: list, name: str) -> list:\n",
    "    \"\"\" Return list of Restaurants in input list whose name matches input string.\n",
    "    \"\"\"\n",
    "    pass\n",
    "\n",
    "def Collection_add(C: list, R: Restaurant) -> list:\n",
    "    \"\"\" Return list of Restaurants with input Restaurant added at end.\n",
    "    \"\"\"\n",
    "    pass\n",
    "\n",
    "def Collection_remove_by_name(C: list, name: str) -> list:\n",
    "    \"\"\" Given name, remove all Restaurants with that name from collection.\n",
    "    \"\"\"\n",
    "    pass"
   ]
  },
  {
   "cell_type": "markdown",
   "metadata": {},
   "source": [
    "##### Commands"
   ]
  },
  {
   "cell_type": "markdown",
   "metadata": {},
   "source": [
    "Now let's write the functions related to handling commands:"
   ]
  },
  {
   "cell_type": "code",
   "execution_count": null,
   "metadata": {},
   "outputs": [],
   "source": [
    "def invalid_command(response):\n",
    "    \"\"\" Print message for invalid menu command.\n",
    "    \"\"\"\n",
    "    pass\n",
    "\n",
    "# Here is the prompt you'll use for the menu\n",
    "MENU = \"\"\"\n",
    "Restaurant Collection Program --- Choose one\n",
    " a:  Add a new restaurant to the collection\n",
    " r:  Remove a restaurant from the collection\n",
    " s:  Search the collection for selected restaurants\n",
    " p:  Print all the restaurants\n",
    " q:  Quit\n",
    "\"\"\"\n",
    "\n",
    "def handle_commands(C: list) -> list:\n",
    "    \"\"\" Display menu, accept and process commands.\n",
    "    This function takes in an empty Collection and returns the\n",
    "    final result of the Collection after processing user commands.\n",
    "    \"\"\"\n",
    "    pass"
   ]
  },
  {
   "cell_type": "markdown",
   "metadata": {},
   "source": [
    "##### Main Program"
   ]
  },
  {
   "cell_type": "markdown",
   "metadata": {},
   "source": [
    "Now we'll run the program like so:"
   ]
  },
  {
   "cell_type": "code",
   "execution_count": 48,
   "metadata": {},
   "outputs": [
    {
     "name": "stdout",
     "output_type": "stream",
     "text": [
      "Welcome to the restaurants program!\n"
     ]
    },
    {
     "ename": "NameError",
     "evalue": "name 'Collection_new' is not defined",
     "output_type": "error",
     "traceback": [
      "\u001b[1;31m---------------------------------------------------------------------------\u001b[0m",
      "\u001b[1;31mNameError\u001b[0m                                 Traceback (most recent call last)",
      "Input \u001b[1;32mIn [48]\u001b[0m, in \u001b[0;36m<cell line: 9>\u001b[1;34m()\u001b[0m\n\u001b[0;32m      6\u001b[0m     our_rests \u001b[38;5;241m=\u001b[39m handle_commands(our_rests)\n\u001b[0;32m      7\u001b[0m     \u001b[38;5;28mprint\u001b[39m(\u001b[38;5;124m\"\u001b[39m\u001b[38;5;130;01m\\n\u001b[39;00m\u001b[38;5;124mThank you.  Good-bye.\u001b[39m\u001b[38;5;124m\"\u001b[39m)\n\u001b[1;32m----> 9\u001b[0m \u001b[43mrestaurants\u001b[49m\u001b[43m(\u001b[49m\u001b[43m)\u001b[49m\n",
      "Input \u001b[1;32mIn [48]\u001b[0m, in \u001b[0;36mrestaurants\u001b[1;34m()\u001b[0m\n\u001b[0;32m      2\u001b[0m \u001b[38;5;124;03m\"\"\" Main program\u001b[39;00m\n\u001b[0;32m      3\u001b[0m \u001b[38;5;124;03m\"\"\"\u001b[39;00m\n\u001b[0;32m      4\u001b[0m \u001b[38;5;28mprint\u001b[39m(\u001b[38;5;124m\"\u001b[39m\u001b[38;5;124mWelcome to the restaurants program!\u001b[39m\u001b[38;5;124m\"\u001b[39m)\n\u001b[1;32m----> 5\u001b[0m our_rests \u001b[38;5;241m=\u001b[39m \u001b[43mCollection_new\u001b[49m()\n\u001b[0;32m      6\u001b[0m our_rests \u001b[38;5;241m=\u001b[39m handle_commands(our_rests)\n\u001b[0;32m      7\u001b[0m \u001b[38;5;28mprint\u001b[39m(\u001b[38;5;124m\"\u001b[39m\u001b[38;5;130;01m\\n\u001b[39;00m\u001b[38;5;124mThank you.  Good-bye.\u001b[39m\u001b[38;5;124m\"\u001b[39m)\n",
      "\u001b[1;31mNameError\u001b[0m: name 'Collection_new' is not defined"
     ]
    }
   ],
   "source": [
    "def restaurants():\n",
    "    \"\"\" Main program\n",
    "    \"\"\"\n",
    "    print(\"Welcome to the restaurants program!\")\n",
    "    our_rests = Collection_new()\n",
    "    our_rests = handle_commands(our_rests)\n",
    "    print(\"\\nThank you.  Good-bye.\")\n",
    "\n",
    "restaurants()"
   ]
  },
  {
   "cell_type": "markdown",
   "metadata": {},
   "source": [
    "If you wrote all of the above functions correctly and ran each cell, you should be able to run the code above and test the program as a whole."
   ]
  },
  {
   "cell_type": "markdown",
   "metadata": {},
   "source": [
    "Here is a link to the official Restaurant program, which is also included in the Module 4 Solutions page under 4.3: https://www.ics.uci.edu/~kay/python/RP0.py"
   ]
  },
  {
   "cell_type": "code",
   "execution_count": null,
   "metadata": {},
   "outputs": [],
   "source": []
  }
 ],
 "metadata": {
  "interpreter": {
   "hash": "18db06d66b83781e741671a8bbd09812ebc032e21520231392754694b3895265"
  },
  "kernelspec": {
   "display_name": "Python 3 (ipykernel)",
   "language": "python",
   "name": "python3"
  },
  "language_info": {
   "codemirror_mode": {
    "name": "ipython",
    "version": 3
   },
   "file_extension": ".py",
   "mimetype": "text/x-python",
   "name": "python",
   "nbconvert_exporter": "python",
   "pygments_lexer": "ipython3",
   "version": "3.10.2"
  }
 },
 "nbformat": 4,
 "nbformat_minor": 4
}
