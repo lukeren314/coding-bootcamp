{
 "cells": [
  {
   "cell_type": "markdown",
   "metadata": {},
   "source": [
    "## Module 2"
   ]
  },
  {
   "cell_type": "markdown",
   "metadata": {
    "id": "TdozLw5u48SD"
   },
   "source": [
    "### Module 2.1 Objects, Types, Conversions, and Methods"
   ]
  },
  {
   "cell_type": "markdown",
   "metadata": {
    "id": "dNtiQmdc_A-w"
   },
   "source": [
    "Everything (outside of statements and operators) in Python is an **object**. Objects have types and values. We've seen several types so far: integer, float, Boolean, string, list, and tuple."
   ]
  },
  {
   "cell_type": "markdown",
   "metadata": {
    "id": "hRcPIT7W_0EX"
   },
   "source": [
    "We can get the **type** of an object using the type function:"
   ]
  },
  {
   "cell_type": "code",
   "execution_count": null,
   "metadata": {
    "id": "wlLvLG7K_3K0"
   },
   "outputs": [],
   "source": [
    "print(type(5))"
   ]
  },
  {
   "cell_type": "markdown",
   "metadata": {
    "id": "3tRfYVluJPob"
   },
   "source": [
    "What does type return? Not a string. It returns an object of type **type**:"
   ]
  },
  {
   "cell_type": "code",
   "execution_count": null,
   "metadata": {
    "id": "WuUI86muJUpL"
   },
   "outputs": [],
   "source": [
    "print(type(type(1)))"
   ]
  },
  {
   "cell_type": "markdown",
   "metadata": {
    "id": "IiYp9jU9ABN_"
   },
   "source": [
    "When we get the type of a variable, we get the type of the object that the variable refers to:"
   ]
  },
  {
   "cell_type": "code",
   "execution_count": null,
   "metadata": {
    "id": "TsVMaz9kATDL"
   },
   "outputs": [],
   "source": [
    "my_object = \"foobar\"\n",
    "print(type(my_object))"
   ]
  },
  {
   "cell_type": "markdown",
   "metadata": {
    "id": "fN-Oedh_AcoZ"
   },
   "source": [
    "The reason we can use exponents on integers and not strings is because operators will only work on certain types:"
   ]
  },
  {
   "cell_type": "code",
   "execution_count": null,
   "metadata": {
    "id": "BRn7BzX0AjEa"
   },
   "outputs": [],
   "source": [
    "5 ** 2\n",
    "\"foo\" ** 2"
   ]
  },
  {
   "cell_type": "markdown",
   "metadata": {
    "id": "v9HpVJh7Am_k"
   },
   "source": [
    "It's also why we can index strings, lists, and tuples, but not integers or floats. Indexing only works on certain types:"
   ]
  },
  {
   "cell_type": "code",
   "execution_count": null,
   "metadata": {
    "id": "zXpQtOEFAxl9"
   },
   "outputs": [],
   "source": [
    "123[0]"
   ]
  },
  {
   "cell_type": "markdown",
   "metadata": {},
   "source": [
    "We can use type() to check the type of variables too:"
   ]
  },
  {
   "cell_type": "code",
   "execution_count": null,
   "metadata": {},
   "outputs": [],
   "source": [
    "fake_integer = \"123\"\n",
    "if type(fake_integer) == str:\n",
    "    print(\"This is actually a string\")\n",
    "else:\n",
    "    print(\"This is an integer\")"
   ]
  },
  {
   "cell_type": "markdown",
   "metadata": {},
   "source": [
    "#### **Coding Activity 1**"
   ]
  },
  {
   "cell_type": "code",
   "execution_count": null,
   "metadata": {},
   "outputs": [],
   "source": [
    "# Write the following function below:\n",
    "def print_type(var):\n",
    "    \"\"\"\n",
    "    If var is a string, return the length of the string.\n",
    "    If var is an integer, return it.\n",
    "    If var is any other type, return the string \"What?\"\n",
    "    Ex.\n",
    "    \"123\" -> 3\n",
    "    123 -> 123\n",
    "    3.42 -> \"What?\"\n",
    "    \"\"\"\n",
    "    pass\n",
    "\n",
    "print(print_type(\"123\") == 3)\n",
    "print(print_type(123) == 123)\n",
    "print(print_type(3.42) == \"What?\")"
   ]
  },
  {
   "cell_type": "markdown",
   "metadata": {},
   "source": [
    "#### Type Definitions"
   ]
  },
  {
   "cell_type": "markdown",
   "metadata": {},
   "source": [
    "We've been using docstrings to describe our functions, but we can also use **type definitions**:"
   ]
  },
  {
   "cell_type": "code",
   "execution_count": 2,
   "metadata": {},
   "outputs": [
    {
     "ename": "SyntaxError",
     "evalue": "unterminated triple-quoted string literal (detected at line 10) (1629598416.py, line 5)",
     "output_type": "error",
     "traceback": [
      "\u001b[1;36m  Input \u001b[1;32mIn [2]\u001b[1;36m\u001b[0m\n\u001b[1;33m    \"\"\"\u001b[0m\n\u001b[1;37m    ^\u001b[0m\n\u001b[1;31mSyntaxError\u001b[0m\u001b[1;31m:\u001b[0m unterminated triple-quoted string literal (detected at line 10)\n"
     ]
    }
   ],
   "source": [
    "# type definition format\n",
    "# def <function name>(<parameter1>: <type1>, <parameter2>: <type2>, ...) -> <return_type>:\n",
    "#     <function body>\n",
    "def add_two_integers(integer_a: int, integer_b: int) -> int:\n",
    "    \"\"\"\n",
    "    Adds two integers\n",
    "    \"\"\"\n",
    "    return integer_a + integer_b\n",
    "\n",
    "print(add_two_integers(1, 2))\n",
    "print(add_two_integers(\"1\", \"2\")) # no error/exception raised"
   ]
  },
  {
   "cell_type": "markdown",
   "metadata": {},
   "source": [
    "Type definitions help us document what types of parameters our function is expecting and what type the return value will be, but it doesn't raise an exception if the arguments passed in aren't the correct types."
   ]
  },
  {
   "cell_type": "markdown",
   "metadata": {},
   "source": [
    "We can even just describe the parameters using strings:"
   ]
  },
  {
   "cell_type": "code",
   "execution_count": 3,
   "metadata": {},
   "outputs": [
    {
     "name": "stdout",
     "output_type": "stream",
     "text": [
      "5 / 2 =  2.5\n",
      "Hello World\n"
     ]
    }
   ],
   "source": [
    "def print_anything(prefix: str, data: \"any\"): # returns nothing\n",
    "    \"\"\"\n",
    "    Prints a prefix before any type of variable.\n",
    "    \"\"\"\n",
    "    print(prefix, data)\n",
    "\n",
    "print_anything(\"5 / 2 = \", 5 / 2)\n",
    "print_anything(\"Hello\", \"World\")"
   ]
  },
  {
   "cell_type": "markdown",
   "metadata": {
    "id": "cfjmcSnbDMxK"
   },
   "source": [
    "#### Constructor"
   ]
  },
  {
   "cell_type": "markdown",
   "metadata": {
    "id": "qTgrRiduAyOO"
   },
   "source": [
    "We can create a new object of a certain type by using what's called a **constructor**, which is just a function that is used to create an object. You use the name of the type as the function name:"
   ]
  },
  {
   "cell_type": "code",
   "execution_count": null,
   "metadata": {
    "id": "JErAEJGiA8IA"
   },
   "outputs": [],
   "source": [
    "my_int = int() # we create a new integer and store it in my_int\n",
    "print(my_int) # the default value for integers is 0"
   ]
  },
  {
   "cell_type": "markdown",
   "metadata": {
    "id": "ZvCxVVKPDOLv"
   },
   "source": [
    "We can also pass in an argument to a constructor to initialize its value:"
   ]
  },
  {
   "cell_type": "code",
   "execution_count": null,
   "metadata": {
    "id": "QUClXhrLDTyR"
   },
   "outputs": [],
   "source": [
    "my_initialized_int = int(5)\n",
    "print(my_initialized_int)"
   ]
  },
  {
   "cell_type": "markdown",
   "metadata": {
    "id": "7xJKIi8vDXih"
   },
   "source": [
    "This is a little redundant since we can just say \"my_initialized_int = 5\", but you'll see why constructors are useful soon."
   ]
  },
  {
   "cell_type": "markdown",
   "metadata": {
    "id": "9SOHYjgMBkC3"
   },
   "source": [
    "#### Conversions"
   ]
  },
  {
   "cell_type": "markdown",
   "metadata": {
    "id": "NOROVk4hBlzE"
   },
   "source": [
    "You can convert objects of certain types into other types by calling the appropriate constructor on those objects:"
   ]
  },
  {
   "cell_type": "code",
   "execution_count": null,
   "metadata": {
    "id": "wKZVrKbqBuAN"
   },
   "outputs": [],
   "source": [
    "print(int(3.7)) # converting a float to an integer removes the decimal entirely \n",
    "print(float(5)) # converting an integer to a float adds a decimal\n",
    "print(str(4)) # converts 4 to a string (useful to concatentation numbers to strings!)\n",
    "print(int(\"123\")) # converts string to int (if it's possible! can't convert a string like \"foobar\")"
   ]
  },
  {
   "cell_type": "markdown",
   "metadata": {
    "id": "H4ok-QjpB5Hg"
   },
   "source": [
    "This is called **explicit type conversion** since we're explicitly naming which type to convert an object to."
   ]
  },
  {
   "cell_type": "markdown",
   "metadata": {
    "id": "FgeTRaVUBS1B"
   },
   "source": [
    "#### Implicit Type Conversion"
   ]
  },
  {
   "cell_type": "markdown",
   "metadata": {
    "id": "KaH0m6ZIBG3m"
   },
   "source": [
    "Some operations will automatically convert certain types into other types without you writing it:"
   ]
  },
  {
   "cell_type": "code",
   "execution_count": null,
   "metadata": {
    "id": "SKdBNPFMCDLq"
   },
   "outputs": [],
   "source": [
    "print(True + 3) # Python converts Booleans into 0 or 1 (0 - False, 1 - True), if we're doing arithmetic on it\n",
    "print(3 + 6.5) # To add these two numbers, Python convert 3 to 3.0 so that it can add 2 floats together"
   ]
  },
  {
   "cell_type": "markdown",
   "metadata": {
    "id": "SguPAas_DqGG"
   },
   "source": [
    "This is called **implicit type conversion** since the type is being converted without you explicitly telling it to."
   ]
  },
  {
   "cell_type": "markdown",
   "metadata": {},
   "source": [
    "#### **Coding Activity 2**"
   ]
  },
  {
   "cell_type": "code",
   "execution_count": 1,
   "metadata": {},
   "outputs": [
    {
     "name": "stdout",
     "output_type": "stream",
     "text": [
      "False\n",
      "False\n",
      "False\n",
      "False\n"
     ]
    }
   ],
   "source": [
    "# Write the following function\n",
    "def sum_anything(a: int, b: int) -> int:\n",
    "    \"\"\"\n",
    "    If both a and b are integers, return the sum.\n",
    "    If either is a string or float, convert them to an integer first\n",
    "    before summing. \n",
    "    Ex.\n",
    "    1, 3 -> 4\n",
    "    \"2\", 4 -> 6\n",
    "    4, 7.6 -> 11\n",
    "    \"2\", 8.2 -> 10\n",
    "    \"\"\"\n",
    "    pass\n",
    "print(sum_anything(1, 3) == 4)\n",
    "print(sum_anything(\"2\", 4) == 6)\n",
    "print(sum_anything(4, 7.6) == 11)\n",
    "print(sum_anything(\"2\", 8.2) == 10)"
   ]
  },
  {
   "cell_type": "markdown",
   "metadata": {},
   "source": [
    "#### Incompatible Types"
   ]
  },
  {
   "cell_type": "markdown",
   "metadata": {},
   "source": [
    "Not all conversions can happen implicitly:"
   ]
  },
  {
   "cell_type": "code",
   "execution_count": null,
   "metadata": {},
   "outputs": [],
   "source": [
    "print(\"My favorite number is \"+100)"
   ]
  },
  {
   "cell_type": "markdown",
   "metadata": {},
   "source": [
    "If we run the code above, we'll get an exception. Python doesn't know how you want to combine a str and an int, so it throws an exception. You can fix this by explicitly converted one into the other:"
   ]
  },
  {
   "cell_type": "code",
   "execution_count": null,
   "metadata": {},
   "outputs": [],
   "source": [
    "print(\"My favorite number is \"+str(100))"
   ]
  },
  {
   "cell_type": "markdown",
   "metadata": {
    "id": "xuS2SKTyVzYh"
   },
   "source": [
    "#### Methods"
   ]
  },
  {
   "cell_type": "markdown",
   "metadata": {
    "id": "hR9EgxmpWLxS"
   },
   "source": [
    "**Methods** are special functions we can call on objects. Let's look at the list **append** method:"
   ]
  },
  {
   "cell_type": "code",
   "execution_count": null,
   "metadata": {
    "id": "hWCa8Fz3DhXy"
   },
   "outputs": [],
   "source": [
    "# method format\n",
    "# <object>.<method_name>(<arguments>)\n",
    "fruit = [\"banana\", \"apple\", \"orange\"]\n",
    "fruit.append(\"peach\")\n",
    "print(fruit)"
   ]
  },
  {
   "cell_type": "markdown",
   "metadata": {
    "id": "P50ZLcItDy8w"
   },
   "source": [
    "The **append** method adds the function argument, \"peach\", to the end of the list you called append on. Notice that the method is called on the fruit variable using the dot (.), kind of like calling functions from an imported library."
   ]
  },
  {
   "cell_type": "markdown",
   "metadata": {
    "id": "OMoQfpDeCcVG"
   },
   "source": [
    "The type of an object determines which methods you can call on it. If we try to call append on an integer, we get an exception:"
   ]
  },
  {
   "cell_type": "code",
   "execution_count": null,
   "metadata": {
    "id": "gUVA5LFkCnnY"
   },
   "outputs": [],
   "source": [
    "list_wannabe = 5\n",
    "list_wannabe.append(123)"
   ]
  },
  {
   "cell_type": "markdown",
   "metadata": {
    "id": "eqq33PxaIbra"
   },
   "source": [
    "There are many list methods, such as the **count** method:"
   ]
  },
  {
   "cell_type": "markdown",
   "metadata": {},
   "source": [
    "##### count method"
   ]
  },
  {
   "cell_type": "code",
   "execution_count": null,
   "metadata": {},
   "outputs": [],
   "source": [
    "# count format\n",
    "# <list>.count(<item>)\n",
    "example_list0 = [\"a\", \"b\", \"b\", \"c\"]\n",
    "print(example_list0.count(\"b\"))"
   ]
  },
  {
   "cell_type": "markdown",
   "metadata": {},
   "source": [
    "The **count** method returns how many of the given item are in the list."
   ]
  },
  {
   "cell_type": "markdown",
   "metadata": {},
   "source": [
    "##### index method"
   ]
  },
  {
   "cell_type": "code",
   "execution_count": null,
   "metadata": {
    "id": "2Ld6DSnAJYko"
   },
   "outputs": [],
   "source": [
    "# index format\n",
    "# <list>.index(<item>)\n",
    "example_list1 = [\"a\", \"b\", \"b\", \"c\"]\n",
    "print(example_list1.index(\"b\"))"
   ]
  },
  {
   "cell_type": "markdown",
   "metadata": {
    "id": "QojbwPepKUui"
   },
   "source": [
    "The **index** method returns what index the given item is in the list, and raises an exception if the item is not in the list. If there are multiple of the item being searched for in the list, it returns the index of the first."
   ]
  },
  {
   "cell_type": "markdown",
   "metadata": {},
   "source": [
    "##### insert method"
   ]
  },
  {
   "cell_type": "code",
   "execution_count": null,
   "metadata": {
    "id": "vi00Nk-CJYfR"
   },
   "outputs": [],
   "source": [
    "# insert format\n",
    "# <list>.insert(<index>, <item>)\n",
    "example_list2 = [\"a\", \"b\", \"c\"]\n",
    "example_list2.insert(1, \"d\")\n",
    "print(example_list2)"
   ]
  },
  {
   "cell_type": "markdown",
   "metadata": {
    "id": "dHx5vEK5Kqon"
   },
   "source": [
    "The **insert** method inserts the 2nd argument into the index given by the 1st argument, pushing the rest of the elements at that position to the right. You can even insert at the end of a list:"
   ]
  },
  {
   "cell_type": "code",
   "execution_count": null,
   "metadata": {},
   "outputs": [],
   "source": [
    "example_list2_part2 = [\"a\", \"b\"]\n",
    "example_list2_part2.insert(2, \"c\")\n",
    "print(example_list2_part2)"
   ]
  },
  {
   "cell_type": "markdown",
   "metadata": {},
   "source": [
    "##### pop method"
   ]
  },
  {
   "cell_type": "code",
   "execution_count": null,
   "metadata": {
    "id": "RFqd9pzoK7Zu"
   },
   "outputs": [],
   "source": [
    "# pop format\n",
    "# <list>.pop(<index>)\n",
    "# or \n",
    "# <list>.pop() removes the last item\n",
    "example_list3 = [\"a\", \"b\", \"c\", \"d\"]\n",
    "removed = example_list3.pop(1)\n",
    "print(example_list3)\n",
    "print(removed)\n",
    "\n",
    "removed2 = example_list3.pop()\n",
    "print(example_list3)\n",
    "print(removed2)"
   ]
  },
  {
   "cell_type": "markdown",
   "metadata": {
    "id": "LFHFxKluLFVk"
   },
   "source": [
    "The **pop** method removes the element specified by the index argument if it is specified, and it removes the last element if no argument is specified. The items to the right of the element get shifted left. The pop method returns the item popped."
   ]
  },
  {
   "cell_type": "markdown",
   "metadata": {},
   "source": [
    "##### remove method"
   ]
  },
  {
   "cell_type": "code",
   "execution_count": null,
   "metadata": {
    "id": "v0M9K1_4Eyqj"
   },
   "outputs": [],
   "source": [
    "# remove format\n",
    "# <list>.remove(<item>)\n",
    "example_list4 = [\"a\", \"b\", \"b\", \"c\"]\n",
    "example_list4.remove(\"b\")\n",
    "print(example_list4)"
   ]
  },
  {
   "cell_type": "markdown",
   "metadata": {
    "id": "qXy0urrALhWO"
   },
   "source": [
    "The **remove** method removes the item specified by the argument, and raises an exception if the argument does not exist in the list. If there are multiple copies of the item in the list, remove will remove the first occurrence."
   ]
  },
  {
   "cell_type": "markdown",
   "metadata": {},
   "source": [
    "##### extend method"
   ]
  },
  {
   "cell_type": "code",
   "execution_count": null,
   "metadata": {},
   "outputs": [],
   "source": [
    "# extend format\n",
    "# <list>.extend(<other_list>)\n",
    "example_list5 = [\"a\", \"b\", \"c\"]\n",
    "example_list5.extend([\"d\", \"e\"])\n",
    "print(example_list5)"
   ]
  },
  {
   "cell_type": "markdown",
   "metadata": {},
   "source": [
    "The **extend** method concatenates the argument list to the end of the current list."
   ]
  },
  {
   "cell_type": "markdown",
   "metadata": {},
   "source": [
    "##### reverse method"
   ]
  },
  {
   "cell_type": "code",
   "execution_count": null,
   "metadata": {
    "id": "BpcRTwSMLsa4"
   },
   "outputs": [],
   "source": [
    "# reverse format\n",
    "# <list>.reverse()\n",
    "example_list6 = [1, 2, 3]\n",
    "example_list6.reverse()\n",
    "print(example_list5)"
   ]
  },
  {
   "cell_type": "markdown",
   "metadata": {
    "id": "69hyQfAPLxbT"
   },
   "source": [
    "The **reverse** method reverses the list."
   ]
  },
  {
   "cell_type": "markdown",
   "metadata": {},
   "source": [
    "##### sort method"
   ]
  },
  {
   "cell_type": "code",
   "execution_count": null,
   "metadata": {
    "id": "dxiNvumcLzzq"
   },
   "outputs": [],
   "source": [
    "# sort format\n",
    "# <list>.sort()\n",
    "example_list7 = [3, 2, 5, 1, 6]\n",
    "example_list7.sort()\n",
    "print(example_list6)"
   ]
  },
  {
   "cell_type": "markdown",
   "metadata": {
    "id": "BfK-itTuL4NL"
   },
   "source": [
    "The **sort** method sorts the list in ascending order."
   ]
  },
  {
   "cell_type": "markdown",
   "metadata": {},
   "source": [
    "##### sorted function"
   ]
  },
  {
   "cell_type": "code",
   "execution_count": null,
   "metadata": {
    "id": "wt-I5y5lqYgZ"
   },
   "outputs": [],
   "source": [
    "# sorted format\n",
    "# sorted(<list>)\n",
    "example_list8 = [3, 2, 5, 1, 6]\n",
    "example_list9 = sorted(example_list8)\n",
    "print(example_list8)\n",
    "print(example_list9)"
   ]
  },
  {
   "cell_type": "markdown",
   "metadata": {},
   "source": [
    "The **sorted** function isn't a method for the list type, but it can be called on lists. It returns a copy of the original list, but sorted in ascending order. The sorted function **DOES NOT** modify the original list, unlike the sort method of the list type."
   ]
  },
  {
   "cell_type": "markdown",
   "metadata": {
    "id": "ZZTuQWE0E7xU"
   },
   "source": [
    "These are just a few of the important list methods, but you can find the full list here in the documentation: https://docs.python.org/3/tutorial/datastructures.html. If you ever forget what a method does, or which method does what, look it up in the documentation. Or google it."
   ]
  },
  {
   "cell_type": "markdown",
   "metadata": {},
   "source": [
    "#### Tuple Methods"
   ]
  },
  {
   "cell_type": "markdown",
   "metadata": {
    "id": "atKt1_0EP6aB"
   },
   "source": [
    "Tuples have only 2 methods: count and index. These are the only list methods that don't modify the list:"
   ]
  },
  {
   "cell_type": "code",
   "execution_count": null,
   "metadata": {
    "id": "snnwyswNQBau"
   },
   "outputs": [],
   "source": [
    "print((\"a\", \"b\", \"c\").index(\"b\"))\n",
    "print((1, 2, 2, 3).count(2))"
   ]
  },
  {
   "cell_type": "markdown",
   "metadata": {
    "id": "0uDtQYLGQJhY"
   },
   "source": [
    "If you try to use one of the other methods, an exception will be raised."
   ]
  },
  {
   "cell_type": "code",
   "execution_count": null,
   "metadata": {
    "id": "juBMAvnyQrx0"
   },
   "outputs": [],
   "source": [
    "(1, 2, 3).append(\"123\")"
   ]
  },
  {
   "cell_type": "markdown",
   "metadata": {},
   "source": [
    "Because the sorted function doesn't modify the original argument, you can sort a tuple without modifying it:"
   ]
  },
  {
   "cell_type": "code",
   "execution_count": null,
   "metadata": {},
   "outputs": [],
   "source": [
    "example_tuple = (1, 5, 3, 7, 2)\n",
    "sorted_tuple = sorted(example_tuple)\n",
    "print(example_tuple)\n",
    "print(sorted_tuple)"
   ]
  },
  {
   "cell_type": "markdown",
   "metadata": {},
   "source": [
    "You can also convert between lists and tuples using their constructors:"
   ]
  },
  {
   "cell_type": "code",
   "execution_count": null,
   "metadata": {},
   "outputs": [],
   "source": [
    "# convert tuple to list\n",
    "my_tuple = (1, 2, 3)\n",
    "my_list = list(my_tuple)\n",
    "print(my_list)\n",
    "\n",
    "my_list = [4, 5, 6]\n",
    "my_tuple = tuple(my_list)\n",
    "print(my_tuple)"
   ]
  },
  {
   "cell_type": "markdown",
   "metadata": {
    "id": "fEqQTAR16PUS"
   },
   "source": [
    "#### Summary"
   ]
  },
  {
   "cell_type": "markdown",
   "metadata": {
    "id": "XArAM2cODDel"
   },
   "source": [
    "In this lesson, we learned about objects, types, constructors, explicit type conversion, implicit type conversion, and methods. Here is a summary of the concepts below:\n",
    "\n",
    "| Usage | Description |\n",
    "| --- | --- |\n",
    "| type(object) | gets the type of object |\n",
    "| int(arg) | converts arg into an integer |\n",
    "| str(arg) | converts arg into a string |\n",
    "| list.append(item) | adds item to end of list |\n",
    "| list.count(item) | returns number of occurrences of item |\n",
    "| list.index(item) | returns index of item in list |\n",
    "| list.insert(index, item) | inserts item into list at index |\n",
    "| list.pop(index) | removes item at index |\n",
    "| list.remove(item) | removes item from the list |\n",
    "| list.reverse() | reverses the list |\n",
    "| list.sort() | sorts the list in ascending order |\n",
    "| sorted(list) | returns a sorted copy of the list |"
   ]
  },
  {
   "cell_type": "markdown",
   "metadata": {
    "id": "vHdClUcqJC-Y"
   },
   "source": [
    "Now let's get some practice in!"
   ]
  },
  {
   "cell_type": "markdown",
   "metadata": {},
   "source": [
    "#### Practice Problems"
   ]
  },
  {
   "cell_type": "markdown",
   "metadata": {},
   "source": [
    "1. Write the following function:"
   ]
  },
  {
   "cell_type": "code",
   "execution_count": null,
   "metadata": {},
   "outputs": [],
   "source": [
    "def tuples_to_list(tuple1: tuple, tuple2: tuple) -> list:\n",
    "    \"\"\"\n",
    "    Returns a list containing the values of both tuples.\n",
    "    (1, 2, 3), (4, 5, 6, 7) -> [1, 2, 3, 4, 5, 6, 7]\n",
    "    (1, 2), () -> [1, 2]\n",
    "    (), (2, 3, 5) -> [2, 3, 5]\n",
    "    (), () -> []\n",
    "    \"\"\"\n",
    "    pass\n",
    "print(tuples_to_list((1, 2, 3), (4, 5, 6, 7)) == [1, 2, 3, 4, 5, 6, 7])\n",
    "print(tuples_to_list((1, 2), ()) == [1, 2])\n",
    "print(tuples_to_list((), (2, 3, 5)) == [2, 3, 5])\n",
    "print(tuples_to_list((), ()) == [])"
   ]
  },
  {
   "cell_type": "markdown",
   "metadata": {},
   "source": [
    "2. Write the following function:"
   ]
  },
  {
   "cell_type": "code",
   "execution_count": null,
   "metadata": {},
   "outputs": [],
   "source": [
    "def stack_boxes(main_stack: list, side_stack: list):\n",
    "    \"\"\"\n",
    "    You have 2 stacks of boxes, a main stack and a side stack.\n",
    "    The stacks are represented with Python lists, with the left\n",
    "    side of the list representing the bottom of the stack and\n",
    "    the right side representing the top side of the stack.\n",
    "    \n",
    "    The main stack has an unknown length, but the side stack will\n",
    "    have either 1, 2, or 3 boxes.\n",
    "    \n",
    "    Remove the boxes from the top of the side stack one by one,\n",
    "    and put them on top of the main stack.\n",
    "    \n",
    "    Make sure you modify the original lists instead of making\n",
    "    copies.\n",
    "    \n",
    "    Do not return anything.\n",
    "    Ex.\n",
    "    [1, 2, 3], [4, 5, 6] -> [1, 2, 3, 6, 5, 4], []\n",
    "    [1, 2], [4, 3] -> [1, 2, 3, 4], []\n",
    "    [3], [1, 2] -> [3, 2, 1], []\n",
    "    \"\"\"\n",
    "    pass\n",
    "main_stack = [1, 2, 3]\n",
    "side_stack = [4, 5, 6]\n",
    "stack_boxes(main_stack, side_stack)\n",
    "print(main_stack == [1, 2, 3, 6, 5, 4])\n",
    "print(side_stack == [])\n",
    "\n",
    "main_stack = [1, 2]\n",
    "side_stack = [4, 3]\n",
    "stack_boxes(main_stack, side_stack)\n",
    "print(main_stack == [1, 2, 3, 4])\n",
    "print(side_stack == [])\n",
    "\n",
    "main_stack = [3]\n",
    "side_stack = [1, 2]\n",
    "stack_boxes(main_stack, side_stack)\n",
    "print(main_stack == [3, 2, 1])\n",
    "print(side_stack == [])"
   ]
  },
  {
   "cell_type": "markdown",
   "metadata": {},
   "source": [
    "3. Write the following function:"
   ]
  },
  {
   "cell_type": "code",
   "execution_count": null,
   "metadata": {},
   "outputs": [],
   "source": [
    "def even_foo_sniper(word_list: list):\n",
    "    \"\"\"\n",
    "    If word_list has only 1 occurrence of the word \"foo\", remove\n",
    "    it if it's at an even index.\n",
    "    If word_list has 2 or more occurrences of the word \"foo\",\n",
    "    remove the first 2 if they're both at even indexes, remove\n",
    "    the first if it's at an even index, or do nothing otherwise.\n",
    "    If word_list has no occurrences of the word \"foo\", do nothing.\n",
    "    Do not return anything. \n",
    "    Ex.\n",
    "    [\"a\", \"b\", \"foo\", \"c\"] -> [\"a\", \"b\", \"c\"]\n",
    "    [\"a\", \"foo\", \"b\"] -> [\"a\", \"foo\", \"b\"]\n",
    "    [\"a\", \"b\", \"foo\", \"c\", \"foo\", \"d\"] -> [\"a\", \"b\", \"c\", \"d\"]\n",
    "    [\"a\", \"b\", \"foo\", \"foo\", \"c\"] -> [\"a\", \"b\", \"foo\", \"c\"]\n",
    "    [\"a\", \"foo\", \"foo\", \"b\"] -> [\"a\", \"foo\", \"foo\", \"b\"]\n",
    "    [\"a\", \"b\", \"foo\", \"foo\", \"c\"] -> [\"a\", \"b\", \"foo\", \"c\"]\n",
    "    [\"a\", \"b\", \"c\"] -> [\"a\", \"b\", \"c\"]\n",
    "    \"\"\"\n",
    "    pass\n",
    "\n",
    "word_list = [\"a\", \"b\", \"foo\", \"c\"]\n",
    "even_foo_sniper(word_list)\n",
    "print(word_list == [\"a\", \"b\", \"c\"])\n",
    "\n",
    "word_list = [\"a\", \"foo\", \"b\"]\n",
    "even_foo_sniper(word_list)\n",
    "print(word_list == [\"a\", \"foo\", \"b\"])\n",
    "\n",
    "word_list = [\"a\", \"b\", \"foo\", \"c\", \"foo\", \"d\"]\n",
    "even_foo_sniper(word_list)\n",
    "print(word_list == [\"a\", \"b\", \"c\", \"d\"])\n",
    "\n",
    "word_list = [\"a\", \"b\", \"foo\", \"foo\", \"c\"]\n",
    "even_foo_sniper(word_list)\n",
    "print(word_list == [\"a\", \"b\", \"foo\", \"c\"])\n",
    "\n",
    "word_list = [\"a\", \"foo\", \"foo\", \"b\"]\n",
    "even_foo_sniper(word_list)\n",
    "print(word_list == [\"a\", \"foo\", \"foo\", \"b\"])\n",
    "\n",
    "word_list = [\"a\", \"b\", \"foo\", \"foo\", \"c\"]\n",
    "even_foo_sniper(word_list)\n",
    "print(word_list == [\"a\", \"b\", \"foo\", \"c\"])\n",
    "\n",
    "word_list = [\"a\", \"b\", \"c\"]\n",
    "even_foo_sniper(word_list)\n",
    "print(word_list == [\"a\", \"b\", \"c\"])"
   ]
  },
  {
   "cell_type": "markdown",
   "metadata": {},
   "source": [
    "4. Write the following function:"
   ]
  },
  {
   "cell_type": "code",
   "execution_count": 4,
   "metadata": {},
   "outputs": [
    {
     "name": "stdout",
     "output_type": "stream",
     "text": [
      "False\n",
      "False\n",
      "False\n",
      "True\n"
     ]
    }
   ],
   "source": [
    "def bidirectional_sort(list_arg: list, is_ascending: bool):\n",
    "    \"\"\"\n",
    "    If is_ascending is True, sort list_arg in ascending order.\n",
    "    Otherwise, sort list_arg in descending order.\n",
    "    Ex.\n",
    "    [1, 3, 2], True -> [1, 2, 3]\n",
    "    [1, 2, 3, 2, 6], False -> [6, 3, 2, 2, 1]\n",
    "    [1, 5, 2, 4], False -> [5, 4, 2, 1]\n",
    "    [], True -> []\n",
    "    \"\"\"\n",
    "    pass\n",
    "list_ = [1, 3, 2]\n",
    "bidirectional_sort(list_, True)\n",
    "print(list_ == [1, 2, 3])\n",
    "\n",
    "list_ = [1, 2, 3, 2, 6]\n",
    "bidirectional_sort(list_, False)\n",
    "print(list_ == [6, 3, 2, 2, 1])\n",
    "\n",
    "list_ = [1, 5, 2, 4]\n",
    "bidirectional_sort(list_, False)\n",
    "print(list_ == [5, 4, 2, 1])\n",
    "\n",
    "list_ = []\n",
    "bidirectional_sort(list_, True)\n",
    "print(list_ == [])"
   ]
  },
  {
   "cell_type": "markdown",
   "metadata": {},
   "source": [
    "5. Write the following function:"
   ]
  },
  {
   "cell_type": "code",
   "execution_count": null,
   "metadata": {},
   "outputs": [],
   "source": [
    "def fix_list(num_list: list, num: int):\n",
    "    \"\"\"\n",
    "    Someone tried to add numbers to a list in ascending order,\n",
    "    but they messed up. The worst part is they can't remember\n",
    "    what they did wrong. \n",
    "    They either forgot to add a number, or they added a number\n",
    "    twice. Luckily, they remember which number they messed up on.\n",
    "    \n",
    "    The num_list parameter is supposed to be length 3 and in\n",
    "    ascending order. Either add num in the correct position if\n",
    "    it is missing or remove it if it's a duplicate\n",
    "    Ex.\n",
    "    [1, 2], 3 -> [1, 2, 3]\n",
    "    [1, 4], 2 -> [1, 2, 4]\n",
    "    [3, 5], 1 -> [1, 3, 5]\n",
    "    [0, 2, 3, 3], 3 -> [0, 2, 3]\n",
    "    [0, 1, 1, 3], 1 -> [0, 1, 3]\n",
    "    [0, 0, 1, 4], 0 -> [0, 1, 4]\n",
    "    \"\"\"\n",
    "    pass\n",
    "num_list = [1, 2]\n",
    "fix_list(num_list, 3)\n",
    "print(num_list == [1, 2, 3])\n",
    "\n",
    "num_list = [1, 4]\n",
    "fix_list(num_list, 2)\n",
    "print(num_list == [1, 2, 4])\n",
    "\n",
    "num_list = [3, 5]\n",
    "fix_list(num_list, 1)\n",
    "print(num_list == [1, 3, 5])\n",
    "\n",
    "num_list = [0, 2, 3, 3]\n",
    "fix_list(num_list, 3)\n",
    "print(num_list == [0, 2, 3])\n",
    "\n",
    "num_list = [0, 1, 1, 3]\n",
    "fix_list(num_list, 1)\n",
    "print(num_list == [0, 1, 3])\n",
    "\n",
    "num_list = [0, 0, 1, 4]\n",
    "fix_list(num_list, 0)\n",
    "print(num_list == [0, 1, 4])"
   ]
  },
  {
   "cell_type": "markdown",
   "metadata": {},
   "source": [
    "### Module 2.2 String Methods"
   ]
  },
  {
   "cell_type": "markdown",
   "metadata": {},
   "source": [
    "Let's review strings before we look at their methods:"
   ]
  },
  {
   "cell_type": "markdown",
   "metadata": {},
   "source": [
    "#### **Coding Activity 1**"
   ]
  },
  {
   "cell_type": "code",
   "execution_count": null,
   "metadata": {},
   "outputs": [],
   "source": [
    "# write the function below:\n",
    "def concatenate_list_of_strings(string_list: list) -> str:\n",
    "    \"\"\"\n",
    "    The parameter string_list is a list of 2, 3, 4, or 5 strings.\n",
    "    Return the strings concatenated one after another.\n",
    "    Ex.\n",
    "    [\"foo\", \"bar\"] -> \"foobar\"\n",
    "    [\"foo\", \"bar\", \"baz\"] -> \"foobarbaz\"\n",
    "    [\"foo\", \"bar\", \"baz\", \"fizz\"] -> \"foobarbazfizz\"\n",
    "    [\"foo\", \"bar\", \"baz\", \"fizz\", \"bizz] -> \"foobarbazfizzbizz\"\n",
    "    \"\"\"\n",
    "    pass\n",
    "print(concatenate_list_of_strings([\"foo\", \"bar\"]) == \"foobar\")\n",
    "print(concatenate_list_of_strings([\"foo\", \"bar\", \"baz\"]) == \"foobarbaz\")\n",
    "print(concatenate_list_of_strings([\"foo\", \"bar\", \"baz\", \"fizz\"]) == \"foobarbazfizz\")\n",
    "print(concatenate_list_of_strings([\"foo\", \"bar\", \"baz\", \"fizz\", \"bizz\"]) == \"foobarbazfizzbizz\")"
   ]
  },
  {
   "cell_type": "markdown",
   "metadata": {},
   "source": [
    "There are many string methods to know about. Strings have 2 methods in common with lists and tuples:"
   ]
  },
  {
   "cell_type": "markdown",
   "metadata": {},
   "source": [
    "#### Common Methods"
   ]
  },
  {
   "cell_type": "markdown",
   "metadata": {},
   "source": [
    "Strings share the index and count method with lists and tuples:"
   ]
  },
  {
   "cell_type": "code",
   "execution_count": null,
   "metadata": {},
   "outputs": [],
   "source": [
    "print(\"abc\".index(\"b\"))\n",
    "print(\"aabc\".count(\"a))"
   ]
  },
  {
   "cell_type": "markdown",
   "metadata": {},
   "source": [
    "#### Unique Methods"
   ]
  },
  {
   "cell_type": "markdown",
   "metadata": {},
   "source": [
    "Strings have many unique methods, such as the upper and lower methods:"
   ]
  },
  {
   "cell_type": "markdown",
   "metadata": {},
   "source": [
    "##### upper and lower methods"
   ]
  },
  {
   "cell_type": "code",
   "execution_count": 2,
   "metadata": {
    "id": "MkDZUHDjFk1A"
   },
   "outputs": [
    {
     "name": "stdout",
     "output_type": "stream",
     "text": [
      "ABCD123\n",
      "ABCD123\n",
      "abcd123\n",
      "abcd123\n"
     ]
    }
   ],
   "source": [
    "# upper format\n",
    "# <string>.upper()\n",
    "# lower format\n",
    "# <string>.lower()\n",
    "print(\"abcd123\".upper()) # converts to upper case\n",
    "print(\"aBcD123\".upper()) \n",
    "print(\"ABCD123\".lower()) # converts to lower case\n",
    "print(\"aBcD123\".lower())"
   ]
  },
  {
   "cell_type": "markdown",
   "metadata": {
    "id": "EhHXRQQXGip3"
   },
   "source": [
    "The **upper** and **lower** methods return a new string that is fully uppercase or fully lowercase respectively."
   ]
  },
  {
   "cell_type": "markdown",
   "metadata": {},
   "source": [
    "##### capitalize method"
   ]
  },
  {
   "cell_type": "code",
   "execution_count": null,
   "metadata": {},
   "outputs": [],
   "source": [
    "# capitalize format\n",
    "# <string>.capitalize()\n",
    "print(\"john\".capitalize())\n",
    "print(\"123jeff\".capitalize())"
   ]
  },
  {
   "cell_type": "markdown",
   "metadata": {},
   "source": [
    "The **capitalize** method returns a new string with the first character capitalized."
   ]
  },
  {
   "cell_type": "markdown",
   "metadata": {},
   "source": [
    "##### find method"
   ]
  },
  {
   "cell_type": "code",
   "execution_count": 3,
   "metadata": {},
   "outputs": [
    {
     "name": "stdout",
     "output_type": "stream",
     "text": [
      "1\n",
      "2\n",
      "-1\n"
     ]
    }
   ],
   "source": [
    "# find format\n",
    "# <string>.find(<substring>)\n",
    "print(\"abcde\".find(\"bc\"))\n",
    "print(\"americandream\".find(\"ericandre\"))\n",
    "print(\"foo\".find(\"bar\"))"
   ]
  },
  {
   "cell_type": "markdown",
   "metadata": {},
   "source": [
    "The **find** method returns the index where the substring parameter is in the string. If the substring isn't in the string, it returns -1."
   ]
  },
  {
   "cell_type": "markdown",
   "metadata": {},
   "source": [
    "##### replace method"
   ]
  },
  {
   "cell_type": "code",
   "execution_count": null,
   "metadata": {},
   "outputs": [],
   "source": [
    "# replace format\n",
    "# <string>.replace(<old_string>, <new_string>)\n",
    "print(\"foo\".replace(\"o\", \"a\"))\n",
    "print(\"jimmy\".replace(\"imm\", \"ell\"))"
   ]
  },
  {
   "cell_type": "markdown",
   "metadata": {},
   "source": [
    "The **replace** method replaces all occurrences of the first argument in the string with the second argument."
   ]
  },
  {
   "cell_type": "markdown",
   "metadata": {},
   "source": [
    "##### strip method"
   ]
  },
  {
   "cell_type": "code",
   "execution_count": null,
   "metadata": {},
   "outputs": [],
   "source": [
    "# strip format\n",
    "# <string>.strip()\n",
    "print(\"   foo    \".strip())\n",
    "print(\"bar     \".strip())"
   ]
  },
  {
   "cell_type": "markdown",
   "metadata": {},
   "source": [
    "The **strip** method removes whitespace (spaces, tabs, or newlines) on the left and right side of the string."
   ]
  },
  {
   "cell_type": "markdown",
   "metadata": {},
   "source": [
    "##### join method"
   ]
  },
  {
   "cell_type": "code",
   "execution_count": null,
   "metadata": {
    "id": "UgraKahBGruG"
   },
   "outputs": [],
   "source": [
    "# join format\n",
    "# <string>.join(<list_of_strings>)\n",
    "print(\", \".join([\"Bob\", \"Jim\", \"Sally\"]))"
   ]
  },
  {
   "cell_type": "markdown",
   "metadata": {
    "id": "Tv5oT18SGxkr"
   },
   "source": [
    "The **join** method joins together a list of strings with the **delimiter** string separating each item in the list. The delimiter in this case is the string we're calling the function on, \", \"."
   ]
  },
  {
   "cell_type": "markdown",
   "metadata": {},
   "source": [
    "##### split method"
   ]
  },
  {
   "cell_type": "code",
   "execution_count": null,
   "metadata": {
    "id": "uu-rzt88HrCL"
   },
   "outputs": [],
   "source": [
    "# split format\n",
    "# <string>.split(<delimiter>)\n",
    "print(\"let's break it up\".split())\n",
    "print(\"mississipi\".split(\"ss\"))"
   ]
  },
  {
   "cell_type": "markdown",
   "metadata": {
    "id": "cMn83dATHuBm"
   },
   "source": [
    "The **split** method breaks up a string into a list of strings depending on the delimiter passed in as an argument, in this case \"ss\". If no delimiter is passed in, then the split function will split on whitespace."
   ]
  },
  {
   "cell_type": "markdown",
   "metadata": {},
   "source": [
    "##### str.maketrans and translate methods"
   ]
  },
  {
   "cell_type": "code",
   "execution_count": 12,
   "metadata": {},
   "outputs": [
    {
     "name": "stdout",
     "output_type": "stream",
     "text": [
      "xyzd\n",
      "@nte@ter$\n"
     ]
    }
   ],
   "source": [
    "# maketrans format\n",
    "# str.maketrans(<old>, <new>)\n",
    "\n",
    "# translate format\n",
    "# <string>.translate(<table>)\n",
    "\n",
    "table = str.maketrans(\"abc\", \"xyz\")\n",
    "print(\"abcd\".translate(table))\n",
    "\n",
    "cipher = str.maketrans(\"as\", \"@$\")\n",
    "print(\"anteaters\".translate(cipher))"
   ]
  },
  {
   "cell_type": "markdown",
   "metadata": {},
   "source": [
    "The **str.maketrans** function takes 2 arguments and makes a translation table that maps the characters of the first argument to the characters of the second. The **translate** method of the string class uses the translation table to replace characters as specified by the table."
   ]
  },
  {
   "cell_type": "markdown",
   "metadata": {},
   "source": [
    "##### format method"
   ]
  },
  {
   "cell_type": "code",
   "execution_count": 15,
   "metadata": {
    "colab": {
     "base_uri": "https://localhost:8080/"
    },
    "id": "t7UyM525KYXg",
    "outputId": "b11e49bc-92ad-4727-bb60-1790ad8755d1"
   },
   "outputs": [
    {
     "name": "stdout",
     "output_type": "stream",
     "text": [
      "Bob likes to eat 3 cheetos, good job Bob\n",
      "That will be $0.33\n",
      "To 5 decimal places: $0.33333\n",
      "The broccoli costs $0.33\n",
      "$3333.33\n"
     ]
    }
   ],
   "source": [
    "# format format\n",
    "# <string>.format(arg1, arg2...)\n",
    "print(\"{0} likes to eat {1} {2}, good job {0}\".format(\"Bob\", 3, \"cheetos\"))"
   ]
  },
  {
   "cell_type": "markdown",
   "metadata": {
    "id": "g6Ed2kPDKi_h"
   },
   "source": [
    "The **format** method embeds values into a string. The number in the curly braces (**{ }**) is the index of the argument to use. "
   ]
  },
  {
   "cell_type": "markdown",
   "metadata": {},
   "source": [
    "We can also use the format method to format how many decimal places our floats have or add padding:"
   ]
  },
  {
   "cell_type": "code",
   "execution_count": 29,
   "metadata": {},
   "outputs": [
    {
     "name": "stdout",
     "output_type": "stream",
     "text": [
      "That will be $1.33\n",
      "To 5 decimal places: $1.33333\n",
      "The broccoli costs $0.67\n",
      "4 characters wide: (0.33)\n",
      "5 characters wide: ( 0.33)\n",
      "6 characters wide: (  0.33)\n"
     ]
    }
   ],
   "source": [
    "# decimal format\n",
    "# {<index>:.<#_decimal_places>f}\n",
    "print(\"That will be ${0:.2f}\".format(4 / 3))\n",
    "print(\"To 5 decimal places: ${0:.5f}\".format(4 / 3))\n",
    "# rounds to 2 decimal places\n",
    "print(\"The {0} costs ${1:.2f}\".format(\"broccoli\", 2 / 3))\n",
    "\n",
    "# padding format\n",
    "# {<index>:{desired_width}.<#_decimal_places>f}\n",
    "print(\"4 characters wide: ({:4.2f})\".format(1 / 3))\n",
    "print(\"5 characters wide: ({:5.2f})\".format(1 / 3))\n",
    "print(\"6 characters wide: ({:6.2f})\".format(1 / 3))"
   ]
  },
  {
   "cell_type": "markdown",
   "metadata": {},
   "source": [
    "#### f-strings"
   ]
  },
  {
   "cell_type": "markdown",
   "metadata": {},
   "source": [
    "**F-strings** (formatted strings) are an alternative to the format function that makes it a lot simpler:"
   ]
  },
  {
   "cell_type": "code",
   "execution_count": 35,
   "metadata": {},
   "outputs": [
    {
     "name": "stdout",
     "output_type": "stream",
     "text": [
      "x is 5, 1 + 5 is 6\n"
     ]
    }
   ],
   "source": [
    "x = 3 + 2\n",
    "print(f\"x is {x}, 1 + 5 is {1 + 5}\")"
   ]
  },
  {
   "cell_type": "markdown",
   "metadata": {},
   "source": [
    "If you include the letter f before a string, it converts it into an f-string. Whatever you include between curly braces ({}) in an f-string gets replaced with the evaluated expression."
   ]
  },
  {
   "cell_type": "markdown",
   "metadata": {},
   "source": [
    "We can even format to a certain number of decimal places/padding:"
   ]
  },
  {
   "cell_type": "code",
   "execution_count": 40,
   "metadata": {},
   "outputs": [
    {
     "name": "stdout",
     "output_type": "stream",
     "text": [
      "That will be $0.33\n"
     ]
    }
   ],
   "source": [
    "print(f\"That will be ${1 / 3:.2f}\") # the same as .format()"
   ]
  },
  {
   "cell_type": "markdown",
   "metadata": {},
   "source": [
    "**WARNING** In ICS 31, you mainly use .format instead of f-strings, because .format is more versatile (even if it's uglier)."
   ]
  },
  {
   "cell_type": "markdown",
   "metadata": {},
   "source": [
    "You may come across this problem when embedding with f-strings:"
   ]
  },
  {
   "cell_type": "code",
   "execution_count": null,
   "metadata": {},
   "outputs": [],
   "source": [
    "text = f\"my favorite word is {\"cheeseburger\"}\""
   ]
  },
  {
   "cell_type": "markdown",
   "metadata": {},
   "source": [
    "The problem is that Python doesn't know which quotation marks to use to end the string vs start embedding an inner string. We can fix this by using single quotation marks for f-strings when we need to:"
   ]
  },
  {
   "cell_type": "code",
   "execution_count": null,
   "metadata": {},
   "outputs": [],
   "source": [
    "text = f'my favorite word is {\"cheeseburger\"}'"
   ]
  },
  {
   "cell_type": "markdown",
   "metadata": {},
   "source": [
    "##### String Predicates"
   ]
  },
  {
   "cell_type": "code",
   "execution_count": 6,
   "metadata": {},
   "outputs": [
    {
     "name": "stdout",
     "output_type": "stream",
     "text": [
      "True\n",
      "True\n",
      "True\n",
      "True\n",
      "True\n",
      "True\n"
     ]
    }
   ],
   "source": [
    "print(\"123UPPER\".isupper()) # checks if letters are uppercase\n",
    "print(\"asdfasdf109\".islower()) # checks if letters are lowercase\n",
    "print(\"foobar\".startswith(\"foo\")) # checks if string starts with \"foo\"\n",
    "print(\"foobar\".endswith(\"bar\")) # checks if string ends with \"bar\"\n",
    "print(\"foo\".isalpha()) # checks if string contains only letters\n",
    "print(\"123\".isnumeric()) # checks if string contains only numbers"
   ]
  },
  {
   "cell_type": "markdown",
   "metadata": {},
   "source": [
    "Predicates are functions that return either True or False, like the ones above. They're pretty self explanatory."
   ]
  },
  {
   "cell_type": "markdown",
   "metadata": {},
   "source": [
    "The **isnumeric** method is especially important because we can use it to check if a number can be convert to an integer:"
   ]
  },
  {
   "cell_type": "code",
   "execution_count": 28,
   "metadata": {},
   "outputs": [
    {
     "name": "stdout",
     "output_type": "stream",
     "text": [
      "he's safe\n",
      "123\n"
     ]
    }
   ],
   "source": [
    "potentially_possibly_may_perhaps_be_imposter = \"123\"\n",
    "if potentially_possibly_may_perhaps_be_imposter.isnumeric():\n",
    "    print(\"he's safe\")\n",
    "    print(int(potentially_possibly_may_perhaps_be_imposter))\n",
    "else:\n",
    "    print(\"imposter!\")"
   ]
  },
  {
   "cell_type": "markdown",
   "metadata": {},
   "source": [
    "If you want more clarification or to see the full list of string methods, visit the official documentation page: https://docs.python.org/3/library/stdtypes.html#string-methods"
   ]
  },
  {
   "cell_type": "markdown",
   "metadata": {
    "tags": []
   },
   "source": [
    "#### Summary"
   ]
  },
  {
   "cell_type": "markdown",
   "metadata": {},
   "source": [
    "In this lesson, we learned about strings methods. Here's a summary:\n",
    "\n",
    "| Usage | Description |\n",
    "| --- | --- |\n",
    "| string.upper() | returns a copy that is uppercase |\n",
    "| string.lower() | returns a copy that is lowercase |\n",
    "| string.replace(old, new) | returns a copy with occurrences of old replaced with new |\n",
    "| string.strip() | returns a copy with whitespace on the ends removed |\n",
    "| delimiter.join(list_of_strings) | joins together a list of strings with the delimiter between |\n",
    "| string.split() | splits the string on whitespace into a list of strings |\n",
    "| string.split(delimiter) | splits the string on the delimiter string |\n",
    "| str.maketrans(old, new) | creates a table that maps character in the old string to the new string |\n",
    "| string.translate(table) | uses a table made with str.maketrans to translate charaters in a string |\n",
    "| string.format(arg1, arg2) | formats a given string by replacing indexes in curly braces with argument values |\n",
    "| f\"{expression}\" | f-string |\n",
    "| string.isupper() | returns if a string is uppercase |\n",
    "| string.islower() | returns if a string is lowercase |\n",
    "| string.startswith(prefix) | returns if string starts with prefix |\n",
    "| string.endswith(suffix) | returns if string ends with suffix |\n",
    "| string.isalpha() | returns if string has only letters |\n",
    "| string.isnumeric() | returns if string has only numbers |"
   ]
  },
  {
   "cell_type": "markdown",
   "metadata": {},
   "source": [
    "Now let's practice!"
   ]
  },
  {
   "cell_type": "markdown",
   "metadata": {},
   "source": [
    "#### Practice Problems"
   ]
  },
  {
   "cell_type": "markdown",
   "metadata": {},
   "source": [
    "1. Write the following function:"
   ]
  },
  {
   "cell_type": "code",
   "execution_count": null,
   "metadata": {},
   "outputs": [],
   "source": [
    "def tokenizer(string: str) -> list:\n",
    "    \"\"\"\n",
    "    Given a string containing letters, spaces, and commas,\n",
    "    return a list of tokens (words).\n",
    "    Ex.\n",
    "    \"the quick  brown  fox\" -> [\"the\", \"quick\", \"brown\", \"fox\"]\n",
    "    \"foo,bar   cat  dog\" -> [\"foo\", \"bar\", \"cat\", \"dog\"]\n",
    "    \"dog,  and, cat\" -> [\"dog\", \"and\", \"cat\"]\n",
    "    \"\"\"\n",
    "    pass\n",
    "\n",
    "print(tokenizer(\"the quick  brown  fox\") == [\"the\", \"quick\", \"brown\", \"fox\"])\n",
    "print(tokenizer(\"foo,bar   cat  dog\") == [\"foo\", \"bar\", \"cat\", \"dog\"])\n",
    "print(tokenizer(\"dog,  and, cat\") == [\"dog\", \"and\", \"cat\"])"
   ]
  },
  {
   "cell_type": "markdown",
   "metadata": {},
   "source": [
    "2. Write the following function:"
   ]
  },
  {
   "cell_type": "code",
   "execution_count": null,
   "metadata": {},
   "outputs": [],
   "source": [
    "def print_receipt_table(items: list, costs: list) -> str:\n",
    "    \"\"\"\n",
    "    Given a list of 3 items and costs, return a table of the\n",
    "    prices, items, and totals.\n",
    "    Prices should have 2 decimal points and be aligned to 8\n",
    "    digits long.\n",
    "    Ex.\n",
    "    [\"cheese\", \"bread\", \"milk\"], [1.99, 23.59, 1111.11]\n",
    "        1.99 cheese \n",
    "       23.59 bread\n",
    "     1111.11 milk\n",
    "       total\n",
    "     1136.69\n",
    "    \n",
    "    [\"foo\", \"bar\", \"baz\"], [45.6799, 90.12312, 124.12]\n",
    "       45.68 foo \n",
    "       90.12 bar\n",
    "      124.12 baz\n",
    "       total\n",
    "      259.92\n",
    "    \"\"\"\n",
    "    pass\n",
    "print(print_receipt_table([\"cheese\", \"bread\", \"milk\"], [1.99, 23.59, 1111.11]) == \"    1.99 cheese\\n   23.59 bread\\n 1111.11 milk\\n   total\\n 1136.69\\n\")\n",
    "print(print_receipt_table([\"foo\", \"bar\", \"baz\"], [45.6799, 90.12312, 124.12]) == \"   45.67 foo\\n   90.12 bar\\n  124.12 baz\\n   total\\n  259.92\\n\")"
   ]
  },
  {
   "cell_type": "markdown",
   "metadata": {},
   "source": [
    "3. Write the following functions:"
   ]
  },
  {
   "cell_type": "code",
   "execution_count": null,
   "metadata": {},
   "outputs": [],
   "source": [
    "def is_imposter(player_name: str): -> bool:\n",
    "    \"\"\"\n",
    "    If a player's name starts with or ends with \"sus\" (case\n",
    "    insensitive), return True. Otherwise, return False.\n",
    "    Ex.\n",
    "    Susan -> True\n",
    "    Jim -> False\n",
    "    TaRsUs -> True\n",
    "    \"\"\"\n",
    "    pass\n",
    "\n",
    "def amogus(players: list) -> str:\n",
    "    \"\"\"\n",
    "    Given 3, 4, or 5 player names, return a string representing \n",
    "    who's an imposter.\n",
    "    If a player is suspicious, replace their name with \"Imposter\".\n",
    "    Use the function you wrote above to simplify your code.\n",
    "    HINT: You can modify the players list.\n",
    "    Ex.\n",
    "    [\"Bob\", \"Susan\", \"Jim\"] -> \"Bob, Imposter, Jim, Bill\"\n",
    "    [\"fred\", \"sussy\", \"bill\", \"dionysus\"] -> \"fred, Imposter, bill, Imposter\"\n",
    "    [\"PEGASUS\", \"NARCISSUS\", \"SUZY\", \"ZEUS\", \"TARSUS\"] -> \"Imposter, Imposter, SUZY, ZEUS, Imposter\"\n",
    "    \"\"\"\n",
    "    pass\n",
    "print(amogus([\"Bob\", \"Susan\", \"Jim\"]) == \"Bob, Imposter, Jim, Bill\")\n",
    "print(amogus([\"fred\", \"sussy\", \"bill\", \"dionysus\"]) == \"fred, Imposter, bill, Imposter\")\n",
    "print(amogus([\"PEGASUS\", \"NARCISSUS\", \"SUZY\", \"ZEUS\", \"TARSUS\"]) == \"Imposter, Imposter, SUZY, ZEUS, Imposter\")"
   ]
  },
  {
   "cell_type": "markdown",
   "metadata": {},
   "source": [
    "### Module 2.3 Loops"
   ]
  },
  {
   "cell_type": "markdown",
   "metadata": {},
   "source": [
    "#### For Loop"
   ]
  },
  {
   "cell_type": "markdown",
   "metadata": {},
   "source": [
    "The **for** loop repeats a block of code for each item in an iterable. Examples of iterables are lists, tuples, and strings (we'll get to more later)."
   ]
  },
  {
   "cell_type": "code",
   "execution_count": null,
   "metadata": {},
   "outputs": [],
   "source": [
    "# for <variable> in <list>:\n",
    "#     <code>\n",
    "\n",
    "for item in [1, 2, 3]:\n",
    "    print(item)\n",
    "\n",
    "for letter in \"abcde\":\n",
    "    print(letter)\n",
    "\n",
    "for epic_number in (123, 456, 789):\n",
    "    print(epic_number + 10)"
   ]
  },
  {
   "cell_type": "markdown",
   "metadata": {},
   "source": [
    "How Python breaks the for loop up is as follows"
   ]
  },
  {
   "cell_type": "code",
   "execution_count": null,
   "metadata": {},
   "outputs": [],
   "source": [
    "for item in [1, 2, 3]:\n",
    "    print(item)\n",
    "\n",
    "# is equivalent to:\n",
    "\n",
    "item = 1\n",
    "print(item)\n",
    "\n",
    "item = 2\n",
    "print(item)\n",
    "\n",
    "item = 3\n",
    "print(item)"
   ]
  },
  {
   "cell_type": "markdown",
   "metadata": {},
   "source": [
    "The variable \"item\" gets re-assigned to each value inside of the iterable, and then the code block repeats for each of those values."
   ]
  },
  {
   "cell_type": "markdown",
   "metadata": {},
   "source": [
    "Usually when you're looping, you're doing 1 of 4 things:\n",
    "\n",
    "*   Performing an action for every item in an iterable\n",
    "*   Accumulating a value for every item in an iterable\n",
    "*   Creating a new iterable based on an iterable\n",
    "*   Modifying every value of an iterable"
   ]
  },
  {
   "cell_type": "markdown",
   "metadata": {},
   "source": [
    "#### Iteration Pattern"
   ]
  },
  {
   "cell_type": "markdown",
   "metadata": {},
   "source": [
    "Let's look at the first looping pattern, the **iteration pattern**:"
   ]
  },
  {
   "cell_type": "code",
   "execution_count": null,
   "metadata": {},
   "outputs": [],
   "source": [
    "# iteration pattern\n",
    "# for <item> in <list>:\n",
    "#     <code>\n",
    "\n",
    "# print all the items in a list\n",
    "shopping_list = [\"milk\", \"eggs\", \"bread\", \"chips\"]\n",
    "for item in shopping_list:\n",
    "    print(\"Buy \" + item) # e.g. Buy milk\n",
    "\n",
    "# print only even numbers\n",
    "jumble_of_numbers = [1, 2, 1, 3, 4, 5]\n",
    "for number in jumble_of_numbers:\n",
    "    if number % 2 == 0: # if number is even\n",
    "        print(number)\n",
    "    # if number is odd, don't print it"
   ]
  },
  {
   "cell_type": "markdown",
   "metadata": {},
   "source": [
    "Now you try:"
   ]
  },
  {
   "cell_type": "code",
   "execution_count": null,
   "metadata": {},
   "outputs": [],
   "source": [
    "maybe_upper = [\"asd\", \"UASD\", \"foo\", \"UsUa\"]\n",
    "# for each item in the list, if it's all uppercase, print it\n",
    "for word in maybe_upper:\n",
    "    pass # replace this line!\n",
    "\n",
    "maybe_negative = [1, 2, 3, -1, -2, -3]\n",
    "# for each item, if it's negative, print the word DOWN\n",
    "# otherwise, print the word UP\n",
    "for number in maybe_negative:\n",
    "    pass # replace this line!"
   ]
  },
  {
   "cell_type": "markdown",
   "metadata": {},
   "source": [
    "#### **Coding Activity 1**"
   ]
  },
  {
   "cell_type": "code",
   "execution_count": null,
   "metadata": {},
   "outputs": [],
   "source": [
    "# Write the following function\n",
    "def print_odds(nums: list):\n",
    "    \"\"\"\n",
    "    Print all the odd numbers in nums\n",
    "    Ex.\n",
    "    [0, 1, 3, 4, 5] -> \n",
    "    1\n",
    "    3\n",
    "    5\n",
    "    \"\"\"\n",
    "    pass\n",
    "print_odds([0, 1, 3, 4, 5])"
   ]
  },
  {
   "cell_type": "markdown",
   "metadata": {},
   "source": [
    "#### Accumulator Pattern"
   ]
  },
  {
   "cell_type": "markdown",
   "metadata": {},
   "source": [
    "The next pattern is the **accumulator pattern**:"
   ]
  },
  {
   "cell_type": "code",
   "execution_count": null,
   "metadata": {},
   "outputs": [],
   "source": [
    "# accumulator pattern\n",
    "# <accumulator> = <initial_value>\n",
    "# for <item> in <list>:\n",
    "#     <code> \n",
    "#     <modify accumulator with item>\n",
    "\n",
    "total = 0\n",
    "for item in (1, 2, 3, 4, 5):\n",
    "    total += item\n",
    "print(total)\n",
    "\n",
    "counter = 0\n",
    "for name in [\"Bob\", \"Jim\", \"Sally\"]:\n",
    "    counter += 1\n",
    "print(counter)"
   ]
  },
  {
   "cell_type": "markdown",
   "metadata": {},
   "source": [
    "The accumulator pattern accumulates in a variable defined outside of the for loop (such as \"total\" or \"names\" above) using each value inside of the iterable."
   ]
  },
  {
   "cell_type": "markdown",
   "metadata": {},
   "source": [
    "Remember that looping patterns aren't mutually exclusive, you can mix and match them:"
   ]
  },
  {
   "cell_type": "code",
   "execution_count": null,
   "metadata": {},
   "outputs": [],
   "source": [
    "sum_of_even_numbers = 0\n",
    "for num in (1, 2, 3, 4, 5):\n",
    "    if num % 2 == 0:\n",
    "        sum_of_even_numbers += num\n",
    "    else:\n",
    "        print(num)\n",
    "    print(\"Current sum: {0}\".format(sum_of_even_numbers))"
   ]
  },
  {
   "cell_type": "markdown",
   "metadata": {},
   "source": [
    "#### **Coding Activity 2**"
   ]
  },
  {
   "cell_type": "code",
   "execution_count": null,
   "metadata": {},
   "outputs": [],
   "source": [
    "# Write the following function\n",
    "def product(num_list: list) -> int:\n",
    "    \"\"\"\n",
    "    Multiply the values of num_list together. If num_list is\n",
    "    empty, return 0.\n",
    "    Ex.\n",
    "    product([2, 3, 5]) -> 30\n",
    "    product([]) -> 0\n",
    "    product([5]) -> 5\n",
    "    product([9, 2]) -> 18\n",
    "    \"\"\"\n",
    "    pass\n",
    "\n",
    "print(product([2, 3, 5]) -> 30)\n",
    "print(product([]) -> 0)\n",
    "print(product([5]) -> 5)\n",
    "print(product([9, 2]) -> 18)"
   ]
  },
  {
   "cell_type": "markdown",
   "metadata": {},
   "source": [
    "#### Filter Pattern"
   ]
  },
  {
   "cell_type": "markdown",
   "metadata": {},
   "source": [
    "The third pattern, which is similar to the accumulator pattern, the **filter pattern**:"
   ]
  },
  {
   "cell_type": "code",
   "execution_count": 30,
   "metadata": {},
   "outputs": [
    {
     "name": "stdout",
     "output_type": "stream",
     "text": [
      "[2123, 51231]\n",
      "['Bob', 'Bill']\n"
     ]
    }
   ],
   "source": [
    "# filter pattern\n",
    "# <new_list> = []\n",
    "# for <item> in <list>:\n",
    "#     if <condition>: \n",
    "#      <new_list>.append(<item>)\n",
    "\n",
    "old_numbers = [1, 2123, 34, 4, 51231]\n",
    "new_numbers = []\n",
    "for num in old_numbers:\n",
    "    if num > 100:\n",
    "        new_numbers.append(num)\n",
    "print(new_numbers)\n",
    "\n",
    "names = (\"Bob\", \"Jim\", \"Sally\", \"Bill\")\n",
    "b_names = []\n",
    "for name in names:\n",
    "    if name.startswith(\"b\") or name.startswith(\"B\"):\n",
    "        b_names.append(name)\n",
    "print(b_names)"
   ]
  },
  {
   "cell_type": "markdown",
   "metadata": {},
   "source": [
    "The filter pattern creates a new list based on an old list, filtering out items based on a certain condition."
   ]
  },
  {
   "cell_type": "markdown",
   "metadata": {},
   "source": [
    "#### **Coding Activity 3**"
   ]
  },
  {
   "cell_type": "code",
   "execution_count": 31,
   "metadata": {},
   "outputs": [],
   "source": [
    "# Write the following function\n",
    "def filter_upper(string_list: list) -> list:\n",
    "    \"\"\"\n",
    "    Return a new list with only uppercase strings from \n",
    "    string_list. Strings are uppercase if all letters in the \n",
    "    string are uppercase.\n",
    "    Ex.\n",
    "    filter_upper([\"foo\", \"BAR\", \"fOoBaR\"]) == [\"BAR\"]\n",
    "    filter_upper([\"abc123\", \"DEF456\", \"GhI789\"]) == [\"DEF456\"]\n",
    "    \"\"\"\n",
    "    pass\n",
    "print(filter_upper([\"foo\", \"BAR\", \"fOoBaR\"]) == [\"BAR\"])\n",
    "print(filter_upper([\"abc123\", \"DEF456\", \"GhI789\"]) == [\"DEF456\"])\n"
   ]
  },
  {
   "cell_type": "markdown",
   "metadata": {},
   "source": [
    "#### The **range** Iterable"
   ]
  },
  {
   "cell_type": "markdown",
   "metadata": {},
   "source": [
    "Before we get to the last pattern, we have to learn about a new iterable, the **range** iterable:"
   ]
  },
  {
   "cell_type": "code",
   "execution_count": null,
   "metadata": {},
   "outputs": [],
   "source": [
    "# range pattern\n",
    "# for <num> in range(<max>):\n",
    "#     <code block>\n",
    "for num in range(10):\n",
    "    print(num)"
   ]
  },
  {
   "cell_type": "markdown",
   "metadata": {},
   "source": [
    "The **range** iterable takes in an integer as an argument, and returns an iterable of the integers from 0 to just under the integer argument. Notice, if we pass in the length of a list, we get the indexes of that list:"
   ]
  },
  {
   "cell_type": "code",
   "execution_count": null,
   "metadata": {},
   "outputs": [],
   "source": [
    "my_list = [1, 2, 3, 4, 5]\n",
    "for index in range(len(my_list)):\n",
    "    print(index)\n",
    "\n",
    "# we can use those indexes to retrieve the values of the list\n",
    "for index in range(len(my_list)):\n",
    "    print(my_list[index])"
   ]
  },
  {
   "cell_type": "markdown",
   "metadata": {},
   "source": [
    "You can also choose what value you want range to start with:"
   ]
  },
  {
   "cell_type": "code",
   "execution_count": null,
   "metadata": {},
   "outputs": [],
   "source": [
    "for i in range(2, 10):\n",
    "    print(i)"
   ]
  },
  {
   "cell_type": "markdown",
   "metadata": {},
   "source": [
    "#### Two List Iteration"
   ]
  },
  {
   "cell_type": "markdown",
   "metadata": {},
   "source": [
    "We can also use **range** to loop through two or more lists of the same length at once:"
   ]
  },
  {
   "cell_type": "code",
   "execution_count": null,
   "metadata": {},
   "outputs": [],
   "source": [
    "list1 = [\"foo\", \"bar\", \"baz\"]\n",
    "list2 = [1, 2, 3]\n",
    "# this might not work if they're not the same length\n",
    "for i in range(len(list1)):\n",
    "    print(list1[i])\n",
    "    print(list2[i])"
   ]
  },
  {
   "cell_type": "markdown",
   "metadata": {},
   "source": [
    "#### Modification Pattern"
   ]
  },
  {
   "cell_type": "markdown",
   "metadata": {},
   "source": [
    "Now, let's look at the modification pattern:"
   ]
  },
  {
   "cell_type": "code",
   "execution_count": null,
   "metadata": {},
   "outputs": [],
   "source": [
    "# modification pattern\n",
    "# for <index> in range(len(<list>)):\n",
    "#    <list>[<index>] = <value>\n",
    "\n",
    "num_list = [1, 2, 3]\n",
    "for i in range(len(num_list)):\n",
    "    num_list[i] = num_list[i] + 2\n",
    "print(num_list)"
   ]
  },
  {
   "cell_type": "markdown",
   "metadata": {},
   "source": [
    "We loop through each index of the list, and then use index assignment to modify each item. You might have tried something like this:"
   ]
  },
  {
   "cell_type": "code",
   "execution_count": null,
   "metadata": {},
   "outputs": [],
   "source": [
    "num_list = [1, 2, 3]\n",
    "for item in num_list:\n",
    "    item = item + 2\n",
    "print(num_list)"
   ]
  },
  {
   "cell_type": "markdown",
   "metadata": {},
   "source": [
    "The problem with the code above is that the for loop assigns a new variable, \"item\", to each element in the list. That means that when we assign a new value, we're assigning it to item instead of the value inside the list."
   ]
  },
  {
   "cell_type": "markdown",
   "metadata": {},
   "source": [
    "#### **Coding Activity 4**"
   ]
  },
  {
   "cell_type": "code",
   "execution_count": null,
   "metadata": {},
   "outputs": [],
   "source": [
    "# Write the following function\n",
    "def square_nums(num_list: list):\n",
    "    \"\"\"\n",
    "    Modify each item in num_list to be the square of its value.\n",
    "    Ex.\n",
    "    [1, 2, 3] -> [1, 4, 9]\n",
    "    [2, 4, 8] -> [4, 16, 64]\n",
    "    \"\"\"\n",
    "    pass\n",
    "\n",
    "num_list = [1, 2, 3]\n",
    "square_nums(num_list)\n",
    "print(num_list == [1, 4, 9])\n",
    "\n",
    "num_list = [2, 4, 8]\n",
    "square_nums(num_list)\n",
    "print(num_list == [4, 16, 64])"
   ]
  },
  {
   "cell_type": "markdown",
   "metadata": {},
   "source": [
    "The last pattern is the **modification pattern** (I made up that name btw), which uses the range iterable:"
   ]
  },
  {
   "cell_type": "code",
   "execution_count": null,
   "metadata": {},
   "outputs": [],
   "source": [
    "# modification pattern\n",
    "# for <index> in range(len(<list)):\n",
    "#     <code>\n",
    "#     <list>[<index>] = <new_value>\n",
    "numbers = [1, 2, 3]\n",
    "for index in range(len(numbers)):\n",
    "    # increase each number by 2, and then store back into the list\n",
    "    numbers[index] = numbers[index] + 2 \n",
    "print(numbers)"
   ]
  },
  {
   "cell_type": "markdown",
   "metadata": {},
   "source": [
    "Why can't we just do this?"
   ]
  },
  {
   "cell_type": "code",
   "execution_count": null,
   "metadata": {},
   "outputs": [],
   "source": [
    "numbers = [1, 2, 3]\n",
    "for num in numbers:\n",
    "    num = num + 2\n",
    "print(numbers)"
   ]
  },
  {
   "cell_type": "markdown",
   "metadata": {},
   "source": [
    "#### While Loop"
   ]
  },
  {
   "cell_type": "markdown",
   "metadata": {},
   "source": [
    "The other loop in Python is the **while** loop:"
   ]
  },
  {
   "cell_type": "code",
   "execution_count": null,
   "metadata": {},
   "outputs": [],
   "source": [
    "# while loop format\n",
    "# while <condition>:\n",
    "#    <block>\n",
    "\n",
    "counter = 0\n",
    "while counter < 10:\n",
    "    print(counter)\n",
    "    counter += 1"
   ]
  },
  {
   "cell_type": "markdown",
   "metadata": {},
   "source": [
    "The while loop repeats a block of code as long as a condition evaluates to True. The while loop will check the condition each time before running the block of code again."
   ]
  },
  {
   "cell_type": "markdown",
   "metadata": {},
   "source": [
    "A poorly written while loop will repeat forever:"
   ]
  },
  {
   "cell_type": "code",
   "execution_count": null,
   "metadata": {},
   "outputs": [],
   "source": [
    "counter = 0\n",
    "while counter < 10:\n",
    "    print(counter)\n",
    "    # forgot to increment counter!"
   ]
  },
  {
   "cell_type": "markdown",
   "metadata": {},
   "source": [
    "#### Loop Control"
   ]
  },
  {
   "cell_type": "markdown",
   "metadata": {},
   "source": [
    "There are more things we can do with loops, such as the **break** statement:"
   ]
  },
  {
   "cell_type": "code",
   "execution_count": null,
   "metadata": {},
   "outputs": [],
   "source": [
    "for i in range(10):\n",
    "    if i == 5:\n",
    "        break\n",
    "    print(i)"
   ]
  },
  {
   "cell_type": "markdown",
   "metadata": {},
   "source": [
    "The break statement will immediately exit the loop, even if we haven't finished looping through all the variables yet. This works in while loops too:"
   ]
  },
  {
   "cell_type": "code",
   "execution_count": null,
   "metadata": {},
   "outputs": [],
   "source": [
    "i = 0\n",
    "while i < 10:\n",
    "    if i == 5:\n",
    "        break\n",
    "    print(i)\n",
    "    i += 1"
   ]
  },
  {
   "cell_type": "markdown",
   "metadata": {},
   "source": [
    "What if you want to only skip 1 iteration instead of all of them? That's what the **continue** statement is for:"
   ]
  },
  {
   "cell_type": "code",
   "execution_count": null,
   "metadata": {},
   "outputs": [],
   "source": [
    "for i in range(10):\n",
    "    if i == 5:\n",
    "        continue\n",
    "    print(i)\n",
    "\n",
    "j = 0\n",
    "while j < 10:\n",
    "    if j == 5:\n",
    "        continue \n",
    "    print(j)\n",
    "    j += 1"
   ]
  },
  {
   "cell_type": "markdown",
   "metadata": {},
   "source": [
    "The continue statement will immediately jump to the next item/iteration in the loop, skipping any code under it."
   ]
  },
  {
   "cell_type": "markdown",
   "metadata": {},
   "source": [
    "#### **Coding Activity 5**"
   ]
  },
  {
   "cell_type": "code",
   "execution_count": null,
   "metadata": {},
   "outputs": [],
   "source": [
    "# Write the following function\n",
    "def square_first_integer(num_list: list):\n",
    "    \"\"\"\n",
    "    Find the first integer in num_list. Modify it in the list so\n",
    "    that it's squared. If there is no integer, do nothing.\n",
    "    Ex.\n",
    "    [\"a\", \"b\", 5, \"c\", 2] -> [\"a\", \"b\", 25, \"c\", 2]\n",
    "    [2, 3, 4] -> [4, 3, 4]\n",
    "    \"\"\"\n",
    "    pass\n",
    "num_list = [\"a\", \"b\", 5, \"c\", 2]\n",
    "square_first_integer(num_list)\n",
    "print(num_list == [\"a\", \"b\", 25, \"c\", 2])\n",
    "\n",
    "num_list = [2, 3, 4]\n",
    "square_first_integer(num_list)\n",
    "print(num_list == [4, 3, 4])"
   ]
  },
  {
   "cell_type": "markdown",
   "metadata": {},
   "source": [
    "#### Nested Loops"
   ]
  },
  {
   "cell_type": "markdown",
   "metadata": {},
   "source": [
    "**Nested loops** are when you use loops inside of loops:"
   ]
  },
  {
   "cell_type": "code",
   "execution_count": null,
   "metadata": {},
   "outputs": [
    {
     "name": "stdout",
     "output_type": "stream",
     "text": [
      "foo 1\n",
      "foo 2\n",
      "foo 3\n",
      "bar 1\n",
      "bar 2\n",
      "bar 3\n",
      "baz 1\n",
      "baz 2\n",
      "baz 3\n"
     ]
    }
   ],
   "source": [
    "for word in (\"foo\", \"bar\", \"baz\"):\n",
    "    for number in (1, 2, 3):\n",
    "        print(word, number) # prints word and number with a space in between"
   ]
  },
  {
   "cell_type": "markdown",
   "metadata": {},
   "source": [
    "The code repeats for each item in the inner loop, and that code is repeated for each item in the outer loop."
   ]
  },
  {
   "cell_type": "markdown",
   "metadata": {},
   "source": [
    "This is useful if we want to loop through lists of lists:"
   ]
  },
  {
   "cell_type": "code",
   "execution_count": null,
   "metadata": {},
   "outputs": [],
   "source": [
    "battleship = [\n",
    "    [1, 1, 1, 0, 1],\n",
    "    [0, 0, 0, 0, 1],\n",
    "    [0, 0, 0, 0, 1],\n",
    "    [0, 1, 1, 0, 1],\n",
    "    [0, 0, 0, 0, 0],\n",
    "]\n",
    "num_ship_pieces = 0\n",
    "for row in battleship:\n",
    "    for col in row:\n",
    "        num_ship_pieces += 1\n",
    "print(num_ship_pieces)"
   ]
  },
  {
   "cell_type": "markdown",
   "metadata": {},
   "source": [
    "#### **Coding Activity 6**"
   ]
  },
  {
   "cell_type": "code",
   "execution_count": 34,
   "metadata": {},
   "outputs": [
    {
     "name": "stdout",
     "output_type": "stream",
     "text": [
      "False\n",
      "False\n",
      "False\n"
     ]
    }
   ],
   "source": [
    "def wackamole(holes: list) -> tuple:\n",
    "    \"\"\"\n",
    "    Return the row and column of the string \"mole\" in the 2-d\n",
    "    list argument, holes, in the form of a tuple. All of the \n",
    "    other items will be an empty string.\n",
    "    If holes does not contain the string, \"mole\", return the\n",
    "    tuple (-1, -1).\n",
    "    wackamole([\n",
    "        [\"\", \"\", \"\", \"\"],\n",
    "        [\"\", \"\", \"mole\", \"\"],\n",
    "        [\"\", \"\", \"\", \"\"],\n",
    "        [\"\", \"\", \"\", \"\"]\n",
    "        ]) == (1, 2)\n",
    "    wackamole([\n",
    "        [\"\", \"\", \"\", \"\"],\n",
    "        [\"\", \"\", \"\", \"\"],\n",
    "        [\"\", \"\", \"\", \"\"]\n",
    "        ]) == (-1, -1)\n",
    "    wackamole([\n",
    "        [\"\", \"\"],\n",
    "        [\"\", \"\"],\n",
    "        [\"\", \"mole\"]]) == (2, 1)\n",
    "    \"\"\"\n",
    "    pass\n",
    "print(wackamole([\n",
    "        [\"\", \"\", \"\", \"\"],\n",
    "        [\"\", \"\", \"mole\", \"\"],\n",
    "        [\"\", \"\", \"\", \"\"],\n",
    "        [\"\", \"\", \"\", \"\"]\n",
    "        ]) == (1, 2))\n",
    "print(wackamole([\n",
    "        [\"\", \"\", \"\", \"\"],\n",
    "        [\"\", \"\", \"\", \"\"],\n",
    "        [\"\", \"\", \"\", \"\"]\n",
    "        ]) == (-1, -1))\n",
    "print(wackamole([\n",
    "        [\"\", \"\"],\n",
    "        [\"\", \"\"],\n",
    "        [\"\", \"mole\"]]) == (2, 1))"
   ]
  },
  {
   "cell_type": "markdown",
   "metadata": {},
   "source": [
    "#### Summary"
   ]
  },
  {
   "cell_type": "markdown",
   "metadata": {},
   "source": [
    "In this lesson, we learned about the for loop, loop patterns, the while loop, loop control, and nested loops. Here is a summary of what we learned:\n",
    "\n",
    "| Usage | Description |\n",
    "| --- | --- |\n",
    "| for item in iterable: | for loop |\n",
    "| while condition: | while loop |\n",
    "| break | break statement |\n",
    "| continue | continue statement |\n"
   ]
  },
  {
   "cell_type": "markdown",
   "metadata": {},
   "source": [
    "Now let's practice!"
   ]
  },
  {
   "cell_type": "markdown",
   "metadata": {},
   "source": [
    "#### Practice Problems"
   ]
  },
  {
   "cell_type": "markdown",
   "metadata": {},
   "source": [
    "1. Write the following function:"
   ]
  },
  {
   "cell_type": "code",
   "execution_count": null,
   "metadata": {},
   "outputs": [],
   "source": [
    "def factorial(n: int) -> int:\n",
    "    \"\"\"\n",
    "    Calculate and return the factorial of n.\n",
    "    Assume n will be >= 0.\n",
    "    Ex.\n",
    "    factorial(0) == 1\n",
    "    factorial(1) == 1\n",
    "    factorial(3) == 6\n",
    "    factorial(5) == 120\n",
    "    \"\"\"\n",
    "    pass\n",
    "print(factorial(0) == 1)\n",
    "print(factorial(1) == 1)\n",
    "print(factorial(3) == 6)\n",
    "print(factorial(5) == 120)"
   ]
  },
  {
   "cell_type": "markdown",
   "metadata": {},
   "source": [
    "2. Write the following function:"
   ]
  },
  {
   "cell_type": "code",
   "execution_count": null,
   "metadata": {},
   "outputs": [],
   "source": [
    "def get_best_player(players: tuple, scores: tuple) -> str: \n",
    "    \"\"\"\n",
    "    Given a list of player names and their scores in a game,\n",
    "    return the name of the player that scored the highest.\n",
    "    If 2 players tied for highest, return the first player.\n",
    "    If there are no players, return \"\".\n",
    "    Ex.\n",
    "    get_best_player((\"Bob\", \"Jim\", \"Steve\"), (1, 5, 3)) == \"Jim\"\n",
    "    get_best_player((\"Bob\", \"Jim\", \"Steve\"), (5, 5, 3)) == \"Bob\"\n",
    "    get_best_player((), ()) == \"\"\n",
    "    get_best_player((\"Bob\"), (1)) == \"Bob\"\n",
    "    \"\"\"\n",
    "    pass\n",
    "\n",
    "print(get_best_player((\"Bob\", \"Jim\", \"Steve\"), (1, 5, 3)) == \"Jim\")\n",
    "print(get_best_player((\"Bob\", \"Jim\", \"Steve\"), (5, 5, 3)) == \"Bob\")\n",
    "print(get_best_player((), ()) == \"\")\n",
    "print(get_best_player((\"Bob\"), (1)) == \"Bob\")"
   ]
  },
  {
   "cell_type": "markdown",
   "metadata": {},
   "source": [
    "3. Write the following function:"
   ]
  },
  {
   "cell_type": "code",
   "execution_count": null,
   "metadata": {},
   "outputs": [],
   "source": [
    "def sum_digits(num: int) -> int:\n",
    "    \"\"\"\n",
    "    Return the sum of all of the digits in num.\n",
    "    Ex.\n",
    "    sum_digits(4214) == 11\n",
    "    sum_digits(0) == 0\n",
    "    sum_digits(23412) == 12\n",
    "    \"\"\"\n",
    "    pass\n",
    "print(sum_digits(4214) == 11)\n",
    "print(sum_digits(0) == 0)\n",
    "print(sum_digits(23412) == 12)"
   ]
  },
  {
   "cell_type": "markdown",
   "metadata": {},
   "source": [
    "4. Write the following function:"
   ]
  },
  {
   "cell_type": "code",
   "execution_count": null,
   "metadata": {},
   "outputs": [],
   "source": [
    "def is_prime_number(num: int) -> bool:\n",
    "    \"\"\"\n",
    "    Return True if num is a prime number, and False otherwise.\n",
    "    For a hint, look below the test cases:\n",
    "    Assume num will be greater than 1.\n",
    "    Ex.\n",
    "    is_prime_number(2) == True\n",
    "    is_prime_number(4) == False\n",
    "    is_prime_number(11) == True\n",
    "    is_prime_number(39) == False\n",
    "    is_prime_number(51) == False\n",
    "    is_prime_number(53) == True\n",
    "    \"\"\"\n",
    "    pass\n",
    "\n",
    "print(is_prime_number(2) == True)\n",
    "print(is_prime_number(4) == False)\n",
    "print(is_prime_number(11) == True)\n",
    "print(is_prime_number(39) == False)\n",
    "print(is_prime_number(51) == False)\n",
    "print(is_prime_number(53) == True)\n",
    "    \n",
    "    \n",
    "    \n",
    "    \n",
    "    \n",
    "    \n",
    "    \n",
    "    \n",
    "    \n",
    "    \n",
    "    \n",
    "    \n",
    "    \n",
    "    \n",
    "    \n",
    "    \n",
    "    \n",
    "    \n",
    "    \n",
    "    \n",
    "    \n",
    "# HINT: A number is a prime number if every postive number less than it is not a factor of it, except for 1"
   ]
  },
  {
   "cell_type": "markdown",
   "metadata": {},
   "source": [
    "5. Write the following function:"
   ]
  },
  {
   "cell_type": "code",
   "execution_count": null,
   "metadata": {},
   "outputs": [],
   "source": [
    "def is_strictly_increasing_order(nums: list) -> bool:\n",
    "    \"\"\"\n",
    "    Return True if all of the nums are in strictly increasing\n",
    "    order ([1, 1] is not strictly increasing), and False otherwise.\n",
    "    Ex.\n",
    "    is_strictly_increasing_order([1, 1]) == False\n",
    "    is_strictly_increasing_order([1, 2, 3]) == True\n",
    "    is_strictly_increasing_order([4, 2, 3, 4]) == False\n",
    "    \"\"\"\n",
    "    pass\n",
    "\n",
    "print(is_strictly_increasing_order([1, 1]) == False)\n",
    "print(is_strictly_increasing_order([1, 2, 3]) == True)\n",
    "print(is_strictly_increasing_order([4, 2, 3, 4]) == False)"
   ]
  }
 ],
 "metadata": {
  "interpreter": {
   "hash": "18db06d66b83781e741671a8bbd09812ebc032e21520231392754694b3895265"
  },
  "kernelspec": {
   "display_name": "Python 3 (ipykernel)",
   "language": "python",
   "name": "python3"
  },
  "language_info": {
   "codemirror_mode": {
    "name": "ipython",
    "version": 3
   },
   "file_extension": ".py",
   "mimetype": "text/x-python",
   "name": "python",
   "nbconvert_exporter": "python",
   "pygments_lexer": "ipython3",
   "version": "3.10.2"
  }
 },
 "nbformat": 4,
 "nbformat_minor": 4
}
