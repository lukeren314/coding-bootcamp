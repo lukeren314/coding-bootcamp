{
 "cells": [
  {
   "cell_type": "markdown",
   "metadata": {
    "id": "nstpHnnsHuDc"
   },
   "source": [
    "## Module 1"
   ]
  },
  {
   "cell_type": "markdown",
   "metadata": {
    "id": "1mwlSN_VMmUc"
   },
   "source": [
    "### Module 1.1: Data Types and Variables"
   ]
  },
  {
   "cell_type": "markdown",
   "metadata": {
    "id": "OqIyK_9J12ue"
   },
   "source": [
    "#### Arithmetic Operators"
   ]
  },
  {
   "cell_type": "markdown",
   "metadata": {
    "id": "MGdsxBN5mO10"
   },
   "source": [
    "Python, in its simplest form, is a glorified calculator."
   ]
  },
  {
   "cell_type": "code",
   "execution_count": 8,
   "metadata": {
    "id": "Cbol3MEQmMj4"
   },
   "outputs": [
    {
     "data": {
      "text/plain": [
       "7"
      ]
     },
     "execution_count": 8,
     "metadata": {},
     "output_type": "execute_result"
    }
   ],
   "source": [
    "2 + 5"
   ]
  },
  {
   "cell_type": "markdown",
   "metadata": {
    "id": "tso1EP29mWod"
   },
   "source": [
    "Try and run the code snippet above by hovering over it and clicking the arrow button. "
   ]
  },
  {
   "cell_type": "markdown",
   "metadata": {
    "id": "tntzQHdcmfDC"
   },
   "source": [
    "You can also do other operations too."
   ]
  },
  {
   "cell_type": "code",
   "execution_count": null,
   "metadata": {
    "id": "7txCrU2zmiUG"
   },
   "outputs": [],
   "source": [
    "3 * 2"
   ]
  },
  {
   "cell_type": "code",
   "execution_count": null,
   "metadata": {
    "id": "v-muccvymjx2"
   },
   "outputs": [],
   "source": [
    "2 + 3 * 8"
   ]
  },
  {
   "cell_type": "markdown",
   "metadata": {
    "id": "_rqYQk_im-Hs"
   },
   "source": [
    "Python expressions follow the order of operations (PEMDAS). You can also use values with decimal places (these are called **floats**)."
   ]
  },
  {
   "cell_type": "code",
   "execution_count": null,
   "metadata": {
    "id": "Qi1LEcKdmkmR"
   },
   "outputs": [],
   "source": [
    "3.51 - 2.13"
   ]
  },
  {
   "cell_type": "markdown",
   "metadata": {
    "id": "9IdGoq6PmxVr"
   },
   "source": [
    "Exponents are represented with ** instead of ^:"
   ]
  },
  {
   "cell_type": "code",
   "execution_count": null,
   "metadata": {
    "id": "3IZkoO45m0Jf"
   },
   "outputs": [],
   "source": [
    "3 ** 2"
   ]
  },
  {
   "cell_type": "markdown",
   "metadata": {
    "id": "munysapynWvV"
   },
   "source": [
    "There's also the **modulo** (remainder) operator:"
   ]
  },
  {
   "cell_type": "code",
   "execution_count": null,
   "metadata": {
    "id": "ITP9t37Ona7k"
   },
   "outputs": [],
   "source": [
    "5 % 2"
   ]
  },
  {
   "cell_type": "markdown",
   "metadata": {
    "id": "3tPHV5qsJfEa"
   },
   "source": [
    "If you want to get rid of the remainder when dividing, you can use the double division symbol (**//**). This is called **floor division**:"
   ]
  },
  {
   "cell_type": "code",
   "execution_count": null,
   "metadata": {
    "id": "kXB7qnHjJzlq"
   },
   "outputs": [],
   "source": [
    "9 // 2"
   ]
  },
  {
   "cell_type": "markdown",
   "metadata": {
    "id": "LAFuQ7K61_OV"
   },
   "source": [
    "#### Functions"
   ]
  },
  {
   "cell_type": "markdown",
   "metadata": {
    "id": "Nh2oKn2Ondrk"
   },
   "source": [
    "You can also execute **functions** on these values, like the absolute value function:"
   ]
  },
  {
   "cell_type": "code",
   "execution_count": null,
   "metadata": {
    "id": "MPVi0iJNnpbJ"
   },
   "outputs": [],
   "source": [
    "abs(-5)"
   ]
  },
  {
   "cell_type": "markdown",
   "metadata": {},
   "source": [
    "When we use functions, we use the term \"**calling** the function\". Function calls are identified by the function name (abs) and a set of parentheses."
   ]
  },
  {
   "cell_type": "markdown",
   "metadata": {
    "id": "Z52yLk4pnreR"
   },
   "source": [
    "The values between the parentheses are called **arguments**. Functions can have multiple arguments, like the max function. The **max** function returns the largest value of its arguments:"
   ]
  },
  {
   "cell_type": "code",
   "execution_count": null,
   "metadata": {
    "id": "0tJqNkYSn7oA"
   },
   "outputs": [],
   "source": [
    "max(3, 2, 4)"
   ]
  },
  {
   "cell_type": "markdown",
   "metadata": {
    "id": "jSau-IuV3n73"
   },
   "source": [
    "You can even pass the value of functions into other functions:"
   ]
  },
  {
   "cell_type": "code",
   "execution_count": 1,
   "metadata": {
    "id": "FXMGN_y53qYc"
   },
   "outputs": [
    {
     "data": {
      "text/plain": [
       "5"
      ]
     },
     "execution_count": 1,
     "metadata": {},
     "output_type": "execute_result"
    }
   ],
   "source": [
    "max(abs(-5), 2, 3)"
   ]
  },
  {
   "cell_type": "markdown",
   "metadata": {
    "id": "nCjvFDCPoYvV"
   },
   "source": [
    "If you want to print multiple lines of code to the console, you can use the print function like so:"
   ]
  },
  {
   "cell_type": "code",
   "execution_count": null,
   "metadata": {
    "id": "8PNYJ14Bo0p1"
   },
   "outputs": [],
   "source": [
    "print(2 + 4)\n",
    "print(5 / 2)\n",
    "print(max(1, 2, 3))"
   ]
  },
  {
   "cell_type": "markdown",
   "metadata": {},
   "source": [
    "If you use multiple arguments in the print function, it prints them with spaces in between:"
   ]
  },
  {
   "cell_type": "code",
   "execution_count": null,
   "metadata": {},
   "outputs": [],
   "source": [
    "print(2, 1, 3, 4)"
   ]
  },
  {
   "cell_type": "markdown",
   "metadata": {
    "id": "whUvMOKLxZ5b"
   },
   "source": [
    "#### math library"
   ]
  },
  {
   "cell_type": "markdown",
   "metadata": {
    "id": "V-AumfNPxgKC"
   },
   "source": [
    "Functions like max, abs, and min are built into Python, but you can also import functions from modules that are downloaded automatically when you download Python:"
   ]
  },
  {
   "cell_type": "code",
   "execution_count": null,
   "metadata": {
    "id": "ppowLkuQx0vl"
   },
   "outputs": [],
   "source": [
    "from math import sqrt, log\n",
    "print(sqrt(4))\n",
    "print(log(1))"
   ]
  },
  {
   "cell_type": "markdown",
   "metadata": {
    "id": "8FyItoyUyPXo"
   },
   "source": [
    "To know what functions come with the math library, check out its documentation page: https://docs.python.org/3/library/math.html."
   ]
  },
  {
   "cell_type": "markdown",
   "metadata": {
    "id": "6iCOM8sd5uuZ"
   },
   "source": [
    "You can also import the entire library into your code and call functions individually using the library name and a dot (.)."
   ]
  },
  {
   "cell_type": "code",
   "execution_count": null,
   "metadata": {
    "id": "McB57_pH5rKe"
   },
   "outputs": [],
   "source": [
    "import math\n",
    "print(math.sqrt(4))\n",
    "print(math.log(1))"
   ]
  },
  {
   "cell_type": "markdown",
   "metadata": {},
   "source": [
    "DISCLAIMER: Normally you only have to import a library once at the top of a file, but I will import it in every code snippet it's relevant to so that you can run those code snippets individually."
   ]
  },
  {
   "cell_type": "markdown",
   "metadata": {
    "id": "WPEDr1wusizR"
   },
   "source": [
    "#### Comments"
   ]
  },
  {
   "cell_type": "markdown",
   "metadata": {
    "id": "o0YswYcsswjR"
   },
   "source": [
    "To include **comments** in your code that don't affect anything, you can use the hash (#) symbol. Every character after the hash symbol on that line won't affect your code."
   ]
  },
  {
   "cell_type": "code",
   "execution_count": null,
   "metadata": {
    "id": "RdlT6MAIsj8w"
   },
   "outputs": [],
   "source": [
    "# this is a single-line comment\n",
    "print(3) # this is also a comment\n",
    "# print(5) this line won't do anything\n",
    "\"\"\"\n",
    "this is a multiline comment,\n",
    "surrounded by a pair of 3 quotation marks\n",
    "\"\"\""
   ]
  },
  {
   "cell_type": "markdown",
   "metadata": {},
   "source": [
    "#### **Coding Activity 1**"
   ]
  },
  {
   "cell_type": "code",
   "execution_count": null,
   "metadata": {},
   "outputs": [],
   "source": [
    "# Use what you've learned so far to calculate and print\n",
    "# the smallest value between 2 to the power of 20,\n",
    "# 2.5 to the power of 15, and 3 to the power of 10.\n",
    "print() # replace this line of code\n",
    "\n",
    "from math import log # comutes natural log\n",
    "# Use what you've learned so far to calculate and print\n",
    "# solve for x in the equation: e ^ x  / 32 + 5313 = 52931\n",
    "print() # replace this line of code\n",
    "\n",
    "# Use what you've learned so far to calculate and print\n",
    "# the digit in the 10'000s place of 2 ^ 25\n",
    "print() # replace this line of code"
   ]
  },
  {
   "cell_type": "markdown",
   "metadata": {
    "id": "gY268baT3DWW"
   },
   "source": [
    "#### Boolean Algebra"
   ]
  },
  {
   "cell_type": "markdown",
   "metadata": {
    "id": "KT42U7FvpAbH"
   },
   "source": [
    "So far we've seen 2 kinds of data, **integer** and **floats**: integers are numbers without decimal points and floats are numbers with decimal points. There are also **Boolean expressions**:"
   ]
  },
  {
   "cell_type": "code",
   "execution_count": null,
   "metadata": {
    "id": "SGuj5UEypUcb"
   },
   "outputs": [],
   "source": [
    "2 < 3"
   ]
  },
  {
   "cell_type": "markdown",
   "metadata": {
    "id": "oKk6GNpTpXeq"
   },
   "source": [
    "Boolean expressions can either be **True** or **False**. You can check if 2 things are equal using 2 equals signs (**==**):"
   ]
  },
  {
   "cell_type": "code",
   "execution_count": null,
   "metadata": {
    "id": "TCgvtdcOplEC"
   },
   "outputs": [],
   "source": [
    "1 + 2 == 3"
   ]
  },
  {
   "cell_type": "markdown",
   "metadata": {
    "id": "TCJzUJzrpxyR"
   },
   "source": [
    "The < and == symbols are called **comparison operators**, because they compare stuff. Here are a couple more and what they mean:\n",
    "\n",
    "\n",
    "*   \"<=\" : less than or equal to\n",
    "*   \">=\" : greater than or equal to\n",
    "*   \"!=\" : not equal to\n",
    "\n"
   ]
  },
  {
   "cell_type": "markdown",
   "metadata": {
    "id": "oj7eHeV1qO0V"
   },
   "source": [
    "See if you can predict what these next lines will print, and then run the code to see the results:"
   ]
  },
  {
   "cell_type": "code",
   "execution_count": null,
   "metadata": {
    "id": "UyrSPqiMqUES"
   },
   "outputs": [],
   "source": [
    "print(3 <= 3.5)\n",
    "print(4 >= 4)\n",
    "print(1 != 2)\n",
    "print(3 != 3.0)\n",
    "print(5 % 2 == 0) # this is a useful way to check if a number is even, if the remainder of dividing it by 2 is 0."
   ]
  },
  {
   "cell_type": "markdown",
   "metadata": {
    "id": "vmNbb7PF99uo"
   },
   "source": [
    "You can even chain these comparison operators together:"
   ]
  },
  {
   "cell_type": "code",
   "execution_count": null,
   "metadata": {
    "id": "hvaQ6eUZ-Ad_"
   },
   "outputs": [],
   "source": [
    "print(1 < 2 < 3) # checks if 1 < 2 and 2 < 3\n",
    "print(2 < 1 < 3) # checks if 2 < 1 and 1 < 3\n",
    "print(1 + 2 == 3 == 5 - 2) # checks if 1 + 2 == 3 and 3 == 5 - 2"
   ]
  },
  {
   "cell_type": "markdown",
   "metadata": {
    "id": "jFB1g-Rxqd2b"
   },
   "source": [
    "You can also combine Boolean values using the **and** and **or** operators:"
   ]
  },
  {
   "cell_type": "code",
   "execution_count": null,
   "metadata": {
    "id": "PMRMxBsnqkCV"
   },
   "outputs": [],
   "source": [
    "print(True and False)\n",
    "print(True and True)\n",
    "print(False and False)\n",
    "print(True or False)\n",
    "print(True or True)\n",
    "print(False or False)"
   ]
  },
  {
   "cell_type": "markdown",
   "metadata": {
    "id": "pd6-rvGyqsNZ"
   },
   "source": [
    "The \"and\" operator will return True if BOTH the left and right values are True and False otherwise. The \"or\" operator will return True if EITHER the left and right values are True and False otherwise."
   ]
  },
  {
   "cell_type": "markdown",
   "metadata": {
    "id": "TRH61UdPq8U6"
   },
   "source": [
    "See if you can predict the output of these lines:"
   ]
  },
  {
   "cell_type": "code",
   "execution_count": null,
   "metadata": {
    "id": "RSz6pbkIq-5g"
   },
   "outputs": [],
   "source": [
    "print(2 < 3 and 2 < 5)"
   ]
  },
  {
   "cell_type": "code",
   "execution_count": null,
   "metadata": {
    "id": "sG82WfTX7SJ0"
   },
   "outputs": [],
   "source": [
    "print(1 > 3 or 4 + 2 != 6)"
   ]
  },
  {
   "cell_type": "code",
   "execution_count": null,
   "metadata": {
    "id": "BnUlBKcF7V6n"
   },
   "outputs": [],
   "source": [
    "print(4 > 5 and True)"
   ]
  },
  {
   "cell_type": "markdown",
   "metadata": {
    "id": "ZydslLCE7YIt"
   },
   "source": [
    "One thing to note is that ALL and's are computed before any or's, unless you have parentheses:"
   ]
  },
  {
   "cell_type": "code",
   "execution_count": null,
   "metadata": {
    "id": "FV2qEoED7T2F"
   },
   "outputs": [],
   "source": [
    "print(True or False and False)\n",
    "print((True or False) and False) # parentheses are always calculated first"
   ]
  },
  {
   "cell_type": "markdown",
   "metadata": {
    "id": "hf6unvyGwmDt"
   },
   "source": [
    "The **not** operator flips False to True and True to False:"
   ]
  },
  {
   "cell_type": "code",
   "execution_count": null,
   "metadata": {
    "id": "d0C6beGYw2K7"
   },
   "outputs": [],
   "source": [
    "not (1 == 2)"
   ]
  },
  {
   "cell_type": "markdown",
   "metadata": {},
   "source": [
    "#### **Coding Activity 2**"
   ]
  },
  {
   "cell_type": "code",
   "execution_count": 2,
   "metadata": {},
   "outputs": [],
   "source": [
    "# Use what you've learned so far to calculate and print\n",
    "# whether or not ALL of these conditions are true.\n",
    "# Condition 1 : 4 is even\n",
    "# Condition 2 : 3213 is between 4 ^ 5 and 4 ^ 6\n",
    "# Condition 3: 3 == 3.0\n",
    "print()\n",
    "\n",
    "# Use what you've learned so far to calculate and print\n",
    "# the whether the digit in the 10's place of 3 ** 7 is \n",
    "# greater than 7.\n",
    "print()"
   ]
  },
  {
   "cell_type": "markdown",
   "metadata": {
    "id": "GfFXI9r_w_Oz"
   },
   "source": [
    "#### Variables"
   ]
  },
  {
   "cell_type": "markdown",
   "metadata": {
    "id": "H54DVoNYxboX"
   },
   "source": [
    "We can store the results of our math/Boolean operations in named containers called **variables**."
   ]
  },
  {
   "cell_type": "markdown",
   "metadata": {
    "id": "2Uzv8TwRxlb3"
   },
   "source": [
    "You can store data in a variable using what's called an **assignment statement**."
   ]
  },
  {
   "cell_type": "code",
   "execution_count": null,
   "metadata": {
    "id": "Wl7390z7xqSh"
   },
   "outputs": [],
   "source": [
    "x = 4 + 3\n",
    "print(x)"
   ]
  },
  {
   "cell_type": "markdown",
   "metadata": {
    "id": "JaUmQoYZxrrF"
   },
   "source": [
    "In the code above, we take the expression 4 + 3, evaluate it, and store it in the variable named x. We then print the value inside of x using the print function."
   ]
  },
  {
   "cell_type": "markdown",
   "metadata": {},
   "source": [
    "When we retrieve the value of a variable (say, to print it like above), we call this **referencing** the variable."
   ]
  },
  {
   "cell_type": "markdown",
   "metadata": {
    "id": "TzOYaOiOx34F"
   },
   "source": [
    "We can also apply math to the value inside of our variables."
   ]
  },
  {
   "cell_type": "code",
   "execution_count": null,
   "metadata": {
    "id": "0qF-IqhUx8li"
   },
   "outputs": [],
   "source": [
    "y = 5\n",
    "print(y * 2)"
   ]
  },
  {
   "cell_type": "markdown",
   "metadata": {
    "id": "3PgndI9sx_Y3"
   },
   "source": [
    "We can even store these expressions involving variables in other variables."
   ]
  },
  {
   "cell_type": "code",
   "execution_count": null,
   "metadata": {
    "id": "Ooa78J5ByEzX"
   },
   "outputs": [],
   "source": [
    "a = 2\n",
    "b = a + 3\n",
    "print(b)"
   ]
  },
  {
   "cell_type": "markdown",
   "metadata": {
    "id": "2PtYnC4tI4OJ"
   },
   "source": [
    "We can also store the output values of functions:"
   ]
  },
  {
   "cell_type": "code",
   "execution_count": null,
   "metadata": {
    "id": "OdN6JbWLI7-w"
   },
   "outputs": [],
   "source": [
    "the_smallest = min(4, 1, 5)\n",
    "print(the_smallest)"
   ]
  },
  {
   "cell_type": "markdown",
   "metadata": {
    "id": "yAcFzKI5yN8l"
   },
   "source": [
    "If you try to use a variable that has not been assigned a value, we get what's called an **exception**. Exceptions are errors in our code that Python will yell at us for. Try running the code below:"
   ]
  },
  {
   "cell_type": "code",
   "execution_count": null,
   "metadata": {
    "id": "_tFh_uyJycVM"
   },
   "outputs": [],
   "source": [
    "print(z)"
   ]
  },
  {
   "cell_type": "markdown",
   "metadata": {
    "id": "DqpZceodyf16"
   },
   "source": [
    "We'll get to how to understand exceptions later, but reading the message \"NameError: name 'z' is not defined\" gives some clue as to why the exception was raised."
   ]
  },
  {
   "cell_type": "markdown",
   "metadata": {
    "id": "iqz3faQvzPYm"
   },
   "source": [
    "Variables can also be re-assigned and given new values:"
   ]
  },
  {
   "cell_type": "code",
   "execution_count": null,
   "metadata": {
    "id": "pzO1oAAazdQv"
   },
   "outputs": [],
   "source": [
    "my_favorite_number = 3.141\n",
    "print(my_favorite_number)\n",
    "my_favorite_number = 2.718\n",
    "print(my_favorite_number)"
   ]
  },
  {
   "cell_type": "markdown",
   "metadata": {
    "id": "9KXPRD-2IyxR"
   },
   "source": [
    "If you want to increase the value inside of an already existing variable, you can do it like so:"
   ]
  },
  {
   "cell_type": "code",
   "execution_count": null,
   "metadata": {
    "id": "iteYE-ndI6WL"
   },
   "outputs": [],
   "source": [
    "my_counter = 0\n",
    "print(my_counter)\n",
    "my_counter = my_counter + 1\n",
    "print(my_counter)"
   ]
  },
  {
   "cell_type": "markdown",
   "metadata": {
    "id": "Ah_cet1tJCGd"
   },
   "source": [
    "They developed a shorthand for this like so:"
   ]
  },
  {
   "cell_type": "code",
   "execution_count": null,
   "metadata": {
    "id": "eTVuSZsaJJA2"
   },
   "outputs": [],
   "source": [
    "my_counter2 = 0\n",
    "print(my_counter)\n",
    "my_counter2 += 1\n",
    "print(my_counter)"
   ]
  },
  {
   "cell_type": "markdown",
   "metadata": {
    "id": "DA9h-MEhJREA"
   },
   "source": [
    "The equivalents for subtraction (-=), multiplication (*=), division (/=) and even modulo (%=) exist as well."
   ]
  },
  {
   "cell_type": "markdown",
   "metadata": {
    "id": "gIZOmr1PzsbI"
   },
   "source": [
    "There are actually rules for how variables are named. Breaking the rules will raise an exception/break your code:\n",
    "\n",
    "*   Variable names must only contain lowercase letters (a-z), uppercase letters (A-Z), numbers (0-9), and the underscore character (_).\n",
    "*   Variable names must not start with a number (0-9).\n",
    "*   Variable names cannot be builtin keywords (in, and, or, not).\n",
    "*   Variable names are case sensitive.\n",
    "\n",
    "Examples:\n",
    "\n",
    "*   star_size is OK, \\$t@r_\\$ize is not okay\n",
    "*   abc_123 is OK, 123_abc is not okay\n",
    "*   oR is OK, or is not okay\n",
    "*   myname and myName are different variable names\n",
    "\n",
    "\n",
    "\n"
   ]
  },
  {
   "cell_type": "markdown",
   "metadata": {},
   "source": [
    "#### **Coding Activity 3**"
   ]
  },
  {
   "cell_type": "code",
   "execution_count": null,
   "metadata": {},
   "outputs": [],
   "source": [
    "# What will be the output of this code?\n",
    "\n",
    "awesome_var = 5\n",
    "print(awesome_var)\n",
    "\n",
    "awesome_var += 5\n",
    "print(awesome_var)\n",
    "\n",
    "awesome_var += awesome_var - 3\n",
    "print(awesome_var)\n",
    "\n",
    "awesome_var %= awesome_var // 3\n",
    "print(awesome_var)"
   ]
  },
  {
   "cell_type": "markdown",
   "metadata": {},
   "source": [
    "#### Visualizing Execution"
   ]
  },
  {
   "cell_type": "markdown",
   "metadata": {},
   "source": [
    "Sometimes it's hard to keep track of what your code is doing. A useful tool to visualize how your code runs is this website: https://pythontutor.com/visualize.html#mode=edit. If you paste your code in (such as the last code activity above) and click \"Visualize Execution\", you can step through your code line by line. Try it now! Feel free to use this tool whenever you're having trouble understanding code."
   ]
  },
  {
   "cell_type": "markdown",
   "metadata": {
    "id": "wuUOTkzq1rsY"
   },
   "source": [
    "#### Summary"
   ]
  },
  {
   "cell_type": "markdown",
   "metadata": {
    "id": "sh1SIK333Y7H"
   },
   "source": [
    "In this lesson, we learned about arithmetic operators, functions, Boolean algebra, and variables. Here's a summary of the content we covered this chapter:\n",
    "\n",
    "| Usage | Description |\n",
    "| --- | --- |\n",
    "| +*/- | basic math operators |\n",
    "| % | modulo (calculates the remainder) |\n",
    "| ** | exponent |\n",
    "| abs(expression) | absolute value |\n",
    "| max(a, b, c) | largest value |\n",
    "| min(a, b, c) | smallest value |\n",
    "| print(arg1, arg2) | prints to console with spaces between |\n",
    "| // | floor division (gets rid of remainder) |\n",
    "| # comment | single-line comment\n",
    "| \"\"\" comment \"\"\" | multi-line comment\n",
    "| < > <= >= == != | Equality operators |\n",
    "| and or not | Boolean operators |\n",
    "| from library import function | imports function from the library |\n",
    "| import library | import the entire library |\n",
    "| library.function() | call function from an imported library |\n",
    "| x = expression | variable assignment |\n",
    "| x += expression | addition assignment |"
   ]
  },
  {
   "cell_type": "markdown",
   "metadata": {
    "id": "iaLpx6e-UMCL"
   },
   "source": [
    "Now let's get some practice by answering some questions below:"
   ]
  },
  {
   "cell_type": "markdown",
   "metadata": {},
   "source": [
    "#### Practice Problems"
   ]
  },
  {
   "cell_type": "markdown",
   "metadata": {
    "id": "cs65hL8S4KFU"
   },
   "source": [
    "1.   What does the following piece of code output? (Don't run it until you've guessed!)"
   ]
  },
  {
   "cell_type": "code",
   "execution_count": null,
   "metadata": {
    "id": "fMOyG6oR4miL"
   },
   "outputs": [],
   "source": [
    "print(3 + 4 == 7 or max(1, 3, 4) < 3 and abs(-4) < 2 and True != False)"
   ]
  },
  {
   "cell_type": "markdown",
   "metadata": {
    "id": "VEri1OcX6z2j"
   },
   "source": [
    "2. Which of the following are valid variable names?\n",
    "  1. herbert!Hoover\n",
    "  2. 1_like_chezburger\n",
    "  3. \\_chicken_nuggets\n",
    "  4. \\_123_abc\n",
    "  5. in"
   ]
  },
  {
   "cell_type": "markdown",
   "metadata": {
    "id": "SR9ANWKm8t6b"
   },
   "source": [
    "To verify your answer, try and assign a value to each variable name in the box below, i.e. \"herbert!Hoover = 1\". If this succeeds, then it's a valid variable name. If an exception is raised, that means something is wrong with it. Try and fix the problem with the variable name if you find one."
   ]
  },
  {
   "cell_type": "code",
   "execution_count": null,
   "metadata": {
    "id": "_jrQSeez8fC2"
   },
   "outputs": [],
   "source": []
  },
  {
   "cell_type": "markdown",
   "metadata": {
    "id": "uGxP3Mii8eVV"
   },
   "source": [
    "3. What will the following piece of code output?"
   ]
  },
  {
   "cell_type": "code",
   "execution_count": 5,
   "metadata": {
    "id": "hRDDeMqj9H4c"
   },
   "outputs": [
    {
     "name": "stdout",
     "output_type": "stream",
     "text": [
      "123\n",
      "456\n",
      "456\n"
     ]
    }
   ],
   "source": [
    "my_var1 = 123\n",
    "my_var2 = 456\n",
    "print(my_var1)\n",
    "print(my_var2)\n",
    "my_var1 = my_var2\n",
    "my_var3 = my_var1 - my_var2\n",
    "print(max(my_var1, my_var2, my_var3))"
   ]
  },
  {
   "cell_type": "markdown",
   "metadata": {
    "id": "C2Oz8i6RVRpV"
   },
   "source": [
    "4. What will the following piece of code output?"
   ]
  },
  {
   "cell_type": "code",
   "execution_count": 6,
   "metadata": {
    "id": "zj_reOV2VUUb"
   },
   "outputs": [
    {
     "name": "stdout",
     "output_type": "stream",
     "text": [
      "24\n"
     ]
    }
   ],
   "source": [
    "my_var3 = 4\n",
    "my_var4 = my_var3 + 5\n",
    "my_var3 += my_var4\n",
    "my_var4 = my_var4 + 2\n",
    "print(my_var3 + my_var4)"
   ]
  },
  {
   "cell_type": "markdown",
   "metadata": {
    "id": "iynmROEEsWhK"
   },
   "source": [
    "5. Complete the program below:"
   ]
  },
  {
   "cell_type": "code",
   "execution_count": null,
   "metadata": {
    "id": "LNtzYFjXyvvd"
   },
   "outputs": [],
   "source": [
    "from math import sqrt\n",
    "x1 = 2\n",
    "y1 = 3\n",
    "x2 = 5\n",
    "y2 = 7\n",
    "\n",
    "# calculate the distance between (x1, y1) and (x2, y2) and print it below\n",
    "# feel free to google the distance formula, or review the notes above on how\n",
    "# to call functions/use arithmetic operators\n",
    "print()"
   ]
  },
  {
   "cell_type": "markdown",
   "metadata": {
    "id": "CoZ1XLboTGKu"
   },
   "source": [
    "<a id=\"module1.2\"></a>\n",
    "### Module 1.2: If/Elif/Else, Functions, and Strings"
   ]
  },
  {
   "cell_type": "markdown",
   "metadata": {
    "id": "7hFCP_9tWl7z"
   },
   "source": [
    "This is where Python becomes more than just a glorified calculator. We can control which lines of code to run using if:"
   ]
  },
  {
   "cell_type": "code",
   "execution_count": null,
   "metadata": {
    "id": "jEAjxJnWW0rw"
   },
   "outputs": [],
   "source": [
    "# if format\n",
    "# if <condition>:\n",
    "#   <block>\n",
    "\n",
    "if 1 < 3:\n",
    "    print(1)\n",
    "if 2 > 1:\n",
    "    print(2)\n",
    "print(3)"
   ]
  },
  {
   "cell_type": "markdown",
   "metadata": {
    "id": "2PJNxPkVCTUJ"
   },
   "source": [
    "The **if** statement checks if the Boolean expression after the space evaluates to True, and if it does, it runs the code that is indented after the colon. The indented code is called a **code block**."
   ]
  },
  {
   "cell_type": "markdown",
   "metadata": {
    "id": "z8vmh19wC7Ur"
   },
   "source": [
    "The indentation is important. If you indent your code incorrectly, it may cause an exception, or even worse, produce the wrong output without telling you why:"
   ]
  },
  {
   "cell_type": "code",
   "execution_count": null,
   "metadata": {
    "colab": {
     "base_uri": "https://localhost:8080/",
     "height": 131
    },
    "id": "u_d9wS0qDHgx",
    "outputId": "878fcfb7-5ba3-4198-fdf3-11bbbcd7f553"
   },
   "outputs": [
    {
     "ename": "IndentationError",
     "evalue": "ignored",
     "output_type": "error",
     "traceback": [
      "\u001b[0;36m  File \u001b[0;32m\"<ipython-input-1-0d84f64d590d>\"\u001b[0;36m, line \u001b[0;32m3\u001b[0m\n",
      "\u001b[0;31m    print(3)\u001b[0m\n",
      "\u001b[0m            ^\u001b[0m\n",
      "\u001b[0;31mIndentationError\u001b[0m\u001b[0;31m:\u001b[0m unindent does not match any outer indentation level\n"
     ]
    }
   ],
   "source": [
    "if 2 > 1:\n",
    "        print(5) # this is indented too far!\n",
    "    print(3)\n",
    "print(1)"
   ]
  },
  {
   "cell_type": "markdown",
   "metadata": {
    "id": "YYBhwHAkDXP_"
   },
   "source": [
    "We can add an optional **else** case to our if statement to run code if the Boolean expression evaluates to False:"
   ]
  },
  {
   "cell_type": "code",
   "execution_count": null,
   "metadata": {
    "id": "WVzfPCfbDc_H"
   },
   "outputs": [],
   "source": [
    "# if-else format\n",
    "# if <condition>:\n",
    "#   <block>\n",
    "# else:\n",
    "#   <block>\n",
    "\n",
    "if 1 == 2:\n",
    "    print(0)\n",
    "else:\n",
    "    print(1)"
   ]
  },
  {
   "cell_type": "markdown",
   "metadata": {
    "id": "5V4YxUOxDpU1"
   },
   "source": [
    "Or even check multiple cases before running the else block using **elif**, which is short for \"else if\":"
   ]
  },
  {
   "cell_type": "code",
   "execution_count": 2,
   "metadata": {
    "id": "iHWWOdgDDzxy"
   },
   "outputs": [
    {
     "name": "stdout",
     "output_type": "stream",
     "text": [
      "3\n"
     ]
    }
   ],
   "source": [
    "# if-elif-else format\n",
    "# if <condition>:\n",
    "#   <block>\n",
    "# elif <condition>:\n",
    "#   <block>\n",
    "# else:\n",
    "#   <block>\n",
    "my_favorite_integer = 3\n",
    "if my_favorite_integer == 1:\n",
    "    print(1)\n",
    "elif my_favorite_integer == 2:\n",
    "    print(2)\n",
    "elif my_favorite_integer == 3:\n",
    "    print(3)\n",
    "else:\n",
    "    print(0)"
   ]
  },
  {
   "cell_type": "markdown",
   "metadata": {
    "id": "fs6w09ntEAvp"
   },
   "source": [
    "Keep in mind, if the Boolean expression evaluates to True in one of the if cases, it won't run other cases, even if they evaluate to True too."
   ]
  },
  {
   "cell_type": "code",
   "execution_count": null,
   "metadata": {
    "id": "WgS1D7k-ELOo"
   },
   "outputs": [],
   "source": [
    "if 1 == 1: # this is True\n",
    "    print(1) # this will run\n",
    "elif 2 == 2: # this is also True\n",
    "    print(2) # but this doesn't run"
   ]
  },
  {
   "cell_type": "markdown",
   "metadata": {
    "id": "Ci5YVmzbEl8w"
   },
   "source": [
    "You can also nest if statements in other if statements:"
   ]
  },
  {
   "cell_type": "code",
   "execution_count": null,
   "metadata": {
    "id": "CuH3GfcfEpI0"
   },
   "outputs": [],
   "source": [
    "magic_number = 12\n",
    "if magic_number % 2 == 0: # check if it's even\n",
    "    if magic_number % 3 == 0: # check if it's a multiple of 3\n",
    "        print(3)\n",
    "    print(2) # print 2 no matter what\n",
    "else:\n",
    "    print(0)"
   ]
  },
  {
   "cell_type": "markdown",
   "metadata": {
    "id": "F-v2mPtNFhOp"
   },
   "source": [
    "You can also combine Boolean expressions like you did in the last lesson:"
   ]
  },
  {
   "cell_type": "code",
   "execution_count": null,
   "metadata": {
    "id": "XovfPrEJFoBn"
   },
   "outputs": [],
   "source": [
    "epic_number = 60\n",
    "if epic_number / 10 > 7 or epic_number % 6 == 0 and epic_number * 2 <= 120:\n",
    "    print(1)\n",
    "else:\n",
    "    print(0)"
   ]
  },
  {
   "cell_type": "markdown",
   "metadata": {},
   "source": [
    "#### **Code Activity 1**"
   ]
  },
  {
   "cell_type": "code",
   "execution_count": null,
   "metadata": {},
   "outputs": [],
   "source": [
    "# Write an if statement to check if the variable below\n",
    "# is an even number. If it is, print 0, otherwise print 1\n",
    "even_or_odd = 21"
   ]
  },
  {
   "cell_type": "markdown",
   "metadata": {
    "id": "jbP32ffYHyxj"
   },
   "source": [
    "#### Defining Your Own Functions"
   ]
  },
  {
   "cell_type": "markdown",
   "metadata": {
    "id": "NVi1adjsH90e"
   },
   "source": [
    "We've learned about functions like print, max, and min, but we can also define our own:"
   ]
  },
  {
   "cell_type": "code",
   "execution_count": null,
   "metadata": {
    "id": "SSHh6F5AIGNR"
   },
   "outputs": [],
   "source": [
    "# function format\n",
    "# def <function_name>(<parameter1>, <parameter2>, ...):\n",
    "#   <function_body>\n",
    "#   <function_body>\n",
    "#   return <return_value>\n",
    "\n",
    "def add(a, b):\n",
    "    total = a + b\n",
    "    return total\n",
    "\n",
    "an_odd_number = add(9, 10)  # 9 -> a, 10 -> b\n",
    "print(an_odd_number)"
   ]
  },
  {
   "cell_type": "markdown",
   "metadata": {
    "id": "dqjd5in8IFaH"
   },
   "source": [
    "The keyword **def** is short for \"define\". We give our function a name, in this case \"add\", as well as names for parameters it uses between parentheses. We then execute the code in the indented lines, called the **function body**, and return a value at the end."
   ]
  },
  {
   "cell_type": "markdown",
   "metadata": {
    "id": "WsNFiVLrLmoE"
   },
   "source": [
    "The names of the variables inside of the function are called the **parameters**. The values that we use to call the function are called **arguments**. The arguments when a function gets called get stored in the parameters of the function definition. We call this exchange **parameter passing**:"
   ]
  },
  {
   "cell_type": "code",
   "execution_count": null,
   "metadata": {},
   "outputs": [],
   "source": [
    "# the parameters are a and b\n",
    "def product(a, b):\n",
    "    return a * b \n",
    "# the arguments are 3 and 4\n",
    "# the arguments get \"passed\" into the parameters\n",
    "# 3 -> a, 4 -> b\n",
    "# the return value is the value that the function call becomes\n",
    "print(product(3, 4))"
   ]
  },
  {
   "cell_type": "markdown",
   "metadata": {
    "id": "9oMXvJhYJxyJ"
   },
   "source": [
    "The **return** statement, defines what a function returns when it is called. The return statement is optional in a function. If you don't return anything, the function returns the **None** object, which represents an empty value."
   ]
  },
  {
   "cell_type": "code",
   "execution_count": null,
   "metadata": {
    "id": "O4uN73OMJfHX"
   },
   "outputs": [],
   "source": [
    "def print_add_2(x):\n",
    "    print(x + 2)\n",
    "\n",
    "return_value = print_add_2(3)\n",
    "print(return_value)"
   ]
  },
  {
   "cell_type": "markdown",
   "metadata": {
    "id": "uJM9LPXjOUi4"
   },
   "source": [
    "Function arguments are also optional:"
   ]
  },
  {
   "cell_type": "code",
   "execution_count": null,
   "metadata": {
    "id": "QNZNi8uTOWll"
   },
   "outputs": [],
   "source": [
    "def always_2():\n",
    "    return 2\n",
    "\n",
    "print(always_2())"
   ]
  },
  {
   "cell_type": "markdown",
   "metadata": {
    "id": "1QyOnSn3Opy7"
   },
   "source": [
    "Once the return statement is called, the rest of the function is ignored:"
   ]
  },
  {
   "cell_type": "code",
   "execution_count": null,
   "metadata": {
    "id": "op9d02K0PLVb"
   },
   "outputs": [],
   "source": [
    "def only_5(num):\n",
    "    if num == 5:\n",
    "        print(0)\n",
    "        return num\n",
    "    # these lines of code don't run\n",
    "    # if we return above\n",
    "    print(1) \n",
    "    return 0\n",
    "\n",
    "print(only_positive(5))"
   ]
  },
  {
   "cell_type": "markdown",
   "metadata": {
    "id": "Foi_ZettXcXb"
   },
   "source": [
    "We can have more complicated functions too:"
   ]
  },
  {
   "cell_type": "code",
   "execution_count": null,
   "metadata": {
    "id": "gBgN1Yx7Xf_J"
   },
   "outputs": [],
   "source": [
    "def get_hundreds_place(num):\n",
    "    if num < 100:\n",
    "        return 0\n",
    "    shifted_right_two_digits = num // 100 # floor divide by 100 (divide by 10 and then get rid of decimal)\n",
    "    return shifted_right_two_digits % 10 # grab just the right-most digit\n",
    "\n",
    "print(get_hundreds_place(123))\n",
    "print(get_hundreds_place(5123423))\n",
    "print(get_hundreds_place(5))"
   ]
  },
  {
   "cell_type": "markdown",
   "metadata": {},
   "source": [
    "#### Why Functions?"
   ]
  },
  {
   "cell_type": "markdown",
   "metadata": {},
   "source": [
    "We write functions so that we don't have to have repetitive code:"
   ]
  },
  {
   "cell_type": "code",
   "execution_count": null,
   "metadata": {},
   "outputs": [],
   "source": [
    "# let's say our formula is y = 5 * x ** 10\n",
    "# and we need to to this several times\n",
    "y1 = 5 * 1 ** 10\n",
    "y2 = 5 * 2 ** 10\n",
    "y3 = 5 * 3 ** 10\n",
    "y4 = 5 * 4 ** 10\n",
    "y5 = 5 * 5 ** 10"
   ]
  },
  {
   "cell_type": "markdown",
   "metadata": {},
   "source": [
    "But what if we had our formula wrong, it's actually supposed to be y = 5 * x ** 9. Now we have to make a change to 5 places in our code:"
   ]
  },
  {
   "cell_type": "code",
   "execution_count": null,
   "metadata": {},
   "outputs": [],
   "source": [
    "y1 = 5 * 1 ** 9\n",
    "y2 = 5 * 2 ** 9\n",
    "y3 = 5 * 3 ** 9\n",
    "y4 = 5 * 4 ** 9\n",
    "y5 = 5 * 5 ** 9"
   ]
  },
  {
   "cell_type": "markdown",
   "metadata": {},
   "source": [
    "Functions solve this problem:"
   ]
  },
  {
   "cell_type": "code",
   "execution_count": null,
   "metadata": {},
   "outputs": [],
   "source": [
    "# now, if we need to change the formula, we\n",
    "# only have to change it in 1 place.\n",
    "def y(x):\n",
    "    return 5 * x ** 10\n",
    "\n",
    "y1 = y(1)\n",
    "y2 = y(2)\n",
    "y3 = y(3)\n",
    "y4 = y(4)\n",
    "y5 = y(5)"
   ]
  },
  {
   "cell_type": "markdown",
   "metadata": {},
   "source": [
    "#### The **pass** statement"
   ]
  },
  {
   "cell_type": "markdown",
   "metadata": {
    "id": "IF_tKSXLbC0J"
   },
   "source": [
    "If we don't have a function body for a function, Python will raise an exception. "
   ]
  },
  {
   "cell_type": "code",
   "execution_count": null,
   "metadata": {},
   "outputs": [],
   "source": [
    "def do_nothing():\n",
    "\n",
    "do_nothing()"
   ]
  },
  {
   "cell_type": "markdown",
   "metadata": {},
   "source": [
    "If we wanted a function that does nothing (this might happen if we haven't written the function yet), we can use the **pass** keyword, which does nothing:"
   ]
  },
  {
   "cell_type": "code",
   "execution_count": null,
   "metadata": {
    "id": "LPUNpbILbxqn"
   },
   "outputs": [],
   "source": [
    "def do_nothing():\n",
    "    pass\n",
    "\n",
    "do_nothing() # doesn't raise an exception, yay"
   ]
  },
  {
   "cell_type": "markdown",
   "metadata": {},
   "source": [
    "#### **Coding Activity 2**"
   ]
  },
  {
   "cell_type": "code",
   "execution_count": null,
   "metadata": {},
   "outputs": [],
   "source": [
    "# Write a function called print_if_odd that takes in a parameter \n",
    "# named number and prints it if it is odd, and does nothing if \n",
    "# it is even.\n",
    "# WRITE HERE"
   ]
  },
  {
   "cell_type": "markdown",
   "metadata": {
    "id": "aqlKeaY9_xSz",
    "jp-MarkdownHeadingCollapsed": true,
    "tags": []
   },
   "source": [
    "#### Strings"
   ]
  },
  {
   "cell_type": "markdown",
   "metadata": {
    "id": "h6XTQfLV-TT3"
   },
   "source": [
    "So far, we've been dealing with 3 data types: integers, floats, and Booleans. Let's add 1 more: **strings**."
   ]
  },
  {
   "cell_type": "code",
   "execution_count": null,
   "metadata": {
    "id": "iU0EFn2c-7kO"
   },
   "outputs": [],
   "source": [
    "my_name = \"Jimmy Doo\"\n",
    "print(my_name)"
   ]
  },
  {
   "cell_type": "markdown",
   "metadata": {
    "id": "HtEsuy4N---Y"
   },
   "source": [
    "Strings are sequences or \"strings\" of characters, including letters, punctuation, spaces, and symbols. Since a string might accidentally be mistaken for a variable name, we surround it in quotation marks. "
   ]
  },
  {
   "cell_type": "markdown",
   "metadata": {
    "id": "jU7GFpdaCngb",
    "tags": []
   },
   "source": [
    "#### String Comparison"
   ]
  },
  {
   "cell_type": "markdown",
   "metadata": {
    "id": "mascCB-7_vnM"
   },
   "source": [
    "Just like how you can compare numbers, you can compare strings too:"
   ]
  },
  {
   "cell_type": "code",
   "execution_count": null,
   "metadata": {
    "id": "-h_WKb3Y_0vd"
   },
   "outputs": [],
   "source": [
    "print(\"this\" == \"that\")\n",
    "print(\"foo\" != \"bar\")"
   ]
  },
  {
   "cell_type": "markdown",
   "metadata": {
    "id": "3zX_rL4PBeEw"
   },
   "source": [
    "Strings are case sensitive:"
   ]
  },
  {
   "cell_type": "code",
   "execution_count": 6,
   "metadata": {
    "id": "HQs7UPI_BfXa"
   },
   "outputs": [
    {
     "name": "stdout",
     "output_type": "stream",
     "text": [
      "False\n"
     ]
    }
   ],
   "source": [
    "print(\"a\" == \"A\")"
   ]
  },
  {
   "cell_type": "markdown",
   "metadata": {},
   "source": [
    "The order of the characters matters too:"
   ]
  },
  {
   "cell_type": "code",
   "execution_count": 7,
   "metadata": {},
   "outputs": [
    {
     "name": "stdout",
     "output_type": "stream",
     "text": [
      "False\n"
     ]
    }
   ],
   "source": [
    "print(\"ab\" == \"ba\")"
   ]
  },
  {
   "cell_type": "markdown",
   "metadata": {
    "id": "Jh7yNsyL_-q0"
   },
   "source": [
    "You can even use < and > to compare strings. A string is \"less than\" another string if it would come before that string in a dictionary. This is called **lexicographical ordering**"
   ]
  },
  {
   "cell_type": "code",
   "execution_count": null,
   "metadata": {
    "id": "-Ux4G6rnANpM"
   },
   "outputs": [],
   "source": [
    "print(\"alpha\" < \"beta\")\n",
    "print(\"word\" < \"Word\")"
   ]
  },
  {
   "cell_type": "markdown",
   "metadata": {
    "id": "f-efZvgE_g7Q"
   },
   "source": [
    "You can use either single or double quotation marks to represent strings and they'll mean the same thing, but I recommend using double quotes."
   ]
  },
  {
   "cell_type": "code",
   "execution_count": null,
   "metadata": {
    "id": "lTKIvLTA_cHv"
   },
   "outputs": [],
   "source": [
    "\"does it matter?\" == 'does it matter?'"
   ]
  },
  {
   "cell_type": "markdown",
   "metadata": {
    "jp-MarkdownHeadingCollapsed": true,
    "tags": []
   },
   "source": [
    "#### Escape Characters"
   ]
  },
  {
   "cell_type": "markdown",
   "metadata": {},
   "source": [
    "**Escape characters** are special characters that you can include in strings using the backslash character (**\\\\**):"
   ]
  },
  {
   "cell_type": "code",
   "execution_count": 1,
   "metadata": {},
   "outputs": [
    {
     "name": "stdout",
     "output_type": "stream",
     "text": [
      "newline\n",
      "character\n"
     ]
    }
   ],
   "source": [
    "print(\"newline\\ncharacter\") # \\n is a newline character"
   ]
  },
  {
   "cell_type": "code",
   "execution_count": null,
   "metadata": {},
   "outputs": [],
   "source": [
    "print(\"tab\\tcharacter\") # \\t is a tab character"
   ]
  },
  {
   "cell_type": "code",
   "execution_count": null,
   "metadata": {},
   "outputs": [],
   "source": [
    "print(\"back\\\\slash\") # \\\\ is a backslash character"
   ]
  },
  {
   "cell_type": "code",
   "execution_count": null,
   "metadata": {},
   "outputs": [],
   "source": [
    "print(\"quotation\\\"mark\") # \\\" is a quotation mark character\n",
    "print('quotation\\'mark') # works with single quotes too"
   ]
  },
  {
   "cell_type": "markdown",
   "metadata": {},
   "source": [
    "These are the most notable escape characters, but you can find the full list online, like on this website: https://www.w3schools.com/python/gloss_python_escape_characters.asp."
   ]
  },
  {
   "cell_type": "markdown",
   "metadata": {
    "id": "t24OZ_7sCqjK",
    "jp-MarkdownHeadingCollapsed": true,
    "tags": []
   },
   "source": [
    "#### String Math"
   ]
  },
  {
   "cell_type": "markdown",
   "metadata": {
    "id": "BSYKrBfrAelO"
   },
   "source": [
    "You can even add strings together. This is called **concatenation**:"
   ]
  },
  {
   "cell_type": "code",
   "execution_count": null,
   "metadata": {
    "id": "wQLOamuaAkmO"
   },
   "outputs": [],
   "source": [
    "print(\"micro\" + \"phone\")\n",
    "print(\"Hello\" + \" \" + \"World!\")"
   ]
  },
  {
   "cell_type": "markdown",
   "metadata": {
    "id": "dEsHdIAOA5AQ"
   },
   "source": [
    "You can't multiply 2 strings together, but you can multiply a string with a number:"
   ]
  },
  {
   "cell_type": "code",
   "execution_count": null,
   "metadata": {
    "id": "TfbAFmzQA8A6"
   },
   "outputs": [],
   "source": [
    "\"foo\"*3"
   ]
  },
  {
   "cell_type": "markdown",
   "metadata": {
    "id": "UARaRfxCCtdB",
    "tags": []
   },
   "source": [
    "#### String Operations"
   ]
  },
  {
   "cell_type": "markdown",
   "metadata": {
    "id": "7GUDr-dyBAkP"
   },
   "source": [
    "The **in** operator checks if one string is inside another:"
   ]
  },
  {
   "cell_type": "code",
   "execution_count": null,
   "metadata": {
    "id": "ikkSITFpBGIt"
   },
   "outputs": [],
   "source": [
    "print(\"chicken\" in \"chicken nugget\")\n",
    "print(\"ericandre\" in \"americandream\")\n",
    "print(\"a\" in \"bbb\")"
   ]
  },
  {
   "cell_type": "markdown",
   "metadata": {
    "id": "47bNPmKeL6Ox"
   },
   "source": [
    "You can also check if strings aren't in other strings:"
   ]
  },
  {
   "cell_type": "code",
   "execution_count": null,
   "metadata": {
    "id": "6a5z6G_-L8Sm"
   },
   "outputs": [],
   "source": [
    "print(\"pizza\" not in \"the best pizza toppings list\")"
   ]
  },
  {
   "cell_type": "markdown",
   "metadata": {
    "id": "pSAus2AVCAcj"
   },
   "source": [
    "An **empty string** counts as a string too:"
   ]
  },
  {
   "cell_type": "code",
   "execution_count": null,
   "metadata": {
    "id": "YfJAR4VtCDMv"
   },
   "outputs": [],
   "source": [
    "a_weird_string = \"\"\n",
    "print(a_weird_string)\n",
    "print(\"where did it go?\" + a_weird_string)\n",
    "print(a_weird_string in \"it's everywhere!\")"
   ]
  },
  {
   "cell_type": "markdown",
   "metadata": {
    "id": "nAqQFoWVCR8I"
   },
   "source": [
    "The len function returns the number of characters in a string:"
   ]
  },
  {
   "cell_type": "code",
   "execution_count": null,
   "metadata": {
    "id": "BjRz9AnOCZ3Y"
   },
   "outputs": [],
   "source": [
    "print(len(\"abcd\"))\n",
    "print(len(\"\"))\n",
    "print(len(\"     \"))"
   ]
  },
  {
   "cell_type": "markdown",
   "metadata": {
    "tags": []
   },
   "source": [
    "#### **Coding Activity 3**"
   ]
  },
  {
   "cell_type": "code",
   "execution_count": null,
   "metadata": {},
   "outputs": [],
   "source": [
    "# Write the folowing functions\n",
    "def add_foo(string):\n",
    "    \"\"\"\n",
    "    If the string contains the word \"foo\", return the string with\n",
    "    \"bar\" added to the end of it.\n",
    "    Otherwise, return the string with \"baz\" added to the start of\n",
    "    the string.\n",
    "    Ex.\n",
    "    add_foo(\"food\") == \"foodbar\"\n",
    "    add_foo(\"a fool\") == \"a foolbar\"\n",
    "    add_foo(\"ic\") == \"bazic\"\n",
    "    \"\"\"\n",
    "    pass\n",
    "\n",
    "# These are called your \"test cases\"\n",
    "# All of these lines of code have to print True in order\n",
    "# for your code to be right\n",
    "\n",
    "print(add_foo(\"food\") == \"foodbar\")\n",
    "print(add_foo(\"a fool\") == \"a foolbar\")\n",
    "print(add_foo(\"ic\") == \"bazic\")\n",
    "\n",
    "def contains_times_3(string, substring):\n",
    "    \"\"\"\n",
    "    If the string repeated 3 times contains the substring, return\n",
    "    True. Otherwise, return False.\n",
    "    Ex.\n",
    "    contains_times_3(\"foo\", \"ofo\") == True\n",
    "    contains_times_3(\"a\", \"aa\") == True\n",
    "    contains_times_3(\"ba\", \"bb\") == False\n",
    "    \"\"\"\n",
    "    pass\n",
    "\n",
    "print(contains_times_3(\"foo\", \"ofo\") == True)\n",
    "print(contains_times_3(\"a\", \"aa\") == True)\n",
    "print(contains_times_3(\"ba\", \"bb\") == False)\n"
   ]
  },
  {
   "cell_type": "markdown",
   "metadata": {
    "tags": []
   },
   "source": [
    "#### Multi-line Strings"
   ]
  },
  {
   "cell_type": "markdown",
   "metadata": {},
   "source": [
    "Strings normally go in a single line, but you can have **multi-line strings** if you use 3 paris of quotation marks instead of one:"
   ]
  },
  {
   "cell_type": "code",
   "execution_count": null,
   "metadata": {},
   "outputs": [],
   "source": [
    "multi = \"\"\"\n",
    "this is a multi\n",
    "line\n",
    "string\n",
    "\"\"\"\n",
    "print(multi)"
   ]
  },
  {
   "cell_type": "markdown",
   "metadata": {
    "id": "qHyrFjgCY0a1"
   },
   "source": [
    "#### Docstrings"
   ]
  },
  {
   "cell_type": "markdown",
   "metadata": {
    "id": "i0zRXYz_Y5Zw"
   },
   "source": [
    "Docstrings (short for \"document strings\") are special multi-line comments that go at the start of functions and describe what the function should do:"
   ]
  },
  {
   "cell_type": "code",
   "execution_count": null,
   "metadata": {
    "id": "T-fT4LSoY31C"
   },
   "outputs": [],
   "source": [
    "def add_two_numbers_special(a, b):\n",
    "    \"\"\" Adds two numbers together if they're both positive.\n",
    "    Multiplies the two numbers together if either is negative.\n",
    "    \"\"\"\n",
    "    if a >= 0 and b >= 0:\n",
    "        return a + b\n",
    "    return a * b"
   ]
  },
  {
   "cell_type": "markdown",
   "metadata": {
    "id": "gB7Z2KfzZru_"
   },
   "source": [
    "Docstrings are surrounded by triple quotation marks to identify that they are comments, and they allow programmers to know what the function does without having to read through the code."
   ]
  },
  {
   "cell_type": "markdown",
   "metadata": {
    "id": "wwFbOjssVkvb"
   },
   "source": [
    "#### Summary"
   ]
  },
  {
   "cell_type": "markdown",
   "metadata": {
    "id": "qhqPCxSvVqgr"
   },
   "source": [
    "In this lesson, we learned about if/else/elif, writing our own functions, default arguments, keyword arguments, and docstrings. Here is a summary of the concepts we've learned:\n",
    "\n",
    "| Usage | Description |\n",
    "| --- | --- |\n",
    "| if/elif/else | conditional statement |\n",
    "| def function(arg1, arg2): | function definition |\n",
    "| pass | do nothing |\n",
    "| x = \"value\" | string assignment |\n",
    "| \"\"\"foo\"\"\" | multi-line string |\n",
    "| \"abc\" == \"def\" | string equality |\n",
    "| \"abc\" < \"def\" | string inequality |\n",
    "| \"abc\" + \"def\" | string concatenation |\n",
    "| \"abc\" * 3 | string multiplication |\n",
    "| \"\\n\" | newline character |\n",
    "| \"\\t\" | tab character |\n",
    "| \"\\\\\" | backslash character |\n",
    "| \"a\" in \"abc\" | string includes other string |\n",
    "| \"a\" not in \"abc\" | string doesn't include other string |\n",
    "| len(string) | length of string in characters |\n",
    "| \"\"\" Description of function \"\"\" | docstring |"
   ]
  },
  {
   "cell_type": "markdown",
   "metadata": {
    "id": "1LkbeKfEXTdQ"
   },
   "source": [
    "Now let's get some practice in:"
   ]
  },
  {
   "cell_type": "markdown",
   "metadata": {},
   "source": [
    "#### Practice Problems"
   ]
  },
  {
   "cell_type": "markdown",
   "metadata": {
    "id": "w8XKAnivXVQ5"
   },
   "source": [
    "1. Write the following function:"
   ]
  },
  {
   "cell_type": "code",
   "execution_count": null,
   "metadata": {
    "id": "Pq5bVXnEYlkR"
   },
   "outputs": [],
   "source": [
    "def calculate_groceries_total(num_bread, bread_price, num_eggs, eggs_price, num_cheese, cheese_price, tax_rate):\n",
    "    \"\"\"\n",
    "    The calculate receipt function should calculate and print the total\n",
    "    cost of buying bread, eggs, and cheese with a given tax rate. The\n",
    "    function takes 7 arguments:\n",
    "    num_bread - the number of loaves of bread\n",
    "    bread_price - the price for each bread loaf\n",
    "    num_eggs - the number of eggs bought\n",
    "    eggs_price - the price for each egg\n",
    "    num_cheese - the number of cheeses bought\n",
    "    cheese_price - the price of each cheese\n",
    "    tax_rate - the percentage of tax to add onto the total\n",
    "    \n",
    "    The function should total the cost of each item bought (taking into\n",
    "    account the number and price of that item), and then apply tax and\n",
    "    return the result.\n",
    "\n",
    "    If the subtotal is negative, return 0 instead.\n",
    "    Ex.\n",
    "    calculate_groceries_total(3, 1.99, 12, 2.99, 5, 3.99, 0.15) == 71.07\n",
    "    calculate_groceries_total(-4, 123, 0, 0.123, -23, 142, 0.99) == 0\n",
    "    \"\"\"\n",
    "    pass\n",
    "\n",
    "print(calculate_groceries_total(3, 1.99, 12, 2.99, 5, 3.99, 0.15) == 71.07)\n",
    "print(calculate_groceries_total(-4, 123, 0, 0.123, -23, 142, 0.99) == 0)"
   ]
  },
  {
   "cell_type": "markdown",
   "metadata": {
    "id": "YFKSkDsQYj0D"
   },
   "source": [
    "2. Write the following function:"
   ]
  },
  {
   "cell_type": "code",
   "execution_count": null,
   "metadata": {
    "id": "hJQtDTr9dIYS"
   },
   "outputs": [],
   "source": [
    "def get_thousands_place(num):\n",
    "    \"\"\"\n",
    "    Calculate the thousand's place of num.\n",
    "    Ex. \n",
    "    get_thousands_place(4132) == 4\n",
    "    get_thousands_place(23) == 0\n",
    "    get_thousands_place(9382412) == 2\n",
    "    \"\"\"\n",
    "    pass\n",
    "\n",
    "print(get_thousands_place(4132) == 4)\n",
    "print(get_thousands_place(23) == 0)\n",
    "print(get_thousands_place(9382412) == 2)"
   ]
  },
  {
   "cell_type": "markdown",
   "metadata": {
    "id": "gcS31TJdduAK"
   },
   "source": [
    "3. Write the following function:"
   ]
  },
  {
   "cell_type": "code",
   "execution_count": null,
   "metadata": {
    "id": "ad2dGsYZdwdw"
   },
   "outputs": [],
   "source": [
    "def letter_grade(grade_percentage):\n",
    "    \"\"\"\n",
    "    Calculates the letter grade given a grade percentage.\n",
    "    There are no pluses or minuses, i.e. \"A+\", \"B-\"\n",
    "    If grade_percentage is either negative or greater than 100,\n",
    "    return \"Invalid\"\n",
    "    Ex.\n",
    "    letter_grade(99.9) == \"A\"\n",
    "    letter_grade(100) == \"A\"\n",
    "    letter_grade(80) == \"B\"\n",
    "    letter_grade(77) == \"C\"\n",
    "    letter_grade(60.1) == \"D\"\n",
    "    letter_grade(0) == \"F\"\n",
    "    letter_grade(1000) == \"Invalid\"\n",
    "    letter_grade(-5) == \"Invalid\"\n",
    "    \"\"\"\n",
    "    pass\n",
    "print(letter_grade(99.9) == \"A\")\n",
    "print(letter_grade(100) == \"A\")\n",
    "print(letter_grade(80) == \"B\")\n",
    "print(letter_grade(77) == \"C\")\n",
    "print(letter_grade(60.1) == \"D\")\n",
    "print(letter_grade(0) == \"F\")\n",
    "print(letter_grade(1000) == \"Invalid\")\n",
    "print(letter_grade(-5) == \"Invalid\")"
   ]
  },
  {
   "cell_type": "markdown",
   "metadata": {},
   "source": [
    "4. Write the following function:"
   ]
  },
  {
   "cell_type": "code",
   "execution_count": null,
   "metadata": {},
   "outputs": [],
   "source": [
    "def needle_in_haystack(haystack, needle):\n",
    "    \"\"\"\n",
    "    If the needle string is in the haystack string, return\n",
    "    \"found it!\".\n",
    "    Otherwise, return \"better luck next time...\"\n",
    "    Ex.\n",
    "    needle_in_haystack(\"OOOOOOO0OOOO\", \"0\") == \"found it!\"\n",
    "    needle_in_haystack(\"llllllllll\", \"1\") == \"better luck next time...\"\n",
    "    needle_in_haystack(\"aaa\", \"aaa\") == \"found it!\"\n",
    "    needle_in_haystack(\"\", \"aaa\") == \"better luck next time...\"\n",
    "    needle_in_haystack(\"asdf\", \"\") == \"found it!\"\n",
    "    needle_in_haystack(\"\", \"\") == \"found it!\"\n",
    "    \"\"\"\n",
    "    pass\n",
    "print(needle_in_haystack(\"OOOOOOO0OOOO\", \"0\") == \"found it!\")\n",
    "print(needle_in_haystack(\"llllllllll\", \"1\") == \"better luck next time...\")\n",
    "print(needle_in_haystack(\"aaa\", \"aaa\") == \"found it!\")\n",
    "print(needle_in_haystack(\"\", \"aaa\") == \"better luck next time...\")\n",
    "print(needle_in_haystack(\"asdf\", \"\") == \"found it!\")\n",
    "print(needle_in_haystack(\"\", \"\") == \"found it!\")"
   ]
  },
  {
   "cell_type": "markdown",
   "metadata": {},
   "source": [
    "5. Write the following function:"
   ]
  },
  {
   "cell_type": "code",
   "execution_count": null,
   "metadata": {},
   "outputs": [],
   "source": [
    "def even_world(name):\n",
    "    \"\"\"\n",
    "    If name has an even number of characters, return it.\n",
    "    If name has an odd number of characters, return an empty\n",
    "    string.\n",
    "    Ex.\n",
    "    even_world(\"Steven\") == \"Steven\"\n",
    "    even_world(\"Steve\") == \"\"\n",
    "    even_world(\"a\") == \"\"\n",
    "    even_world(\"Bill\") == \"Bill\"\n",
    "    even_world(\"\") == \"\"\n",
    "    \"\"\"\n",
    "    pass\n",
    "print(even_world(\"Steven\") == \"Steven\")\n",
    "print(even_world(\"Steve\") == \"\")\n",
    "print(even_world(\"a\") == \"\")\n",
    "print(even_world(\"Bill\") == \"Bill\")\n",
    "print(even_world(\"\") == \"\")"
   ]
  },
  {
   "cell_type": "markdown",
   "metadata": {
    "id": "PYgSiX819rkH"
   },
   "source": [
    "### Module 1.3: Indexing, Lists, and Tuples"
   ]
  },
  {
   "cell_type": "markdown",
   "metadata": {
    "id": "cYFkrmthCkZm"
   },
   "source": [
    "#### Indexing"
   ]
  },
  {
   "cell_type": "markdown",
   "metadata": {
    "id": "QoPrslZKCynU"
   },
   "source": [
    "Listen up, this is an important one. If you want to retrieve a certain character in a string, you can use what's called **indexing**:"
   ]
  },
  {
   "cell_type": "code",
   "execution_count": null,
   "metadata": {
    "id": "kcIFMSoMC3zh"
   },
   "outputs": [],
   "source": [
    "# index format\n",
    "# <string>[<index>]\n",
    "my_example_string = \"abcd\"\n",
    "print(my_example_string[0])\n",
    "print(my_example_string[1])\n",
    "print(my_example_string[2])\n",
    "print(my_example_string[3])"
   ]
  },
  {
   "cell_type": "markdown",
   "metadata": {
    "id": "eOadHgzTC8Ly"
   },
   "source": [
    "If you use the square brackets (**[ ]**) next to a variable or string, you can pick out a character from that string. The number between the square brackets is the position of the character you're trying to grab, also called the **index**."
   ]
  },
  {
   "cell_type": "markdown",
   "metadata": {
    "id": "ZKr0NgYhDoSJ"
   },
   "source": [
    "NOTICE: Positions for characters in strings start at 0, not 1. If you want to know why...ask me some other time. But for now, just get used to it. Try and guess what the following piece of code will print:"
   ]
  },
  {
   "cell_type": "code",
   "execution_count": null,
   "metadata": {
    "id": "dvtoVlr8ECST"
   },
   "outputs": [],
   "source": [
    "print(\"xyz\"[1])"
   ]
  },
  {
   "cell_type": "code",
   "execution_count": null,
   "metadata": {
    "id": "dNT1UjycHV8f"
   },
   "outputs": [],
   "source": [
    "print(\"a really nice string\"[2 + 3])"
   ]
  },
  {
   "cell_type": "code",
   "execution_count": null,
   "metadata": {
    "id": "jPGQqsLXHXhQ"
   },
   "outputs": [],
   "source": [
    "print(\"asdf\"[1] + \"ghjk\"[2])"
   ]
  },
  {
   "cell_type": "markdown",
   "metadata": {
    "id": "-rRS9uj7H5zp"
   },
   "source": [
    "If you try to index beyond the size of the string, an exception will be raised:"
   ]
  },
  {
   "cell_type": "code",
   "execution_count": null,
   "metadata": {
    "id": "-mix_y-QH_1p"
   },
   "outputs": [],
   "source": [
    "\"abc\"[10]"
   ]
  },
  {
   "cell_type": "markdown",
   "metadata": {},
   "source": [
    "If you try to index with something other than an integer, an exception will be raised:"
   ]
  },
  {
   "cell_type": "code",
   "execution_count": null,
   "metadata": {},
   "outputs": [],
   "source": [
    "\"abc\"[1.5]"
   ]
  },
  {
   "cell_type": "code",
   "execution_count": null,
   "metadata": {},
   "outputs": [],
   "source": [
    "\"abc\"[\"a\"]"
   ]
  },
  {
   "cell_type": "markdown",
   "metadata": {
    "id": "DLt35H9yHfn-"
   },
   "source": [
    "You can index using **negative indices**, which go backwards from the last character in the string. Not many modern coding languages include this feature, so consider it a premium:"
   ]
  },
  {
   "cell_type": "code",
   "execution_count": null,
   "metadata": {
    "id": "XBSvU3PkHsC5"
   },
   "outputs": [],
   "source": [
    "print(\"abcd\"[-1])\n",
    "print(\"abcd\"[-2])\n",
    "print(\"abcd\"[-3])\n",
    "print(\"abcd\"[-4])"
   ]
  },
  {
   "cell_type": "markdown",
   "metadata": {
    "id": "HoEe1CaeWl21"
   },
   "source": [
    "#### Slicing"
   ]
  },
  {
   "cell_type": "markdown",
   "metadata": {
    "id": "7ZPGwoCsWo9c"
   },
   "source": [
    "A more advanced way to index strings is to grab multiple characters of the string rather than a single character. This is called **slicing**:"
   ]
  },
  {
   "cell_type": "code",
   "execution_count": null,
   "metadata": {
    "id": "-Wbf2o58Wvya"
   },
   "outputs": [],
   "source": [
    "# slice format\n",
    "# <string>[<start_index>:<end_index>]\n",
    "print(\"abcde\"[1:4])"
   ]
  },
  {
   "cell_type": "markdown",
   "metadata": {
    "id": "GIMx9iW0W0ET"
   },
   "source": [
    "The slice syntax uses square brackets like indexing, but has two numbers separated by a colon. The number on the left is the index to start slicing (inclusive), and the number on the right is the index to stop slicing (exclusive). In the case above, index 1 is the character \"b\", and the character right before index 4 is the character \"d\", so the output is \"bcd\"."
   ]
  },
  {
   "cell_type": "code",
   "execution_count": null,
   "metadata": {
    "id": "yR2fzBuRXxe1"
   },
   "outputs": [],
   "source": [
    "print(\"abcde\"[1:])"
   ]
  },
  {
   "cell_type": "markdown",
   "metadata": {
    "id": "u4qqtaj6XzYw"
   },
   "source": [
    "If you don't include a number after the colon, then the slicing will continue to the rest of the string."
   ]
  },
  {
   "cell_type": "code",
   "execution_count": null,
   "metadata": {
    "id": "_hWBPY4lX6xP"
   },
   "outputs": [],
   "source": [
    "print(\"abcde\"[:4])"
   ]
  },
  {
   "cell_type": "markdown",
   "metadata": {
    "id": "SvyTBycjX9Ib"
   },
   "source": [
    "If you don't include a number before the colon, then the slicing will start from the beginning of the string."
   ]
  },
  {
   "cell_type": "markdown",
   "metadata": {
    "id": "lbYghmVtYBQd"
   },
   "source": [
    "You can even include neither numbers and just the colon, list[:], which returns the original string! I'll get to why that matters later."
   ]
  },
  {
   "cell_type": "markdown",
   "metadata": {
    "id": "e9Jonsw2YJVp"
   },
   "source": [
    "You can also slice with negative indices:"
   ]
  },
  {
   "cell_type": "code",
   "execution_count": null,
   "metadata": {
    "id": "SQTy3GTmYL18"
   },
   "outputs": [],
   "source": [
    "print(\"abcde\"[1:-1])"
   ]
  },
  {
   "cell_type": "markdown",
   "metadata": {
    "id": "5EGwM2vSYQex"
   },
   "source": [
    "In the case above, the slice will start at index 1 and include characters until right before the last index (index -1)."
   ]
  },
  {
   "cell_type": "markdown",
   "metadata": {},
   "source": [
    "#### **Coding Activity 1**"
   ]
  },
  {
   "cell_type": "code",
   "execution_count": 1,
   "metadata": {},
   "outputs": [
    {
     "name": "stdout",
     "output_type": "stream",
     "text": [
      "False\n",
      "False\n",
      "False\n",
      "False\n",
      "False\n"
     ]
    }
   ],
   "source": [
    "# Write the following functions\n",
    "def string_race(string_a, string_b):\n",
    "    \"\"\"\n",
    "    If string_a and string_b are the same length, return the last\n",
    "    character in string_a.\n",
    "    If string_a is shorter than string b, return the character in\n",
    "    string_b that is at the same index as the last character in string_a.\n",
    "    If string_a is longer than string_b, return the character in string_a\n",
    "    that is at the same index as the last character in string_b.\n",
    "    Ex.\n",
    "    string_race(\"abc\", \"def\") == \"c\"\n",
    "    string_race(\"abc\", \"de\") == \"b\"\n",
    "    string_race(\"ab\", \"def\") == \"e\"\n",
    "    \"\"\"\n",
    "    pass\n",
    "\n",
    "print(string_race(\"abc\", \"def\") == \"c\")\n",
    "print(string_race(\"abc\", \"de\") == \"b\")\n",
    "print(string_race(\"ab\", \"def\") == \"e\")\n",
    "\n",
    "def is_repeat(string):\n",
    "    \"\"\"\n",
    "    If the first half of the string is the same as the second, return True.\n",
    "    Otherwise, return False.\n",
    "    string will always have an even number of characters.\n",
    "    Ex.\n",
    "    is_repeat(\"abc\") == False\n",
    "    is_repeat(\"abcabc\") == True\n",
    "    \"\"\"\n",
    "    pass\n",
    "    \n",
    "print(is_repeat(\"abc\") == False)\n",
    "print(is_repeat(\"abcabc\") == True)\n"
   ]
  },
  {
   "cell_type": "markdown",
   "metadata": {
    "id": "dts-yBSfEMdn"
   },
   "source": [
    "#### Lists and Tuples"
   ]
  },
  {
   "cell_type": "markdown",
   "metadata": {
    "id": "t4O2i1wSIR_d"
   },
   "source": [
    "Let's cover 2 more data types: **lists** and **tuples**. We'll start with lists:"
   ]
  },
  {
   "cell_type": "code",
   "execution_count": null,
   "metadata": {
    "id": "4jPn10DCKKhx"
   },
   "outputs": [],
   "source": [
    "my_epic_list = [1, 2, 3]\n",
    "print(my_epic_list)"
   ]
  },
  {
   "cell_type": "markdown",
   "metadata": {
    "id": "57WXO4y7KNOr"
   },
   "source": [
    "Lists are identified with square brackets, and each item in the list is separated by a comma. You can index/slice lists just like how you can index strings."
   ]
  },
  {
   "cell_type": "code",
   "execution_count": null,
   "metadata": {
    "id": "66T6GrjcKZDN"
   },
   "outputs": [],
   "source": [
    "simple_list = [1, 2, 3]\n",
    "print(simple_list[0])\n",
    "print(simple_list[-1])\n",
    "print(simple_list[1:3])"
   ]
  },
  {
   "cell_type": "markdown",
   "metadata": {
    "id": "nXpyEi-2KhWs"
   },
   "source": [
    "Python lists can store any data type in them, including other lists:"
   ]
  },
  {
   "cell_type": "code",
   "execution_count": null,
   "metadata": {
    "id": "aW5Tb5OBKnJG"
   },
   "outputs": [],
   "source": [
    "mixed_list = [1, 2.5, \"hello there\"]\n",
    "list_inception = [1, 2, [3, 4, 5, [6, 7, 8]]]\n",
    "print(list_inception[2])\n",
    "print(list_inception[2][3])\n",
    "print(list_inception[2][3][0])"
   ]
  },
  {
   "cell_type": "markdown",
   "metadata": {
    "id": "UM8tCLiLK8Ya"
   },
   "source": [
    "Here's a list of other things you can do with lists, most of which should be familiar. You can infer what the rest do:"
   ]
  },
  {
   "cell_type": "code",
   "execution_count": null,
   "metadata": {
    "id": "5Fi398PxLwOO"
   },
   "outputs": [],
   "source": [
    "print(1 in [1, 2, 3]) # check if 1 is in the list\n",
    "print(4 not in [1, 2, 3]) # check if 4 is not in the list\n",
    "print([1, 2, 3] == [1, 2, 3]) # check if the 2 lists are equal\n",
    "print([1, 2, 3] != [1, 2, 3]) # check if the 2 lists are not equal\n",
    "print([1, 2, 3] + [4, 5, 6]) # concatenate the lists\n",
    "print([1, 2, 3] * 3) # multiply the list\n",
    "print(len([1, 2, 3])) # calculate the length of the list\n",
    "print(min([1, 2, 3])) # return the smallest value of the list\n",
    "print(sum([1, 2, 3])) # calculate the sum of the list"
   ]
  },
  {
   "cell_type": "markdown",
   "metadata": {},
   "source": [
    "A nice feature of the **in** operator in lists is that you can check if a variable has one of multiple values easily."
   ]
  },
  {
   "cell_type": "code",
   "execution_count": null,
   "metadata": {},
   "outputs": [],
   "source": [
    "person = \"Bob\"\n",
    "if person == \"Bob\" or person == \"Jim\" or person == \"Sally\":\n",
    "    print(\"My friend!\")\n",
    "\n",
    "# can be simplified to:\n",
    "if person in [\"Bob\", \"Jim\", \"Sally\"]:\n",
    "    print(\"My friend!\")"
   ]
  },
  {
   "cell_type": "markdown",
   "metadata": {},
   "source": [
    "#### Nested (2-d) Lists"
   ]
  },
  {
   "cell_type": "markdown",
   "metadata": {},
   "source": [
    "Lists are powerful because you can create **nested lists**:"
   ]
  },
  {
   "cell_type": "code",
   "execution_count": null,
   "metadata": {},
   "outputs": [],
   "source": [
    "battleship = [\n",
    "#    columns\n",
    "#    0  1  2  3     rows\n",
    "    [0, 1, 0, 0], # 0\n",
    "    [0, 1, 0, 0], # 1\n",
    "    [0, 0, 0, 1], # 2\n",
    "    [0, 0, 0, 0]  # 3\n",
    "]\n",
    "# nested list format\n",
    "# <nested_list>[<row_index>][<column_index>]\n",
    "print(battleship[0][1])\n",
    "print(battleship[0][0])\n",
    "\n",
    "# we can grab entire rows\n",
    "row_1 = battleship[1]\n",
    "print(row_1)\n",
    "print(row_1[1])\n",
    "# we'll look into grabbing columns later..."
   ]
  },
  {
   "cell_type": "markdown",
   "metadata": {},
   "source": [
    "These lists are called 2-d (2-dimensional) lists because they have 2 dimensions, rows and columns. You can have 3-d or higher lists, but we won't go further than 2 (for now)."
   ]
  },
  {
   "cell_type": "markdown",
   "metadata": {
    "id": "iezmrd3fMrT2"
   },
   "source": [
    "#### Mutability"
   ]
  },
  {
   "cell_type": "markdown",
   "metadata": {
    "id": "QktfL7rwMtXi"
   },
   "source": [
    "With lists, we can assign a new value at an index:"
   ]
  },
  {
   "cell_type": "code",
   "execution_count": null,
   "metadata": {
    "id": "i9lGzMluN17d"
   },
   "outputs": [],
   "source": [
    "my_awesome_list = [1, 2, 3]\n",
    "my_awesome_list[0] = 4\n",
    "print(my_awesome_list)"
   ]
  },
  {
   "cell_type": "markdown",
   "metadata": {
    "id": "Nw0oLGqnQd-U"
   },
   "source": [
    "Since we can modify the content of lists, that means that lists are **mutable**. Strings on the other hand, are not mutable, or **immutable**."
   ]
  },
  {
   "cell_type": "markdown",
   "metadata": {
    "id": "IzCF6m-hN-dF"
   },
   "source": [
    "If we try to modify the content inside of a string, an exception is raised:"
   ]
  },
  {
   "cell_type": "code",
   "execution_count": null,
   "metadata": {
    "id": "B6PwCdgFLmsC"
   },
   "outputs": [],
   "source": [
    "my_awesome_string = \"123\"\n",
    "my_awesome_string[0] = \"4\"\n",
    "print(my_awesome_string)"
   ]
  },
  {
   "cell_type": "markdown",
   "metadata": {
    "id": "scrswDDD9t0R"
   },
   "source": [
    "You might look at the code below:"
   ]
  },
  {
   "cell_type": "code",
   "execution_count": null,
   "metadata": {
    "id": "XZAVxcSA9vuT"
   },
   "outputs": [],
   "source": [
    "string1 = \"foo\" + \"bar\"\n",
    "print(string1)"
   ]
  },
  {
   "cell_type": "markdown",
   "metadata": {
    "id": "MEbn7lU891m9"
   },
   "source": [
    "and think that the code is modifying the string \"foo\" or \"bar\", but what's really going on is that when Python concatenates two strings together, it constructs an entirely new string from those strings, \"foobar\", without modifying either \"foo\" or \"bar\". Confusing, but you'll get the hang of it. "
   ]
  },
  {
   "cell_type": "markdown",
   "metadata": {
    "id": "lq7__3JF-h9U"
   },
   "source": [
    "The rule of thumb is that integers, booleans, floats, strings, and tuples (which you'll see very soon), are the only immutable data types in Python (there's actually also frozenset and namedtuple, but we'll cover those way later)."
   ]
  },
  {
   "cell_type": "markdown",
   "metadata": {
    "id": "Oo_F0Oii1yQy"
   },
   "source": [
    "One of the consequences of a type being mutable is that if we store the object in two variables, modifying one will modify the other."
   ]
  },
  {
   "cell_type": "code",
   "execution_count": null,
   "metadata": {
    "id": "1UucX0eL2f2f"
   },
   "outputs": [],
   "source": [
    "echo = [1, 2, 3]\n",
    "echo2 = echo\n",
    "echo2[1] = 4\n",
    "print(echo)\n",
    "print(echo2)"
   ]
  },
  {
   "cell_type": "markdown",
   "metadata": {
    "id": "ZLoBcJ8N2Dm0"
   },
   "source": [
    "We can prevent this by making a copy of the list every time we store it in another variable. We can do this by slicing the list with no number on the left or the right of the colon."
   ]
  },
  {
   "cell_type": "code",
   "execution_count": null,
   "metadata": {
    "id": "X-xmFoJx2e_T"
   },
   "outputs": [],
   "source": [
    "echo = [1, 2, 3]\n",
    "echo2 = echo[:]\n",
    "echo2[1] = 4\n",
    "print(echo)\n",
    "print(echo2)"
   ]
  },
  {
   "cell_type": "markdown",
   "metadata": {},
   "source": [
    "#### **Coding Activity 2**"
   ]
  },
  {
   "cell_type": "code",
   "execution_count": 2,
   "metadata": {},
   "outputs": [],
   "source": [
    "# Write the following function\n",
    "def swap(my_list, index_1, index_2):\n",
    "    \"\"\"\n",
    "    Swap the values at index_1 and index_2 in the list my_list.\n",
    "    Ex.\n",
    "    [1, 2, 3], 0, 2 -> [3, 2, 1]\n",
    "    [1, 2, 3, 4, 5], 1, 2 -> [1, 3, 2, 4, 5]\n",
    "    [1, 2, 3, 4], 1, 1 -> [1, 2, 3, 4]\n",
    "    \"\"\"\n",
    "    pass\n",
    "my_list = [1, 2, 3]\n",
    "swap(my_list, 0, 2)\n",
    "print(my_list == [3, 2, 1])\n",
    "\n",
    "my_list = [1, 2, 3, 4, 5]\n",
    "swap(my_list, 1, 2)\n",
    "print(my_list == [1, 3, 2, 4, 5])\n",
    "\n",
    "my_list = [1, 2, 3, 4]\n",
    "swap(my_list, 1, 1)\n",
    "print(my_list == [1, 2, 3, 4])"
   ]
  },
  {
   "cell_type": "markdown",
   "metadata": {
    "id": "q2UtE5rDSLXo"
   },
   "source": [
    "#### Tuples"
   ]
  },
  {
   "cell_type": "markdown",
   "metadata": {
    "id": "mYH3YOoESPSe"
   },
   "source": [
    "**Tuples** are immutable lists. You define them with parentheses, (), but other than that, you can use them pretty similar to lists."
   ]
  },
  {
   "cell_type": "code",
   "execution_count": null,
   "metadata": {
    "id": "w8K0x2ZkSbg6"
   },
   "outputs": [],
   "source": [
    "my_awesome_tuple = (1, 2, 3)\n",
    "print(my_awesome_tuple[0])\n",
    "print((1, 2, 3) + (4, 5, 6))\n",
    "print(1 in (1, 2, 3))"
   ]
  },
  {
   "cell_type": "markdown",
   "metadata": {
    "id": "_9DZ7BMsS2cB"
   },
   "source": [
    "But if we try to modify a tuple's contents, we get an exception:"
   ]
  },
  {
   "cell_type": "code",
   "execution_count": null,
   "metadata": {
    "id": "YBmZAo57SNuS"
   },
   "outputs": [],
   "source": [
    "my_tuple = (1, 2, 3)\n",
    "my_tuple[0] = 4"
   ]
  },
  {
   "cell_type": "markdown",
   "metadata": {
    "id": "I_g-Q5JIQy3N"
   },
   "source": [
    "Other than mutability, tuples are identical to lists. That means you can do many of the same operations on tuples that you can on lists, as long as that operation does not modify the contents of the tuple."
   ]
  },
  {
   "cell_type": "markdown",
   "metadata": {},
   "source": [
    "#### **Coding Activity 3**"
   ]
  },
  {
   "cell_type": "code",
   "execution_count": null,
   "metadata": {},
   "outputs": [],
   "source": [
    "# Write the following functions\n",
    "def sum_3_matches(num_tuple):\n",
    "    \"\"\"\n",
    "    Return whether the sum of the first 3 elements in num_tuple is the \n",
    "    same as the sum of the last 3 elements.\n",
    "    Ex.\n",
    "    sum_3_matches((1, 4, 3, 2, 3)) == True\n",
    "    sum_3_matches((1, 2, 3, 4)) == False\n",
    "    sum_3_matches((4, 2, 3, 4)) == True\n",
    "    \"\"\"\n",
    "    pass\n",
    "\n",
    "print(sum_3_matches((1, 4, 3, 2, 3)) == True)\n",
    "print(sum_3_matches((1, 2, 3, 4)) == False)\n",
    "print(sum_3_matches((4, 2, 3, 4)) == True)\n",
    "\n",
    "\n",
    "def copy_first_last(list_a, list_b):\n",
    "    \"\"\"\n",
    "    Copy the first and last value of list_a into the first and last \n",
    "    value of list_b.\n",
    "    Don't return anything.\n",
    "    Ex.\n",
    "    [1, 2, 3], [4, 5, 6] -> [1, 2, 3], [1, 5, 3]\n",
    "    [1, 2, 3], [0, 1] -> [1, 2, 3], [1, 3]\n",
    "    [1, 2, 3], [100, 100, 100, 100] -> [1, 2, 3], [1, 100, 100, 3]\n",
    "    \"\"\"\n",
    "    pass\n",
    "list_a = [1, 2, 3]\n",
    "list_b = [4, 5, 6]\n",
    "copy_first_last(list_a, list_b)\n",
    "print(list_b == [1, 5, 3])\n",
    "\n",
    "list_b = [0, 1]\n",
    "copy_first_last(list_a, list_b)\n",
    "print(list_b == [1, 3])\n",
    "\n",
    "list_b = [100, 100, 100, 100]\n",
    "copy_first_last(list_a, list_b)\n",
    "print(list_b == [1, 100, 100 3])"
   ]
  },
  {
   "cell_type": "markdown",
   "metadata": {
    "id": "edyEj4zCMz5N"
   },
   "source": [
    "#### Summary"
   ]
  },
  {
   "cell_type": "markdown",
   "metadata": {
    "id": "Iy-7A1-EM4En"
   },
   "source": [
    "In this lesson, we learned about strings, string comparison, string operators, string math, indexing, slicing, lists, mutability, tuples, and list methods. Here is a summary of the concepts we've learned."
   ]
  },
  {
   "cell_type": "markdown",
   "metadata": {
    "id": "OBb1fMrgNwRZ"
   },
   "source": [
    "| Usage | Description |\n",
    "| --- | --- |\n",
    "| var[i] | indexing |\n",
    "| var[i][j] | nested list indexing |\n",
    "| var[i] = value | index assignment |\n",
    "| var[start:end] | slicing |\n",
    "| var[start:] | slice until the end |\n",
    "| var[:end] | slice from the beginning |\n",
    "| \"a\" in \"abc\" | does \"abc\" contain \"a\"? |\n",
    "| \"a\" not in \"abc\" | does \"abc\" not contain \"a\"? |\n",
    "| \"abc\" + \"def\" | concatenation |\n",
    "| \"abc\" * 3 | multiplication |"
   ]
  },
  {
   "cell_type": "markdown",
   "metadata": {
    "id": "wt8en_sfzrn8"
   },
   "source": [
    "Now let's get some practice in!"
   ]
  },
  {
   "cell_type": "markdown",
   "metadata": {},
   "source": [
    "#### Practice Problems"
   ]
  },
  {
   "cell_type": "markdown",
   "metadata": {
    "id": "n67WkqOgztO3"
   },
   "source": [
    "1. Write the following function:"
   ]
  },
  {
   "cell_type": "code",
   "execution_count": null,
   "metadata": {},
   "outputs": [],
   "source": [
    "def grade_calculator(grades):\n",
    "    \"\"\"\n",
    "    Return the average of the grades in the list.\n",
    "    Ex.\n",
    "    grade_calculator([1, 2, 3]) == 2\n",
    "    grade_calculator([1, 2, 3, 4]) == 2.5\n",
    "    grade_calculator([1, 2, 3, 4, 5]) == 3\n",
    "    grade_calculator([]) == 0\n",
    "    \"\"\"\n",
    "    pass\n",
    "print(grade_calculator([1, 2, 3]) == 2)\n",
    "print(grade_calculator([1, 2, 3, 4]) == 2.5)\n",
    "print(grade_calculator([1, 2, 3, 4, 5]) == 3)\n",
    "print(grade_calculator([]) == 0)"
   ]
  },
  {
   "cell_type": "markdown",
   "metadata": {},
   "source": [
    "2. Write the following function:"
   ]
  },
  {
   "cell_type": "code",
   "execution_count": null,
   "metadata": {},
   "outputs": [],
   "source": [
    "def starts_with(string, prefix):\n",
    "    \"\"\"\n",
    "    Return whether string starts with prefix.\n",
    "    Ex.\n",
    "    starts_with(\"abc\", \"a\") == True\n",
    "    starts_with(\"abc\", \"b\") == False\n",
    "    starts_with(\"abc\", \"ab\") == True\n",
    "    starts_with(\"abc\", \"\") == True\n",
    "    \"\"\"\n",
    "    pass\n",
    "print(starts_with(\"abc\", \"a\") == True)\n",
    "print(starts_with(\"abc\", \"b\") == False)\n",
    "print(starts_with(\"abc\", \"ab\") == True)\n",
    "print(starts_with(\"abc\", \"\") == True)"
   ]
  },
  {
   "cell_type": "markdown",
   "metadata": {},
   "source": [
    "3. Write the following function:"
   ]
  },
  {
   "cell_type": "code",
   "execution_count": null,
   "metadata": {},
   "outputs": [],
   "source": [
    "def right_index(my_list, index):\n",
    "    \"\"\"\n",
    "    Return the item in the list indexing from the right.\n",
    "    Ex.\n",
    "    right_index([1, 2, 3], 0) == 3\n",
    "    right_index([1, 2, 3], 1) == 2\n",
    "    right_index([1, 2, 3], 2) == 1\n",
    "    \"\"\"\n",
    "    pass\n",
    "print(right_index([1, 2, 3], 0) == 3)\n",
    "print(right_index([1, 2, 3], 1) == 2)\n",
    "print(right_index([1, 2, 3], 2) == 1)"
   ]
  },
  {
   "cell_type": "markdown",
   "metadata": {},
   "source": [
    "4. Write the following function:"
   ]
  },
  {
   "cell_type": "code",
   "execution_count": null,
   "metadata": {},
   "outputs": [],
   "source": [
    "def is_capitalized(string):\n",
    "    \"\"\"\n",
    "    Return whether the first letter of string is capitalized. If the\n",
    "    first character is not a letter or doesn't exist, it is not \n",
    "    capitalized.\n",
    "    Ex.\n",
    "    is_capitalized(\"Hello\") == True\n",
    "    is_capitalized(\"hello\") == False\n",
    "    is_capitalized(\"HELLO\") == True\n",
    "    is_capitalized(\"hellO\") == False\n",
    "    is_capitalized(\"123\") == False\n",
    "    is_capitalized(\"\") == False\n",
    "    \"\"\"\n",
    "    pass\n",
    "print(is_capitalized(\"Hello\") == True)\n",
    "print(is_capitalized(\"hello\") == False)\n",
    "print(is_capitalized(\"HELLO\") == True)\n",
    "print(is_capitalized(\"hellO\") == False)\n",
    "print(is_capitalized(\"123\") == False)\n",
    "print(is_capitalized(\"\") == False)"
   ]
  },
  {
   "cell_type": "markdown",
   "metadata": {},
   "source": [
    "5. Writing the following function:"
   ]
  },
  {
   "cell_type": "code",
   "execution_count": 5,
   "metadata": {},
   "outputs": [
    {
     "name": "stdout",
     "output_type": "stream",
     "text": [
      "False\n",
      "False\n",
      "False\n"
     ]
    }
   ],
   "source": [
    "def tic_tac_toe(board, row, col):\n",
    "    \"\"\"\n",
    "    On a tic-tac-toe board, such as the one below, with \"-\" \n",
    "    representing an empty square, and X and O representing a\n",
    "    player's square, figure out who's turn it is, and place an \n",
    "    X or O on the given a row and column depending on who's turn\n",
    "    it is.\n",
    "    X always goes first.\n",
    "    Make sure you don't return anything and modify the board\n",
    "    parameter.\n",
    "    Ex.\n",
    "    [\n",
    "        [\"-\", \"-\", \"-\"],\n",
    "        [\"-\", \"-\", \"-\"],\n",
    "        [\"-\", \"-\", \"-\"]\n",
    "    ], 1, 1 ->\n",
    "    [\n",
    "        [\"-\", \"-\", \"-\"],\n",
    "        [\"-\", \"X\", \"-\"],\n",
    "        [\"-\", \"-\", \"-\"]\n",
    "    ]\n",
    "    \n",
    "    [\n",
    "        [\"x\", \"O\", \"X\"],\n",
    "        [\"-\", \"-\", \"-\"],\n",
    "        [\"-\", \"-\", \"-\"]\n",
    "    ], 1, 2 ->\n",
    "    [\n",
    "        [\"X\", \"O\", \"X\"],\n",
    "        [\"-\", \"-\", \"O\"],\n",
    "        [\"-\", \"-\", \"-\"]\n",
    "    ]\n",
    "    \n",
    "    [\n",
    "        [\"-\", \"O\", \"X\"],\n",
    "        [\"-\", \"-\", \"-\"],\n",
    "        [\"-\", \"O\", \"X\"]\n",
    "    ], 0, 0 ->\n",
    "    [\n",
    "        [\"X\", \"O\", \"X\"],\n",
    "        [\"-\", \"-\", \"-\"],\n",
    "        [\"-\", \"O\", \"X\"]\n",
    "    ]\n",
    "    \"\"\"\n",
    "    pass\n",
    "\n",
    "board = [\n",
    "        [\"-\", \"-\", \"-\"],\n",
    "        [\"-\", \"-\", \"-\"],\n",
    "        [\"-\", \"-\", \"-\"]\n",
    "    ]\n",
    "tic_tac_toe(board, 1, 1)\n",
    "print(board ==\n",
    "    [\n",
    "        [\"-\", \"-\", \"-\"],\n",
    "        [\"-\", \"X\", \"-\"],\n",
    "        [\"-\", \"-\", \"-\"]\n",
    "    ])\n",
    "\n",
    "board = [\n",
    "        [\"X\", \"O\", \"X\"],\n",
    "        [\"-\", \"-\", \"-\"],\n",
    "        [\"-\", \"-\", \"-\"]\n",
    "    ]\n",
    "tic_tac_toe(board, 1, 2)\n",
    "print(board ==\n",
    "    [\n",
    "        [\"X\", \"O\", \"X\"],\n",
    "        [\"-\", \"-\", \"O\"],\n",
    "        [\"-\", \"-\", \"-\"]\n",
    "    ])\n",
    "\n",
    "board = [\n",
    "        [\"-\", \"O\", \"X\"],\n",
    "        [\"-\", \"-\", \"-\"],\n",
    "        [\"-\", \"O\", \"X\"]\n",
    "    ]\n",
    "tic_tac_toe(board, 0, 0)\n",
    "print(board ==\n",
    "    [\n",
    "        [\"X\", \"O\", \"X\"],\n",
    "        [\"-\", \"-\", \"-\"],\n",
    "        [\"-\", \"O\", \"X\"]\n",
    "    ])"
   ]
  },
  {
   "cell_type": "code",
   "execution_count": null,
   "metadata": {},
   "outputs": [],
   "source": []
  }
 ],
 "metadata": {
  "interpreter": {
   "hash": "18db06d66b83781e741671a8bbd09812ebc032e21520231392754694b3895265"
  },
  "kernelspec": {
   "display_name": "Python 3 (ipykernel)",
   "language": "python",
   "name": "python3"
  },
  "language_info": {
   "codemirror_mode": {
    "name": "ipython",
    "version": 3
   },
   "file_extension": ".py",
   "mimetype": "text/x-python",
   "name": "python",
   "nbconvert_exporter": "python",
   "pygments_lexer": "ipython3",
   "version": "3.10.2"
  }
 },
 "nbformat": 4,
 "nbformat_minor": 4
}
