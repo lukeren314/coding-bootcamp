{
 "cells": [
  {
   "cell_type": "markdown",
   "metadata": {},
   "source": [
    "## Module 1 Solutions"
   ]
  },
  {
   "cell_type": "markdown",
   "metadata": {},
   "source": [
    "### 1.1"
   ]
  },
  {
   "cell_type": "markdown",
   "metadata": {},
   "source": [
    "#### Coding Activity 1"
   ]
  },
  {
   "cell_type": "code",
   "execution_count": 1,
   "metadata": {},
   "outputs": [
    {
     "name": "stdout",
     "output_type": "stream",
     "text": [
      "59049\n",
      "14.236702022798575\n"
     ]
    }
   ],
   "source": [
    "# Use what you've learned so far to calculate and print\n",
    "# the smallest value between 2 to the power of 20,\n",
    "# 2.5 to the power of 15, and 3 to the power of 10.\n",
    "print(min(2**20, 2.5**15, 3**10))\n",
    "\n",
    "from math import log # comutes natural log\n",
    "# Use what you've learned so far to calculate and print\n",
    "# solve for x in the equation: e ^ x  / 32 + 5313 = 52931\n",
    "print(log((52931 - 5313) * 32))\n",
    "\n",
    "# Use what you've learned so far to calculate and print\n",
    "# the digit in the 10'000s place of 2 ^ 25\n",
    "print(2 ^ 25 // 10000 % 10)"
   ]
  },
  {
   "cell_type": "markdown",
   "metadata": {},
   "source": [
    "#### Coding Activity 2"
   ]
  },
  {
   "cell_type": "code",
   "execution_count": null,
   "metadata": {},
   "outputs": [],
   "source": [
    "# Use what you've learned so far to calculate and print\n",
    "# whether or not ALL of these conditions are true.\n",
    "# Condition 1 : 4 is even\n",
    "# Condition 2 : 3213 is between 4 ^ 5 and 4 ^ 6\n",
    "# Condition 3: 3 == 3.0\n",
    "print(4 % 2 == 0 and 4 ** 5 < 3213 < 4 ** 6 and 3 == 3.0)\n",
    "\n",
    "# Use what you've learned so far to calculate and print\n",
    "# the whether the digit in the 10's place of 3 ** 7 is \n",
    "# greater than 7.\n",
    "print(3 ** 7 // 10 % 10 > 7)\n"
   ]
  },
  {
   "cell_type": "markdown",
   "metadata": {},
   "source": [
    "#### Coding Activity 3"
   ]
  },
  {
   "cell_type": "code",
   "execution_count": null,
   "metadata": {},
   "outputs": [],
   "source": [
    "# What will be the output of this code?\n",
    "\n",
    "awesome_var = 5\n",
    "print(awesome_var) # 5\n",
    "awesome_var += 5\n",
    "print(awesome_var) # 10\n",
    "awesome_var += awesome_var - 3\n",
    "print(awesome_var) # 17\n",
    "awesome_var %= awesome_var // 3\n",
    "print(awesome_var) # 2"
   ]
  },
  {
   "cell_type": "markdown",
   "metadata": {},
   "source": [
    "#### Practice Problems"
   ]
  },
  {
   "cell_type": "markdown",
   "metadata": {},
   "source": [
    "1. True\n",
    "2. herbert!Hoover, 1_like_chezburger, and in are invalid, _chicken_nuggets and _123_abc are valid.\n",
    "3. 123, 456, and 456\n",
    "4. 24\n",
    "5. Code Below"
   ]
  },
  {
   "cell_type": "code",
   "execution_count": null,
   "metadata": {},
   "outputs": [],
   "source": [
    "from math import sqrt\n",
    "x1 = 2\n",
    "y1 = 3\n",
    "x2 = 5\n",
    "y2 = 7\n",
    "\n",
    "# calculate the distance between (x1, y1) and (x2, y2) and print it below\n",
    "# feel free to google the distance formula, or review the notes above on how\n",
    "# to call functions/use arithmetic operators\n",
    "print(sqrt((x1 - x2)**2 + (y1 - y2)**2))"
   ]
  },
  {
   "cell_type": "markdown",
   "metadata": {},
   "source": [
    "### 1.2"
   ]
  },
  {
   "cell_type": "markdown",
   "metadata": {},
   "source": [
    "#### Coding Activity 1"
   ]
  },
  {
   "cell_type": "code",
   "execution_count": null,
   "metadata": {},
   "outputs": [],
   "source": [
    "# Write an if statement to check if the variable below\n",
    "# is an even number. If it is, print 0, otherwise print 1\n",
    "even_or_odd = 21\n",
    "if even_or_odd % 2 == 0:\n",
    "    print(0)\n",
    "else:\n",
    "    print(1)"
   ]
  },
  {
   "cell_type": "markdown",
   "metadata": {},
   "source": [
    "#### Coding Activity 2"
   ]
  },
  {
   "cell_type": "code",
   "execution_count": null,
   "metadata": {},
   "outputs": [],
   "source": [
    "# Write a function called print_if_odd that takes in a parameter \n",
    "# named number and prints it if it is odd, and does nothing if \n",
    "# it is even.\n",
    "def print_if_odd(number):\n",
    "    if number % 2 == 1:\n",
    "        print(number)"
   ]
  },
  {
   "cell_type": "markdown",
   "metadata": {},
   "source": [
    "#### Coding Activity 3"
   ]
  },
  {
   "cell_type": "code",
   "execution_count": null,
   "metadata": {},
   "outputs": [],
   "source": [
    "# Write the folowing functions\n",
    "def add_foo(string):\n",
    "    \"\"\"\n",
    "    If the string contains the word \"foo\", return the string with \"bar\"\n",
    "    added to the end of it.\n",
    "    Otherwise, return the string with \"baz\" added to the start of the string.\n",
    "    Ex.\n",
    "    add_foo(\"food\") == \"foodbar\"\n",
    "    add_foo(\"a fool\") == \"a foolbar\"\n",
    "    add_foo(\"ic\") == \"bazic\"\n",
    "    \"\"\"\n",
    "    if \"foo\" in string:\n",
    "        return string + \"bar\"\n",
    "    return \"baz\" + string\n",
    "\n",
    "print(add_foo(\"food\") == \"foodbar\")\n",
    "print(add_foo(\"a fool\") == \"a foolbar\")\n",
    "print(add_foo(\"ic\") == \"bazic\")\n",
    "\n",
    "def contains_times_3(string, substring):\n",
    "    \"\"\"\n",
    "    If the string repeated 3 times contains the substring, return True.\n",
    "    Otherwise, return False.\n",
    "    Ex.\n",
    "    contains_times_3(\"foo\", \"ofo\") == True\n",
    "    contains_times_3(\"a\", \"aa\") == True\n",
    "    contains_times_3(\"ba\", \"bb\") == False\n",
    "    \"\"\"\n",
    "    return substring in (string *3)\n",
    "\n",
    "print(contains_times_3(\"foo\", \"ofo\") == True)\n",
    "print(contains_times_3(\"a\", \"aa\") == True)\n",
    "print(contains_times_3(\"ba\", \"bb\") == False)"
   ]
  },
  {
   "cell_type": "code",
   "execution_count": 4,
   "metadata": {},
   "outputs": [
    {
     "name": "stdout",
     "output_type": "stream",
     "text": [
      "True\n",
      "True\n"
     ]
    }
   ],
   "source": [
    "# 1.\n",
    "def calculate_groceries_total(num_bread, bread_price, num_eggs, eggs_price, num_cheese, cheese_price, tax_rate):\n",
    "    \"\"\"\n",
    "    The calculate receipt function should calculate and print the total\n",
    "    cost of buying bread, eggs, and cheese with a given tax rate. The\n",
    "    function takes 7 arguments:\n",
    "    num_bread - the number of loaves of bread\n",
    "    bread_price - the price for each bread loaf\n",
    "    num_eggs - the number of eggs bought\n",
    "    eggs_price - the price for each egg\n",
    "    num_cheese - the number of cheeses bought\n",
    "    cheese_price - the price of each cheese\n",
    "    tax_rate - the percentage of tax to add onto the total\n",
    "\n",
    "    The function should total the cost of each item bought (taking into\n",
    "    account the number and price of that item), and then apply tax and\n",
    "    return the result.\n",
    "\n",
    "    If any of the item counts or prices are negative, return 0 instead.\n",
    "    \"\"\"\n",
    "    subtotal = num_bread * bread_price + num_eggs * eggs_price + num_cheese * cheese_price\n",
    "    if subtotal < 0:\n",
    "        return 0\n",
    "    total = subtotal * (1 + tax_rate) # or subtotal + subtotal * tax_rate\n",
    "    return total\n",
    "\n",
    "print(calculate_groceries_total(3, 1.99, 12, 2.99, 5, 3.99, 0.15) == 71.07)\n",
    "print(calculate_groceries_total(-4, 123, 0, 0.123, -23, 142, 0.99) == 0)"
   ]
  },
  {
   "cell_type": "code",
   "execution_count": null,
   "metadata": {},
   "outputs": [],
   "source": [
    "# 2.\n",
    "def get_thousands_place(num):\n",
    "    \"\"\"\n",
    "    Calculate the thousand's place of num.\n",
    "    Ex. \n",
    "    get_thousands_place(4132) == 4\n",
    "    get_thousands_place(23) == 0\n",
    "    get_thousands_place(9382412) == 2\n",
    "    \"\"\"\n",
    "    # there are alternative solutions, but this is on of simplest ones\n",
    "    return num // 1000 % 10\n",
    "\n",
    "print(get_thousands_place(4132) == 4)\n",
    "print(get_thousands_place(23) == 0)\n",
    "print(get_thousands_place(9382412) == 2)"
   ]
  },
  {
   "cell_type": "code",
   "execution_count": null,
   "metadata": {},
   "outputs": [],
   "source": [
    "# 3.\n",
    "def letter_grade(grade_percentage):\n",
    "    \"\"\"\n",
    "    Calculates the letter grade given a grade percentage.\n",
    "    There are no pluses or minuses, i.e. \"A+\", \"B-\"\n",
    "    If grade_percentage is either negative or greater than 100,\n",
    "    return \"Invalid\"\n",
    "    Ex.\n",
    "    letter_grade(99.9) == \"A\"\n",
    "    letter_grade(100) == \"A\"\n",
    "    letter_grade(80) == \"B\"\n",
    "    letter_grade(77) == \"C\"\n",
    "    letter_grade(60.1) == \"D\"\n",
    "    letter_grade(0) == \"F\"\n",
    "    letter_grade(1000) == \"Invalid\"\n",
    "    letter_grade(-5) == \"Invalid\"\n",
    "    \"\"\"\n",
    "    # there are alternative solutions, but this is on of simplest ones\n",
    "    if grade_percentage < 0 or grade_percentage > 100:\n",
    "        return \"Invalid\"\n",
    "    if grade_percentage >= 90:\n",
    "        return \"A\"\n",
    "    if grade_percentage >= 80:\n",
    "        return \"B\"\n",
    "    if grade_percentage >= 70:\n",
    "        return \"C\"\n",
    "    if grade_percentage >= 60:\n",
    "        return \"D\"\n",
    "    return \"F\"\n",
    "print(letter_grade(99.9) == 0)\n",
    "print(letter_grade(100) == 0)\n",
    "print(letter_grade(80) == 1)\n",
    "print(letter_grade(77) == 2)\n",
    "print(letter_grade(60.1) == 3)\n",
    "print(letter_grade(0) == 4)\n",
    "print(letter_grade(1000) == -1)\n",
    "print(letter_grade(-5) == -1)"
   ]
  },
  {
   "cell_type": "code",
   "execution_count": 3,
   "metadata": {},
   "outputs": [
    {
     "name": "stdout",
     "output_type": "stream",
     "text": [
      "True\n",
      "True\n",
      "True\n",
      "True\n",
      "True\n",
      "True\n"
     ]
    }
   ],
   "source": [
    "# 4.\n",
    "def needle_in_haystack(haystack, needle):\n",
    "    \"\"\"\n",
    "    If the needle string is in the haystack string, return\n",
    "    \"found it!\".\n",
    "    Otherwise, return \"better luck next time...\"\n",
    "    Ex.\n",
    "    needle_in_haystack(\"OOOOOOO0OOOO\", \"0\") == \"found it!\"\n",
    "    needle_in_haystack(\"llllllllll\", \"1\") == \"better luck next time...\"\n",
    "    needle_in_haystack(\"aaa\", \"aaa\") == \"found it!\"\n",
    "    needle_in_haystack(\"\", \"aaa\") == \"better luck next time...\"\n",
    "    needle_in_haystack(\"asdf\", \"\") == \"found it!\"\n",
    "    needle_in_haystack(\"\", \"\") == \"found it!\"\n",
    "    \"\"\"\n",
    "    if needle in haystack:\n",
    "        return \"found it!\"\n",
    "    return \"better luck next time...\"\n",
    "print(needle_in_haystack(\"OOOOOOO0OOOO\", \"0\") == \"found it!\")\n",
    "print(needle_in_haystack(\"llllllllll\", \"1\") == \"better luck next time...\")\n",
    "print(needle_in_haystack(\"aaa\", \"aaa\") == \"found it!\")\n",
    "print(needle_in_haystack(\"\", \"aaa\") == \"better luck next time...\")\n",
    "print(needle_in_haystack(\"asdf\", \"\") == \"found it!\")\n",
    "print(needle_in_haystack(\"\", \"\") == \"found it!\")"
   ]
  },
  {
   "cell_type": "code",
   "execution_count": null,
   "metadata": {},
   "outputs": [],
   "source": [
    "def even_world(name):\n",
    "    \"\"\"\n",
    "    If name has an even number of characters, return it.\n",
    "    If name has an odd number of characters, return an empty\n",
    "    string.\n",
    "    Ex.\n",
    "    even_world(\"Steven\") == \"Steven\"\n",
    "    even_world(\"Steve\") == \"\"\n",
    "    even_world(\"a\") == \"\"\n",
    "    even_world(\"Bill\") == \"Bill\"\n",
    "    even_world(\"\") == \"\"\n",
    "    \"\"\"\n",
    "    if len(name) % 2 == 0:\n",
    "        return name\n",
    "    return \"\"\n",
    "print(even_world(\"Steven\") == \"Steven\")\n",
    "print(even_world(\"Steve\") == \"\")\n",
    "print(even_world(\"a\") == \"\")\n",
    "print(even_world(\"Bill\") == \"Bill\")\n",
    "print(even_world(\"\") == \"\")"
   ]
  },
  {
   "cell_type": "markdown",
   "metadata": {},
   "source": [
    "### 1.3"
   ]
  },
  {
   "cell_type": "markdown",
   "metadata": {},
   "source": [
    "#### Coding Activity 1"
   ]
  },
  {
   "cell_type": "code",
   "execution_count": null,
   "metadata": {},
   "outputs": [],
   "source": [
    "# Write the following functions\n",
    "def string_race(string_a, string_b):\n",
    "    \"\"\"\n",
    "    If string_a and string_b are the same length, return the last\n",
    "    character in string_a.\n",
    "    If string_a is shorter than string b, return the character in\n",
    "    string_b that is at the same index as the last character in string_a.\n",
    "    If string_a is longer than string_b, return the character in string_a\n",
    "    that is at the same index as the last character in string_b.\n",
    "    Ex.\n",
    "    string_race(\"abc\", \"def\") == \"c\"\n",
    "    string_race(\"abc\", \"de\") == \"b\"\n",
    "    string_race(\"ab\", \"def\") == \"e\"\n",
    "    \"\"\"\n",
    "    # there are alternative solutions but this is one of the\n",
    "    # simplest ones\n",
    "    if len(string_a) == len(string_b):\n",
    "        return string_a[-1]\n",
    "\n",
    "    if len(string_a) < len(string_b):\n",
    "        return string_b[len(string_a) - 1]\n",
    "\n",
    "    return string_a[len(string_b) - 1]\n",
    "\n",
    "print(string_race(\"abc\", \"def\") == \"c\")\n",
    "print(string_race(\"abc\", \"de\") == \"b\")\n",
    "print(string_race(\"ab\", \"def\") == \"e\")\n",
    "\n",
    "def is_repeat(string):\n",
    "    \"\"\"\n",
    "    If the first half of the string is the same as the second, return True.\n",
    "    Otherwise, return False.\n",
    "    Ex.\n",
    "    is_repeat(\"abc\") == False\n",
    "    is_repeat(\"abcabc\") == True\n",
    "    \"\"\"\n",
    "    # there are alternative solutions but this is one of the\n",
    "    # simplest ones\n",
    "    # make sure you use floor division: you cannot index based on a float!\n",
    "    middle_index = len(string) // 2 \n",
    "    first_half = string[:middle_index]\n",
    "    second_half = string[middle_index:]\n",
    "    return first_half == second_half\n",
    "    \n",
    "print(is_repeat(\"abc\") == False)\n",
    "print(is_repeat(\"abcabc\") == True)"
   ]
  },
  {
   "cell_type": "markdown",
   "metadata": {},
   "source": [
    "#### Coding Activity 2"
   ]
  },
  {
   "cell_type": "code",
   "execution_count": null,
   "metadata": {},
   "outputs": [],
   "source": [
    "# Write the following function\n",
    "def swap(my_list, index_1, index_2):\n",
    "    \"\"\"\n",
    "    Swap the values at index_1 and index_2 in the list my_list.\n",
    "    Ex.\n",
    "    [1, 2, 3], 0, 2 -> [3, 2, 1]\n",
    "    [1, 2, 3, 4, 5], 1, 2 -> [1, 3, 2, 4, 5]\n",
    "    [1, 2, 3, 4], 1, 1 -> [1, 2, 3, 4]\n",
    "    \"\"\"\n",
    "    temp = my_list[index_1]\n",
    "    my_list[index_1] = my_list[index_2]\n",
    "    my_list[index_2] = temp\n",
    "my_list = [1, 2, 3]\n",
    "swap(my_list, 0, 2)\n",
    "print(my_list == [3, 2, 1])\n",
    "\n",
    "my_list = [1, 2, 3, 4, 5]\n",
    "swap(my_list, 1, 2)\n",
    "print(my_list == [1, 3, 2, 4, 5])\n",
    "\n",
    "my_list = [1, 2, 3, 4]\n",
    "swap(my_list, 1, 1)\n",
    "print(my_list == [1, 2, 3, 4])"
   ]
  },
  {
   "cell_type": "markdown",
   "metadata": {},
   "source": [
    "#### Coding Activity 3"
   ]
  },
  {
   "cell_type": "code",
   "execution_count": null,
   "metadata": {},
   "outputs": [],
   "source": [
    "# Write the following functions\n",
    "def sum_3_matches(num_tuple):\n",
    "    \"\"\"\n",
    "    Return whether the sum of the first 3 elements in num_tuple is the \n",
    "    same as the sum of the last 3 elements.\n",
    "    Ex.\n",
    "    sum_3_matches((1, 4, 3, 2, 3)) == True\n",
    "    sum_3_matches((1, 2, 3, 4)) == False\n",
    "    sum_3_matches((4, 2, 3, 4)) == True\n",
    "    \"\"\"\n",
    "    # there are multiple solutions, but this is one of the\n",
    "    # simplist ones\n",
    "    first_three_sum = sum(num_tuple[:3])\n",
    "    last_three_sum = sum(num_tuple[-3:])\n",
    "    return first_three_sum == last_three_sum\n",
    "\n",
    "print(sum_3_matches((1, 4, 3, 2, 3)) == True)\n",
    "print(sum_3_matches((1, 2, 3, 4)) == False)\n",
    "print(sum_3_matches((4, 2, 3, 4)) == True)\n",
    "\n",
    "\n",
    "def copy_first_last(list_a, list_b):\n",
    "    \"\"\"\n",
    "    Copy the first and last value of list_a into the first and last \n",
    "    value of list_b.\n",
    "    Don't return anything.\n",
    "    Ex.\n",
    "    [1, 2, 3], [4, 5, 6] -> [1, 2, 3], [1, 5, 3]\n",
    "    [1, 2, 3], [0, 1] -> [1, 2, 3], [1, 3]\n",
    "    [1, 2, 3], [100, 100, 100, 100] -> [1, 2, 3], [1, 100, 100, 3]\n",
    "    \"\"\"\n",
    "    list_b[0] = list_a[0]\n",
    "    list_b[-1] = list_a[-1]\n",
    "    \n",
    "list_a = [1, 2, 3]\n",
    "list_b = [4, 5, 6]\n",
    "copy_first_last(list_a, list_b)\n",
    "print(list_b == [1, 5, 3])\n",
    "\n",
    "list_b = [0, 1]\n",
    "copy_first_last(list_a, list_b)\n",
    "print(list_b == [1, 3])\n",
    "\n",
    "list_b = [100, 100, 100, 100]\n",
    "copy_first_last(list_a, list_b)\n",
    "print(list_b == [1, 100, 100 3])"
   ]
  },
  {
   "cell_type": "markdown",
   "metadata": {},
   "source": [
    "#### Practice Problems"
   ]
  },
  {
   "cell_type": "code",
   "execution_count": null,
   "metadata": {},
   "outputs": [],
   "source": [
    "# 1.\n",
    "def grade_calculator(grades):\n",
    "    \"\"\"\n",
    "    Return the average of the grades in the list.\n",
    "    Ex.\n",
    "    grade_calculator([1, 2, 3]) == 2\n",
    "    grade_calculator([1, 2, 3, 4]) == 2.5\n",
    "    grade_calculator([1, 2, 3, 4, 5]) == 3\n",
    "    grade_calculator([]) == 0\n",
    "    \"\"\"\n",
    "    # other solutions are possible\n",
    "    # this is one of the simplest\n",
    "    if len(grades) == 0:\n",
    "        return 0\n",
    "    return sum(grades) / len(grades)\n",
    "\n",
    "print(grade_calculator([1, 2, 3]) == 2)\n",
    "print(grade_calculator([1, 2, 3, 4]) == 2.5)\n",
    "print(grade_calculator([1, 2, 3, 4, 5]) == 3)\n",
    "print(grade_calculator([0, 0, 0]) == 0)"
   ]
  },
  {
   "cell_type": "code",
   "execution_count": null,
   "metadata": {},
   "outputs": [],
   "source": [
    "# 2. \n",
    "def starts_with(string, prefix):\n",
    "    \"\"\"\n",
    "    Return whether string starts with prefix.\n",
    "    Ex.\n",
    "    starts_with(\"abc\", \"a\") == True\n",
    "    starts_with(\"abc\", \"b\") == False\n",
    "    starts_with(\"abc\", \"ab\") == True\n",
    "    starts_with(\"abc\", \"\") == True\n",
    "    \"\"\"\n",
    "    # other solutions are possible\n",
    "    # this is one of the simplest\n",
    "    return string[:len(prefix)] == prefix\n",
    "\n",
    "print(starts_with(\"abc\", \"a\") == True)\n",
    "print(starts_with(\"abc\", \"b\") == False)\n",
    "print(starts_with(\"abc\", \"ab\") == True)\n",
    "print(starts_with1(\"abc\", \"\") == True)"
   ]
  },
  {
   "cell_type": "code",
   "execution_count": null,
   "metadata": {},
   "outputs": [],
   "source": [
    "# 3.\n",
    "def right_index(my_list, index):\n",
    "    \"\"\"\n",
    "    Return the item in the list indexing from the right.\n",
    "    Ex.\n",
    "    right_index([1, 2, 3], 0) == 3\n",
    "    right_index([1, 2, 3], 1) == 2\n",
    "    right_index([1, 2, 3], 2) == 1\n",
    "    \"\"\"\n",
    "    # other solutions are possible\n",
    "    # this is one of the simplest\n",
    "    return my_list[-index - 1]\n",
    "print(right_index([1, 2, 3], 0) == 3)\n",
    "print(right_index([1, 2, 3], 1) == 2)\n",
    "print(right_index([1, 2, 3], 2) == 1)"
   ]
  },
  {
   "cell_type": "code",
   "execution_count": null,
   "metadata": {},
   "outputs": [],
   "source": [
    "# 4.\n",
    "def is_capitalized(string):\n",
    "    \"\"\"\n",
    "    Return whether the first letter of string is capitalized. If the\n",
    "    first character is not a letter or doesn't exist, it is not \n",
    "    capitalized.\n",
    "    Ex.\n",
    "    is_capitalized(\"Hello\") == True\n",
    "    is_capitalized(\"hello\") == False\n",
    "    is_capitalized(\"HELLO\") == True\n",
    "    is_capitalized(\"hellO\") == False\n",
    "    is_capitalized(\"123\") == False\n",
    "    is_capitalized(\"\") == False\n",
    "    \"\"\"\n",
    "    # other solutions are possible\n",
    "    # this is one of the simplest\n",
    "    if len(string) == 0:\n",
    "        return False\n",
    "    return string[0] in \"ABCDEFGHIJKLMNOPQRSTUVWXYZ\"\n",
    "\n",
    "print(is_capitalized(\"Hello\") == True)\n",
    "print(is_capitalized(\"hello\") == False)\n",
    "print(is_capitalized(\"HELLO\") == True)\n",
    "print(is_capitalized(\"hellO\") == False)\n",
    "print(is_capitalized(\"123\") == False)\n",
    "print(is_capitalized(\"\") == False)"
   ]
  },
  {
   "cell_type": "code",
   "execution_count": null,
   "metadata": {},
   "outputs": [],
   "source": [
    "def battleship(coordinates, row, col):\n",
    "    \"\"\"\n",
    "    If the coordinates given are a part of a battleship\n",
    "    return the string \"hit <row> <col>\", with <row> and <col>\n",
    "    replaced with the coordinates hit.\n",
    "    Otherwise, return the string \"miss <row> <col>\"\n",
    "    If the coordinates are not on the board, return \n",
    "    \"out of bounds\".\n",
    "    Ex.\n",
    "    battleship(board, 0, 0) == \"miss 0 0\"\n",
    "    battleship(board, 0, 3) == \"hit 0 3\"\n",
    "    battleship(board, 2, 1) == \"hit 2 1\"\n",
    "    battleship(board, 5, 0) == \"out of bounds\"\n",
    "    \"\"\"\n",
    "    if coordinates[row][col] == 1:\n",
    "        return \"hit \"\n",
    "\n",
    "# the coordinates below specify a 5x5 battleship board\n",
    "# 0 - no ship, 1 - has ship\n",
    "board = [\n",
    "    [0, 0, 0, 1, 0],\n",
    "    [0, 1, 0, 0, 1],\n",
    "    [0, 1, 0, 0, 1],\n",
    "    [0, 1, 0, 0, 0],\n",
    "    [0, 0, 0, 1, 1]\n",
    "]\n",
    "\n",
    "print(battleship(board, 0, 0) == \"miss 0 0\")\n",
    "print(battleship(board, 0, 3) == \"hit 0 3\")\n",
    "print(battleship(board, 2, 1) == \"hit 2 1\")\n",
    "print(battleship(board, 5, 0) == \"out of bounds\")"
   ]
  },
  {
   "cell_type": "code",
   "execution_count": 13,
   "metadata": {},
   "outputs": [
    {
     "name": "stdout",
     "output_type": "stream",
     "text": [
      "True\n",
      "True\n",
      "True\n"
     ]
    }
   ],
   "source": [
    "# 5.\n",
    "def tic_tac_toe(board, row, col):\n",
    "    \"\"\"\n",
    "    On a tic-tac-toe board, such as the one below, with \"-\" \n",
    "    representing an empty square, and X and O representing a\n",
    "    player's square, figure out who's turn it is, and place an \n",
    "    X or O on the given a row and column depending on who's turn\n",
    "    it is.\n",
    "    X always goes first.\n",
    "    Make sure you don't return anything and modify the board\n",
    "    parameter.\n",
    "    Ex.\n",
    "    [\n",
    "        [\"-\", \"-\", \"-\"],\n",
    "        [\"-\", \"-\", \"-\"],\n",
    "        [\"-\", \"-\", \"-\"]\n",
    "    ], 1, 1 ->\n",
    "    [\n",
    "        [\"-\", \"-\", \"-\"],\n",
    "        [\"-\", \"X\", \"-\"],\n",
    "        [\"-\", \"-\", \"-\"]\n",
    "    ]\n",
    "    \n",
    "    [\n",
    "        [\"x\", \"O\", \"X\"],\n",
    "        [\"-\", \"-\", \"-\"],\n",
    "        [\"-\", \"-\", \"-\"]\n",
    "    ], 1, 2 ->\n",
    "    [\n",
    "        [\"X\", \"O\", \"X\"],\n",
    "        [\"-\", \"-\", \"O\"],\n",
    "        [\"-\", \"-\", \"-\"]\n",
    "    ]\n",
    "    \n",
    "    [\n",
    "        [\"-\", \"O\", \"X\"],\n",
    "        [\"-\", \"-\", \"-\"],\n",
    "        [\"-\", \"O\", \"X\"]\n",
    "    ], 0, 0 ->\n",
    "    [\n",
    "        [\"X\", \"O\", \"X\"],\n",
    "        [\"-\", \"-\", \"-\"],\n",
    "        [\"-\", \"O\", \"X\"]\n",
    "    ]\n",
    "    \"\"\"\n",
    "    # if you didn't come up with something close to this solution\n",
    "    # that's okay! see what you can learn\n",
    "    # Remember that \n",
    "    num_empty = 0\n",
    "    if board[0][0] == \"-\":\n",
    "        num_empty += 1\n",
    "    if board[0][1] == \"-\":\n",
    "        num_empty += 1\n",
    "    if board[0][2] == \"-\":\n",
    "        num_empty += 1\n",
    "    if board[1][0] == \"-\":\n",
    "        num_empty += 1\n",
    "    if board[1][1] == \"-\":\n",
    "        num_empty += 1\n",
    "    if board[1][2] == \"-\":\n",
    "        num_empty += 1\n",
    "    if board[2][0] == \"-\":\n",
    "        num_empty += 1\n",
    "    if board[2][1] == \"-\":\n",
    "        num_empty += 1\n",
    "    if board[2][2] == \"-\":\n",
    "        num_empty += 1\n",
    "    \n",
    "    # if num_empty is odd, it's X's turn, otherwise, it's O's turn\n",
    "    if num_empty % 2 == 1:\n",
    "        board[row][col] = \"X\"\n",
    "    else:\n",
    "        board[row][col] = \"O\"\n",
    "\n",
    "board = [\n",
    "        [\"-\", \"-\", \"-\"],\n",
    "        [\"-\", \"-\", \"-\"],\n",
    "        [\"-\", \"-\", \"-\"]\n",
    "    ]\n",
    "tic_tac_toe(board, 1, 1)\n",
    "print(board ==\n",
    "    [\n",
    "        [\"-\", \"-\", \"-\"],\n",
    "        [\"-\", \"X\", \"-\"],\n",
    "        [\"-\", \"-\", \"-\"]\n",
    "    ])\n",
    "\n",
    "board = [\n",
    "        [\"X\", \"O\", \"X\"],\n",
    "        [\"-\", \"-\", \"-\"],\n",
    "        [\"-\", \"-\", \"-\"]\n",
    "    ]\n",
    "tic_tac_toe(board, 1, 2)\n",
    "print(board ==\n",
    "    [\n",
    "        [\"X\", \"O\", \"X\"],\n",
    "        [\"-\", \"-\", \"O\"],\n",
    "        [\"-\", \"-\", \"-\"]\n",
    "    ])\n",
    "\n",
    "board = [\n",
    "        [\"-\", \"O\", \"X\"],\n",
    "        [\"-\", \"-\", \"-\"],\n",
    "        [\"-\", \"O\", \"X\"]\n",
    "    ]\n",
    "tic_tac_toe(board, 0, 0)\n",
    "print(board ==\n",
    "    [\n",
    "        [\"X\", \"O\", \"X\"],\n",
    "        [\"-\", \"-\", \"-\"],\n",
    "        [\"-\", \"O\", \"X\"]\n",
    "    ])"
   ]
  },
  {
   "cell_type": "code",
   "execution_count": null,
   "metadata": {},
   "outputs": [],
   "source": []
  }
 ],
 "metadata": {
  "interpreter": {
   "hash": "18db06d66b83781e741671a8bbd09812ebc032e21520231392754694b3895265"
  },
  "kernelspec": {
   "display_name": "Python 3 (ipykernel)",
   "language": "python",
   "name": "python3"
  },
  "language_info": {
   "codemirror_mode": {
    "name": "ipython",
    "version": 3
   },
   "file_extension": ".py",
   "mimetype": "text/x-python",
   "name": "python",
   "nbconvert_exporter": "python",
   "pygments_lexer": "ipython3",
   "version": "3.10.2"
  }
 },
 "nbformat": 4,
 "nbformat_minor": 4
}
