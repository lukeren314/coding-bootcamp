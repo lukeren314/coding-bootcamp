{
 "cells": [
  {
   "cell_type": "markdown",
   "metadata": {},
   "source": [
    "## Module 2 Solutions"
   ]
  },
  {
   "cell_type": "markdown",
   "metadata": {},
   "source": [
    "### 2.1"
   ]
  },
  {
   "cell_type": "markdown",
   "metadata": {},
   "source": [
    "#### Coding Activity 1"
   ]
  },
  {
   "cell_type": "code",
   "execution_count": 21,
   "metadata": {},
   "outputs": [
    {
     "name": "stdout",
     "output_type": "stream",
     "text": [
      "True\n",
      "True\n",
      "True\n"
     ]
    }
   ],
   "source": [
    "# Write the following function below:\n",
    "def print_type(var):\n",
    "    \"\"\"\n",
    "    If var is a string, return the length of the string.\n",
    "    If var is an integer or any other type, return it.\n",
    "    Ex.\n",
    "    \"123\" -> 3\n",
    "    123 -> 123\n",
    "    3.42 -> \"What?\"\n",
    "    \"\"\"\n",
    "    if type(var) == str:\n",
    "        return len(var)\n",
    "    if type(var) == int:\n",
    "        return var\n",
    "    return \"What?\"\n",
    "\n",
    "print(print_type(\"123\") == 3)\n",
    "print(print_type(123) == 123)\n",
    "print(print_type(3.42) == \"What?\")"
   ]
  },
  {
   "cell_type": "markdown",
   "metadata": {},
   "source": [
    "#### Coding Activity 2"
   ]
  },
  {
   "cell_type": "code",
   "execution_count": 19,
   "metadata": {},
   "outputs": [
    {
     "name": "stdout",
     "output_type": "stream",
     "text": [
      "True\n",
      "True\n",
      "True\n",
      "True\n"
     ]
    }
   ],
   "source": [
    "# Write the following function\n",
    "def sum_anything(a: int, b: int) -> int:\n",
    "    \"\"\"\n",
    "    If both a and b are integers, return the sum.\n",
    "    If either is a string, convert them to an integer first\n",
    "    before summing. \n",
    "    You can assume the string arguments can be converted into\n",
    "    integers.\n",
    "    Ex.\n",
    "    1, 3 -> 4\n",
    "    \"2\", 4 -> 6\n",
    "    4, 7.6 -> 11\n",
    "    \"2\", 8.2 -> 10\n",
    "    \"\"\"\n",
    "    # there are other solutions\n",
    "    # but this is one of the simplest\n",
    "    if type(a) == str or type(a) == float:\n",
    "        a = int(a)\n",
    "    if type(b) == str or type(b) == float:\n",
    "        b = int(b)\n",
    "    return a + b\n",
    "print(sum_anything(1, 3) == 4)\n",
    "print(sum_anything(\"2\", 4) == 6)\n",
    "print(sum_anything(4, 7.6) == 11)\n",
    "print(sum_anything(\"2\", 8.2) == 10)"
   ]
  },
  {
   "cell_type": "markdown",
   "metadata": {},
   "source": [
    "#### Practice Problems"
   ]
  },
  {
   "cell_type": "code",
   "execution_count": 18,
   "metadata": {},
   "outputs": [
    {
     "name": "stdout",
     "output_type": "stream",
     "text": [
      "True\n",
      "True\n",
      "True\n",
      "True\n"
     ]
    }
   ],
   "source": [
    "# 1.\n",
    "def tuples_to_list(tuple1: tuple, tuple2: tuple) -> list:\n",
    "    \"\"\"\n",
    "    Returns a list containing the values of both tuples.\n",
    "    (1, 2, 3), (4, 5, 6, 7) -> [1, 2, 3, 4, 5, 6, 7]\n",
    "    (1, 2), () -> [1, 2]\n",
    "    (), (2, 3, 5) -> [2, 3, 5]\n",
    "    (), () -> []\n",
    "    \"\"\"\n",
    "    # solution 1\n",
    "    # concatentate tuples and convert to list\n",
    "    return list(tuple1 + tuple2) \n",
    "    # solution 2\n",
    "    combined_list = []\n",
    "    combined_list.extend(tuple1)\n",
    "    combined_list.extend(tuple2)\n",
    "    return combined_list\n",
    "print(tuples_to_list((1, 2, 3), (4, 5, 6, 7)) == [1, 2, 3, 4, 5, 6, 7])\n",
    "print(tuples_to_list((1, 2), ()) == [1, 2])\n",
    "print(tuples_to_list((), (2, 3, 5)) == [2, 3, 5])\n",
    "print(tuples_to_list((), ()) == [])"
   ]
  },
  {
   "cell_type": "code",
   "execution_count": 17,
   "metadata": {},
   "outputs": [
    {
     "name": "stdout",
     "output_type": "stream",
     "text": [
      "True\n",
      "True\n",
      "True\n",
      "True\n",
      "True\n",
      "True\n"
     ]
    }
   ],
   "source": [
    "# 2.\n",
    "def stack_boxes(main_stack: list, side_stack: list):\n",
    "    \"\"\"\n",
    "    You have 2 stacks of boxes, a main stack and a side stack.\n",
    "    The stacks are represented with Python lists, with the left\n",
    "    side of the list representing the bottom of the stack and\n",
    "    the right side representing the top side of the stack.\n",
    "    \n",
    "    The main stack has an unknown length, but the side stack will\n",
    "    have either 1, 2, or 3 boxes.\n",
    "    \n",
    "    Remove the boxes from the top of the side stack one by one,\n",
    "    and put them on top of the main stack.\n",
    "    \n",
    "    Make sure you modify the original lists instead of making\n",
    "    copies.\n",
    "    \n",
    "    Do not return anything.\n",
    "    Ex.\n",
    "    [1, 2, 3], [4, 5, 6] -> [1, 2, 3, 6, 5, 4], []\n",
    "    [1, 2], [4, 3] -> [1, 2, 3, 4], []\n",
    "    [3], [1, 2] -> [3, 2, 1], []\n",
    "    \"\"\"\n",
    "    # there are other solutions, but this one is simple\n",
    "    # we know that there will be at least 1 box in the side stack\n",
    "    # remove it and add it to the end of main stack\n",
    "    main_stack.append(side_stack.pop())\n",
    "    if len(side_stack) > 0: # if the stack isn't empty\n",
    "        main_stack.append(side_stack.pop())\n",
    "    if len(side_stack) > 0: # if the stack still isn't empty\n",
    "        main_stack.append(side_stack.pop())\n",
    "        \n",
    "main_stack = [1, 2, 3]\n",
    "side_stack = [4, 5, 6]\n",
    "stack_boxes(main_stack, side_stack)\n",
    "print(main_stack == [1, 2, 3, 6, 5, 4])\n",
    "print(side_stack == [])\n",
    "\n",
    "main_stack = [1, 2]\n",
    "side_stack = [4, 3]\n",
    "stack_boxes(main_stack, side_stack)\n",
    "print(main_stack == [1, 2, 3, 4])\n",
    "print(side_stack == [])\n",
    "\n",
    "main_stack = [3]\n",
    "side_stack = [1, 2]\n",
    "stack_boxes(main_stack, side_stack)\n",
    "print(main_stack == [3, 2, 1])\n",
    "print(side_stack == [])"
   ]
  },
  {
   "cell_type": "code",
   "execution_count": 14,
   "metadata": {},
   "outputs": [
    {
     "name": "stdout",
     "output_type": "stream",
     "text": [
      "True\n",
      "True\n",
      "True\n",
      "True\n",
      "True\n",
      "True\n",
      "True\n"
     ]
    }
   ],
   "source": [
    "# 3.\n",
    "def even_foo_sniper(word_list: list):\n",
    "    \"\"\"\n",
    "    If word_list has only 1 occurrence of the word \"foo\", remove\n",
    "    it if it's at an even index.\n",
    "    If word_list has 2 or more occurrences of the word \"foo\",\n",
    "    remove the first 2 if they're both at even indexes, remove\n",
    "    the first if it's at an even index, or do nothing otherwise.\n",
    "    If word_list has no occurrences of the word \"foo\", do nothing.\n",
    "    Do not return anything. \n",
    "    Ex.\n",
    "    [\"a\", \"b\", \"foo\", \"c\"] -> [\"a\", \"b\", \"c\"]\n",
    "    [\"a\", \"foo\", \"b\"] -> [\"a\", \"foo\", \"b\"]\n",
    "    [\"a\", \"b\", \"foo\", \"c\", \"foo\", \"d\"] -> [\"a\", \"b\", \"c\", \"d\"]\n",
    "    [\"a\", \"b\", \"foo\", \"foo\", \"c\"] -> [\"a\", \"b\", \"foo\", \"c\"]\n",
    "    [\"a\", \"foo\", \"foo\", \"b\"] -> [\"a\", \"foo\", \"foo\", \"b\"]\n",
    "    [\"a\", \"b\", \"foo\", \"foo\", \"c\"] -> [\"a\", \"b\", \"foo\", \"c\"]\n",
    "    [\"a\", \"b\", \"c\"] -> [\"a\", \"b\", \"c\"]\n",
    "    \"\"\"\n",
    "    # there are other solutions, but this is one of them\n",
    "    if \"foo\" in word_list:\n",
    "        # get the first occurrence\n",
    "        index_1 = word_list.index(\"foo\")\n",
    "        if index_1 % 2 == 0: # if it's even\n",
    "            word_list.pop(index_1) # or word_list.remove(\"foo\")\n",
    "            # if there's a second occurrence\n",
    "            if \"foo\" in word_list:\n",
    "                index_2 = word_list.index(\"foo\")\n",
    "                # if it's odd (since we removed an element before it)\n",
    "                if index_2 % 2 == 1:\n",
    "                    word_list.pop(index_2) # or word_list.remove(\"foo\")\n",
    "\n",
    "word_list = [\"a\", \"b\", \"foo\", \"c\"]\n",
    "even_foo_sniper(word_list)\n",
    "print(word_list == [\"a\", \"b\", \"c\"])\n",
    "\n",
    "word_list = [\"a\", \"foo\", \"b\"]\n",
    "even_foo_sniper(word_list)\n",
    "print(word_list == [\"a\", \"foo\", \"b\"])\n",
    "\n",
    "word_list = [\"a\", \"b\", \"foo\", \"c\", \"foo\", \"d\"]\n",
    "even_foo_sniper(word_list)\n",
    "print(word_list == [\"a\", \"b\", \"c\", \"d\"])\n",
    "\n",
    "word_list = [\"a\", \"b\", \"foo\", \"foo\", \"c\"]\n",
    "even_foo_sniper(word_list)\n",
    "print(word_list == [\"a\", \"b\", \"foo\", \"c\"])\n",
    "\n",
    "word_list = [\"a\", \"foo\", \"foo\", \"b\"]\n",
    "even_foo_sniper(word_list)\n",
    "print(word_list == [\"a\", \"foo\", \"foo\", \"b\"])\n",
    "\n",
    "word_list = [\"a\", \"b\", \"foo\", \"foo\", \"c\"]\n",
    "even_foo_sniper(word_list)\n",
    "print(word_list == [\"a\", \"b\", \"foo\", \"c\"])\n",
    "\n",
    "word_list = [\"a\", \"b\", \"c\"]\n",
    "even_foo_sniper(word_list)\n",
    "print(word_list == [\"a\", \"b\", \"c\"])"
   ]
  },
  {
   "cell_type": "code",
   "execution_count": 9,
   "metadata": {},
   "outputs": [
    {
     "name": "stdout",
     "output_type": "stream",
     "text": [
      "True\n",
      "True\n",
      "True\n",
      "True\n"
     ]
    }
   ],
   "source": [
    "# 4. \n",
    "def bidirectional_sort(list_arg: list, is_ascending: bool):\n",
    "    \"\"\"\n",
    "    If is_ascending is True, sort list_arg in ascending order.\n",
    "    Otherwise, sort list_arg in descending order.\n",
    "    Ex.\n",
    "    [1, 3, 2], True -> [1, 2, 3]\n",
    "    [1, 2, 3, 2, 6], False -> [6, 3, 2, 2, 1]\n",
    "    [1, 5, 2, 4], False -> [5, 4, 2, 1]\n",
    "    [], True -> []\n",
    "    \"\"\"\n",
    "    list_arg.sort()\n",
    "    if not is_ascending:\n",
    "        list_arg.reverse()\n",
    "        \n",
    "list_ = [1, 3, 2]\n",
    "bidirectional_sort(list_, True)\n",
    "print(list_ == [1, 2, 3])\n",
    "\n",
    "list_ = [1, 2, 3, 2, 6]\n",
    "bidirectional_sort(list_, False)\n",
    "print(list_ == [6, 3, 2, 2, 1])\n",
    "\n",
    "list_ = [1, 5, 2, 4]\n",
    "bidirectional_sort(list_, False)\n",
    "print(list_ == [5, 4, 2, 1])\n",
    "\n",
    "list_ = []\n",
    "bidirectional_sort(list_, True)\n",
    "print(list_ == [])"
   ]
  },
  {
   "cell_type": "code",
   "execution_count": 8,
   "metadata": {},
   "outputs": [
    {
     "name": "stdout",
     "output_type": "stream",
     "text": [
      "True\n",
      "True\n",
      "True\n",
      "True\n",
      "True\n",
      "True\n"
     ]
    }
   ],
   "source": [
    "# 5.\n",
    "def fix_list(num_list: list, num: int):\n",
    "    \"\"\"\n",
    "    Someone tried to add numbers to a list in ascending order,\n",
    "    but they messed up. The worst part is they can't remember\n",
    "    what they did wrong. \n",
    "    They either forgot to add a number, or they added a number\n",
    "    twice. Luckily, they remember which number they messed up on.\n",
    "    \n",
    "    The num_list parameter is supposed to be length 3 and in\n",
    "    ascending order. Either add num in the correct position if\n",
    "    it is missing or remove it if it's a duplicate\n",
    "    Ex.\n",
    "    [1, 2], 3 -> [1, 2, 3]\n",
    "    [1, 4], 2 -> [1, 2, 4]\n",
    "    [3, 5], 1 -> [1, 3, 5]\n",
    "    [0, 2, 3, 3], 3 -> [0, 2, 3]\n",
    "    [0, 1, 1, 3], 1 -> [0, 1, 3]\n",
    "    [0, 0, 1, 4], 0 -> [0, 1, 4]\n",
    "    \"\"\"\n",
    "    # there are lots of solutions, this is one of them\n",
    "    if num in num_list:\n",
    "        num_list.remove(num)\n",
    "    else:\n",
    "        if num < num_list[0]: # if it's smaller then the first\n",
    "            num_list.insert(0, num) # insert at 0\n",
    "        elif num < num_list[1]: # if it's smaller than the second\n",
    "            num_list.insert(1, num) # insert at 1\n",
    "        else:\n",
    "            num_list.insert(2, num) \n",
    "num_list = [1, 2]\n",
    "fix_list(num_list, 3)\n",
    "print(num_list == [1, 2, 3])\n",
    "\n",
    "num_list = [1, 4]\n",
    "fix_list(num_list, 2)\n",
    "print(num_list == [1, 2, 4])\n",
    "\n",
    "num_list = [3, 5]\n",
    "fix_list(num_list, 1)\n",
    "print(num_list == [1, 3, 5])\n",
    "\n",
    "num_list = [0, 2, 3, 3]\n",
    "fix_list(num_list, 3)\n",
    "print(num_list == [0, 2, 3])\n",
    "\n",
    "num_list = [0, 1, 1, 3]\n",
    "fix_list(num_list, 1)\n",
    "print(num_list == [0, 1, 3])\n",
    "\n",
    "num_list = [0, 0, 1, 4]\n",
    "fix_list(num_list, 0)\n",
    "print(num_list == [0, 1, 4])"
   ]
  },
  {
   "cell_type": "markdown",
   "metadata": {},
   "source": [
    "### 2.2"
   ]
  },
  {
   "cell_type": "markdown",
   "metadata": {},
   "source": [
    "#### Coding Activity 1"
   ]
  },
  {
   "cell_type": "code",
   "execution_count": 5,
   "metadata": {},
   "outputs": [
    {
     "name": "stdout",
     "output_type": "stream",
     "text": [
      "True\n",
      "True\n",
      "True\n",
      "True\n"
     ]
    }
   ],
   "source": [
    "# write the function below:\n",
    "def concatenate_list_of_strings(string_list: list) -> str:\n",
    "    \"\"\"\n",
    "    The parameter string_list is a list of 2, 3, 4, or 5 strings.\n",
    "    Return the strings concatenated one after another.\n",
    "    Ex.\n",
    "    [\"foo\", \"bar\"] -> \"foobar\"\n",
    "    [\"foo\", \"bar\", \"baz\"] -> \"foobarbaz\"\n",
    "    [\"foo\", \"bar\", \"baz\", \"fizz\"] -> \"foobarbazfizz\"\n",
    "    [\"foo\", \"bar\", \"baz\", \"fizz\", \"bizz] -> \"foobarbazfizzbizz\"\n",
    "    \"\"\"\n",
    "    # solution 1\n",
    "    total_string = string_list[0] + string_list[1]\n",
    "    if len(string_list) > 2:\n",
    "        total_string += string_list[2]\n",
    "    if len(string_list) > 3:\n",
    "        total_string += string_list[3]\n",
    "    if len(string_list) > 4:\n",
    "        total_string += string_list[4]\n",
    "    return total_string\n",
    "    \n",
    "    # solution 2\n",
    "    if len(string_list) == 2:\n",
    "        return string_list[0] + string_list[1]\n",
    "    if len(string_list) == 3:\n",
    "        return string_list[0] + string_list[1] + string_list[2]\n",
    "    if len(string_list) == 4:\n",
    "        return string_list[0] + string_list[1] + string_list[2] + string_list[3]\n",
    "    if len(string_list) == 5:\n",
    "        return string_list[0] + string_list[1] + string_list[2] + string_list[3] + string_list[4]\n",
    "print(concatenate_list_of_strings([\"foo\", \"bar\"]) == \"foobar\")\n",
    "print(concatenate_list_of_strings([\"foo\", \"bar\", \"baz\"]) == \"foobarbaz\")\n",
    "print(concatenate_list_of_strings([\"foo\", \"bar\", \"baz\", \"fizz\"]) == \"foobarbazfizz\")\n",
    "print(concatenate_list_of_strings([\"foo\", \"bar\", \"baz\", \"fizz\", \"bizz\"]) == \"foobarbazfizzbizz\")"
   ]
  },
  {
   "cell_type": "markdown",
   "metadata": {},
   "source": [
    "#### Practice Problems"
   ]
  },
  {
   "cell_type": "code",
   "execution_count": 4,
   "metadata": {},
   "outputs": [
    {
     "name": "stdout",
     "output_type": "stream",
     "text": [
      "True\n",
      "True\n",
      "True\n"
     ]
    }
   ],
   "source": [
    "# 1.\n",
    "def tokenizer(string: str) -> list:\n",
    "    \"\"\"\n",
    "    Given a string containing letters, spaces, and commas,\n",
    "    return a list of words between the spaces and commas.\n",
    "    Ex.\n",
    "    \"the quick  brown  fox\" -> [\"the\", \"quick\", \"brown\", \"fox\"]\n",
    "    \"foo,bar   cat  dog\" -> [\"foo\", \"bar\", \"cat\", \"dog\"]\n",
    "    \"dog,  and, cat\" -> [\"dog\", \"and\", \"cat\"]\n",
    "    \"\"\"\n",
    "    return string.replace(\",\", \" \").split()\n",
    "\n",
    "print(tokenizer(\"the quick  brown  fox\") == [\"the\", \"quick\", \"brown\", \"fox\"])\n",
    "print(tokenizer(\"foo,bar   cat  dog\") == [\"foo\", \"bar\", \"cat\", \"dog\"])\n",
    "print(tokenizer(\"dog,  and, cat\") == [\"dog\", \"and\", \"cat\"])"
   ]
  },
  {
   "cell_type": "code",
   "execution_count": 24,
   "metadata": {},
   "outputs": [
    {
     "name": "stdout",
     "output_type": "stream",
     "text": [
      "True\n",
      "True\n"
     ]
    }
   ],
   "source": [
    "# 2.\n",
    "def print_receipt_table(items: list, costs: list) -> str:\n",
    "    \"\"\"\n",
    "    Given a list of 3 items and costs, return a table of the\n",
    "    prices, items, and totals.\n",
    "    Prices should have 2 decimal points and be aligned to 8\n",
    "    digits long.\n",
    "    Ex.\n",
    "    [\"cheese\", \"bread\", \"milk\"], [1.99, 23.59, 1111.11]\n",
    "        1.99 cheese \n",
    "       23.59 bread\n",
    "     1111.11 milk\n",
    "       total\n",
    "     1136.69\n",
    "    \n",
    "    [\"foo\", \"bar\", \"baz\"], [45.6799, 90.12312, 124.12]\n",
    "       45.67 foo \n",
    "       90.12 bar\n",
    "      124.12 baz\n",
    "       total\n",
    "      259.92\n",
    "    \"\"\"\n",
    "    receipt_string = \"{0:8.2f} {1}\\n\".format(costs[0], items[0])\n",
    "    receipt_string += \"{0:8.2f} {1}\\n\".format(costs[1], items[1])\n",
    "    receipt_string += \"{0:8.2f} {1}\\n\".format(costs[2], items[2])\n",
    "    receipt_string += \"   total\\n\"\n",
    "    receipt_string += \"{0:8.2f}\\n\".format(sum(costs))\n",
    "    return receipt_string\n",
    "print(print_receipt_table([\"cheese\", \"bread\", \"milk\"], [1.99, 23.59, 1111.11]) == \"    1.99 cheese\\n   23.59 bread\\n 1111.11 milk\\n   total\\n 1136.69\\n\")\n",
    "print(print_receipt_table([\"foo\", \"bar\", \"baz\"], [45.6799, 90.12312, 124.12]) == \"   45.68 foo\\n   90.12 bar\\n  124.12 baz\\n   total\\n  259.92\\n\")"
   ]
  },
  {
   "cell_type": "code",
   "execution_count": null,
   "metadata": {},
   "outputs": [],
   "source": [
    "# 3.\n",
    "def is_imposter(player_name: str): -> bool:\n",
    "    \"\"\"\n",
    "    If a player's name starts with or ends with \"sus\" (case\n",
    "    insensitive), return True. Otherwise, return False.\n",
    "    Ex.\n",
    "    Susan -> True\n",
    "    Jim -> False\n",
    "    TaRsUs -> True\n",
    "    \"\"\"\n",
    "    return player_name.lower().startswith(\"sus\") or player_name.lower.endswith(\"sus\")\n",
    "\n",
    "def amogus(players: list) -> str:\n",
    "    \"\"\"\n",
    "    Given 3, 4, or 5 player names, return a string representing \n",
    "    who's an imposter.\n",
    "    If a player's name starts with or ends with \"sus\" (case \n",
    "    insensitive), replace their name with \"Imposter\".\n",
    "    HINT: You can modify the players list.\n",
    "    HINT 2: You can also write\n",
    "    Ex.\n",
    "    [\"Bob\", \"Susan\", \"Jim\"] -> \"Bob, Imposter, Jim, Bill\"\n",
    "    [\"fred\", \"sussy\", \"bill\", \"dionysus\"] -> \"fred, Imposter, bill, Imposter\"\n",
    "    [\"PEGASUS\", \"NARCISSUS\", \"SUZY\", \"ZEUS\", \"TARSUS\"] -> \"Imposter, Imposter, SUZY, ZEUS, Imposter\"\n",
    "    \"\"\"\n",
    "    if is_imposter(player[0]):\n",
    "        players[0] = \"Imposter\"\n",
    "    if is_imposter(player[1]):\n",
    "        players[1] = \"Imposter\"\n",
    "    if is_imposter(player[2]):\n",
    "        players[2] = \"Imposter\"\n",
    "    \n",
    "    # Python will only check player[3] if player has more than\n",
    "    # 3 elements:\n",
    "    if len(player) > 3 and is_imposter(player[3]):\n",
    "        players[3] = \"Imposter\"\n",
    "    if len(player) > 4 and is_imposter(player[4]):\n",
    "        players[4] = \"Imposter\"\n",
    "    return \", \".join(players)\n",
    "print(amogus([\"Bob\", \"Susan\", \"Jim\"]) == \"Bob, Imposter, Jim, Bill\")\n",
    "print(amogus([\"fred\", \"sussy\", \"bill\", \"dionysus\"]) == \"fred, Imposter, bill, Imposter\")\n",
    "print(amogus([\"PEGASUS\", \"NARCISSUS\", \"SUZY\", \"ZEUS\", \"TARSUS\"]) == \"Imposter, Imposter, SUZY, ZEUS, Imposter\")"
   ]
  },
  {
   "cell_type": "markdown",
   "metadata": {},
   "source": [
    "### 2.3"
   ]
  },
  {
   "cell_type": "markdown",
   "metadata": {},
   "source": [
    "#### Coding Activity 1"
   ]
  },
  {
   "cell_type": "code",
   "execution_count": 25,
   "metadata": {},
   "outputs": [
    {
     "name": "stdout",
     "output_type": "stream",
     "text": [
      "1\n",
      "3\n",
      "5\n"
     ]
    }
   ],
   "source": [
    "# Write the following function\n",
    "def print_odds(nums: list):\n",
    "    \"\"\"\n",
    "    Print all the odd numbers in nums\n",
    "    Ex.\n",
    "    [0, 1, 3, 4, 5] -> \n",
    "    1\n",
    "    3\n",
    "    5\n",
    "    \"\"\"\n",
    "    for num in nums:\n",
    "        if num % 2 == 1:\n",
    "            print(num)\n",
    "print_odds([0, 1, 3, 4, 5])"
   ]
  },
  {
   "cell_type": "markdown",
   "metadata": {},
   "source": [
    "#### Coding Activity 2"
   ]
  },
  {
   "cell_type": "code",
   "execution_count": null,
   "metadata": {},
   "outputs": [],
   "source": [
    "# Write the following function\n",
    "def product(num_list: list) -> int:\n",
    "    \"\"\"\n",
    "    Multiply the values of num_list together. If num_list is\n",
    "    empty, return 0.\n",
    "    Ex.\n",
    "    product([2, 3, 5]) -> 30\n",
    "    product([]) -> 0\n",
    "    product([5]) -> 5\n",
    "    product([9, 2]) -> 18\n",
    "    \"\"\"\n",
    "    if len(num_list) == 0:\n",
    "        return 0\n",
    "    prod = 1\n",
    "    for num in num_list:\n",
    "        prod *= num\n",
    "    return prod\n",
    "\n",
    "print(product([2, 3, 5]) -> 30)\n",
    "print(product([]) -> 0)\n",
    "print(product([5]) -> 5)\n",
    "print(product([9, 2]) -> 18)"
   ]
  },
  {
   "cell_type": "markdown",
   "metadata": {},
   "source": [
    "#### Coding Activity 3"
   ]
  },
  {
   "cell_type": "code",
   "execution_count": null,
   "metadata": {},
   "outputs": [],
   "source": [
    "# Write the following function\n",
    "def filter_upper(string_list: list) -> list:\n",
    "    \"\"\"\n",
    "    Return a new list with only uppercase strings from \n",
    "    string_list. Strings are uppercase if all letters in the \n",
    "    string are uppercase.\n",
    "    Ex.\n",
    "    filter_upper([\"foo\", \"BAR\", \"fOoBaR\"]) == [\"BAR\"]\n",
    "    filter_upper([\"abc123\", \"DEF456\", \"GhI789\"]) == [\"DEF456\"]\n",
    "    \"\"\"\n",
    "    new_list = []\n",
    "    for string in string_list:\n",
    "        if string.isupper():\n",
    "            new_list.append(string)\n",
    "    return new_list\n",
    "print(filter_upper([\"foo\", \"BAR\", \"fOoBaR\"]) == [\"BAR\"])\n",
    "print(filter_upper([\"abc123\", \"DEF456\", \"GhI789\"]) == [\"DEF456\"])"
   ]
  },
  {
   "cell_type": "markdown",
   "metadata": {},
   "source": [
    "#### Coding Activity 4"
   ]
  },
  {
   "cell_type": "code",
   "execution_count": null,
   "metadata": {},
   "outputs": [],
   "source": [
    "# Write the following function\n",
    "def square_nums(num_list: list):\n",
    "    \"\"\"\n",
    "    Modify each item in num_list to be the square of its value.\n",
    "    Ex.\n",
    "    [1, 2, 3] -> [1, 4, 9]\n",
    "    [2, 4, 8] -> [4, 16, 64]\n",
    "    \"\"\"\n",
    "    for i in range(len(num_list)):\n",
    "        num_list[i] *= num_list[i]\n",
    "\n",
    "num_list = [1, 2, 3]\n",
    "square_nums(num_list)\n",
    "print(num_list == [1, 4, 9])\n",
    "\n",
    "num_list = [2, 4, 8]\n",
    "square_nums(num_list)\n",
    "print(num_list == [4, 16, 64])"
   ]
  },
  {
   "cell_type": "markdown",
   "metadata": {},
   "source": [
    "#### Coding Activity 5"
   ]
  },
  {
   "cell_type": "code",
   "execution_count": null,
   "metadata": {},
   "outputs": [],
   "source": [
    "# Write the following function\n",
    "def square_first_integer(num_list: list):\n",
    "    \"\"\"\n",
    "    Find the first integer in num_list. Modify it in the list so\n",
    "    that it's squared. If there is no integer, do nothing.\n",
    "    Ex.\n",
    "    [\"a\", \"b\", 5, \"c\", 2] -> [\"a\", \"b\", 25, \"c\", 2]\n",
    "    [2, 3, 4] -> [4, 3, 4]\n",
    "    \"\"\"\n",
    "    for i in range(len(num_list)):\n",
    "        if type(num_list[i]) == int:\n",
    "            num_list[i] *= num_list[i]\n",
    "            break\n",
    "    # or with a while loop\n",
    "    i = 0\n",
    "    while i < len(num_list):\n",
    "        if type(num_list[i]) == int:\n",
    "            num_list[i] *= num_list[i]\n",
    "            break\n",
    "        i += 1\n",
    "num_list = [\"a\", \"b\", 5, \"c\", 2]\n",
    "square_first_integer(num_list)\n",
    "print(num_list == [\"a\", \"b\", 25, \"c\", 2])\n",
    "\n",
    "num_list = [2, 3, 4]\n",
    "square_first_integer(num_list)\n",
    "print(num_list == [4, 3, 4])"
   ]
  },
  {
   "cell_type": "markdown",
   "metadata": {},
   "source": [
    "#### Coding Activity 6"
   ]
  },
  {
   "cell_type": "code",
   "execution_count": null,
   "metadata": {},
   "outputs": [],
   "source": [
    "def wackamole(holes: list) -> tuple:\n",
    "    \"\"\"\n",
    "    Return the row and column of the string \"mole\" in the 2-d\n",
    "    list argument, holes, in the form of a tuple. All of the \n",
    "    other items will be an empty string.\n",
    "    If holes does not contain the string, \"mole\", return the\n",
    "    tuple (-1, -1).\n",
    "    wackamole([\n",
    "        [\"\", \"\", \"\", \"\"],\n",
    "        [\"\", \"\", \"mole\", \"\"],\n",
    "        [\"\", \"\", \"\", \"\"],\n",
    "        [\"\", \"\", \"\", \"\"]\n",
    "        ]) == (1, 2)\n",
    "    wackamole([\n",
    "        [\"\", \"\", \"\", \"\"],\n",
    "        [\"\", \"\", \"\", \"\"],\n",
    "        [\"\", \"\", \"\", \"\"]\n",
    "        ]) == (-1, -1)\n",
    "    wackamole([\n",
    "        [\"\", \"\"],\n",
    "        [\"\", \"\"],\n",
    "        [\"\", \"mole\"]]) == (2, 1)\n",
    "    \"\"\"\n",
    "    for row in holes:\n",
    "        for col in hoels:\n",
    "            return (row, col)\n",
    "    return (-1, -1)\n",
    "print(wackamole([\n",
    "        [\"\", \"\", \"\", \"\"],\n",
    "        [\"\", \"\", \"mole\", \"\"],\n",
    "        [\"\", \"\", \"\", \"\"],\n",
    "        [\"\", \"\", \"\", \"\"]\n",
    "        ]) == (1, 2))\n",
    "print(wackamole([\n",
    "        [\"\", \"\", \"\", \"\"],\n",
    "        [\"\", \"\", \"\", \"\"],\n",
    "        [\"\", \"\", \"\", \"\"]\n",
    "        ]) == (-1, -1))\n",
    "print(wackamole([\n",
    "        [\"\", \"\"],\n",
    "        [\"\", \"\"],\n",
    "        [\"\", \"mole\"]]) == (2, 1))"
   ]
  },
  {
   "cell_type": "markdown",
   "metadata": {},
   "source": [
    "#### Practice Problems"
   ]
  },
  {
   "cell_type": "code",
   "execution_count": 26,
   "metadata": {},
   "outputs": [
    {
     "name": "stdout",
     "output_type": "stream",
     "text": [
      "True\n",
      "True\n",
      "True\n",
      "True\n"
     ]
    }
   ],
   "source": [
    "# 1.\n",
    "def factorial(n: int) -> int:\n",
    "    \"\"\"\n",
    "    Calculate and return the factorial of n.\n",
    "    Ex.\n",
    "    factorial(0) == 1\n",
    "    factorial(1) == 1\n",
    "    factorial(3) == 6\n",
    "    factorial(5) == 120\n",
    "    \"\"\"\n",
    "    fact = 1\n",
    "    for i in range(1, n + 1):\n",
    "        fact *= i\n",
    "    return fact\n",
    "print(factorial(0) == 1)\n",
    "print(factorial(1) == 1)\n",
    "print(factorial(3) == 6)\n",
    "print(factorial(5) == 120)"
   ]
  },
  {
   "cell_type": "code",
   "execution_count": null,
   "metadata": {},
   "outputs": [],
   "source": [
    "# 2.\n",
    "def get_best_player(players: tuple, scores: tuple) -> str: \n",
    "    \"\"\"\n",
    "    Given a list of player names and their scores in a game,\n",
    "    return the name of the player that scored the highest.\n",
    "    If there are no players, return \"\".\n",
    "    Ex.\n",
    "    get_best_player((\"Bob\", \"Jim\", \"Steve\"), (1, 5, 3)) == \"Jim\"\n",
    "    get_best_player((\"Bob\", \"Jim\", \"Steve\"), (5, 5, 3)) == \"Bob\"\n",
    "    get_best_player((), ()) == \"\"\n",
    "    get_best_player((\"Bob\"), (1)) == \"Bob\"\n",
    "    \"\"\"\n",
    "    if len(players) == 0:\n",
    "        return \"\"\n",
    "    # solution 1\n",
    "    max_score = scores[0]\n",
    "    max_player = players[0]\n",
    "    for i in range(1, len(players)):\n",
    "        if scores[i] > max_score:\n",
    "            max_score = scores[i]\n",
    "            max_player = players[i]\n",
    "    return max_player\n",
    "\n",
    "    # solution 2\n",
    "    max_score = max(scores)\n",
    "    max_index = scores.index(max_score)\n",
    "    return players[max_index]\n",
    "\n",
    "print(get_best_player((\"Bob\", \"Jim\", \"Steve\"), (1, 5, 3)) == \"Jim\")\n",
    "print(get_best_player((\"Bob\", \"Jim\", \"Steve\"), (5, 5, 3)) == \"Bob\")\n",
    "print(get_best_player((), ()) == \"\")\n",
    "print(get_best_player((\"Bob\"), (1)) == \"Bob\")"
   ]
  },
  {
   "cell_type": "code",
   "execution_count": null,
   "metadata": {},
   "outputs": [],
   "source": [
    "# 3.\n",
    "def sum_digits(num: int) -> int:\n",
    "    \"\"\"\n",
    "    Return the sum of all of the digits in num.\n",
    "    Ex.\n",
    "    sum_digits(4214) == 11\n",
    "    sum_digits(0) == 0\n",
    "    sum_digits(23412) == 12\n",
    "    \"\"\"\n",
    "    total = 0\n",
    "    while num > 0:\n",
    "        total += num % 10\n",
    "        num //= 10\n",
    "    return total\n",
    "print(sum_digits(4214) == 11)\n",
    "print(sum_digits(0) == 0)\n",
    "print(sum_digits(23412) == 12)"
   ]
  },
  {
   "cell_type": "code",
   "execution_count": 27,
   "metadata": {},
   "outputs": [
    {
     "name": "stdout",
     "output_type": "stream",
     "text": [
      "True\n",
      "True\n",
      "True\n",
      "True\n",
      "True\n"
     ]
    }
   ],
   "source": [
    "# 4.\n",
    "def is_prime_number(num: int) -> bool:\n",
    "    \"\"\"\n",
    "    Return True if num is a prime number, and False otherwise.\n",
    "    For a hint, look below the test cases:\n",
    "    Assume num will be greater than 1.\n",
    "    Ex.\n",
    "    is_prime_number(2) == True\n",
    "    is_prime_number(4) == False\n",
    "    is_prime_number(11) == True\n",
    "    is_prime_number(39) == False\n",
    "    is_prime_number(51) == False\n",
    "    is_prime_number(53) == True\n",
    "    \"\"\"\n",
    "    for potential_factor in range(2, num):\n",
    "        if num % potential_factor == 0:\n",
    "            return False\n",
    "    return True\n",
    "\n",
    "print(is_prime_number(2) == True)\n",
    "print(is_prime_number(4) == False)\n",
    "print(is_prime_number(11) == True)\n",
    "print(is_prime_number(39) == False)\n",
    "print(is_prime_number(51) == False)\n",
    "print(is_prime_number(53) == True)"
   ]
  },
  {
   "cell_type": "code",
   "execution_count": null,
   "metadata": {},
   "outputs": [],
   "source": [
    "def is_strictly_increasing_order(nums: list) -> bool:\n",
    "    \"\"\"\n",
    "    Return True if all of the nums are in strictly increasing\n",
    "    order ([1, 1] is not strictly increasing), and False otherwise.\n",
    "    Ex.\n",
    "    is_strictly_increasing_order([1, 1]) == False\n",
    "    is_strictly_increasing_order([1, 2, 3]) == True\n",
    "    is_strictly_increasing_order([4, 2, 3, 4]) == False\n",
    "    \"\"\"\n",
    "    for i in range(len(nums) - 1):\n",
    "        if nums[i] >= nums[i + 1]:\n",
    "            return False\n",
    "    return True\n",
    "\n",
    "print(is_strictly_increasing_order([1, 1]) == False)\n",
    "print(is_strictly_increasing_order([1, 2, 3]) == True)\n",
    "print(is_strictly_increasing_order([4, 2, 3, 4]) == False)"
   ]
  }
 ],
 "metadata": {
  "kernelspec": {
   "display_name": "Python 3 (ipykernel)",
   "language": "python",
   "name": "python3"
  },
  "language_info": {
   "codemirror_mode": {
    "name": "ipython",
    "version": 3
   },
   "file_extension": ".py",
   "mimetype": "text/x-python",
   "name": "python",
   "nbconvert_exporter": "python",
   "pygments_lexer": "ipython3",
   "version": "3.10.2"
  }
 },
 "nbformat": 4,
 "nbformat_minor": 4
}
