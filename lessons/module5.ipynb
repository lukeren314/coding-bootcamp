{
 "cells": [
  {
   "cell_type": "markdown",
   "metadata": {},
   "source": [
    "## Module 5"
   ]
  },
  {
   "cell_type": "markdown",
   "metadata": {
    "tags": []
   },
   "source": [
    "### Module 5.1 Random and Useful Features"
   ]
  },
  {
   "cell_type": "markdown",
   "metadata": {},
   "source": [
    "The **random** module let's you generate random numbers (though they're not \"truly\" random, they're computer generated):"
   ]
  },
  {
   "cell_type": "markdown",
   "metadata": {},
   "source": [
    "##### randrange method"
   ]
  },
  {
   "cell_type": "code",
   "execution_count": null,
   "metadata": {},
   "outputs": [],
   "source": [
    "import random\n",
    "\n",
    "# randrange format\n",
    "# randrange(min, max (non-inclusive))\n",
    "print(random.randrange(1, 10))\n",
    "\n",
    "# we can also import it like so:\n",
    "from random import randrange\n",
    "print(randrange(1, 10))"
   ]
  },
  {
   "cell_type": "markdown",
   "metadata": {},
   "source": [
    "Try running the above code several times. The **random.randrange** function generates an integer between the min (inclusive) argument and the max (non-inclusive) argument. The code above will generate a number between 1 and 9 (since 10 is't included)."
   ]
  },
  {
   "cell_type": "markdown",
   "metadata": {},
   "source": [
    "##### uniform method"
   ]
  },
  {
   "cell_type": "markdown",
   "metadata": {},
   "source": [
    "You can also generate floats using the uniform function:"
   ]
  },
  {
   "cell_type": "code",
   "execution_count": null,
   "metadata": {},
   "outputs": [],
   "source": [
    "import random\n",
    "\n",
    "# uniform format\n",
    "# uniform(min, max)\n",
    "print(random.uniform(0, 1))"
   ]
  },
  {
   "cell_type": "markdown",
   "metadata": {},
   "source": [
    "The **random.uniform** function generates a random float between min (inclusive) and max (inclusive)."
   ]
  },
  {
   "cell_type": "markdown",
   "metadata": {},
   "source": [
    "##### choice method"
   ]
  },
  {
   "cell_type": "markdown",
   "metadata": {},
   "source": [
    "You can also use random functions on lists, such as the **choice** function:"
   ]
  },
  {
   "cell_type": "code",
   "execution_count": null,
   "metadata": {},
   "outputs": [],
   "source": [
    "import random\n",
    "\n",
    "# choice format\n",
    "# choice(<list/tuple/set>)\n",
    "my_cards = [\"jack\", \"queen\", \"king\", \"ace\"]\n",
    "print(random.choice(my_cards))"
   ]
  },
  {
   "cell_type": "markdown",
   "metadata": {},
   "source": [
    "The **random.choice** function picks and returns a random item from a list, tuple, or set."
   ]
  },
  {
   "cell_type": "markdown",
   "metadata": {},
   "source": [
    "##### sample method"
   ]
  },
  {
   "cell_type": "code",
   "execution_count": 27,
   "metadata": {},
   "outputs": [
    {
     "ename": "ValueError",
     "evalue": "Sample larger than population or is negative",
     "output_type": "error",
     "traceback": [
      "\u001b[1;31m---------------------------------------------------------------------------\u001b[0m",
      "\u001b[1;31mValueError\u001b[0m                                Traceback (most recent call last)",
      "Input \u001b[1;32mIn [28]\u001b[0m, in \u001b[0;36m<cell line: 6>\u001b[1;34m()\u001b[0m\n\u001b[0;32m      3\u001b[0m \u001b[38;5;66;03m# sample format\u001b[39;00m\n\u001b[0;32m      4\u001b[0m \u001b[38;5;66;03m# sample(<list/tuple/set>, <number of items to sample>)\u001b[39;00m\n\u001b[0;32m      5\u001b[0m bag_of_marbles \u001b[38;5;241m=\u001b[39m [\u001b[38;5;124m\"\u001b[39m\u001b[38;5;124mblue marble\u001b[39m\u001b[38;5;124m\"\u001b[39m, \u001b[38;5;124m\"\u001b[39m\u001b[38;5;124mred marble\u001b[39m\u001b[38;5;124m\"\u001b[39m, \u001b[38;5;124m\"\u001b[39m\u001b[38;5;124mgreen marble\u001b[39m\u001b[38;5;124m\"\u001b[39m]\n\u001b[1;32m----> 6\u001b[0m \u001b[38;5;28mprint\u001b[39m(\u001b[43mrandom\u001b[49m\u001b[38;5;241;43m.\u001b[39;49m\u001b[43msample\u001b[49m\u001b[43m(\u001b[49m\u001b[43mbag_of_marbles\u001b[49m\u001b[43m,\u001b[49m\u001b[43m \u001b[49m\u001b[38;5;241;43m4\u001b[39;49m\u001b[43m)\u001b[49m)\n",
      "File \u001b[1;32m~\\AppData\\Local\\Programs\\Python\\Python310\\lib\\random.py:482\u001b[0m, in \u001b[0;36mRandom.sample\u001b[1;34m(self, population, k, counts)\u001b[0m\n\u001b[0;32m    480\u001b[0m randbelow \u001b[38;5;241m=\u001b[39m \u001b[38;5;28mself\u001b[39m\u001b[38;5;241m.\u001b[39m_randbelow\n\u001b[0;32m    481\u001b[0m \u001b[38;5;28;01mif\u001b[39;00m \u001b[38;5;129;01mnot\u001b[39;00m \u001b[38;5;241m0\u001b[39m \u001b[38;5;241m<\u001b[39m\u001b[38;5;241m=\u001b[39m k \u001b[38;5;241m<\u001b[39m\u001b[38;5;241m=\u001b[39m n:\n\u001b[1;32m--> 482\u001b[0m     \u001b[38;5;28;01mraise\u001b[39;00m \u001b[38;5;167;01mValueError\u001b[39;00m(\u001b[38;5;124m\"\u001b[39m\u001b[38;5;124mSample larger than population or is negative\u001b[39m\u001b[38;5;124m\"\u001b[39m)\n\u001b[0;32m    483\u001b[0m result \u001b[38;5;241m=\u001b[39m [\u001b[38;5;28;01mNone\u001b[39;00m] \u001b[38;5;241m*\u001b[39m k\n\u001b[0;32m    484\u001b[0m setsize \u001b[38;5;241m=\u001b[39m \u001b[38;5;241m21\u001b[39m        \u001b[38;5;66;03m# size of a small set minus size of an empty list\u001b[39;00m\n",
      "\u001b[1;31mValueError\u001b[0m: Sample larger than population or is negative"
     ]
    }
   ],
   "source": [
    "import random\n",
    "\n",
    "# sample format\n",
    "# sample(<list/tuple/set>, <number of items to sample>)\n",
    "bag_of_marbles = [\"blue marble\", \"red marble\", \"green marble\"]\n",
    "# number of items must be smaller than lenth of list\n",
    "print(random.sample(bag_of_marbles, 2))"
   ]
  },
  {
   "cell_type": "markdown",
   "metadata": {},
   "source": [
    "The **random.sample** function grabs an item from a list, tuple, or set a number of times and returns a list."
   ]
  },
  {
   "cell_type": "markdown",
   "metadata": {},
   "source": [
    "##### shuffle method"
   ]
  },
  {
   "cell_type": "code",
   "execution_count": null,
   "metadata": {},
   "outputs": [],
   "source": [
    "import random\n",
    "\n",
    "# shuffle format\n",
    "# shuffle(list)\n",
    "my_cards = [\"queen of spades\", \"king of hearts\", \"ace of diamonds\", \"jack of clubs\"]\n",
    "random.shuffle(my_cards)\n",
    "print(my_cards)"
   ]
  },
  {
   "cell_type": "markdown",
   "metadata": {},
   "source": [
    "The **random.shuffle** method shuffles the items in a list. WARNING: This will modify the original list instead of making a copy."
   ]
  },
  {
   "cell_type": "markdown",
   "metadata": {},
   "source": [
    "#### **Coding Activity 1**"
   ]
  },
  {
   "cell_type": "code",
   "execution_count": 20,
   "metadata": {},
   "outputs": [
    {
     "ename": "TypeError",
     "evalue": "'NoneType' object is not iterable",
     "output_type": "error",
     "traceback": [
      "\u001b[1;31m---------------------------------------------------------------------------\u001b[0m",
      "\u001b[1;31mTypeError\u001b[0m                                 Traceback (most recent call last)",
      "Input \u001b[1;32mIn [20]\u001b[0m, in \u001b[0;36m<cell line: 14>\u001b[1;34m()\u001b[0m\n\u001b[0;32m     12\u001b[0m ans \u001b[38;5;241m=\u001b[39m buckets([\u001b[38;5;241m1\u001b[39m, \u001b[38;5;241m3\u001b[39m, \u001b[38;5;241m2\u001b[39m, \u001b[38;5;241m5\u001b[39m], \u001b[38;5;241m2\u001b[39m)\n\u001b[0;32m     13\u001b[0m all_sets \u001b[38;5;241m=\u001b[39m \u001b[38;5;28;01mTrue\u001b[39;00m\n\u001b[1;32m---> 14\u001b[0m \u001b[38;5;28;01mfor\u001b[39;00m item \u001b[38;5;129;01min\u001b[39;00m ans:\n\u001b[0;32m     15\u001b[0m     \u001b[38;5;28;01mif\u001b[39;00m \u001b[38;5;28mtype\u001b[39m(item) \u001b[38;5;241m!=\u001b[39m \u001b[38;5;28mset\u001b[39m:\n\u001b[0;32m     16\u001b[0m         all_sets \u001b[38;5;241m=\u001b[39m \u001b[38;5;28;01mFalse\u001b[39;00m\n",
      "\u001b[1;31mTypeError\u001b[0m: 'NoneType' object is not iterable"
     ]
    }
   ],
   "source": [
    "# Write the following function\n",
    "def buckets(items: list, n: int) -> list:\n",
    "    \"\"\"\n",
    "    Given a list of items, assign them randomly into n buckets.\n",
    "    Each bucket is a set inside an index in a list:\n",
    "    Ex.\n",
    "    buckets([1, 3, 2, 5], 2) -> [{1, 5}, {2, 3}]\n",
    "    buckets([1, 3, 2, 5, 9, 6], 3) -> [{1, 5, 6}, {2, 3, 9}, {}]\n",
    "    \"\"\"\n",
    "    pass\n",
    "\n",
    "ans = buckets([1, 3, 2, 5], 2)\n",
    "all_sets = True\n",
    "for item in ans:\n",
    "    if type(item) != set:\n",
    "        all_sets = False\n",
    "        break\n",
    "print(len(ans) == 2 and all_sets)\n",
    "\n",
    "\n",
    "ans = buckets([1, 3, 2, 5, 9, 6], 3)\n",
    "all_sets = True\n",
    "for item in ans:\n",
    "    if type(item) != set:\n",
    "        all_sets = False\n",
    "        break\n",
    "print(len(ans) == 3 and all_sets)"
   ]
  },
  {
   "cell_type": "markdown",
   "metadata": {},
   "source": [
    "#### Useful Features"
   ]
  },
  {
   "cell_type": "markdown",
   "metadata": {},
   "source": [
    "Let's cover a few more useful builtin features of Python that you would have learned in ICS 31."
   ]
  },
  {
   "cell_type": "markdown",
   "metadata": {},
   "source": [
    "#### The Enumerate Method"
   ]
  },
  {
   "cell_type": "markdown",
   "metadata": {},
   "source": [
    "You know the .items() method for dictionaries? You can do something similar with lists:"
   ]
  },
  {
   "cell_type": "code",
   "execution_count": 17,
   "metadata": {},
   "outputs": [
    {
     "name": "stdout",
     "output_type": "stream",
     "text": [
      "0 1\n",
      "1 3\n",
      "2 5\n"
     ]
    }
   ],
   "source": [
    "# enumerate format\n",
    "# for index, value in enumerate(list):\n",
    "#     <code block>\n",
    "my_list = [1, 3, 5]\n",
    "for index, value in enumerate(my_list):\n",
    "    print(index, value)"
   ]
  },
  {
   "cell_type": "markdown",
   "metadata": {},
   "source": [
    "The **enumerate** method returns an iterable of tuples containing the\n",
    "index and value of each item in a list. We can see what it would have looked like as a list:"
   ]
  },
  {
   "cell_type": "code",
   "execution_count": 3,
   "metadata": {},
   "outputs": [
    {
     "name": "stdout",
     "output_type": "stream",
     "text": [
      "[(0, 1), (1, 3), (2, 5)]\n"
     ]
    }
   ],
   "source": [
    "print(list(enumerate([1, 3, 5])))"
   ]
  },
  {
   "cell_type": "markdown",
   "metadata": {},
   "source": [
    "#### List Comprehensions"
   ]
  },
  {
   "cell_type": "markdown",
   "metadata": {},
   "source": [
    "This is a feature of Python I use a lot, so pay attention:"
   ]
  },
  {
   "cell_type": "code",
   "execution_count": null,
   "metadata": {},
   "outputs": [],
   "source": [
    "# list comprehension format\n",
    "# [value for item in list]\n",
    "my_list = [1, 3, 5]\n",
    "new_list = [item * 2 for item in my_list]\n",
    "print(new_list)\n",
    "\n",
    "# which is equivalent to\n",
    "new_list = []\n",
    "for item in my_list:\n",
    "    new_list.append(item * 2)\n",
    "print(new_list)"
   ]
  },
  {
   "cell_type": "markdown",
   "metadata": {},
   "source": [
    "The **list comprehension** is a shorthand for creating new lists based on old lists, but in one line. This can be used to shorten your code significantly:"
   ]
  },
  {
   "cell_type": "markdown",
   "metadata": {},
   "source": [
    "You can also include a condition on which elements to include in the new list:"
   ]
  },
  {
   "cell_type": "code",
   "execution_count": null,
   "metadata": {},
   "outputs": [],
   "source": [
    "# list comprehension format\n",
    "# [value for item in list if condition]\n",
    "my_list = [1, 2, 3, 4, 5]\n",
    "new_list = [item * 2 for item in my_list if item % 2 == 0]\n",
    "print(new_list)\n",
    "\n",
    "# which is equivalent to\n",
    "new_list = []\n",
    "for item in my_list:\n",
    "    if item % 2 == 0:\n",
    "        new_list.append(item * 2)\n",
    "print(new_list)"
   ]
  },
  {
   "cell_type": "markdown",
   "metadata": {},
   "source": [
    "#### any and all functions"
   ]
  },
  {
   "cell_type": "markdown",
   "metadata": {},
   "source": [
    "The **any** and **all** functions can be used to check if all or any of the elements in a list/tuple are True:"
   ]
  },
  {
   "cell_type": "code",
   "execution_count": null,
   "metadata": {},
   "outputs": [],
   "source": [
    "if all([True, True, True, True]):\n",
    "    print(\"all true\")\n",
    "\n",
    "if any([True, False, False, True]):\n",
    "    print(\"any true\")"
   ]
  },
  {
   "cell_type": "markdown",
   "metadata": {},
   "source": [
    "We can use list comprehensions with these functions to shorten code significantly:"
   ]
  },
  {
   "cell_type": "code",
   "execution_count": null,
   "metadata": {},
   "outputs": [],
   "source": [
    "nums = [2, 4, 6, 8]\n",
    "all_even = all([num % 2 == 0 for num in nums])\n",
    "print(all_even)\n",
    "\n",
    "# as opposed to\n",
    "all_even = True\n",
    "for num in nums:\n",
    "    if not num % 2 == 0:\n",
    "        all_even = False\n",
    "        break\n",
    "print(all_even)"
   ]
  },
  {
   "cell_type": "markdown",
   "metadata": {},
   "source": [
    "#### **Coding Activity 2**"
   ]
  },
  {
   "cell_type": "code",
   "execution_count": null,
   "metadata": {},
   "outputs": [],
   "source": [
    "# Write the following function\n",
    "def enumerate_every_other(items: list) -> list:\n",
    "    \"\"\"\n",
    "    Given a list of items, return tuple pairs of index and value\n",
    "    for every other item in the list, starting with the 0th.\n",
    "    Can you do it in one line?\n",
    "    Ex.\n",
    "    enumerate_every_other([5, 6, 7]) == [(0, 5), (2, 7)]\n",
    "    enumerate_every_other([2, 3, 4, 5]) == [(0, 2), (2, 4)]\n",
    "    \"\"\"\n",
    "    pass\n",
    "\n",
    "print(enumerate_every_other([5, 6, 7]) == [(0, 5), (2, 7)])\n",
    "print(enumerate_every_other([2, 3, 4, 5]) == [(0, 2), (2, 4)])"
   ]
  },
  {
   "cell_type": "markdown",
   "metadata": {
    "tags": []
   },
   "source": [
    "#### Cloning a List"
   ]
  },
  {
   "cell_type": "markdown",
   "metadata": {},
   "source": [
    "Sometimes you want a list that's an exact copy of the data inside another list, like below:"
   ]
  },
  {
   "cell_type": "code",
   "execution_count": null,
   "metadata": {},
   "outputs": [],
   "source": [
    "dont_change_me = [1, 2, 3]\n",
    "new_list = dont_change_me\n",
    "new_list.remove(2) # oh no! we changed dont_change_me too.\n",
    "print(dont_change_me)\n",
    "print(new_list)"
   ]
  },
  {
   "cell_type": "markdown",
   "metadata": {},
   "source": [
    "There's several ways to make copies of lists, I will show you a few:"
   ]
  },
  {
   "cell_type": "code",
   "execution_count": 31,
   "metadata": {
    "tags": []
   },
   "outputs": [
    {
     "name": "stdout",
     "output_type": "stream",
     "text": [
      "[1, 2, 3]\n"
     ]
    }
   ],
   "source": [
    "dont_change_me = [1, 2, 3]\n",
    "list_copy1 = list(dont_change_me) # construct a list with the same values\n",
    "list_copy2 = dont_change_me[:] # slice everything\n",
    "list_copy3 = [item for item in dont_change_me] # recreate every item in a list comprehension\n",
    "list_copy1.remove(2)\n",
    "print(list_copy1)\n",
    "list_copy2.remove(2)\n",
    "print(list_copy2)\n",
    "list_copy3.remove(2)\n",
    "print(list_copy3)\n",
    "print(dont_change_me)"
   ]
  },
  {
   "cell_type": "markdown",
   "metadata": {},
   "source": [
    "My personal favorite is the slicing version, since it's the shortest to type of the 3. Keep in mind, these are **shallow copies**, as in, if we made a shallow copy of a list that contained nested lists, only the outer list would be new and not the nested ones."
   ]
  },
  {
   "cell_type": "markdown",
   "metadata": {},
   "source": [
    "#### Ternary Operator"
   ]
  },
  {
   "cell_type": "markdown",
   "metadata": {},
   "source": [
    "The **ternary** or **if-else** operator can shorten the process of conditionally setting values:"
   ]
  },
  {
   "cell_type": "code",
   "execution_count": null,
   "metadata": {},
   "outputs": [],
   "source": [
    "# ternary operator format\n",
    "# value if condition else other_value\n",
    "print(5 if 1 < 2 else 3)\n",
    "print(5 if 1 >= 2 else 3)"
   ]
  },
  {
   "cell_type": "markdown",
   "metadata": {},
   "source": [
    "We can use this to assign variables, or even enhance our list comprehensions even more:"
   ]
  },
  {
   "cell_type": "code",
   "execution_count": 21,
   "metadata": {},
   "outputs": [
    {
     "name": "stdout",
     "output_type": "stream",
     "text": [
      "5\n",
      "[0, 1, 0, 1, 0, 1, 0, 1, 0, 1]\n"
     ]
    }
   ],
   "source": [
    "var = 5 if 1 < 2 else 4\n",
    "print(var)\n",
    "\n",
    "# use 0 for even indexes, 1 for odd\n",
    "print([0 if i % 2 == 0 else 1 for i in range(10)])"
   ]
  },
  {
   "cell_type": "markdown",
   "metadata": {},
   "source": [
    "#### Arbitrary Keyword Arguments"
   ]
  },
  {
   "cell_type": "code",
   "execution_count": 4,
   "metadata": {},
   "outputs": [
    {
     "name": "stdout",
     "output_type": "stream",
     "text": [
      "{'x': 2, 'y': 3}\n",
      "{'x': 6, 'z': 7}\n"
     ]
    }
   ],
   "source": [
    "# arbitrary keyword arguments format\n",
    "# def function(**keyword_arguments):\n",
    "#     <code block>\n",
    "def foo(**kargs):\n",
    "    print(kargs)\n",
    "    \n",
    "foo(x = 2, y = 3)\n",
    "foo(x = 6, z = 7)"
   ]
  },
  {
   "cell_type": "markdown",
   "metadata": {},
   "source": [
    "**Arbitrary keyword arguments** are when you use two asterisks (\\**) next to a parameter name. That parameter will allow the user to pass in any number of keyword arguments, and will become a dictionary with the keys and values of the keyword arguments."
   ]
  },
  {
   "cell_type": "markdown",
   "metadata": {},
   "source": [
    "You can even mix and match arbitrary arguments, arbitrary keyword arguments, and default arguments:"
   ]
  },
  {
   "cell_type": "code",
   "execution_count": 18,
   "metadata": {},
   "outputs": [
    {
     "name": "stdout",
     "output_type": "stream",
     "text": [
      "2\n",
      "(3, 4)\n",
      "{'x': 2}\n",
      "\n",
      "1\n",
      "()\n",
      "{'x': 2, 'y': 3}\n"
     ]
    }
   ],
   "source": [
    "def foo(a = 1, *args, **kwargs):\n",
    "    print(a)\n",
    "    print(args)\n",
    "    print(kwargs)\n",
    "\n",
    "foo(2, 3, 4, x=2)\n",
    "print()\n",
    "foo(x=2, y=3)"
   ]
  },
  {
   "cell_type": "markdown",
   "metadata": {},
   "source": [
    "#### **Coding Activity 3**"
   ]
  },
  {
   "cell_type": "code",
   "execution_count": null,
   "metadata": {},
   "outputs": [],
   "source": [
    "# Write the function below\n",
    "def fancy_replace(items: tuple, **kwargs) -> list:\n",
    "    \"\"\"\n",
    "    Given a list and arbitrary keyword arguments keys, replace\n",
    "    occurences of the keys in kwargs with their values.\n",
    "    Can you do it in 1 line?\n",
    "    Ex.\n",
    "    fancy_replace((\"foo\", \"bar\", \"baz\"), foo=\"fizz\") == [\"fizz\", \"bar\", \"baz\"]\n",
    "    fancy_replace((\"foo\", \"bar\", \"foo\"), foo=\"fizz\") == [\"fizz\", \"bar\", \"fizz\"]\n",
    "    fancy_replace((\"foo\", \"bar\", \"baz\"), foo=\"fizz\", bar=\"bizz\") == [\"fizz\", \"bizz\", \"baz\"]\n",
    "    \"\"\"\n",
    "    pass\n",
    "print(fancy_replace((\"foo\", \"bar\", \"baz\"), foo=\"fizz\") == [\"fizz\", \"bar\", \"baz\"])\n",
    "print(fancy_replace((\"foo\", \"bar\", \"foo\"), foo=\"fizz\") == [\"fizz\", \"bar\", \"fizz\"])\n",
    "print(fancy_replace((\"foo\", \"bar\", \"baz\"), foo=\"fizz\", bar=\"bizz\") == [\"fizz\", \"bizz\", \"baz\"])"
   ]
  },
  {
   "cell_type": "markdown",
   "metadata": {},
   "source": [
    "#### Identity Operator"
   ]
  },
  {
   "cell_type": "markdown",
   "metadata": {},
   "source": [
    "The **is**, or identity, operator checks if two things are referencing the same object:"
   ]
  },
  {
   "cell_type": "code",
   "execution_count": 14,
   "metadata": {},
   "outputs": [
    {
     "name": "stdout",
     "output_type": "stream",
     "text": [
      "True\n",
      "False\n"
     ]
    }
   ],
   "source": [
    "x = 2\n",
    "y = 2 # refers to same thing\n",
    "print(x is y)"
   ]
  },
  {
   "cell_type": "markdown",
   "metadata": {},
   "source": [
    "The **is** operator returns True if two objects are referring to the same object. Using the identity operator on primitive types (int, bool, float, str, and None) will always return True if they have the same value. What about non-primitive types?"
   ]
  },
  {
   "cell_type": "code",
   "execution_count": null,
   "metadata": {},
   "outputs": [],
   "source": [
    "x = [1, 2, 3]\n",
    "y = x # references the same object as x\n",
    "z = [1, 2, 3] # creates a new list object\n",
    "print(x is y)\n",
    "print(x is z)"
   ]
  },
  {
   "cell_type": "markdown",
   "metadata": {},
   "source": [
    "Since z is a new object (we use a new set of square brackets, \\[]), it's not the same. Since y is a new reference to x (no new object is created), y is x."
   ]
  },
  {
   "cell_type": "markdown",
   "metadata": {},
   "source": [
    "If it doesn't make much sense, that's okay, we rarely use **is** in the real world (to my knowledge at least)."
   ]
  },
  {
   "cell_type": "markdown",
   "metadata": {},
   "source": [
    "#### Returning Multiple Values"
   ]
  },
  {
   "cell_type": "code",
   "execution_count": 16,
   "metadata": {},
   "outputs": [
    {
     "name": "stdout",
     "output_type": "stream",
     "text": [
      "(1, 2)\n",
      "(1, 2)\n"
     ]
    }
   ],
   "source": [
    "def foo():\n",
    "    return 1, 2\n",
    "print(foo())\n",
    "# equivalent to\n",
    "def foo():\n",
    "    return (1, 2)\n",
    "print(foo())"
   ]
  },
  {
   "cell_type": "markdown",
   "metadata": {},
   "source": [
    "Functions can return multiple values, with a comma between each, but it just returns it as a tuple of those values. Enough said."
   ]
  },
  {
   "cell_type": "markdown",
   "metadata": {},
   "source": [
    "#### Summary"
   ]
  },
  {
   "cell_type": "markdown",
   "metadata": {
    "tags": []
   },
   "source": [
    "In this lesson, we learned about the random module, list comprehensions, the ternary operator, arbitrary keyword arguments, the identity operator, and returning multiple values. Here's a summary of what we learned:\n",
    "\n",
    "| Usage | Definition |\n",
    "| --- | --- |\n",
    "| random.randrange(min, max) | generates a random integer between min (inclusive) and max (non-inclusive) |\n",
    "| random.uniform(min, max) | generates a random float between min and max (inclusive) |\n",
    "| random.choice(list) | picks a random item from the list |\n",
    "| random.sample(list, n) | returns a list of n samples from list |\n",
    "| random.shuffle(list) | shuffles the order of the items in list in-place |\n",
    "| enumerate(list) | returns an iterable of the indexes and values of list in tuples |\n",
    "| \\[value for item in list if condition] | list comprehension |\n",
    "| all(list_of_bools) | checks if all bools are True |\n",
    "| any(list_of_bools) | checks if any bools are True |\n",
    "| value if condition else other_value | ternary operator |\n",
    "| a is b | identity operator |\n",
    "| return a, b | returns values in tuple |"
   ]
  },
  {
   "cell_type": "markdown",
   "metadata": {},
   "source": [
    "No practice this time, other than the coding activities above. Enjoy the break!"
   ]
  },
  {
   "cell_type": "markdown",
   "metadata": {},
   "source": [
    "### Module 5.2 Modules and Command-line Arguments"
   ]
  },
  {
   "cell_type": "markdown",
   "metadata": {},
   "source": [
    "We completed all of the content for the ICS 31 credit exam, yay! But there's a couple more concepts that are taught in the ICS 31 class that we haven't covered yet, so let's go over those."
   ]
  },
  {
   "cell_type": "markdown",
   "metadata": {},
   "source": [
    "#### Running a Python File"
   ]
  },
  {
   "cell_type": "markdown",
   "metadata": {},
   "source": [
    "This whole time we've been using Google Colab to run Python snippets, but in the real world, people run Python on their computers. We can do that by installing Python, creating a text file that ends in .py, and then running the Python interpreter on that file."
   ]
  },
  {
   "cell_type": "markdown",
   "metadata": {},
   "source": [
    "We'll learn about the Python installation/environment setup process later, but for now, to get you to experience what that's like, we'll use this website: https://www.online-python.com/"
   ]
  },
  {
   "cell_type": "markdown",
   "metadata": {},
   "source": [
    "#### How Python Code is Run"
   ]
  },
  {
   "cell_type": "markdown",
   "metadata": {},
   "source": [
    "Python code is written in text files, with the file extension \".py\". We can then run that Python file using the Python interpreter (which is what you get when you download Python officially)."
   ]
  },
  {
   "cell_type": "markdown",
   "metadata": {},
   "source": [
    "The website that we're using has the Python interpreter baked in, so we don't have to install it."
   ]
  },
  {
   "cell_type": "markdown",
   "metadata": {},
   "source": [
    "Try reading through the default code provided and see if you can understand it. Then, run the code and answer the prompts until the code finishes running."
   ]
  },
  {
   "cell_type": "markdown",
   "metadata": {},
   "source": [
    "#### Modules"
   ]
  },
  {
   "cell_type": "markdown",
   "metadata": {},
   "source": [
    "We've seen before that we can import code from other modules, like so:"
   ]
  },
  {
   "cell_type": "code",
   "execution_count": null,
   "metadata": {},
   "outputs": [],
   "source": [
    "import math\n",
    "\n",
    "print(math.log(5))"
   ]
  },
  {
   "cell_type": "markdown",
   "metadata": {},
   "source": [
    "How does this actually work? Let's create a new file on the website by pressing the \"+\" button next to the filename \"main.py\" and name it \"foo.py\"."
   ]
  },
  {
   "cell_type": "markdown",
   "metadata": {},
   "source": [
    "Insert the following piece of code inside of \"foo.py\":"
   ]
  },
  {
   "cell_type": "code",
   "execution_count": null,
   "metadata": {},
   "outputs": [],
   "source": [
    "# insert these lines of code into foo.py\n",
    "a = 5\n",
    "\n",
    "def bar():\n",
    "    print(\"bar\")\n",
    "print(\"foo\")"
   ]
  },
  {
   "cell_type": "markdown",
   "metadata": {},
   "source": [
    "Now switch back to \"main.py\", and insert the following piece of code:"
   ]
  },
  {
   "cell_type": "code",
   "execution_count": null,
   "metadata": {},
   "outputs": [],
   "source": [
    "# insert these lines of code into main.py\n",
    "import foo\n",
    "\n",
    "print(foo.a)\n",
    "foo.bar()\n",
    "print(\"main\")"
   ]
  },
  {
   "cell_type": "markdown",
   "metadata": {},
   "source": [
    "Now run main.py and see what happens."
   ]
  },
  {
   "cell_type": "markdown",
   "metadata": {},
   "source": [
    "Modules are really just Python files that we can run from other Python files. When we import foo.py, its code gets executed, and then we can access its global variables and functions from main.py. After foo.py finishes running, the rest of main.py gets executed."
   ]
  },
  {
   "cell_type": "markdown",
   "metadata": {},
   "source": [
    "What happens if you import foo twice? "
   ]
  },
  {
   "cell_type": "code",
   "execution_count": null,
   "metadata": {},
   "outputs": [],
   "source": [
    "# add another import to foo in main.py\n",
    "import foo\n",
    "import foo\n",
    "\n",
    "print(foo.a)\n",
    "foo.bar()\n",
    "print(\"main\")"
   ]
  },
  {
   "cell_type": "markdown",
   "metadata": {},
   "source": [
    "Python makes sure that if you import a module twice, nothing happens the second time. This is so that redundant imports don't happen."
   ]
  },
  {
   "cell_type": "markdown",
   "metadata": {},
   "source": [
    "You might be wondering, how can I import math if math.py isn't a file in my folder. This is because math is a builtin module we can import from anywhere. We'll learn about more module types later."
   ]
  },
  {
   "cell_type": "markdown",
   "metadata": {},
   "source": [
    "#### if \\_\\_name\\_\\_ == \"\\_\\_main\\_\\_\":"
   ]
  },
  {
   "cell_type": "markdown",
   "metadata": {},
   "source": [
    "If we want our code to only run if it's the file being run instead of a file being imported, we surround if with a special if statement:"
   ]
  },
  {
   "cell_type": "code",
   "execution_count": null,
   "metadata": {},
   "outputs": [],
   "source": [
    "# change foo.py to have these lines instead\n",
    "a = 5\n",
    "\n",
    "def bar():\n",
    "    print(\"bar\")\n",
    "\n",
    "if __name__ == \"__main__\":\n",
    "    print(\"foo\")"
   ]
  },
  {
   "cell_type": "markdown",
   "metadata": {},
   "source": [
    "Now switch back to main.py and run it. Notice that \"foo\" didn't get printed."
   ]
  },
  {
   "cell_type": "markdown",
   "metadata": {},
   "source": [
    "Now switch back again to foo.py and run it. This time, \"foo\" gets printed."
   ]
  },
  {
   "cell_type": "markdown",
   "metadata": {},
   "source": [
    "The \\_\\_name\\_\\_ variable is a special variable that Python assigns a different value to for every file BEFORE YOUR CODE EVEN RUNS. Magical. The file being run gets its \\_\\_name\\_\\_ variable set to \"\\_\\_main\\_\\_\", which is why we can use this to special if statement in this way."
   ]
  },
  {
   "cell_type": "markdown",
   "metadata": {},
   "source": [
    "If you're curious, try to print the value of \\_\\_name\\_\\_ in a file that's being imported instead of being ran, and see what it prints."
   ]
  },
  {
   "cell_type": "markdown",
   "metadata": {},
   "source": [
    "#### Command-line Arguments"
   ]
  },
  {
   "cell_type": "markdown",
   "metadata": {},
   "source": [
    "We've learned about input and files as ways to pass data into our code, but there's one more that revolves around the **argparse** module."
   ]
  },
  {
   "cell_type": "markdown",
   "metadata": {},
   "source": [
    "The argparse module is very complicated and has lots of features, all of which are described in the official documentation: https://docs.python.org/3/library/argparse.html"
   ]
  },
  {
   "cell_type": "markdown",
   "metadata": {},
   "source": [
    "#### Positional Command Line Arguments"
   ]
  },
  {
   "cell_type": "markdown",
   "metadata": {},
   "source": [
    "We'll be looking at a few of the most important ones. Copy the following lines of code into \"main.py\":"
   ]
  },
  {
   "cell_type": "code",
   "execution_count": null,
   "metadata": {},
   "outputs": [],
   "source": [
    "import argparse\n",
    "\n",
    "parser = argparse.ArgumentParser()\n",
    "parser.add_argument(\"foo\")\n",
    "parser.add_argument(\"bar\")\n",
    "\n",
    "args = parser.parse_args()\n",
    "print(args.foo)\n",
    "print(args.bar)\n"
   ]
  },
  {
   "cell_type": "markdown",
   "metadata": {},
   "source": [
    "Now before you run the program, write the words 'fizz bizz', without quotation marks, into the \"Command Line Arguments\" section. Then, run the program."
   ]
  },
  {
   "cell_type": "markdown",
   "metadata": {},
   "source": [
    "The **argparse.ArgumentParser** object lets you add arguments to your program. When you run the **parse_args** on the ArgumentParser object, it automatically parses the text passed into the \"Command Line Arguments\" section based on what arguments you defined. "
   ]
  },
  {
   "cell_type": "markdown",
   "metadata": {},
   "source": [
    "These arguments are called **position command-line arguments** because they have to do with the position of the arguments passed in (i.e. first argument goes into first parameter, second argument goes into second parameter), like a function."
   ]
  },
  {
   "cell_type": "markdown",
   "metadata": {},
   "source": [
    "#### Optional Command Line Arguments"
   ]
  },
  {
   "cell_type": "markdown",
   "metadata": {},
   "source": [
    "Just like how we can add default/keyword arguments to our Python functions, we can add default/keyword arguments to our Python modules. Copy these lines into main.py:"
   ]
  },
  {
   "cell_type": "code",
   "execution_count": null,
   "metadata": {},
   "outputs": [],
   "source": [
    "import argparse\n",
    "\n",
    "parser = argparse.ArgumentParser()\n",
    "parser.add_argument(\"--foo\")\n",
    "parser.add_argument(\"--bar\", action=\"store_true\")\n",
    "\n",
    "args = parser.parse_args()\n",
    "print(args.foo)\n",
    "print(args.bar)"
   ]
  },
  {
   "cell_type": "markdown",
   "metadata": {},
   "source": [
    "And run it with NO command line arguments."
   ]
  },
  {
   "cell_type": "markdown",
   "metadata": {},
   "source": [
    "If you include one or two dashes (-) at the start of an argument name, it becomes an **optional command line argument**. That means that its value starts out as None (unless you give it a specific action, we'll get to that soon)."
   ]
  },
  {
   "cell_type": "markdown",
   "metadata": {},
   "source": [
    "We can assign a value into the foo variable by running it with command-line arguments like so: '--foo bazz'"
   ]
  },
  {
   "cell_type": "markdown",
   "metadata": {},
   "source": [
    "Re-run the code with those command-line arguments. Now re-run the code with the command-line arguments: '-foo bazz --bar'"
   ]
  },
  {
   "cell_type": "markdown",
   "metadata": {},
   "source": [
    "Since we gave the \"--bar\" argument the action \"store_true\", it will assign args.bar to False unless we include \"--bar\" in the command line arguments. "
   ]
  },
  {
   "cell_type": "markdown",
   "metadata": {},
   "source": [
    "#### Full Example"
   ]
  },
  {
   "cell_type": "markdown",
   "metadata": {},
   "source": [
    "We can use these optional arguments to conditionally run code:"
   ]
  },
  {
   "cell_type": "code",
   "execution_count": 34,
   "metadata": {},
   "outputs": [
    {
     "name": "stderr",
     "output_type": "stream",
     "text": [
      "usage: ipykernel_launcher.py [-h] [--print_value PRINT_VALUE] [--upper]\n",
      "ipykernel_launcher.py: error: unrecognized arguments: -f C:\\Users\\luker\\AppData\\Roaming\\jupyter\\runtime\\kernel-c40f377e-b699-4f2d-b0ae-b4e14f3270d9.json\n"
     ]
    },
    {
     "ename": "SystemExit",
     "evalue": "2",
     "output_type": "error",
     "traceback": [
      "An exception has occurred, use %tb to see the full traceback.\n",
      "\u001b[1;31mSystemExit\u001b[0m\u001b[1;31m:\u001b[0m 2\n"
     ]
    }
   ],
   "source": [
    "# Run this code with commandline arguments '--print foo'\n",
    "# and then again with '--print foo --upper'\n",
    "import argparse    \n",
    "\n",
    "parser = argparse.ArgumentParser()\n",
    "parser.add_argument(\"--print_value\")\n",
    "parser.add_argument(\"--upper\", action=\"store_true\")\n",
    "args = parser.parse_args()\n",
    "if args.print_value != None:\n",
    "    if args.upper:\n",
    "        print(args.print_value.upper())\n",
    "    else:\n",
    "        print(args.print_value)"
   ]
  },
  {
   "cell_type": "markdown",
   "metadata": {},
   "source": [
    "For even more clarity, visit either the official documentation page, or the official tutorial page: https://docs.python.org/3/howto/argparse.html"
   ]
  },
  {
   "cell_type": "markdown",
   "metadata": {},
   "source": [
    "#### **Coding Activity 1**"
   ]
  },
  {
   "cell_type": "code",
   "execution_count": 29,
   "metadata": {},
   "outputs": [],
   "source": [
    "import argparse\n",
    "# Write the following function and complete the code below\n",
    "def filter_list(nums: list, args: argparse.Namespace) -> list:\n",
    "    \"\"\"\n",
    "    Given a list of nums and command line arguments, return\n",
    "    a new list of nums.\n",
    "    If the greater_than argument is used, keep only numbers\n",
    "    greater than the given value in the new list.\n",
    "    If the reverse argument is used, reverse the new list before\n",
    "    you return it.\n",
    "    Ex.\n",
    "    [3, 2, 5, 1], greater_than=2, reverse=False -> [3, 5]\n",
    "    [3, 2, 5, 1], greater_than=None, reverse=False -> [3, 2, 5, 1]\n",
    "    [3, 2, 5, 1], greater_than=None, reverse=True -> [1, 5, 2, 3]\n",
    "    [3, 2, 5, 1], greater_than=2, reverse=True -> [5, 3]\n",
    "    \"\"\"\n",
    "    pass\n",
    "\n",
    "parser = argparse.ArgumentParser()\n",
    "parser.add_argument(\"--greater_than\")\n",
    "parser.add_argument(\"--reverse\", action=\"store_true\")\n",
    "args = parser.parse_args()\n",
    "data_list = [3, 2, 5, 1]\n",
    "print(filter_list(data_list, args))"
   ]
  },
  {
   "cell_type": "markdown",
   "metadata": {
    "tags": []
   },
   "source": [
    "#### sys.argv"
   ]
  },
  {
   "cell_type": "markdown",
   "metadata": {},
   "source": [
    "argparse makes adding fancy commandline arguments easier, but you can also just access command line arguments directly using sys.argv:"
   ]
  },
  {
   "cell_type": "code",
   "execution_count": null,
   "metadata": {},
   "outputs": [],
   "source": [
    "import sys\n",
    "print(sys.argv)"
   ]
  },
  {
   "cell_type": "markdown",
   "metadata": {},
   "source": [
    "Run the code above with some command-line arguments and see what happens."
   ]
  },
  {
   "cell_type": "markdown",
   "metadata": {},
   "source": [
    "#### Summary"
   ]
  },
  {
   "cell_type": "markdown",
   "metadata": {},
   "source": [
    "In this lesson, we learned about the Python interpreter, Python modules, \\_\\_name\\_\\_, positional command-line arguments, and optional command-line arguments. Here is a summary of what we learned:\n",
    "\n",
    "| Usage | Definition |\n",
    "| --- | --- |\n",
    "| import module | runs code in module.py file and makes its global variables and functions available |\n",
    "| \\_\\_name\\_\\_ | will equal \"\\_\\_main\\_\\_\" if it's the file being run. |\n",
    "| argparse.ArgumentParser() | returns an ArgumentParser object |\n",
    "| parser.add_argument(arg) | adds an argument to the ArgumentParser |\n",
    "| parser.parse_args() | parses the text from the command line arguments and returns the data in them |"
   ]
  },
  {
   "cell_type": "markdown",
   "metadata": {},
   "source": [
    "Also no practice problems this time, enjoy the extended break!"
   ]
  },
  {
   "cell_type": "markdown",
   "metadata": {},
   "source": [
    "### Module 5.3 Wrapping Up"
   ]
  },
  {
   "cell_type": "markdown",
   "metadata": {},
   "source": [
    "Well done, you've finished all of ICS 31! Let's practice what we've learned by writing a program."
   ]
  },
  {
   "cell_type": "markdown",
   "metadata": {},
   "source": [
    "We're going to write a program that searches for courses for us."
   ]
  },
  {
   "cell_type": "markdown",
   "metadata": {},
   "source": [
    "#### The Course Search Program"
   ]
  },
  {
   "cell_type": "markdown",
   "metadata": {},
   "source": [
    "The Course Search Program (which is something I made up) searches through a collection of course data, retrieves courses that satisfy a set of filters, and sorts them according to their average GPA."
   ]
  },
  {
   "cell_type": "markdown",
   "metadata": {},
   "source": [
    "The program will allow the user to run the program with different command-line arguments, and these arguments will determine which filters to apply on the data."
   ]
  },
  {
   "cell_type": "markdown",
   "metadata": {},
   "source": [
    "The program will then print the results in an easy-to-read format."
   ]
  },
  {
   "cell_type": "markdown",
   "metadata": {},
   "source": [
    "##### The Data"
   ]
  },
  {
   "cell_type": "markdown",
   "metadata": {},
   "source": [
    "There are 2 parts to the data, a list of courses, and a list of previous grade distributions for previous sections of a class."
   ]
  },
  {
   "cell_type": "markdown",
   "metadata": {},
   "source": [
    "The list of courses will have the following structure:"
   ]
  },
  {
   "cell_type": "code",
   "execution_count": null,
   "metadata": {},
   "outputs": [],
   "source": [
    "# [\n",
    "#   {\n",
    "#     \"id\": \"LINGUIS150\",\n",
    "#     \"department\": \"LINGUIS\",\n",
    "#     \"number\": \"150\",\n",
    "#     \"title\": \"Acquisition of Language II\",\n",
    "#     \"course_level\": \"Upper Division (100-199)\",\n",
    "#     \"units\": [4, 4],\n",
    "#     \"prerequisite_list\": [\"PSYCH 56L\", \"LINGUIS 51\"]\n",
    "#   },\n",
    "#   {\n",
    "#     \"id\": \"LPSH80\",\n",
    "#     \"department\": \"LPS\",\n",
    "#     \"number\": \"H80\",\n",
    "#     \"title\": \"Scientific Realism and Instrumentalism\",\n",
    "#     \"course_level\": \"Lower Division (1-99)\",\n",
    "#     \"units\": [4, 4],\n",
    "#     \"prerequisite_list\": []\n",
    "#   },\n",
    "#   {\n",
    "#     \"id\": \"PHILOS108\",\n",
    "#     \"department\": \"PHILOS\",\n",
    "#     \"number\": \"108\",\n",
    "#     \"title\": \"Topics in Induction, Probability, and Decision Theory\",\n",
    "#     \"course_level\": \"Upper Division (100-199)\",\n",
    "#     \"units\": [4, 4],\n",
    "#     \"prerequisite_list\": []\n",
    "#   },\n",
    "#     ...\n",
    "# ]\n"
   ]
  },
  {
   "cell_type": "markdown",
   "metadata": {},
   "source": [
    "Why are there 2 numbers for units? Certain courses can be a different number of units depending on the quarter/what the student decides (like a research course). The number on the left is the minimum number of units for that course, and the number on the right is the maximum."
   ]
  },
  {
   "cell_type": "markdown",
   "metadata": {},
   "source": [
    "The list of previous section grades will be as follows:"
   ]
  },
  {
   "cell_type": "code",
   "execution_count": null,
   "metadata": {},
   "outputs": [],
   "source": [
    "# [\n",
    "#   {\n",
    "#     \"year\": \"2015-16\",\n",
    "#     \"quarter\": \"SPRING\",\n",
    "#     \"department\": \"LINGUIS\",\n",
    "#     \"number\": \"150\",\n",
    "#     \"averageGPA\": 3.44\n",
    "#   },\n",
    "#   {\n",
    "#     \"year\": \"2014-15\",\n",
    "#     \"quarter\": \"WINTER\",\n",
    "#     \"department\": \"LPS\",\n",
    "#     \"number\": \"H80\",\n",
    "#     \"averageGPA\": 3.62\n",
    "#   },\n",
    "#   {\n",
    "#     \"year\": \"2017-18\",\n",
    "#     \"quarter\": \"WINTER\",\n",
    "#     \"department\": \"PHILOS\",\n",
    "#     \"number\": \"108\",\n",
    "#     \"averageGPA\": 3.83\n",
    "#   },\n",
    "#     ...\n",
    "# ]\n"
   ]
  },
  {
   "cell_type": "markdown",
   "metadata": {},
   "source": [
    "How did I get this data? We'll learn about that later. Just know that the data I give you for this assignment is just a few courses I randomly picked from UCI."
   ]
  },
  {
   "cell_type": "markdown",
   "metadata": {},
   "source": [
    "##### Filters"
   ]
  },
  {
   "cell_type": "markdown",
   "metadata": {},
   "source": [
    "These are the filters that may be applied on the data. Each filter will decide which courses are kept in the final list of courses:"
   ]
  },
  {
   "cell_type": "markdown",
   "metadata": {},
   "source": [
    "The **department** filter will allow the user to filter courses by providing a department string. If the course's department contains the department string (case-insensitive), keep the course."
   ]
  },
  {
   "cell_type": "markdown",
   "metadata": {},
   "source": [
    "The **number** filter will allow the user to filter courses by providing a number string. If the course's number contains the number string (case-insensitive), keep the course."
   ]
  },
  {
   "cell_type": "markdown",
   "metadata": {},
   "source": [
    "The **course_level** filter will allow the user to filter courses by providing a course_level string. If the course's course_level contains the course_level string (case-insensitive), keep the course."
   ]
  },
  {
   "cell_type": "markdown",
   "metadata": {},
   "source": [
    "The **units_min** filter will allow the user to filter_courses by providing a units_min integer. If the course's maximum number of units is greater than or equal to the units_min integer, keep the course."
   ]
  },
  {
   "cell_type": "markdown",
   "metadata": {},
   "source": [
    "The **units_max** filter will allow the user to filter courses by providing a units_min integer. If the course's minimum number of units is greater than or equal to the units_max integer, keep the course."
   ]
  },
  {
   "cell_type": "markdown",
   "metadata": {},
   "source": [
    "The **prerequisite** filter will allow the user to filter courses based on a prerequisite string. If the prerequisite string is in any of the prerequisites of the course's prerequisite_list, keep the course."
   ]
  },
  {
   "cell_type": "markdown",
   "metadata": {},
   "source": [
    "##### Grades"
   ]
  },
  {
   "cell_type": "markdown",
   "metadata": {},
   "source": [
    "The grades come based on sections, but we want to sort by average GPA over all previous sections."
   ]
  },
  {
   "cell_type": "markdown",
   "metadata": {},
   "source": [
    "In order to match a course to its grade sections, it must have the same department and number strings as the grade sections. To find the average GPA over all previous sections, take the average of each averageGPA field."
   ]
  },
  {
   "cell_type": "markdown",
   "metadata": {},
   "source": [
    "##### Courses"
   ]
  },
  {
   "cell_type": "markdown",
   "metadata": {},
   "source": [
    "Courses should be printed in the following format:"
   ]
  },
  {
   "cell_type": "code",
   "execution_count": null,
   "metadata": {},
   "outputs": [],
   "source": [
    "# <deparment> <number>: <title> Units: <units_min>-<units_max>\n",
    "# Prerequisites: <prerequisites separated by commas>\n",
    "# Average GPA: <average_gpa>\n",
    "\n",
    "# for example\n",
    "# LINGUIS 150: Acquisition of Language II Units: 4-4\n",
    "# Prerequisites: PSYCH 56L, LINGUIS 51\n",
    "# Avreage GPA: 3.45"
   ]
  },
  {
   "cell_type": "markdown",
   "metadata": {},
   "source": [
    "##### Program Flow"
   ]
  },
  {
   "cell_type": "markdown",
   "metadata": {},
   "source": [
    "The program will run as follows:\n",
    "1. Parse the command line arguments\n",
    "2. Get the filtered list of course data\n",
    "    1. Retrieve the full list of data\n",
    "    2. Filter the data based on command line arguments\n",
    "3. Sort the full list of course data\n",
    "    1. Retrieve the full list of grades data\n",
    "    2. Create a dictionary to map courses to grades\n",
    "    3. Sort the courses based on the grades\n",
    "4. Output the data\n",
    "    1. Print the sorted courses\n",
    "    2. Save the sorted courses to a file"
   ]
  },
  {
   "cell_type": "markdown",
   "metadata": {},
   "source": [
    "#### Writing the Program"
   ]
  },
  {
   "cell_type": "markdown",
   "metadata": {},
   "source": [
    "Like the Restaurant Program in Module 4.3, we'll write the Course Search Program bottom-up, starting with the simplest functions and moving our way up to the more complicated ones."
   ]
  },
  {
   "cell_type": "markdown",
   "metadata": {},
   "source": [
    "Let's use the website we used in Module 5.2 to write our code so that we can separate our code into 2 different files. Also, this way, we can save/load our code easier: https://www.online-python.com/"
   ]
  },
  {
   "cell_type": "markdown",
   "metadata": {},
   "source": [
    "##### data.py"
   ]
  },
  {
   "cell_type": "markdown",
   "metadata": {},
   "source": [
    "The first file, data.py, will have 2 functions: get_courses and get_grades."
   ]
  },
  {
   "cell_type": "markdown",
   "metadata": {},
   "source": [
    "The **get_courses** function will return a list of all the course dictionaries. The **get_grades** function will return a list of all the section grade dictionaries."
   ]
  },
  {
   "cell_type": "markdown",
   "metadata": {},
   "source": [
    "Create a new file, data.py, and copy and paste all of the code in the next code snippet inside."
   ]
  },
  {
   "cell_type": "code",
   "execution_count": null,
   "metadata": {},
   "outputs": [],
   "source": [
    "# Copy all of this into data.py\n",
    "# To select everything, use Ctrl+A\n",
    "def get_courses():\n",
    "    return [\n",
    "  {\n",
    "    \"id\": \"LINGUIS150\",\n",
    "    \"department\": \"LINGUIS\",\n",
    "    \"number\": \"150\",\n",
    "    \"title\": \"Acquisition of Language II\",\n",
    "    \"course_level\": \"Upper Division (100-199)\",\n",
    "    \"units\": [4, 4],\n",
    "    \"prerequisite_list\": [\"PSYCH 56L\", \"LINGUIS 51\"]\n",
    "  },\n",
    "  {\n",
    "    \"id\": \"LPSH80\",\n",
    "    \"department\": \"LPS\",\n",
    "    \"number\": \"H80\",\n",
    "    \"title\": \"Scientific Realism and Instrumentalism\",\n",
    "    \"course_level\": \"Lower Division (1-99)\",\n",
    "    \"units\": [4, 4],\n",
    "    \"prerequisite_list\": []\n",
    "  },\n",
    "  {\n",
    "    \"id\": \"PHILOS108\",\n",
    "    \"department\": \"PHILOS\",\n",
    "    \"number\": \"108\",\n",
    "    \"title\": \"Topics in Induction, Probability, and Decision Theory\",\n",
    "    \"course_level\": \"Upper Division (100-199)\",\n",
    "    \"units\": [4, 4],\n",
    "    \"prerequisite_list\": []\n",
    "  },\n",
    "  {\n",
    "    \"id\": \"POLSCI10B\",\n",
    "    \"department\": \"POL SCI\",\n",
    "    \"number\": \"10B\",\n",
    "    \"title\": \"Probability and Statistics in Political Science II\",\n",
    "    \"course_level\": \"Lower Division (1-99)\",\n",
    "    \"units\": [4, 4],\n",
    "    \"prerequisite_list\": [\"POL SCI 10A\"]\n",
    "  },\n",
    "  {\n",
    "    \"id\": \"POLSCI10C\",\n",
    "    \"department\": \"POL SCI\",\n",
    "    \"number\": \"10C\",\n",
    "    \"title\": \"Probability and Statistics in Political Science III\",\n",
    "    \"course_level\": \"Lower Division (1-99)\",\n",
    "    \"units\": [4, 4],\n",
    "    \"prerequisite_list\": [\"POL SCI 10B\"]\n",
    "  },\n",
    "  {\n",
    "    \"id\": \"POLSCI126D\",\n",
    "    \"department\": \"POL SCI\",\n",
    "    \"number\": \"126D\",\n",
    "    \"title\": \"Urban Politics and Policy\",\n",
    "    \"course_level\": \"Upper Division (100-199)\",\n",
    "    \"units\": [4, 4],\n",
    "    \"prerequisite_list\": []\n",
    "  },\n",
    "  {\n",
    "    \"id\": \"POLSCI154C\",\n",
    "    \"department\": \"POL SCI\",\n",
    "    \"number\": \"154C\",\n",
    "    \"title\": \"Comparative Politics: Four Nations, Three Continents\",\n",
    "    \"course_level\": \"Upper Division (100-199)\",\n",
    "    \"units\": [4, 4],\n",
    "    \"prerequisite_list\": []\n",
    "  },\n",
    "  {\n",
    "    \"id\": \"PSYCH174E\",\n",
    "    \"department\": \"PSYCH\",\n",
    "    \"number\": \"174E\",\n",
    "    \"title\": \"African American Psychology\",\n",
    "    \"course_level\": \"Upper Division (100-199)\",\n",
    "    \"units\": [4, 4],\n",
    "    \"prerequisite_list\": []\n",
    "  },\n",
    "  {\n",
    "    \"id\": \"SOCSCI173L\",\n",
    "    \"department\": \"SOC SCI\",\n",
    "    \"number\": \"173L\",\n",
    "    \"title\": \"Latinos in a Global Society\",\n",
    "    \"course_level\": \"Upper Division (100-199)\",\n",
    "    \"units\": [4, 4],\n",
    "    \"prerequisite_list\": []\n",
    "  },\n",
    "  {\n",
    "    \"id\": \"ARTHIS110\",\n",
    "    \"department\": \"ART HIS\",\n",
    "    \"number\": \"110\",\n",
    "    \"title\": \"Studies in Medieval Art\",\n",
    "    \"course_level\": \"Upper Division (100-199)\",\n",
    "    \"units\": [4, 4],\n",
    "    \"prerequisite_list\": []\n",
    "  },\n",
    "  {\n",
    "    \"id\": \"ARTHIS155C\",\n",
    "    \"department\": \"ART HIS\",\n",
    "    \"number\": \"155C\",\n",
    "    \"title\": \"Modern India\",\n",
    "    \"course_level\": \"Upper Division (100-199)\",\n",
    "    \"units\": [4, 4],\n",
    "    \"prerequisite_list\": []\n",
    "  },\n",
    "  {\n",
    "    \"id\": \"BIOSCI9G\",\n",
    "    \"department\": \"BIO SCI\",\n",
    "    \"number\": \"9G\",\n",
    "    \"title\": \"Physiology of Fitness\",\n",
    "    \"course_level\": \"Lower Division (1-99)\",\n",
    "    \"units\": [4, 4],\n",
    "    \"prerequisite_list\": []\n",
    "  },\n",
    "  {\n",
    "    \"id\": \"BIOSCI43\",\n",
    "    \"department\": \"BIO SCI\",\n",
    "    \"number\": \"43\",\n",
    "    \"title\": \"Media on the Mind\",\n",
    "    \"course_level\": \"Lower Division (1-99)\",\n",
    "    \"units\": [4, 4],\n",
    "    \"prerequisite_list\": []\n",
    "  },\n",
    "  {\n",
    "    \"id\": \"BIOSCIM120\",\n",
    "    \"department\": \"BIO SCI\",\n",
    "    \"number\": \"M120\",\n",
    "    \"title\": \"Signal Transduction in Mammalian Cells\",\n",
    "    \"course_level\": \"Upper Division (100-199)\",\n",
    "    \"units\": [4, 4],\n",
    "    \"prerequisite_list\": [\"BIO SCI D103\"]\n",
    "  },\n",
    "  {\n",
    "    \"id\": \"BIOSCIN159\",\n",
    "    \"department\": \"BIO SCI\",\n",
    "    \"number\": \"N159\",\n",
    "    \"title\": \"Animal Behavior\",\n",
    "    \"course_level\": \"Upper Division (100-199)\",\n",
    "    \"units\": [4, 4],\n",
    "    \"prerequisite_list\": [\"BIO SCI N110\", \"BIO SCI N115A\"]\n",
    "  }\n",
    "]\n",
    "\n",
    "def get_grades():\n",
    "    return [\n",
    "  {\n",
    "    \"year\": \"2015-16\",\n",
    "    \"quarter\": \"SPRING\",\n",
    "    \"department\": \"LINGUIS\",\n",
    "    \"number\": \"150\",\n",
    "    \"averageGPA\": 3.44\n",
    "  },\n",
    "  {\n",
    "    \"year\": \"2014-15\",\n",
    "    \"quarter\": \"WINTER\",\n",
    "    \"department\": \"LPS\",\n",
    "    \"number\": \"H80\",\n",
    "    \"averageGPA\": 3.62\n",
    "  },\n",
    "  {\n",
    "    \"year\": \"2017-18\",\n",
    "    \"quarter\": \"WINTER\",\n",
    "    \"department\": \"PHILOS\",\n",
    "    \"number\": \"108\",\n",
    "    \"averageGPA\": 3.83\n",
    "  },\n",
    "  {\n",
    "    \"year\": \"2016-17\",\n",
    "    \"quarter\": \"WINTER\",\n",
    "    \"department\": \"POL SCI\",\n",
    "    \"number\": \"10B\",\n",
    "    \"averageGPA\": 3.67\n",
    "  },\n",
    "  {\n",
    "    \"year\": \"2016-17\",\n",
    "    \"quarter\": \"SPRING\",\n",
    "    \"department\": \"POL SCI\",\n",
    "    \"number\": \"10C\",\n",
    "    \"averageGPA\": 3.06\n",
    "  },\n",
    "  {\n",
    "    \"year\": \"2014-15\",\n",
    "    \"quarter\": \"SPRING\",\n",
    "    \"department\": \"POL SCI\",\n",
    "    \"number\": \"126D\",\n",
    "    \"averageGPA\": 3.22\n",
    "  },\n",
    "  {\n",
    "    \"year\": \"2018-19\",\n",
    "    \"quarter\": \"SUMMER\",\n",
    "    \"department\": \"POL SCI\",\n",
    "    \"number\": \"154C\",\n",
    "    \"averageGPA\": 3.62\n",
    "  },\n",
    "  {\n",
    "    \"year\": \"2014-15\",\n",
    "    \"quarter\": \"WINTER\",\n",
    "    \"department\": \"PSYCH\",\n",
    "    \"number\": \"174E\",\n",
    "    \"averageGPA\": 2.83\n",
    "  },\n",
    "  {\n",
    "    \"year\": \"2016-17\",\n",
    "    \"quarter\": \"WINTER\",\n",
    "    \"department\": \"PSYCH\",\n",
    "    \"number\": \"174E\",\n",
    "    \"averageGPA\": 2.99\n",
    "  },\n",
    "  {\n",
    "    \"year\": \"2017-18\",\n",
    "    \"quarter\": \"SPRING\",\n",
    "    \"department\": \"SOC SCI\",\n",
    "    \"number\": \"173L\",\n",
    "    \"averageGPA\": 2.03\n",
    "  },\n",
    "  {\n",
    "    \"year\": \"2015-16\",\n",
    "    \"quarter\": \"WINTER\",\n",
    "    \"department\": \"ART HIS\",\n",
    "    \"number\": \"110\",\n",
    "    \"averageGPA\": 3.81\n",
    "  },\n",
    "  {\n",
    "    \"year\": \"2016-17\",\n",
    "    \"quarter\": \"SPRING\",\n",
    "    \"department\": \"ART HIS\",\n",
    "    \"number\": \"155C\",\n",
    "    \"averageGPA\": 3.48\n",
    "  },\n",
    "  {\n",
    "    \"year\": \"2015-16\",\n",
    "    \"quarter\": \"SPRING\",\n",
    "    \"department\": \"BIO SCI\",\n",
    "    \"number\": \"9G\",\n",
    "    \"averageGPA\": 3.06\n",
    "  },\n",
    "  {\n",
    "    \"year\": \"2014-15\",\n",
    "    \"quarter\": \"SPRING\",\n",
    "    \"department\": \"BIO SCI\",\n",
    "    \"number\": \"43\",\n",
    "    \"averageGPA\": 2.96\n",
    "  },\n",
    "  {\n",
    "    \"year\": \"2014-15\",\n",
    "    \"quarter\": \"SPRING\",\n",
    "    \"department\": \"BIO SCI\",\n",
    "    \"number\": \"M120\",\n",
    "    \"averageGPA\": 3.26\n",
    "  },\n",
    "  {\n",
    "    \"year\": \"2015-16\",\n",
    "    \"quarter\": \"SPRING\",\n",
    "    \"department\": \"BIO SCI\",\n",
    "    \"number\": \"M120\",\n",
    "    \"averageGPA\": 3.25\n",
    "  },\n",
    "  {\n",
    "    \"year\": \"2014-15\",\n",
    "    \"quarter\": \"SPRING\",\n",
    "    \"department\": \"BIO SCI\",\n",
    "    \"number\": \"N159\",\n",
    "    \"averageGPA\": 3.58\n",
    "  }\n",
    "]"
   ]
  },
  {
   "cell_type": "markdown",
   "metadata": {},
   "source": [
    "##### main.py"
   ]
  },
  {
   "cell_type": "markdown",
   "metadata": {},
   "source": [
    "Now we'll write the logic of our code in the main.py file."
   ]
  },
  {
   "cell_type": "markdown",
   "metadata": {},
   "source": [
    "Use the docstrings and the program description above to figure out what each function should do."
   ]
  },
  {
   "cell_type": "markdown",
   "metadata": {},
   "source": [
    "Copy all of these function definitions into main.py and then fill out their function bodies."
   ]
  },
  {
   "cell_type": "code",
   "execution_count": null,
   "metadata": {},
   "outputs": [],
   "source": [
    "# Copy all this code into main.py \n",
    "# and write it on online-python.com\n",
    "import data\n",
    "import argparse\n",
    "\n",
    "# FILTERS\n",
    "# Can you do them all in 1 line each?\n",
    "def filter_department(courses: list, department: str) -> list:\n",
    "    \"\"\"\n",
    "    Return a new list of the courses filterered by department.\n",
    "    \"\"\"\n",
    "    pass\n",
    "\n",
    "def filter_number(courses: list, number: str) -> list:\n",
    "    \"\"\"\n",
    "    Return a new list of the courses filterered by number.\n",
    "    \"\"\"\n",
    "    pass\n",
    "\n",
    "def filter_course_level(courses: list, course_level: str) -> list:\n",
    "    \"\"\"\n",
    "    Return a new list of the courses filterered by course level.\n",
    "    \"\"\"\n",
    "    pass\n",
    "\n",
    "def filter_units_min(courses: list, units_min: int) -> list:\n",
    "    \"\"\"\n",
    "    Return a new list of the courses filterered by units_min.\n",
    "    \"\"\"\n",
    "    pass\n",
    "    \n",
    "def filter_units_max(courses: list, units_min: int) -> list:\n",
    "    \"\"\"\n",
    "    Return a new list of the courses filterered by units_min.\n",
    "    \"\"\"\n",
    "    pass\n",
    "    \n",
    "def filter_prerequisite(courses: list, prerequisite: str) -> list:\n",
    "    \"\"\"\n",
    "    Return a new list of the courses filterered by prerequisite.\n",
    "    \"\"\"\n",
    "    pass\n",
    "\n",
    "def apply_filters(courses: list, args: argparse.Namespace) -> list:\n",
    "    \"\"\"\n",
    "    Return a new list of courses filtered by command line \n",
    "    arguments. Calls the functions defined above.\n",
    "    Don't forget to convert args.units_min/units_max to \n",
    "    integers before passing them into the filter functions.\n",
    "    args.department -> filter by department\n",
    "    args.number -> filter by number\n",
    "    args.course_level -> filter by course_level\n",
    "    args.units_min -> filter by units_min\n",
    "    args.units_max -> filter by units_max\n",
    "    args.prerequisite -> filter by prerequisite\n",
    "    \"\"\"\n",
    "    pass\n",
    "\n",
    "# GRADES\n",
    "def find_sections(course: dict, grades_list: list) -> list:\n",
    "    \"\"\"\n",
    "    Given a course and a list of all previous section grades,\n",
    "    return a list of section grades that correspond to that\n",
    "    course.\n",
    "    A section grade corresponds to a course if it has the same\n",
    "    department and number as that course.\n",
    "    \"\"\"\n",
    "    pass\n",
    "\n",
    "def average_sections(grade_sections: list) -> float:\n",
    "    \"\"\"\n",
    "    Given a list of grade sections, return the average GPA of all\n",
    "    of their sections.\n",
    "    If a grade section's averageGPA field is an empty string, \n",
    "    count it as a zero when computing the average.\n",
    "    (i.e. {\n",
    "             \"year\": \"2015-16\",\n",
    "             \"quarter\": \"SPRING\",\n",
    "             \"department\": \"LINGUIS\",\n",
    "             \"number\": \"150\",\n",
    "             \"averageGPA\": \"\"\n",
    "           })\n",
    "   \n",
    "    If grade_sections is empty, return 0.\n",
    "    \"\"\"\n",
    "    pass\n",
    "\n",
    "def compute_gpa_dict(courses: list, grades_list: list) -> dict:\n",
    "    \"\"\"\n",
    "    Maps course ids to the average GPA of all of its previous \n",
    "    sections.\n",
    "    Use the functions you wrote above!\n",
    "    \"\"\"\n",
    "    pass\n",
    "\n",
    "def sort_courses(courses: list, gpa_dict: dict) -> list:\n",
    "    \"\"\"\n",
    "    Returns a new list of courses sorted by average GPA \n",
    "    (highest GPA first), which can be found using the GPA\n",
    "    dict, which maps course ids to average GPA for all \n",
    "    sections.\n",
    "    \"\"\"\n",
    "    pass\n",
    "    \n",
    "# OUTPUT \n",
    "\n",
    "def course_str(course: dict, averageGPA: float) -> str:\n",
    "    \"\"\"\n",
    "    Returns a formatted course string. (format described\n",
    "    in program description)\n",
    "    \"\"\"\n",
    "    pass \n",
    "\n",
    "def print_courses(courses: list, gpa_dict: dict):\n",
    "    \"\"\"\n",
    "    Prints the list of courses to the console, one after\n",
    "    the other. \n",
    "    If courses is empty, print \"No courses found!\" instead.\n",
    "    \"\"\"\n",
    "    pass\n",
    "\n",
    "# I finished the code below\n",
    "\n",
    "def get_sorted_courses(course_list: list, grades_list: list) -> tuple:\n",
    "    # filter it\n",
    "    filtered_courses = apply_filters(course_list, args)\n",
    "    # compute the gpa_dict\n",
    "    gpa_dict = compute_gpa_dict(filtered_courses, grades_list)\n",
    "    # sort the courses by average GPA\n",
    "    sorted_courses = sort_courses(filtered_courses, gpa_dict)\n",
    "    # return the courses and gpa_dcit\n",
    "    return sorted_courses, gpa_dict\n",
    "\n",
    "if __name__ == \"__main__\":\n",
    "    parser = argparse.ArgumentParser()\n",
    "    parser.add_argument(\"--department\")\n",
    "    parser.add_argument(\"--number\")\n",
    "    parser.add_argument(\"--course_level\")\n",
    "    parser.add_argument(\"--units_min\")\n",
    "    parser.add_argument(\"--units_max\")\n",
    "    parser.add_argument(\"--prerequisite\")\n",
    "    args = parser.parse_args()\n",
    "    # retrieve the course data\n",
    "    course_list = data.get_courses()\n",
    "    # retrieve the grades data\n",
    "    grades_list = data.get_grades()\n",
    "    sorted_courses, gpa_dict = get_sorted_courses(course_list, grades_list)\n",
    "    print_courses(sorted_courses, gpa_dict)\n",
    "    "
   ]
  },
  {
   "cell_type": "markdown",
   "metadata": {},
   "source": [
    "#### Running the Program"
   ]
  },
  {
   "cell_type": "markdown",
   "metadata": {},
   "source": [
    "Now try running the program with various command line arguments and see what you can get. Keep in mind, there are only 15 courses in the data list, so there aren't many options (we'll cover how to get all of them later in this bootcamp)."
   ]
  },
  {
   "cell_type": "markdown",
   "metadata": {},
   "source": [
    "You can use these command line arguments to test your code:"
   ]
  },
  {
   "cell_type": "code",
   "execution_count": null,
   "metadata": {},
   "outputs": [],
   "source": [
    "# '--department bio' -> \n",
    "# BIO SCI N159:Animal Behavior Units: 4-4\n",
    "# Prerequisites: BIO SCI N110,BIO SCI N115A\n",
    "# Average GPA: 3.58\n",
    "\n",
    "# BIO SCI M120:Signal Transduction in Mammalian Cells Units: 4-4\n",
    "# Prerequisites: BIO SCI D103\n",
    "# Average GPA: 3.255\n",
    "\n",
    "# BIO SCI 9G:Physiology of Fitness Units: 4-4\n",
    "# Prerequisites: \n",
    "# Average GPA: 3.06\n",
    "\n",
    "# BIO SCI 43:Media on the Mind Units: 4-4\n",
    "# Prerequisites: \n",
    "# Average GPA: 2.96\n",
    "\n",
    "# '--department bio --number 43' -> \n",
    "# BIO SCI 43:Media on the Mind Units: 4-4\n",
    "# Prerequisites: \n",
    "# Average GPA: 2.96\n",
    "\n",
    "# '--department pol --course_level upper' ->\n",
    "# POL SCI 154C:Comparative Politics: Four Nations, Three Continents Units: 4-4\n",
    "# Prerequisites: \n",
    "# Average GPA: 3.62\n",
    "\n",
    "# POL SCI 126D:Urban Politics and Policy Units: 4-4\n",
    "# Prerequisites: \n",
    "# Average GPA: 3.22\n",
    "\n",
    "# '--unit_max 2'\n",
    "# No courses found!\n",
    "\n",
    "# '--prerequisite n110'\n",
    "# BIO SCI N159:Animal Behavior Units: 4-4\n",
    "# Prerequisites: BIO SCI N110,BIO SCI N115A\n",
    "# Average GPA: 3.58\n"
   ]
  },
  {
   "cell_type": "markdown",
   "metadata": {},
   "source": [
    "Wow, cool isn't it?"
   ]
  },
  {
   "cell_type": "markdown",
   "metadata": {},
   "source": [
    "Congrats. You're Python proficient. Almost. What now? Tune in next time."
   ]
  },
  {
   "cell_type": "code",
   "execution_count": null,
   "metadata": {},
   "outputs": [],
   "source": []
  }
 ],
 "metadata": {
  "kernelspec": {
   "display_name": "Python 3 (ipykernel)",
   "language": "python",
   "name": "python3"
  },
  "language_info": {
   "codemirror_mode": {
    "name": "ipython",
    "version": 3
   },
   "file_extension": ".py",
   "mimetype": "text/x-python",
   "name": "python",
   "nbconvert_exporter": "python",
   "pygments_lexer": "ipython3",
   "version": "3.10.2"
  }
 },
 "nbformat": 4,
 "nbformat_minor": 4
}
