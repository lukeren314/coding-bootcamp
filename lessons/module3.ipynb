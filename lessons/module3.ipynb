{
 "cells": [
  {
   "cell_type": "markdown",
   "metadata": {},
   "source": [
    "## Module 3"
   ]
  },
  {
   "cell_type": "markdown",
   "metadata": {},
   "source": [
    "### Module 3.1 Function Arguments"
   ]
  },
  {
   "cell_type": "markdown",
   "metadata": {},
   "source": [
    "There's actually different ways to provide arguments to functions:"
   ]
  },
  {
   "cell_type": "markdown",
   "metadata": {
    "id": "5zS8mOb2RO9s"
   },
   "source": [
    "#### Default Arguments"
   ]
  },
  {
   "cell_type": "markdown",
   "metadata": {
    "id": "007xSIf-K2Cq"
   },
   "source": [
    "We can set default values for function arguments. This way, if that argument isn't passed in, the default value is used:"
   ]
  },
  {
   "cell_type": "code",
   "execution_count": 12,
   "metadata": {
    "id": "k1NTlgxQLQyy"
   },
   "outputs": [
    {
     "name": "stdout",
     "output_type": "stream",
     "text": [
      "5 3\n",
      "5 2\n"
     ]
    }
   ],
   "source": [
    "# default argument format\n",
    "# def <function_name>(<parameter1>, <parameter2> = <default_value>, ...):\n",
    "def foo(x, y = 3): # y's default value is 3\n",
    "    print(x, y)\n",
    "\n",
    "foo(5)\n",
    "foo(5, 2)"
   ]
  },
  {
   "cell_type": "markdown",
   "metadata": {},
   "source": [
    "That's how the pop method of the list type works. You can imagine that the function definition looks like this:"
   ]
  },
  {
   "cell_type": "code",
   "execution_count": null,
   "metadata": {},
   "outputs": [],
   "source": [
    "def pop(index: int = -1): # default is the last element\n",
    "    # remove the element at the index\n",
    "    pass"
   ]
  },
  {
   "cell_type": "markdown",
   "metadata": {},
   "source": [
    "#### Keyword Arguments"
   ]
  },
  {
   "cell_type": "markdown",
   "metadata": {
    "id": "jYCl70I0Lg4S"
   },
   "source": [
    "We can also specify which parameters get which values using **keyword arguments**, which is when you pass in arguments by name instead of position:"
   ]
  },
  {
   "cell_type": "code",
   "execution_count": null,
   "metadata": {
    "colab": {
     "base_uri": "https://localhost:8080/"
    },
    "id": "YkroO07sNHf_",
    "outputId": "ba1ae317-7daa-48fa-dece-a7a51bfce951"
   },
   "outputs": [
    {
     "name": "stdout",
     "output_type": "stream",
     "text": [
      "-1\n"
     ]
    }
   ],
   "source": [
    "def bar(x: int, y: int, z: int): \n",
    "    print(x)\n",
    "    print(y)\n",
    "    print(z)\n",
    "\n",
    "# keyword arguments format\n",
    "# <function_name>(<parameter1 = <value>, <parameter2 = <value>, ...)\n",
    "bar(x=1, y=2, z=3)\n",
    "bar(1, z=2, y=3) # with keyword arguments, we can specify arguments in a different order than defined in the function"
   ]
  },
  {
   "cell_type": "markdown",
   "metadata": {
    "id": "VGSjl27fNm5w"
   },
   "source": [
    "We can also use keyword arguments to set values for particular parameters if the other parameters already have default values:"
   ]
  },
  {
   "cell_type": "code",
   "execution_count": null,
   "metadata": {
    "id": "5Z_IN9DzNurr"
   },
   "outputs": [],
   "source": [
    "def baz(x: int = 0, y: int = 0, z: int = 0):\n",
    "    print(x + y + z)\n",
    "\n",
    "baz(z=3) # define just z instead of x, y, and z\n",
    "# this ONLY works because x and y already have default values"
   ]
  },
  {
   "cell_type": "markdown",
   "metadata": {},
   "source": [
    "Keyword arguments don't work if we don't pass in enough values:"
   ]
  },
  {
   "cell_type": "code",
   "execution_count": 11,
   "metadata": {},
   "outputs": [
    {
     "ename": "TypeError",
     "evalue": "foo() missing 2 required positional arguments: 'x' and 'z'",
     "output_type": "error",
     "traceback": [
      "\u001b[1;31m---------------------------------------------------------------------------\u001b[0m",
      "\u001b[1;31mTypeError\u001b[0m                                 Traceback (most recent call last)",
      "Input \u001b[1;32mIn [11]\u001b[0m, in \u001b[0;36m<cell line: 4>\u001b[1;34m()\u001b[0m\n\u001b[0;32m      1\u001b[0m \u001b[38;5;28;01mdef\u001b[39;00m \u001b[38;5;21mfoo\u001b[39m(x: \u001b[38;5;28mint\u001b[39m, y: \u001b[38;5;28mint\u001b[39m, z: \u001b[38;5;28mint\u001b[39m):\n\u001b[0;32m      2\u001b[0m     \u001b[38;5;28mprint\u001b[39m(x, y, z)\n\u001b[1;32m----> 4\u001b[0m \u001b[43mfoo\u001b[49m\u001b[43m(\u001b[49m\u001b[43my\u001b[49m\u001b[38;5;241;43m=\u001b[39;49m\u001b[38;5;241;43m3\u001b[39;49m\u001b[43m)\u001b[49m\n",
      "\u001b[1;31mTypeError\u001b[0m: foo() missing 2 required positional arguments: 'x' and 'z'"
     ]
    }
   ],
   "source": [
    "def foo(x: int, y: int, z: int):\n",
    "    print(x, y, z)\n",
    "\n",
    "foo(y=3)"
   ]
  },
  {
   "cell_type": "markdown",
   "metadata": {},
   "source": [
    "The print function has an important default argument called **end**:"
   ]
  },
  {
   "cell_type": "code",
   "execution_count": 21,
   "metadata": {},
   "outputs": [
    {
     "name": "stdout",
     "output_type": "stream",
     "text": [
      "foobar\n",
      "bazfizzbizz\n"
     ]
    }
   ],
   "source": [
    "print(\"foo\", end=\"\") # end with nothing instead of \\n\n",
    "print(\"bar\")\n",
    "print(\"baz\", end=\"fizz\")\n",
    "print(\"bizz\")"
   ]
  },
  {
   "cell_type": "markdown",
   "metadata": {},
   "source": [
    "The **end** keyword argument determines what the print function should end the string with (the default is \"\\n\", a.k.a. the newline)."
   ]
  },
  {
   "cell_type": "markdown",
   "metadata": {},
   "source": [
    "#### **Coding Activity 1**"
   ]
  },
  {
   "cell_type": "code",
   "execution_count": null,
   "metadata": {},
   "outputs": [],
   "source": [
    "# Write the function below\n",
    "def remove_slice(nums: list, start_index: int, end_index: int = None) -> list:\n",
    "    \"\"\"\n",
    "    The remove_slice function returns a new list with elements\n",
    "    removed depending on the indexes given.\n",
    "    If no end_index function is given, remove_slice will remove\n",
    "    items starting from start_index to the end of the list.\n",
    "    If an end_index function is given, remove_slice will remove\n",
    "    items up until right before end_index.\n",
    "    \n",
    "    HINT: You can check if end_index != None to see if it was\n",
    "    provided.\n",
    "    \n",
    "    Ex.\n",
    "    remove_slice([1, 2, 3], 1) == [1]\n",
    "    remove_slice([1, 2, 3, 4], 2) == [1, 2]\n",
    "    remove_slice([1, 2, 3, 4, 5], 2, 4) == [1, 2, 5]\n",
    "    remove_slice([1, 2, 3], 0, 2) == [3]\n",
    "    \"\"\"\n",
    "    pass\n",
    "\n",
    "print(remove_slice([1, 2, 3], 1) == [1])\n",
    "print(remove_slice([1, 2, 3, 4], start_index=2) == [1, 2])\n",
    "print(remove_slice([1, 2, 3, 4, 5], 2, 4) == [1, 2, 5])\n",
    "print(remove_slice([1, 2, 3], start_index=0, end_index=2) == [3])\n"
   ]
  },
  {
   "cell_type": "markdown",
   "metadata": {},
   "source": [
    "#### Aribitrary Arguments"
   ]
  },
  {
   "cell_type": "markdown",
   "metadata": {},
   "source": [
    "We can take an arbitrary number of arguments as well:"
   ]
  },
  {
   "cell_type": "code",
   "execution_count": null,
   "metadata": {},
   "outputs": [],
   "source": [
    "# Write the function below:\n",
    "def sum_all(*args) -> int:\n",
    "    print(args) # we can see what's inside args\n",
    "    total = 0\n",
    "    for arg in args:\n",
    "        total += arg\n",
    "    return arg\n",
    "print(sum_all(3, 2, 5))\n",
    "print(sum_all(4, 1))\n",
    "print(sum_all(3, 2, 5))"
   ]
  },
  {
   "cell_type": "markdown",
   "metadata": {},
   "source": [
    "When we include a * before a paramter name, that parameter will combine all remaining arguments into a list. Let's look at another example:"
   ]
  },
  {
   "cell_type": "code",
   "execution_count": null,
   "metadata": {},
   "outputs": [],
   "source": [
    "def print_product(prefix: str, *args):\n",
    "    print(args)\n",
    "    prod = 1\n",
    "    for arg in args:\n",
    "        prod *= arg\n",
    "    print(prefix, args)\n",
    "\n",
    "print_product(\"The product is:\", 2, 3, 5)\n",
    "print_product(\"Product:\", 2, 4)"
   ]
  },
  {
   "cell_type": "markdown",
   "metadata": {},
   "source": [
    "In the example above, prefix will take the first argument, and then the rest will be stored as a list inside args. Let's lock that in with some practice:"
   ]
  },
  {
   "cell_type": "markdown",
   "metadata": {
    "tags": []
   },
   "source": [
    "#### **Coding Activity 2**"
   ]
  },
  {
   "cell_type": "code",
   "execution_count": null,
   "metadata": {},
   "outputs": [],
   "source": [
    "# Write the function below\n",
    "def combine_lists_sorted(*lists) -> list:\n",
    "    \"\"\"\n",
    "    The combine_lists_sorted function takes any number of list \n",
    "    arguments and returns a ew list containing the elements of \n",
    "    all of them sorted.\n",
    "    Ex.\n",
    "    combine_lists_sorted([1, 2, 3], [4, 5, 6], [1, 2]) == [1, 1, 2, 2, 3, 4, 5, 6]\n",
    "    combine_lists_sorted([0, 3], [2, 4]) == [0, 2, 3, 4]\n",
    "    combine_lists_sorted([0, 1, 2]) == [0, 1, 2]\n",
    "    \"\"\"\n",
    "    pass\n",
    "\n",
    "print(combine_lists_sorted([1, 2, 3], [4, 5, 6], [1, 2]) == [1, 1, 2, 2, 3, 4, 5, 6])\n",
    "print(combine_lists_sorted([0, 3], [2, 4]) == [0, 2, 3, 4])\n",
    "print(combine_lists_sorted([0, 1, 2]) == [0, 1, 2])"
   ]
  },
  {
   "cell_type": "markdown",
   "metadata": {
    "tags": []
   },
   "source": [
    "#### Functions as Objects"
   ]
  },
  {
   "cell_type": "markdown",
   "metadata": {},
   "source": [
    "Functions are actually objects too."
   ]
  },
  {
   "cell_type": "code",
   "execution_count": 10,
   "metadata": {},
   "outputs": [
    {
     "name": "stdout",
     "output_type": "stream",
     "text": [
      "hi\n",
      "<class 'function'>\n"
     ]
    }
   ],
   "source": [
    "def foo():\n",
    "    print(\"hi\")\n",
    "\n",
    "# since functions are objects, we can store them in variables!\n",
    "# notice how we don't use paranetheses: if we did, we would be\n",
    "# calling the function instead of storing the function itself\n",
    "bar = foo\n",
    "# now I can even call bar as if it was foo\n",
    "bar()\n",
    "# or print its type\n",
    "print(type(bar))"
   ]
  },
  {
   "cell_type": "markdown",
   "metadata": {},
   "source": [
    "This is useful if we want to pass functions into other functions:"
   ]
  },
  {
   "cell_type": "code",
   "execution_count": null,
   "metadata": {},
   "outputs": [],
   "source": [
    "def apply_function_add_two(x: int, func: \"function\") -> int:\n",
    "    y = func(x) # call the function\n",
    "    return y + 2\n",
    "\n",
    "def square(x: int) -> int:\n",
    "    return x ** 2\n",
    "\n",
    "# pass in square as the function to apply_function_add_two\n",
    "print(apply_function_add_two(3, square))"
   ]
  },
  {
   "cell_type": "markdown",
   "metadata": {},
   "source": [
    "A really useful example of this is in the sort function, which can sort by any key you specify:"
   ]
  },
  {
   "cell_type": "code",
   "execution_count": 13,
   "metadata": {},
   "outputs": [
    {
     "name": "stdout",
     "output_type": "stream",
     "text": [
      "['bz', 'czz', 'azzz']\n"
     ]
    }
   ],
   "source": [
    "def count_z(string: str) -> int:\n",
    "    return string.count(\"z\")\n",
    "\n",
    "# sort key format\n",
    "# <list>.sort(key=<key_function>)\n",
    "\n",
    "words = [\"azzz\", \"bz\", \"czz\"]\n",
    "words.sort(key=count_z)\n",
    "print(words)"
   ]
  },
  {
   "cell_type": "markdown",
   "metadata": {},
   "source": [
    "Instead of sorting based on the lexicographical (dictionary) order of the strings, we can pass in a function and sort will sort based on that instead."
   ]
  },
  {
   "cell_type": "markdown",
   "metadata": {},
   "source": [
    "The function we pass into the **key** parameter must take in 1 argument, an item from the list, and return 1 value, the value that the sort method should sort on."
   ]
  },
  {
   "cell_type": "markdown",
   "metadata": {},
   "source": [
    "#### Lambda Functions"
   ]
  },
  {
   "cell_type": "markdown",
   "metadata": {},
   "source": [
    "A **lambda function** is a function without a name. This makes writing small functions easier:"
   ]
  },
  {
   "cell_type": "code",
   "execution_count": 14,
   "metadata": {},
   "outputs": [
    {
     "name": "stdout",
     "output_type": "stream",
     "text": [
      "5\n",
      "5\n"
     ]
    }
   ],
   "source": [
    "# lambda function format\n",
    "# lambda <parameter1>, <parameter2>: <return_value>\n",
    "add_two = lambda x: x + 2\n",
    "print(add_two(3))\n",
    "\n",
    "# which is equivalent to\n",
    "def add_two(x: int) -> int:\n",
    "    return x + 2\n",
    "print(add_two(3))"
   ]
  },
  {
   "cell_type": "markdown",
   "metadata": {},
   "source": [
    "Like regular functions, we can assign other variables to lambda functions and pass them into functions:"
   ]
  },
  {
   "cell_type": "code",
   "execution_count": 15,
   "metadata": {},
   "outputs": [
    {
     "name": "stdout",
     "output_type": "stream",
     "text": [
      "hi\n",
      "<class 'function'>\n",
      "11\n"
     ]
    }
   ],
   "source": [
    "foo = lambda: print(\"hi\")\n",
    "\n",
    "bar = foo\n",
    "bar()\n",
    "print(type(bar))\n",
    "\n",
    "def apply_function_add_two(x: int, func: \"function\") -> int:\n",
    "    y = func(x) \n",
    "    return y + 2\n",
    "\n",
    "print(apply_function_add_two(3, lambda num: num ** 2))"
   ]
  },
  {
   "cell_type": "markdown",
   "metadata": {},
   "source": [
    "We can use this to make the sort function call we wrote earlier much simpler:"
   ]
  },
  {
   "cell_type": "code",
   "execution_count": null,
   "metadata": {},
   "outputs": [],
   "source": [
    "words = [\"azzz\", \"bz\", \"czz\"]\n",
    "words.sort(key=lambda string: string.count(\"a\"))\n",
    "print(words)"
   ]
  },
  {
   "cell_type": "markdown",
   "metadata": {
    "tags": []
   },
   "source": [
    "#### **Coding Activity 3**"
   ]
  },
  {
   "cell_type": "code",
   "execution_count": null,
   "metadata": {},
   "outputs": [],
   "source": [
    "# Write the function below\n",
    "def sort_length(strings: list) -> list:\n",
    "    \"\"\"\n",
    "    Given a list of strings, sort them by the length of the \n",
    "    string. \n",
    "    Create a new list instead of modifying the old one.\n",
    "    Ex.\n",
    "    sort_length([\"aaaa\", \"bb\", \"z\"]) == [\"z\", \"bb\", \"aaaa\"]\n",
    "    sort_length([\"abc\", \"defg\", \"h\"]) == [\"h\", \"abc\", \"defg\"]\n",
    "    \"\"\"\n",
    "    pass\n",
    "print(sort_length([\"aaaa\", \"bb\", \"z\"]) == [\"z\", \"bb\", \"aaaa\"])\n",
    "print(sort_length([\"abc\", \"defg\", \"h\"]) == [\"h\", \"abc\", \"defg\"])"
   ]
  },
  {
   "cell_type": "markdown",
   "metadata": {
    "id": "tejFqv5sM-L0"
   },
   "source": [
    "#### Scope"
   ]
  },
  {
   "cell_type": "markdown",
   "metadata": {
    "id": "pdYPkFwaN6os"
   },
   "source": [
    "Let's cover 1 more big concept. Variables live in **scopes**, which define where they can be referenced (accessed) from. Variables outside of functions live in the **global scope**. Variables inside functions live in the **local scope**:"
   ]
  },
  {
   "cell_type": "code",
   "execution_count": null,
   "metadata": {
    "id": "6jZ_NmwyOJ3n"
   },
   "outputs": [],
   "source": [
    "# global scope variable\n",
    "global_var = 3\n",
    "def an_awesome_function():\n",
    "    # local scope variable\n",
    "    local_var = 2\n",
    "\n",
    "    # what if we try to access the global scope variable\n",
    "    # from the local scope?\n",
    "    print(global_var)\n",
    "\n",
    "an_awesome_function()\n",
    "# what if we try to access the local scope variable\n",
    "# from the global scope?\n",
    "print(local_var)"
   ]
  },
  {
   "cell_type": "markdown",
   "metadata": {},
   "source": [
    "If we try to reference a global scope variable from the local scope (i.e. inside a function body), we're fine."
   ]
  },
  {
   "cell_type": "markdown",
   "metadata": {
    "id": "Q82sgbEbTmmu"
   },
   "source": [
    "If we try to reference a local variable from the global scope, an exception is raised like above. This is because **local variables disappear (are deleted) when we exit the function**."
   ]
  },
  {
   "cell_type": "markdown",
   "metadata": {
    "id": "hQwqdj9pUJAE"
   },
   "source": [
    "What if we try to **assign** a global scope variable from within the local scope? Try and predict what the below code will print before you run it."
   ]
  },
  {
   "cell_type": "code",
   "execution_count": 17,
   "metadata": {
    "id": "7fmPecpHUega"
   },
   "outputs": [
    {
     "name": "stdout",
     "output_type": "stream",
     "text": [
      "0\n",
      "2\n",
      "0\n"
     ]
    }
   ],
   "source": [
    "var = 0\n",
    "def my_function2():\n",
    "    var = 2\n",
    "    print(var)\n",
    "\n",
    "print(var)\n",
    "my_function2()\n",
    "print(var)"
   ]
  },
  {
   "cell_type": "markdown",
   "metadata": {
    "id": "TAAajW28UqqR"
   },
   "source": [
    "Let's break down the above code line by line:"
   ]
  },
  {
   "cell_type": "markdown",
   "metadata": {},
   "source": [
    "We start by assigning a global variable, var to 0, and then we define a function, my_function2."
   ]
  },
  {
   "cell_type": "markdown",
   "metadata": {},
   "source": [
    "We then print the value of var, which is still 0, and call the function."
   ]
  },
  {
   "cell_type": "markdown",
   "metadata": {},
   "source": [
    "Inside the function, we assign var to 2, but ACTUALLY, **when we assign variables in the local scope (inside a function), we create a NEW local variable with the same name, var, and assign the value to that, no matter if there's a global version**. Now there are 2 variables named var, the global version, and the local version. The global version still has value 0, but the local version has value 2 now."
   ]
  },
  {
   "cell_type": "markdown",
   "metadata": {},
   "source": [
    "Now we print var again. **When we reference variables inside the local scope, we ALWAYS use the local version**. This means we print 2."
   ]
  },
  {
   "cell_type": "markdown",
   "metadata": {},
   "source": [
    "When we exit the function the function, the local version of var disappears, and we're left with the global version."
   ]
  },
  {
   "cell_type": "markdown",
   "metadata": {},
   "source": [
    "#### The global statement"
   ]
  },
  {
   "cell_type": "markdown",
   "metadata": {},
   "source": [
    "The **global** statment lets a function modify a global variable. This is considered bad practice, so I don't recommend using it, but it's a feature of Python so I feel obligated to teach it:"
   ]
  },
  {
   "cell_type": "code",
   "execution_count": null,
   "metadata": {},
   "outputs": [],
   "source": [
    "my_global_var = 0\n",
    "def global_changer():\n",
    "    global my_global_var\n",
    "    my_global_var = 5\n",
    "print(my_global_var)\n",
    "global_changer()\n",
    "print(my_global_var)"
   ]
  },
  {
   "cell_type": "markdown",
   "metadata": {},
   "source": [
    "The global statement lets you specify a variable at the top of a function body. Whenever you assign into that variable, it assigns into the global version instead of a local copy. "
   ]
  },
  {
   "cell_type": "markdown",
   "metadata": {},
   "source": [
    "This is not recommended because it makes debugging your code difficult (if something goes wrong with the global variable, is it the function's fault or some code in the global scope?), but we'll practice using it for the sake of learning Python."
   ]
  },
  {
   "cell_type": "markdown",
   "metadata": {
    "tags": []
   },
   "source": [
    "#### Summary"
   ]
  },
  {
   "cell_type": "markdown",
   "metadata": {},
   "source": [
    "In this lesson, we learned about default arguments, keyword arguments, arbitrary arguments, lambda functions, and scope. Here is a summary of what we've learned:\n",
    "\n",
    "| Usage | Description |\n",
    "| --- | --- |\n",
    "| def func(x = 1): | default argument |\n",
    "| print(end = \"\") | keyword argument |\n",
    "| def func(\\*args): | arbitrary argument |\n",
    "| lambda arg: arg + 1 | lambda function |\n",
    "| global var | uses global variable |"
   ]
  },
  {
   "cell_type": "markdown",
   "metadata": {},
   "source": [
    "Let's practice!"
   ]
  },
  {
   "cell_type": "markdown",
   "metadata": {},
   "source": [
    "#### Practice Problems"
   ]
  },
  {
   "cell_type": "markdown",
   "metadata": {},
   "source": [
    "1. Write the following function:"
   ]
  },
  {
   "cell_type": "code",
   "execution_count": null,
   "metadata": {},
   "outputs": [],
   "source": [
    "balance = 0\n",
    "\n",
    "def deposit(amount: int, is_new: bool = False):\n",
    "    \"\"\"\n",
    "    Deposit adds an amount to the global variable balance.\n",
    "    The is_new variable is false by default, but if it's set to\n",
    "    True, then empty the balance before setting it again.\n",
    "    Ex.\n",
    "    balance = 0\n",
    "    deposit(50)\n",
    "    balance == 50\n",
    "    deposit(20)\n",
    "    balance == 70\n",
    "    deposit(30, True)\n",
    "    balance == 30\n",
    "    deposit(10, False)\n",
    "    balance == 40\n",
    "    deposit(5, is_new = True)\n",
    "    balance == 5\n",
    "    \"\"\"\n",
    "    pass\n",
    "\n",
    "balance = 0\n",
    "deposit(50)\n",
    "print(balance == 50)\n",
    "deposit(20)\n",
    "print(balance == 70)\n",
    "deposit(30, True)\n",
    "print(balance == 30)\n",
    "deposit(10, False)\n",
    "print(balance == 40)\n",
    "deposit(5, is_new = True))\n",
    "print(balance == 5)"
   ]
  },
  {
   "cell_type": "markdown",
   "metadata": {},
   "source": [
    "2. Write the following function:"
   ]
  },
  {
   "cell_type": "code",
   "execution_count": null,
   "metadata": {},
   "outputs": [],
   "source": [
    "def sum_any(*args) -> int:\n",
    "    \"\"\"\n",
    "    If only 1 argument was passed in and it's a list, return\n",
    "    the sum of its elements.\n",
    "    Otherwise, return the sum of the arguments.\n",
    "    If no arguments were given, return 0\n",
    "    Ex.\n",
    "    sum_any([1, 2, 3]) == 6\n",
    "    sum_any(2, 3, 4) == 9\n",
    "    sum_any(3) == 3\n",
    "    sum_any() == 0\n",
    "    \"\"\"\n",
    "    pass\n",
    "print(sum_any([1, 2, 3]) == 6)\n",
    "print(sum_any(2, 3, 4) == 9)\n",
    "print(sum_any(3) == 3)\n",
    "print(sum_any() == 0)"
   ]
  },
  {
   "cell_type": "markdown",
   "metadata": {},
   "source": [
    "3. Write the following function:"
   ]
  },
  {
   "cell_type": "code",
   "execution_count": null,
   "metadata": {},
   "outputs": [],
   "source": [
    "def sort_players_by_score(players: list, scores: list) -> list:\n",
    "    \"\"\"\n",
    "    Given a list of players and a list of their scores in a game,\n",
    "    sort the list of players by their scores (in ascending order),\n",
    "    and return it as a new list.\n",
    "    Ex.\n",
    "    sort_players_by_score([\"Bob\", \"Jim\", \"Sally\"], [3, 1, 4]) == [\"Jim\", \"Bob\", \"Sally\"]\n",
    "    sort_players_by_score([\"a\", \"b\", \"c\", \"d\"], [4, 3, 2, 1]) == [\"d\", \"c\", \"b\", \"a\"]\n",
    "    sort_players_by_score([\"a\", \"b\"], [1, 2]) == [\"c\", \"b\", \"a\"]\n",
    "    \"\"\"\n",
    "    pass\n",
    "print(sort_players_by_score([\"Bob\", \"Jim\", \"Sally\"], [3, 1, 4]) == [\"Jim\", \"Bob\", \"Sally\"])\n",
    "print(sort_players_by_score([\"a\", \"b\", \"c\", \"d\"], [4, 3, 2, 1]) == [\"d\", \"c\", \"b\", \"a\"])\n",
    "print(sort_players_by_score([\"a\", \"b\"], [1, 2]) == [\"c\", \"b\", \"a\"])"
   ]
  },
  {
   "cell_type": "markdown",
   "metadata": {},
   "source": [
    "You only get 3 today, enjoy the rest of the week!"
   ]
  },
  {
   "cell_type": "markdown",
   "metadata": {},
   "source": [
    "### Module 3.2 Input and Files"
   ]
  },
  {
   "cell_type": "markdown",
   "metadata": {},
   "source": [
    "#### Input"
   ]
  },
  {
   "cell_type": "markdown",
   "metadata": {},
   "source": [
    "The **input** function lets us get input from the user running our program:"
   ]
  },
  {
   "cell_type": "code",
   "execution_count": 1,
   "metadata": {},
   "outputs": [],
   "source": [
    "your_name = input(\"What is your name? \")\n",
    "print(\"Hello\", your_name)"
   ]
  },
  {
   "cell_type": "markdown",
   "metadata": {},
   "source": [
    "The input function takes in 1 or 0 arguments, a prompt to give to the user, and lets the user type in a line of text."
   ]
  },
  {
   "cell_type": "markdown",
   "metadata": {},
   "source": [
    "One thing that might go wrong is that the user gives us a bad value:"
   ]
  },
  {
   "cell_type": "code",
   "execution_count": null,
   "metadata": {},
   "outputs": [],
   "source": [
    "maybe_integer = input(\"Enter your favorite integer: \")\n",
    "# int(thing) converts thing into an integer\n",
    "# \"123\" would become 123\n",
    "print(\"Your favorite integer is\", int(maybe_integer))"
   ]
  },
  {
   "cell_type": "markdown",
   "metadata": {},
   "source": [
    "If you run the code above, but type in something that can't be converted into an integer, say \"foo\", we'll get an exception."
   ]
  },
  {
   "cell_type": "markdown",
   "metadata": {},
   "source": [
    "We can validate our inputs before using them to guarantee we won't get an exception:"
   ]
  },
  {
   "cell_type": "code",
   "execution_count": null,
   "metadata": {},
   "outputs": [],
   "source": [
    "maybe_integer = input(\"Enter your favorite integer: \")\n",
    "if maybe_integer.isnumeric():\n",
    "    print(\"Your favorite integer is\", int(maybe_integer))\n",
    "else:\n",
    "    print(\"That's not an integer!\")"
   ]
  },
  {
   "cell_type": "markdown",
   "metadata": {},
   "source": [
    "What if we wanted the user to type in another input if they failed the first time, and keep asking them until they type in a valid input?"
   ]
  },
  {
   "cell_type": "code",
   "execution_count": null,
   "metadata": {},
   "outputs": [],
   "source": [
    "maybe_integer = input(\"Enter your favorite integer: \")\n",
    "while not maybe_integer.isnumeric():\n",
    "    print(\"That's not an integer!\")\n",
    "    maybe_integer = input(\"Enter your favorite integer: \")\n",
    "print(\"Your favorite integer is\", int(maybe_integer))"
   ]
  },
  {
   "cell_type": "markdown",
   "metadata": {},
   "source": [
    "In the code above, we ask for an integer, and then repeatedly ask for another integer while the input isn't a number. One problem with the solution above is that we assign maybe_integer twice in the exact same way, which is redundant."
   ]
  },
  {
   "cell_type": "markdown",
   "metadata": {},
   "source": [
    "Generally we don't want to have duplicate or redundant code. If you have to make a change to that piece of code, you have to make the same change to all duplicate/redundant copies of that code, which can be tedious if you do this many times. Let's try and solve that:"
   ]
  },
  {
   "cell_type": "code",
   "execution_count": null,
   "metadata": {},
   "outputs": [],
   "source": [
    "while True:\n",
    "    maybe_integer = input(\"Enter your favorite integer: \")\n",
    "    if maybe_integer.isnumeric():\n",
    "        print(\"Your favorite integer is\", int(maybe_integer))\n",
    "        break\n",
    "    print(\"That's not an integer!\")"
   ]
  },
  {
   "cell_type": "markdown",
   "metadata": {},
   "source": [
    "The solution above is cleaner since we don't have duplicates, but may be confusing to understand at first. We start with a while loop that goes on forever (but we'll break out of it!), and then we ask for an integer. If the string we got is numeric, then we print our message and break out of the loop. Otherwise, we run the other half of the code and go back to the top of the loop."
   ]
  },
  {
   "cell_type": "markdown",
   "metadata": {},
   "source": [
    "We call this pattern the **loop-and-a-half** pattern since we loop the code but only run half of it when we break out."
   ]
  },
  {
   "cell_type": "markdown",
   "metadata": {},
   "source": [
    "#### **Coding Activity 1**"
   ]
  },
  {
   "cell_type": "code",
   "execution_count": null,
   "metadata": {},
   "outputs": [],
   "source": [
    "# Write the function below\n",
    "def get_valid_name() -> str:\n",
    "    \"\"\"\n",
    "    Keep getting input from the user until they enter a valid \n",
    "    name, and then return the name.\n",
    "    A valid name has at least 1 character, contains only \n",
    "    letters, and the first letter is capitalized.\n",
    "    Ex.\n",
    "    Valid names -> \"Bob\", \"Jim\", and \"Steve\"\n",
    "    Invalid names -> \"\", \"Bob123\", \"jim\", and \"Steve Smith\"\n",
    "    \"\"\"\n",
    "    pass\n",
    "get_valid_name()"
   ]
  },
  {
   "cell_type": "markdown",
   "metadata": {},
   "source": [
    "#### Files"
   ]
  },
  {
   "cell_type": "markdown",
   "metadata": {},
   "source": [
    "Using the input function is one way to get data from outside your program, but you can also access files."
   ]
  },
  {
   "cell_type": "markdown",
   "metadata": {},
   "source": [
    "On the left-hand side of Google Colab, you'll see a folder icon in the sidebar. Click on that folder and you'll see a bunch of files."
   ]
  },
  {
   "cell_type": "markdown",
   "metadata": {},
   "source": [
    "Download this .txt file containing fake course grades: https://drive.google.com/file/d/1LHjqRO84o_cY8h9fqyNPHJm9tVYwJjK3/view?usp=sharing"
   ]
  },
  {
   "cell_type": "markdown",
   "metadata": {},
   "source": [
    "And upload it to the folder so that it's side-by-side with the sample_data folder:"
   ]
  },
  {
   "cell_type": "markdown",
   "metadata": {},
   "source": [
    "Insert Image Here"
   ]
  },
  {
   "cell_type": "markdown",
   "metadata": {},
   "source": [
    "#### Opening Files"
   ]
  },
  {
   "cell_type": "markdown",
   "metadata": {},
   "source": [
    "There's 2 ways to open files. Let's look at the easy way first:"
   ]
  },
  {
   "cell_type": "code",
   "execution_count": null,
   "metadata": {},
   "outputs": [],
   "source": [
    "f = open(\"grades.txt\", \"r\")\n",
    "f.close()"
   ]
  },
  {
   "cell_type": "markdown",
   "metadata": {},
   "source": [
    "The **open** function takes in 2 arguments, a file name and a file mode, and returns a File object. Once we're done using File objects, we have to remember to close them by calling the **close** method on them."
   ]
  },
  {
   "cell_type": "markdown",
   "metadata": {},
   "source": [
    "#### File Modes"
   ]
  },
  {
   "cell_type": "markdown",
   "metadata": {},
   "source": [
    "The file mode we use will determine what operations we can do on the file we opened. Here's a table of file modes and what they mean:\n",
    "\n",
    "| File Mode | Description |\n",
    "| --- | --- |\n",
    "| r | Read Mode - you can read data from the file |\n",
    "| w | Write Mode - you can write data into the file |\n",
    "| a | Append Mode - you can add data to the end of the file |\n",
    "\n",
    "You can find more by googling \"python file modes,\" but we'll stick to using these for now."
   ]
  },
  {
   "cell_type": "markdown",
   "metadata": {},
   "source": [
    "CAUTION: The write mode (w) will delete the contents of the file when you open it in that mode!"
   ]
  },
  {
   "cell_type": "markdown",
   "metadata": {},
   "source": [
    "If you try to open a file in read mode that doesn't exist, you'll get an exception:"
   ]
  },
  {
   "cell_type": "code",
   "execution_count": null,
   "metadata": {},
   "outputs": [],
   "source": [
    "f = open(\"foobar.txt\", \"r\")\n",
    "f.close()"
   ]
  },
  {
   "cell_type": "markdown",
   "metadata": {},
   "source": [
    "If you try to open a file in write mode that doesn't exist, Python will create the file:"
   ]
  },
  {
   "cell_type": "code",
   "execution_count": null,
   "metadata": {},
   "outputs": [],
   "source": [
    "f = open(\"davidblaine.txt\", \"w\")\n",
    "f.close()"
   ]
  },
  {
   "cell_type": "markdown",
   "metadata": {},
   "source": [
    "The default file mode is read mode:"
   ]
  },
  {
   "cell_type": "code",
   "execution_count": null,
   "metadata": {},
   "outputs": [],
   "source": [
    "f = open(\"grades.txt\") # we're in read mode\n",
    "f.close()"
   ]
  },
  {
   "cell_type": "markdown",
   "metadata": {},
   "source": [
    "#### Reading From a File"
   ]
  },
  {
   "cell_type": "markdown",
   "metadata": {},
   "source": [
    "One thing we can do with File objects is read their entire contents:"
   ]
  },
  {
   "cell_type": "code",
   "execution_count": null,
   "metadata": {},
   "outputs": [],
   "source": [
    "f = open(\"grades.txt\")\n",
    "print(f.read())\n",
    "f.close()"
   ]
  },
  {
   "cell_type": "markdown",
   "metadata": {},
   "source": [
    "The **read** method of the File object reads all of the contents and returns a string containing everything in that file."
   ]
  },
  {
   "cell_type": "markdown",
   "metadata": {},
   "source": [
    "We can also read from files line-by-line:"
   ]
  },
  {
   "cell_type": "code",
   "execution_count": null,
   "metadata": {},
   "outputs": [],
   "source": [
    "f = open(\"grades.txt\")\n",
    "for line in f:\n",
    "    print(line)\n",
    "f.close()"
   ]
  },
  {
   "cell_type": "markdown",
   "metadata": {},
   "source": [
    "File objects are iterables. When you loop through a file object, you get each line of the file. One thing you'll notice about these lines is that they contain the newline character at the end of them."
   ]
  },
  {
   "cell_type": "markdown",
   "metadata": {},
   "source": [
    "We can get rid of the newline character in 2 ways:"
   ]
  },
  {
   "cell_type": "code",
   "execution_count": null,
   "metadata": {},
   "outputs": [],
   "source": [
    "f = open(\"grades.txt\")\n",
    "for line in f:\n",
    "    print(line[:-1]) # slice off the last character\n",
    "f.close()\n",
    "\n",
    "f = open(\"grades.txt\")\n",
    "for line in f:\n",
    "    print(line.strip()) # remove all whitespace from both sides of the line\n",
    "f.close()"
   ]
  },
  {
   "cell_type": "markdown",
   "metadata": {},
   "source": [
    "We can also use the File object's **readlines** method:"
   ]
  },
  {
   "cell_type": "code",
   "execution_count": null,
   "metadata": {},
   "outputs": [],
   "source": [
    "f = open(\"grades.txt\")\n",
    "lines = f.readlines()\n",
    "for line in lines:\n",
    "    print(line[:-1])\n",
    "f.close()"
   ]
  },
  {
   "cell_type": "markdown",
   "metadata": {},
   "source": [
    "We can also use the File object's **readline** method to read a single line at a time:"
   ]
  },
  {
   "cell_type": "code",
   "execution_count": null,
   "metadata": {},
   "outputs": [],
   "source": [
    "f = open(\"grades.txt\")\n",
    "while True:\n",
    "    line = f.readline()\n",
    "    # readline will return an empty string when it reaches the end of the file\n",
    "    if line == \"\": \n",
    "        break\n",
    "    print(line[:-1])\n",
    "f.close()"
   ]
  },
  {
   "cell_type": "markdown",
   "metadata": {},
   "source": [
    "Personally, I recommend the first alternative since it's the cleanest:"
   ]
  },
  {
   "cell_type": "code",
   "execution_count": null,
   "metadata": {},
   "outputs": [],
   "source": [
    "f = open(\"grades.txt\")\n",
    "for line in f:\n",
    "    print(line)\n",
    "f.close()"
   ]
  },
  {
   "cell_type": "markdown",
   "metadata": {},
   "source": [
    "#### **Coding Activity 2**"
   ]
  },
  {
   "cell_type": "code",
   "execution_count": null,
   "metadata": {},
   "outputs": [],
   "source": [
    "# Write the following funciton\n",
    "def read_first_n(file_name: str, n: int) -> str:\n",
    "    \"\"\"\n",
    "    The read_first_n method reads the first n lines of the text\n",
    "    and returns them as a string.\n",
    "    Don't forget to close the file once you're done\n",
    "    Ex.\n",
    "    read_first_n(\"grades.txt\", 3) == \"homework,92\\nhomework,85\\nquiz,65\\n\"\n",
    "    read_first_n(\"grades.txt\", 0) == \"\"\n",
    "    read_first_n(\"grades.txt\", 4) == \"homework,92\\nhomework,85\\nquiz,65\\nhomework 90\\n\"\n",
    "    \"\"\"\n",
    "    pass\n",
    "print(read_first_n(\"grades.txt\", 3) == \"homework,92\\nhomework,85\\nquiz,65\\n\")\n",
    "print(read_first_n(\"grades.txt\", 0) == \"\")\n",
    "print(read_first_n(\"grades.txt\", 4) == \"homework,92\\nhomework,85\\nquiz,65\\nhomework 90\\n\")"
   ]
  },
  {
   "cell_type": "markdown",
   "metadata": {},
   "source": [
    "#### Writing to a File"
   ]
  },
  {
   "cell_type": "markdown",
   "metadata": {},
   "source": [
    "Remember that writing to a file will wipe the contents of that file completely before writing the new contents, or create an empty file if that file doesn't exist:"
   ]
  },
  {
   "cell_type": "code",
   "execution_count": null,
   "metadata": {},
   "outputs": [],
   "source": [
    "f = open(\"hello.txt\", \"w\")\n",
    "f.write(\"Hello world!\")\n",
    "f.close()"
   ]
  },
  {
   "cell_type": "markdown",
   "metadata": {},
   "source": [
    "The **write** method of File objects writes a string into the file. The write file does not end with a newline (until the print method), so if you want to write multiple lines, you would do it like so:"
   ]
  },
  {
   "cell_type": "code",
   "execution_count": null,
   "metadata": {},
   "outputs": [],
   "source": [
    "f = open(\"hello.txt\", \"w\")\n",
    "f.write(\"Hello world!\\n\") # use the \\n escape character to create a new line\n",
    "f.write(\"How are you doing?\\n\")\n",
    "f.close()"
   ]
  },
  {
   "cell_type": "markdown",
   "metadata": {},
   "source": [
    "#### **Coding Activity 3**"
   ]
  },
  {
   "cell_type": "code",
   "execution_count": null,
   "metadata": {},
   "outputs": [],
   "source": [
    "# Write the following function\n",
    "def write_lines(file_name: str, lines: list):\n",
    "    \"\"\"\n",
    "    Given a file name and a list of strings, replace the content\n",
    "    of the file with each line from lines on a new line.\n",
    "    Ex.\n",
    "    \"foo.txt\", [\"hello\", \"how's it going\"]\n",
    "    ->\n",
    "    <inside foo.txt>\n",
    "    hello\n",
    "    how's it going\n",
    "    \n",
    "    \"bar.txt\", [\"foo\", \"bar\", \"baz\"]\n",
    "    ->\n",
    "    <inside bar.txt>\n",
    "    foo\n",
    "    bar\n",
    "    baz\n",
    "    \"\"\"\n",
    "    pass\n",
    "write_lines(\"foo.txt\", [\"hello\", \"how's it going\"])\n",
    "print(open(\"foo.txt\").read() == \"hello\\nhow's it going\\n\")\n",
    "\n",
    "write_lines(\"bar.txt\", [\"foo\", \"bar\", \"baz\"])\n",
    "print(open(\"bar.txt\").read() == \"foo\\nbar\\nbaz\\n\")"
   ]
  },
  {
   "cell_type": "markdown",
   "metadata": {},
   "source": [
    "#### Appending to a File"
   ]
  },
  {
   "cell_type": "markdown",
   "metadata": {},
   "source": [
    "Appending to a file is like writing to a file, except you write to the end of the file instead of to the beginning. This way, you can avoid deleting the entire contents of the file:"
   ]
  },
  {
   "cell_type": "code",
   "execution_count": null,
   "metadata": {},
   "outputs": [],
   "source": [
    "f = open(\"hello.txt\", \"a\") # make sure hello.txt exists\n",
    "f.write(\"I'm doing great!\\n\")\n",
    "f.close()"
   ]
  },
  {
   "cell_type": "markdown",
   "metadata": {},
   "source": [
    "#### The **with** Statement"
   ]
  },
  {
   "cell_type": "markdown",
   "metadata": {},
   "source": [
    "If it's annoying to automatically close files after you open them, you can use the **with** statement:"
   ]
  },
  {
   "cell_type": "code",
   "execution_count": null,
   "metadata": {},
   "outputs": [],
   "source": [
    "# with format\n",
    "# with <file> as <variable>:\n",
    "#   <block>\n",
    "with open(\"grades.txt\") as f:\n",
    "    print(f.read())"
   ]
  },
  {
   "cell_type": "markdown",
   "metadata": {},
   "source": [
    "The with statement will create the file object as store it in \"f,\" run the code inside the block, and automatically close the file."
   ]
  },
  {
   "cell_type": "markdown",
   "metadata": {},
   "source": [
    "#### Summary"
   ]
  },
  {
   "cell_type": "markdown",
   "metadata": {},
   "source": [
    "In this lesson, we learned about input, opening files, reading from files, writing to files, appending to files, and using the with statement. Here's a summary of what we learned:\n",
    "\n",
    "| Usage | Description |\n",
    "| --- | --- |\n",
    "| input(prompt_text) | get input from the user |\n",
    "| open(file_name, file_mode) | opens the file in the specified mode |\n",
    "| close() | closes the file |\n",
    "| f.read() | reads all the content from the file |\n",
    "| f.readlines() | reads the lines into a list of strings from the file |\n",
    "| f.readline() | reads a single line at a time from a file |\n",
    "| for line in file: | iterates through lines in a file |\n",
    "| f.write(content) | writes content into a file |\n",
    "| with open(file_name, file_mode) as file_object | automatically closes file when done |"
   ]
  },
  {
   "cell_type": "markdown",
   "metadata": {},
   "source": [
    "# Practice Problems"
   ]
  },
  {
   "cell_type": "markdown",
   "metadata": {},
   "source": [
    "1. Write the following function:"
   ]
  },
  {
   "cell_type": "code",
   "execution_count": null,
   "metadata": {},
   "outputs": [],
   "source": [
    "def calculate_grade(file_name: str) -> float:\n",
    "    \"\"\"\n",
    "    Given a file describing the assignments/grades that a student\n",
    "    received, calculate what grade they got in the class.\n",
    "    Each line in the file describes an assignment and the grade \n",
    "    they got in that assignment.\n",
    "    Homeworks are worth 15% of the grade, quizzes are worth 20%\n",
    "    of the grade, labs are worth 25% of the grade, and exams\n",
    "    are worth 40% of the grade.\n",
    "    Return the computed weighted average grade for the class\n",
    "    Ex.\n",
    "    calculate_grade(\"grades.txt\") == 79.5229375\n",
    "    \"\"\"\n",
    "    pass\n",
    "print(calculate_grade(\"grades.txt\") == 79.5229375)"
   ]
  },
  {
   "cell_type": "markdown",
   "metadata": {},
   "source": [
    "2. Write the following function:"
   ]
  },
  {
   "cell_type": "code",
   "execution_count": null,
   "metadata": {},
   "outputs": [],
   "source": [
    "def create_flashcards(file_name: str, words: list, definitions: list):\n",
    "    \"\"\"\n",
    "    Given a file name, a list of words, and a list of their \n",
    "    definitions, write into the file each word and definition\n",
    "    separated by a tab, with each entry on a new line.\n",
    "    \\t is the tab character\n",
    "    \"chemistry_flashcards.txt\",\n",
    "    [\"acid\", \"base\", \"dissociation\"], \n",
    "    [\"compound that gives off H+ ions in solution\",\n",
    "    \"substance which gives off hydroxide ions (OH-) in solution\",\n",
    "    \"breaking down of a compound into its components to form ions from an ionic substance\"]\n",
    "    ->\n",
    "    acid\\tcompound that gives off H+ ions in solution\n",
    "    base\\tsubstance which gives off hydroxide ions (OH-) in solution\n",
    "    dissociation\\tbreaking down of a compound into its components to form ions from an ionic substance\n",
    "    \"\"\"\n",
    "    pass\n",
    "\n",
    "create_flashcards(\"chemistry_flashcards.txt\", [\"acid\", \"base\", \"dissociation\"], [\"compound that gives off H+ ions in solution\",\n",
    "    \"substance which gives off hydroxide ions (OH-) in solution\",\n",
    "    \"breaking down of a compound into its components to form ions from an ionic substance\"])\n",
    "\n",
    "print(open(\"chemistry_flashcards.txt\").read() == \"acid\\tcompound that gives off H+ ions in solution\\nbase\\tsubstance which gives off hydroxide ions (OH-) in solution\\ndissociation\\tbreaking down of a compound into its components to form ions from an ionic substance\\n\")"
   ]
  },
  {
   "cell_type": "markdown",
   "metadata": {},
   "source": [
    "### Module 3.3 Errors and Exceptions"
   ]
  },
  {
   "cell_type": "markdown",
   "metadata": {},
   "source": [
    "There are 2 kinds of bugs (problems) when we write code: syntax errors and exceptions."
   ]
  },
  {
   "cell_type": "markdown",
   "metadata": {},
   "source": [
    "#### Syntax Errors"
   ]
  },
  {
   "cell_type": "markdown",
   "metadata": {},
   "source": [
    "A **syntax error** is when Python doesn't know how to read your code because it does not follow the format that Python is expecting:"
   ]
  },
  {
   "cell_type": "code",
   "execution_count": 2,
   "metadata": {},
   "outputs": [
    {
     "ename": "SyntaxError",
     "evalue": "unexpected EOF while parsing (2266715109.py, line 1)",
     "output_type": "error",
     "traceback": [
      "\u001b[1;36m  Input \u001b[1;32mIn [2]\u001b[1;36m\u001b[0m\n\u001b[1;33m    print(\"foo\"\u001b[0m\n\u001b[1;37m               ^\u001b[0m\n\u001b[1;31mSyntaxError\u001b[0m\u001b[1;31m:\u001b[0m unexpected EOF while parsing\n"
     ]
    }
   ],
   "source": [
    "print(\"foo\" # we're missing a parenthesis!"
   ]
  },
  {
   "cell_type": "code",
   "execution_count": 3,
   "metadata": {},
   "outputs": [
    {
     "ename": "SyntaxError",
     "evalue": "invalid syntax (3011559146.py, line 1)",
     "output_type": "error",
     "traceback": [
      "\u001b[1;36m  Input \u001b[1;32mIn [3]\u001b[1;36m\u001b[0m\n\u001b[1;33m    for foo foo bar bar\u001b[0m\n\u001b[1;37m            ^\u001b[0m\n\u001b[1;31mSyntaxError\u001b[0m\u001b[1;31m:\u001b[0m invalid syntax\n"
     ]
    }
   ],
   "source": [
    "for foo foo in bar # this isn't a proper for loop!"
   ]
  },
  {
   "cell_type": "markdown",
   "metadata": {},
   "source": [
    "This type of error is common when starting out because you're not totally sure what Python code is supposed to look like."
   ]
  },
  {
   "cell_type": "markdown",
   "metadata": {},
   "source": [
    "#### **Coding Activity 1**"
   ]
  },
  {
   "cell_type": "code",
   "execution_count": 5,
   "metadata": {},
   "outputs": [
    {
     "ename": "SyntaxError",
     "evalue": "'(' was never closed (1338663364.py, line 2)",
     "output_type": "error",
     "traceback": [
      "\u001b[1;36m  Input \u001b[1;32mIn [5]\u001b[1;36m\u001b[0m\n\u001b[1;33m    print(abs(min((-2 ** (3 + 2, 2, -3, -4))))\u001b[0m\n\u001b[1;37m         ^\u001b[0m\n\u001b[1;31mSyntaxError\u001b[0m\u001b[1;31m:\u001b[0m '(' was never closed\n"
     ]
    }
   ],
   "source": [
    "# fix the syntax error below\n",
    "print(abs(min((-2 ** (3 + 2, 2, -3, -4))))\n",
    "# this should print 32"
   ]
  },
  {
   "cell_type": "markdown",
   "metadata": {},
   "source": [
    "A useful tip for matching parentheses is to keep a mental counter in your head of how many opening and closing parentheses you've come across."
   ]
  },
  {
   "cell_type": "markdown",
   "metadata": {},
   "source": [
    "You start from the left and move to the right. If you come across and opening parnetheses, (, add 1 to the mental counter. If you come a cross a closed parentheses, subtract 1 from the mental counter. If your mental counter ever reaches -1, it means you're missing an opening parentheses somewhere. If you reach the end of the line and your counter is > 0, it means you're missing a closed parentheses."
   ]
  },
  {
   "cell_type": "code",
   "execution_count": 6,
   "metadata": {},
   "outputs": [
    {
     "ename": "SyntaxError",
     "evalue": "unmatched ')' (984463375.py, line 3)",
     "output_type": "error",
     "traceback": [
      "\u001b[1;36m  Input \u001b[1;32mIn [6]\u001b[1;36m\u001b[0m\n\u001b[1;33m    print( ( ( 1 ) ) ) )\u001b[0m\n\u001b[1;37m                       ^\u001b[0m\n\u001b[1;31mSyntaxError\u001b[0m\u001b[1;31m:\u001b[0m unmatched ')'\n"
     ]
    }
   ],
   "source": [
    "# For example,\n",
    "# For the code below:\n",
    "print( ( ( 1 ) ) ) )\n",
    "# we would count 1, 2, 3, and then subtract to 2, 1, 0, -1\n",
    "# which means we need another opening parentheses like so:\n",
    "print( ( ( ( 1 ) ) ) )\n",
    "# If we look at the code below:\n",
    "print( ( ( 1 ) )\n",
    "# we would count 1, 2, 3, and then subtract to 2, 1, which means\n",
    "# we need a closing parentheses\n",
    "# Or you could ignore all this and look at the fancy colors of \n",
    "# the text editor you're using..."
   ]
  },
  {
   "cell_type": "markdown",
   "metadata": {},
   "source": [
    "#### Exceptions"
   ]
  },
  {
   "cell_type": "markdown",
   "metadata": {},
   "source": [
    "**Exceptions** are when your code is syntactically correct (it has the right format), but an error occurs when you try to run it:"
   ]
  },
  {
   "cell_type": "code",
   "execution_count": 9,
   "metadata": {},
   "outputs": [
    {
     "ename": "ZeroDivisionError",
     "evalue": "division by zero",
     "output_type": "error",
     "traceback": [
      "\u001b[1;31m---------------------------------------------------------------------------\u001b[0m",
      "\u001b[1;31mZeroDivisionError\u001b[0m                         Traceback (most recent call last)",
      "Input \u001b[1;32mIn [9]\u001b[0m, in \u001b[0;36m<module>\u001b[1;34m\u001b[0m\n\u001b[1;32m----> 1\u001b[0m dont_do_it \u001b[39m=\u001b[39m \u001b[39m1\u001b[39;49m \u001b[39m/\u001b[39;49m \u001b[39m0\u001b[39;49m\n",
      "\u001b[1;31mZeroDivisionError\u001b[0m: division by zero"
     ]
    }
   ],
   "source": [
    "dont_do_it = 1 / 0"
   ]
  },
  {
   "cell_type": "code",
   "execution_count": null,
   "metadata": {},
   "outputs": [],
   "source": [
    "print(5 + this_variable_does_not_exist)"
   ]
  },
  {
   "cell_type": "code",
   "execution_count": null,
   "metadata": {},
   "outputs": [],
   "source": [
    "print(1 + \"1\") # should it be 2 or 11?"
   ]
  },
  {
   "cell_type": "markdown",
   "metadata": {},
   "source": [
    "These exceptions are easy to catch and fix, but some can be harder to find:"
   ]
  },
  {
   "cell_type": "code",
   "execution_count": 17,
   "metadata": {},
   "outputs": [
    {
     "name": "stdout",
     "output_type": "stream",
     "text": [
      "-4.547473508864641e-13\n"
     ]
    },
    {
     "ename": "ValueError",
     "evalue": "math domain error",
     "output_type": "error",
     "traceback": [
      "\u001b[1;31m---------------------------------------------------------------------------\u001b[0m",
      "\u001b[1;31mValueError\u001b[0m                                Traceback (most recent call last)",
      "Input \u001b[1;32mIn [17]\u001b[0m, in \u001b[0;36m<module>\u001b[1;34m\u001b[0m\n\u001b[0;32m     11\u001b[0m     \u001b[39mreturn\u001b[39;00m sqrt(squared_errors \u001b[39m/\u001b[39m \u001b[39mlen\u001b[39m(distribution))\n\u001b[0;32m     13\u001b[0m distribution \u001b[39m=\u001b[39m [\u001b[39m3.12\u001b[39m, \u001b[39m-\u001b[39m\u001b[39m321.32\u001b[39m, \u001b[39m-\u001b[39m\u001b[39m234.234\u001b[39m, \u001b[39m-\u001b[39m\u001b[39m151.23\u001b[39m, \u001b[39m1231\u001b[39m]\n\u001b[1;32m---> 14\u001b[0m \u001b[39mprint\u001b[39m(calculate_standard_deviation(distribution))\n",
      "Input \u001b[1;32mIn [17]\u001b[0m, in \u001b[0;36mcalculate_standard_deviation\u001b[1;34m(distribution)\u001b[0m\n\u001b[0;32m      9\u001b[0m     squared_errors \u001b[39m+\u001b[39m\u001b[39m=\u001b[39m (value \u001b[39m-\u001b[39m mean) \u001b[39m*\u001b[39m \u001b[39m2\u001b[39m\n\u001b[0;32m     10\u001b[0m \u001b[39mprint\u001b[39m(squared_errors)\n\u001b[1;32m---> 11\u001b[0m \u001b[39mreturn\u001b[39;00m sqrt(squared_errors \u001b[39m/\u001b[39;49m \u001b[39mlen\u001b[39;49m(distribution))\n",
      "\u001b[1;31mValueError\u001b[0m: math domain error"
     ]
    }
   ],
   "source": [
    "# can you find the bug in this code?\n",
    "from math import sqrt\n",
    "def calculate_standard_deviation(distribution):\n",
    "    total = 0\n",
    "    for value in distribution:\n",
    "        total += value\n",
    "    mean = total / len(distribution)\n",
    "    squared_errors = 0\n",
    "    for value in distribution:\n",
    "        squared_errors += (value - mean) * 2\n",
    "    return sqrt(squared_errors / len(distribution))\n",
    "\n",
    "distribution = [3.12, -321.32, -234.234, -151.23, 1231]\n",
    "print(calculate_standard_deviation(distribution))"
   ]
  },
  {
   "cell_type": "markdown",
   "metadata": {},
   "source": [
    "#### Exception Interpretation"
   ]
  },
  {
   "cell_type": "markdown",
   "metadata": {},
   "source": [
    "When Python encounters an exception, it dumps a bunch of information on what went wrong so that you can fix it. Let's look at an example:"
   ]
  },
  {
   "cell_type": "code",
   "execution_count": 20,
   "metadata": {},
   "outputs": [
    {
     "ename": "ValueError",
     "evalue": "invalid literal for int() with base 10: 'googoogaga'",
     "output_type": "error",
     "traceback": [
      "\u001b[1;31m---------------------------------------------------------------------------\u001b[0m",
      "\u001b[1;31mValueError\u001b[0m                                Traceback (most recent call last)",
      "Input \u001b[1;32mIn [20]\u001b[0m, in \u001b[0;36m<module>\u001b[1;34m\u001b[0m\n\u001b[0;32m      1\u001b[0m not_an_integer \u001b[39m=\u001b[39m \u001b[39m'\u001b[39m\u001b[39mgoogoogaga\u001b[39m\u001b[39m'\u001b[39m\n\u001b[1;32m----> 2\u001b[0m \u001b[39mprint\u001b[39m(\u001b[39mint\u001b[39;49m(not_an_integer))\n",
      "\u001b[1;31mValueError\u001b[0m: invalid literal for int() with base 10: 'googoogaga'"
     ]
    }
   ],
   "source": [
    "not_an_integer = 'googoogaga'\n",
    "print(int(not_an_integer))"
   ]
  },
  {
   "cell_type": "markdown",
   "metadata": {},
   "source": [
    "Exceptions (like other objects), have types. The type of the exception above is ValueError. The message after the colon at the bottom of the exception gives us a description of what went wrong: \"invalid literal for int() with base 10: 'googoogaga'\". Let's try to break down that message."
   ]
  },
  {
   "cell_type": "markdown",
   "metadata": {},
   "source": [
    "A \"literal\" is a raw data object. The 5 literal types are integers, floats, strings, Booleans, and None. In this case, the literal we used is a string: \"googoogaga\". \"int() with base 10\" means that int() tries to convert the argument into base 10. You can also have int() try to convert the argument into another base, such as base 16, but the default is 10."
   ]
  },
  {
   "cell_type": "markdown",
   "metadata": {},
   "source": [
    "The traceback of an exception is a list of the last function calls that took place to get to that exception. Let's look at an example:"
   ]
  },
  {
   "cell_type": "code",
   "execution_count": 23,
   "metadata": {},
   "outputs": [
    {
     "ename": "ZeroDivisionError",
     "evalue": "division by zero",
     "output_type": "error",
     "traceback": [
      "\u001b[1;31m---------------------------------------------------------------------------\u001b[0m",
      "\u001b[1;31mZeroDivisionError\u001b[0m                         Traceback (most recent call last)",
      "Input \u001b[1;32mIn [23]\u001b[0m, in \u001b[0;36m<module>\u001b[1;34m\u001b[0m\n\u001b[0;32m      7\u001b[0m \u001b[39mdef\u001b[39;00m \u001b[39mbaz\u001b[39m():\n\u001b[0;32m      8\u001b[0m     \u001b[39mprint\u001b[39m(\u001b[39m1\u001b[39m \u001b[39m/\u001b[39m \u001b[39m0\u001b[39m)\n\u001b[1;32m---> 10\u001b[0m foo()\n",
      "Input \u001b[1;32mIn [23]\u001b[0m, in \u001b[0;36mfoo\u001b[1;34m()\u001b[0m\n\u001b[0;32m      1\u001b[0m \u001b[39mdef\u001b[39;00m \u001b[39mfoo\u001b[39m():\n\u001b[1;32m----> 2\u001b[0m     bar()\n",
      "Input \u001b[1;32mIn [23]\u001b[0m, in \u001b[0;36mbar\u001b[1;34m()\u001b[0m\n\u001b[0;32m      4\u001b[0m \u001b[39mdef\u001b[39;00m \u001b[39mbar\u001b[39m():\n\u001b[1;32m----> 5\u001b[0m     baz()\n",
      "Input \u001b[1;32mIn [23]\u001b[0m, in \u001b[0;36mbaz\u001b[1;34m()\u001b[0m\n\u001b[0;32m      7\u001b[0m \u001b[39mdef\u001b[39;00m \u001b[39mbaz\u001b[39m():\n\u001b[1;32m----> 8\u001b[0m     \u001b[39mprint\u001b[39m(\u001b[39m1\u001b[39;49m \u001b[39m/\u001b[39;49m \u001b[39m0\u001b[39;49m)\n",
      "\u001b[1;31mZeroDivisionError\u001b[0m: division by zero"
     ]
    }
   ],
   "source": [
    "def foo():\n",
    "    bar()\n",
    "\n",
    "def bar():\n",
    "    baz()\n",
    "\n",
    "def baz():\n",
    "    print(1 / 0)\n",
    "\n",
    "foo()"
   ]
  },
  {
   "cell_type": "markdown",
   "metadata": {},
   "source": [
    "If we look at the traceback of the exception, we read it from bottom to top. We see that baz is what caused the exception, baz was called inside bar, bar was called inside foo, and foo was called in our module/code. You'll see why this is useful later."
   ]
  },
  {
   "cell_type": "markdown",
   "metadata": {},
   "source": [
    "#### Debugging"
   ]
  },
  {
   "cell_type": "markdown",
   "metadata": {},
   "source": [
    "Debugging is the process of fixing your code. Let's look at an example from above to see how we can fix it:"
   ]
  },
  {
   "cell_type": "code",
   "execution_count": 24,
   "metadata": {},
   "outputs": [
    {
     "ename": "ValueError",
     "evalue": "math domain error",
     "output_type": "error",
     "traceback": [
      "\u001b[1;31m---------------------------------------------------------------------------\u001b[0m",
      "\u001b[1;31mValueError\u001b[0m                                Traceback (most recent call last)",
      "Input \u001b[1;32mIn [24]\u001b[0m, in \u001b[0;36m<module>\u001b[1;34m\u001b[0m\n\u001b[0;32m     11\u001b[0m     \u001b[39mreturn\u001b[39;00m sqrt(squared_errors \u001b[39m/\u001b[39m \u001b[39mlen\u001b[39m(distribution))\n\u001b[0;32m     13\u001b[0m distribution \u001b[39m=\u001b[39m [\u001b[39m3.12\u001b[39m, \u001b[39m-\u001b[39m\u001b[39m321.32\u001b[39m, \u001b[39m-\u001b[39m\u001b[39m234.234\u001b[39m, \u001b[39m-\u001b[39m\u001b[39m151.23\u001b[39m, \u001b[39m1231\u001b[39m]\n\u001b[1;32m---> 14\u001b[0m \u001b[39mprint\u001b[39m(calculate_standard_deviation(distribution))\n",
      "Input \u001b[1;32mIn [24]\u001b[0m, in \u001b[0;36mcalculate_standard_deviation\u001b[1;34m(distribution)\u001b[0m\n\u001b[0;32m      9\u001b[0m \u001b[39mfor\u001b[39;00m value \u001b[39min\u001b[39;00m distribution:\n\u001b[0;32m     10\u001b[0m     squared_errors \u001b[39m+\u001b[39m\u001b[39m=\u001b[39m (value \u001b[39m-\u001b[39m mean) \u001b[39m*\u001b[39m \u001b[39m2\u001b[39m\n\u001b[1;32m---> 11\u001b[0m \u001b[39mreturn\u001b[39;00m sqrt(squared_errors \u001b[39m/\u001b[39;49m \u001b[39mlen\u001b[39;49m(distribution))\n",
      "\u001b[1;31mValueError\u001b[0m: math domain error"
     ]
    }
   ],
   "source": [
    "# can you find the bug in this code?\n",
    "from math import sqrt\n",
    "def calculate_standard_deviation(distribution):\n",
    "    total = 0\n",
    "    for value in distribution:\n",
    "        total += value\n",
    "    mean = total / len(distribution)\n",
    "    squared_errors = 0\n",
    "    for value in distribution:\n",
    "        squared_errors += (value - mean) * 2\n",
    "    return sqrt(squared_errors / len(distribution))\n",
    "\n",
    "distribution = [3.12, -321.32, -234.234, -151.23, 1231]\n",
    "print(calculate_standard_deviation(distribution))"
   ]
  },
  {
   "cell_type": "markdown",
   "metadata": {},
   "source": [
    "Try and run the code. You'll see in the traceback that the line that caused the exception is this one: \"---> 11 return sqrt(squared_errors / len(distribution))\"."
   ]
  },
  {
   "cell_type": "markdown",
   "metadata": {},
   "source": [
    "Now even though this code threw the exception, it doesn't necessarily mean that it's the root of the problem. A bug may have appeared earlier in the code that led to this code throwing an exception. How do we identify what's causing the problem?"
   ]
  },
  {
   "cell_type": "markdown",
   "metadata": {},
   "source": [
    "It's the same way a mechanic finds out what's wrong with a car: the mechanic has to look under the hood. We can do that in Python using **print debugging**. This is the most basic form of debugging, but it's one that I've used time and time again:"
   ]
  },
  {
   "cell_type": "code",
   "execution_count": null,
   "metadata": {},
   "outputs": [],
   "source": [
    "# can you find the bug in this code?\n",
    "from math import sqrt\n",
    "def calculate_standard_deviation(distribution):\n",
    "    total = 0\n",
    "    for value in distribution:\n",
    "        total += value\n",
    "    mean = total / len(distribution)\n",
    "    squared_errors = 0\n",
    "    for value in distribution:\n",
    "        squared_errors += (value - mean) * 2\n",
    "    print(\"squared_errors:\", squared_errors)\n",
    "    print(\"distribution:\", distribution)\n",
    "    return sqrt(squared_errors / len(distribution))\n",
    "\n",
    "distribution = [3.12, -321.32, -234.234, -151.23, 1231]\n",
    "print(calculate_standard_deviation(distribution))"
   ]
  },
  {
   "cell_type": "markdown",
   "metadata": {},
   "source": [
    "Print debugging involves looking at what variables are involved in the exception, in this case, squared_errors and distribution, and printing them right before the exception is raised. If one of those variables has an \"odd\" value, then we look at where that variable is created/modified, it's likely the culprit."
   ]
  },
  {
   "cell_type": "markdown",
   "metadata": {},
   "source": [
    "If you run the code above, you'll notice something odd...squared_errors is negative! If we look at where it's created/modified, we can see that the bug in our code is that we're calculating the squared errors wrong. Instead of squaring the differences, we're multiplying them by 2. Now that we know the problem, we can fix it and get rid of our debugging code:"
   ]
  },
  {
   "cell_type": "code",
   "execution_count": null,
   "metadata": {},
   "outputs": [],
   "source": [
    "from math import sqrt\n",
    "def calculate_standard_deviation(distribution):\n",
    "    total = 0\n",
    "    for value in distribution:\n",
    "        total += value\n",
    "    mean = total / len(distribution)\n",
    "    squared_errors = 0\n",
    "    for value in distribution:\n",
    "        squared_errors += (value - mean) ** 2\n",
    "    return sqrt(squared_errors / len(distribution))\n",
    "\n",
    "distribution = [3.12, -321.32, -234.234, -151.23, 1231]\n",
    "print(calculate_standard_deviation(distribution))"
   ]
  },
  {
   "cell_type": "markdown",
   "metadata": {},
   "source": [
    "#### Builtin Exceptions"
   ]
  },
  {
   "cell_type": "markdown",
   "metadata": {},
   "source": [
    "The type of an exception can tell us a lot about the nature of the exception right off the bat. There are several builtin exception types. Let's look at each one:"
   ]
  },
  {
   "cell_type": "code",
   "execution_count": null,
   "metadata": {},
   "outputs": [],
   "source": [
    "print(1 / 0)"
   ]
  },
  {
   "cell_type": "markdown",
   "metadata": {},
   "source": [
    "The **ZeroDivisionError** is pretty self explanatory. If you divide by zero, an exception is raised. You can prevent this by checking if the denominator is equal to zero before dividing:"
   ]
  },
  {
   "cell_type": "code",
   "execution_count": null,
   "metadata": {},
   "outputs": [],
   "source": [
    "numerator = 13 * 30\n",
    "denominator = 12 * 5 - 60\n",
    "if denominator != 0:\n",
    "    print(numerator / denominator)\n",
    "else:\n",
    "    print(\"Division by zero!\")"
   ]
  },
  {
   "cell_type": "code",
   "execution_count": null,
   "metadata": {},
   "outputs": [],
   "source": [
    "f = open(\"googoogaga.txt\")"
   ]
  },
  {
   "cell_type": "markdown",
   "metadata": {},
   "source": [
    "An **IOError** (which stands for Input/Output Error) is an exception that is raised when Python fails to do an Input/Output operation, such as opening a file in read mode that does not exist."
   ]
  },
  {
   "cell_type": "code",
   "execution_count": null,
   "metadata": {},
   "outputs": [],
   "source": [
    "small_list = [1, 2, 3]\n",
    "small_list[500]"
   ]
  },
  {
   "cell_type": "markdown",
   "metadata": {},
   "source": [
    "An **IndexError** is an exception that is raised when an invalid index is used (when the index >= the size of the list/string/tuple)."
   ]
  },
  {
   "cell_type": "code",
   "execution_count": null,
   "metadata": {},
   "outputs": [],
   "source": [
    "print(another_undefined_variable)"
   ]
  },
  {
   "cell_type": "markdown",
   "metadata": {},
   "source": [
    "A **NameError* is an exception is raise when trying to reference a variable that has not been assigned a value."
   ]
  },
  {
   "cell_type": "code",
   "execution_count": 27,
   "metadata": {},
   "outputs": [
    {
     "ename": "TypeError",
     "evalue": "object of type 'int' has no len()",
     "output_type": "error",
     "traceback": [
      "\u001b[1;31m---------------------------------------------------------------------------\u001b[0m",
      "\u001b[1;31mTypeError\u001b[0m                                 Traceback (most recent call last)",
      "Input \u001b[1;32mIn [27]\u001b[0m, in \u001b[0;36m<module>\u001b[1;34m\u001b[0m\n\u001b[1;32m----> 1\u001b[0m \u001b[39mprint\u001b[39m(\u001b[39mlen\u001b[39;49m(\u001b[39m5\u001b[39;49m))\n",
      "\u001b[1;31mTypeError\u001b[0m: object of type 'int' has no len()"
     ]
    }
   ],
   "source": [
    "print(len(5))"
   ]
  },
  {
   "cell_type": "markdown",
   "metadata": {},
   "source": [
    "A **TypeError** is an exception that is raised when an operator or function is used on the wrong type(s)."
   ]
  },
  {
   "cell_type": "code",
   "execution_count": null,
   "metadata": {},
   "outputs": [],
   "source": [
    "from math import sqrt\n",
    "print(sqrt(-1))"
   ]
  },
  {
   "cell_type": "markdown",
   "metadata": {},
   "source": [
    "A **ValueError** is an exception that is raised when an operator or function is used on the correct type, but an invalid value."
   ]
  },
  {
   "cell_type": "markdown",
   "metadata": {},
   "source": [
    "#### Summary"
   ]
  },
  {
   "cell_type": "markdown",
   "metadata": {},
   "source": [
    "In this lesson, we learned about syntax errors, exceptions, traceback, debugging, and builtin exceptions. Here is a summary of the concepts below:\n",
    "\n",
    "| Term | Description |\n",
    "| --- | --- |\n",
    "| SyntaxError | Your code's formatting is wrong |\n",
    "| Exception | Your code's logic is wrong |\n",
    "| Traceback | The last list of function calls before an exception is raised |\n",
    "| Debugging | The process of fixing your code |\n",
    "| ZeroDeivisionError | When you divide by zero |\n",
    "| IOError | When a file operation fails |\n",
    "| IndexError | When your index is bigger than the list |\n",
    "| TypeError | When you're using the wrong types |\n",
    "| ValueError | When you have the wrong values |"
   ]
  },
  {
   "cell_type": "markdown",
   "metadata": {},
   "source": [
    "#### Practice Problems"
   ]
  },
  {
   "cell_type": "code",
   "execution_count": null,
   "metadata": {},
   "outputs": [],
   "source": [
    "# 1. fix the function below\n",
    "def add_prefix(string: str, num: int) -> str:\n",
    "    \"\"\"\n",
    "    Adds a string prefix to a number.\n",
    "    Ex.\n",
    "    add_prefix(\"foo\", 123) == \"foo123\"\n",
    "    add_prefix(\"bar\", 0) == \"bar0\"\n",
    "    \"\"\"\n",
    "    return string + num\n",
    "print(add_prefix(\"foo\", 123) == \"foo123\")\n",
    "print(add_prefix(\"bar\", 0) == \"bar0\")"
   ]
  },
  {
   "cell_type": "code",
   "execution_count": null,
   "metadata": {},
   "outputs": [],
   "source": [
    "# 2. fix the function below\n",
    "def get_middle_num(nums: list) -> int:\n",
    "    \"\"\"\n",
    "    Gets the int in the middle of the nums list.\n",
    "    Ex.\n",
    "    get_middle_num([1, 5, 10]) == 5\n",
    "    get_middle_num([4, 5, 6, 7]) == 5\n",
    "    get_middle_num([1]) == 1\n",
    "    \"\"\"\n",
    "    middle_index = len(strings) / 2\n",
    "    return nums[middle_index]\n",
    "print(get_middle_num([1, 5, 10]) == 5)\n",
    "print(get_middle_num([4, 5, 6, 7]) == 5)\n",
    "print(get_middle_num([1]) == 1)"
   ]
  },
  {
   "cell_type": "code",
   "execution_count": null,
   "metadata": {},
   "outputs": [],
   "source": [
    "# 3. fix the function below\n",
    "def longest_char_chain(string: str) -> int:\n",
    "    \"\"\"\n",
    "    Given a string, return the length of the longest chain of\n",
    "    the same character.\n",
    "    Ex.\n",
    "    longest_letter_chain(\"aaaaa bbb cc ddd\") == 4\n",
    "    longest_letter_chain(\"aa bbbbbbbbb cc ddd\") == 9\n",
    "    longest_letter_chain(\"a\") == 1\n",
    "    longest_letter_chain(\"\") == 0\n",
    "    \"\"\"\n",
    "    if len(string) == 0 or len(string) == 1:\n",
    "        return len(string)\n",
    "    longest_chain = 1\n",
    "    current_chain = 1\n",
    "    for i in range(len(string)): # for each character\n",
    "        # if the character is the same as the character to \n",
    "        # the right\n",
    "        if string[i] == string[i+1]: \n",
    "            # increase chain by one\n",
    "            current_chain += 1 \n",
    "            # if the current chain is longer than the longest one\n",
    "            if current_chain > longest_chain: \n",
    "                # set longest to the current\n",
    "                longest_chain = current_chain\n",
    "        else:\n",
    "            # if the character is a different one, start the \n",
    "            # current chain over\n",
    "            current_chain = 1\n",
    "    return longest_chain\n",
    "\n",
    "print(longest_char_chain(\"aaaaa bbb cc ddd\") == 5)\n",
    "print(longest_char_chain(\"aa bbbbbbbbb cc ddd\") == 9)\n",
    "print(longest_char_chain(\"a\") == 1)\n",
    "print(longest_char_chain(\"\") == 0)"
   ]
  },
  {
   "cell_type": "code",
   "execution_count": null,
   "metadata": {},
   "outputs": [],
   "source": []
  }
 ],
 "metadata": {
  "interpreter": {
   "hash": "18db06d66b83781e741671a8bbd09812ebc032e21520231392754694b3895265"
  },
  "kernelspec": {
   "display_name": "Python 3 (ipykernel)",
   "language": "python",
   "name": "python3"
  },
  "language_info": {
   "codemirror_mode": {
    "name": "ipython",
    "version": 3
   },
   "file_extension": ".py",
   "mimetype": "text/x-python",
   "name": "python",
   "nbconvert_exporter": "python",
   "pygments_lexer": "ipython3",
   "version": "3.10.2"
  }
 },
 "nbformat": 4,
 "nbformat_minor": 4
}
