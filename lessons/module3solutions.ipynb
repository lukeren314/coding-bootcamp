{
 "cells": [
  {
   "cell_type": "markdown",
   "id": "5c0b1bf4-6c7a-4c7d-aea0-a551cfc63bcb",
   "metadata": {},
   "source": [
    "## Module 3 Solutions"
   ]
  },
  {
   "cell_type": "markdown",
   "id": "5d07bbf5-265c-44ce-b711-5b578554aaba",
   "metadata": {
    "tags": []
   },
   "source": [
    "### 3.1"
   ]
  },
  {
   "cell_type": "markdown",
   "id": "3c1ab3ec-d579-4771-a7dd-9981acc86cc7",
   "metadata": {},
   "source": [
    "#### Coding Activity 1"
   ]
  },
  {
   "cell_type": "code",
   "execution_count": 40,
   "id": "fb47e8b0-1968-4242-911a-0fda396924e3",
   "metadata": {},
   "outputs": [
    {
     "name": "stdout",
     "output_type": "stream",
     "text": [
      "True\n",
      "True\n",
      "True\n",
      "True\n"
     ]
    }
   ],
   "source": [
    "# Write the function below\n",
    "def remove_slice(nums: list, start_index: int, end_index: int = None) -> list:\n",
    "    \"\"\"\n",
    "    The remove_slice function returns a new list with elements\n",
    "    removed depending on the indexes given.\n",
    "    If no end_index function is given, remove_slice will remove\n",
    "    items starting from start_index to the end of the list.\n",
    "    If an end_index function is given, remove_slice will remove\n",
    "    items up until right before end_index.\n",
    "    \n",
    "    HINT: You can check if end_index != None to see if it was\n",
    "    provided.\n",
    "    \n",
    "    Ex.\n",
    "    remove_slice([1, 2, 3], 1) == [1]\n",
    "    remove_slice([1, 2, 3, 4], 2) == [1, 2]\n",
    "    remove_slice([1, 2, 3, 4, 5], 2, 4) == [1, 2, 5]\n",
    "    remove_slice([1, 2, 3], 0, 2) == [3]\n",
    "    \"\"\"\n",
    "    # not the only solution, but one of the simplest\n",
    "    if end_index != None:\n",
    "        # include up to the start_index and starting\n",
    "        # from the end_index\n",
    "        return nums[:start_index] + nums[end_index:]\n",
    "    return nums[:start_index]\n",
    "print(remove_slice([1, 2, 3], 1) == [1])\n",
    "print(remove_slice([1, 2, 3, 4], start_index=2) == [1, 2])\n",
    "print(remove_slice([1, 2, 3, 4, 5], 2, 4) == [1, 2, 5])\n",
    "print(remove_slice([1, 2, 3], start_index=0, end_index=2) == [3])\n"
   ]
  },
  {
   "cell_type": "markdown",
   "id": "fb66247b-245e-4d63-a3d8-042b7addb391",
   "metadata": {},
   "source": [
    "#### Coding Activity 2"
   ]
  },
  {
   "cell_type": "code",
   "execution_count": null,
   "id": "49544dd4-5964-46f6-abac-e29e458ab3b6",
   "metadata": {},
   "outputs": [],
   "source": [
    "# Write the function below\n",
    "def combine_lists_sorted(*lists) -> list:\n",
    "    \"\"\"\n",
    "    The combine_lists_sorted function takes any number of list \n",
    "    arguments and returns a list containing the elements of all \n",
    "    of them sorted.\n",
    "    Ex.\n",
    "    combine_lists_sorted([1, 2, 3], [4, 5, 6], [1, 2]) == [1, 1, 2, 2, 3, 4, 5, 6]\n",
    "    combine_lists_sorted([0, 3], [2, 4]) == [0, 2, 3, 4]\n",
    "    combine_lists_sorted([0, 1, 2]) == [0, 1, 2]\n",
    "    \"\"\"\n",
    "    combined_list = []\n",
    "    for list_arg in lists:\n",
    "        combined_list.extend(list_arg)\n",
    "    combined_list.sort()\n",
    "    return combined_list\n",
    "\n",
    "print(combine_lists_sorted([1, 2, 3], [4, 5, 6], [1, 2]) == [1, 1, 2, 2, 3, 4, 5, 6])\n",
    "print(combine_lists_sorted([0, 3], [2, 4]) == [0, 2, 3, 4])\n",
    "print(combine_lists_sorted([0, 1, 2]) == [0, 1, 2])"
   ]
  },
  {
   "cell_type": "markdown",
   "id": "5824382c-796f-4a31-b976-4937da0523be",
   "metadata": {},
   "source": [
    "#### Coding Activity 3"
   ]
  },
  {
   "cell_type": "code",
   "execution_count": null,
   "id": "fe65d26a-d945-4621-8e3b-94100cf44468",
   "metadata": {},
   "outputs": [],
   "source": [
    "# Write the function below\n",
    "def sort_length(strings: list) -> list:\n",
    "    \"\"\"\n",
    "    Given a list of strings, sort them by the length of the \n",
    "    string. \n",
    "    Create a new list instead of modifying the old one.\n",
    "    Ex.\n",
    "    sort_length([\"aaaa\", \"bb\", \"z\"]) == [\"z\", \"bb\", \"aaaa\"]\n",
    "    sort_length([\"abc\", \"defg\", \"h\"]) == [\"h\", \"abc\", \"defg\"]\n",
    "    \"\"\"\n",
    "    new_list = []\n",
    "    new_list.extend(strings) # copy elements into this new list\n",
    "    # so that we don't modify the old one\n",
    "    new_list.sort(key=lambda string: len(string))\n",
    "print(sort_length([\"aaaa\", \"bb\", \"z\"]) == [\"z\", \"bb\", \"aaaa\"])\n",
    "print(sort_length([\"abc\", \"defg\", \"h\"]) == [\"h\", \"abc\", \"defg\"])"
   ]
  },
  {
   "cell_type": "markdown",
   "id": "c01f37ef-c578-49b2-9664-a5f9672a698e",
   "metadata": {},
   "source": [
    "#### Practice Problems"
   ]
  },
  {
   "cell_type": "code",
   "execution_count": null,
   "id": "e7a86241-e596-403d-bea0-8cec375c055d",
   "metadata": {},
   "outputs": [],
   "source": [
    "# 1.\n",
    "balance = 0\n",
    "\n",
    "def deposit(amount: int, is_new: bool = False):\n",
    "    \"\"\"\n",
    "    Deposit adds an amount to the global variable balance.\n",
    "    The is_new variable is false by default, but if it's set to\n",
    "    True, then empty the balance before setting it again.\n",
    "    Ex.\n",
    "    balance = 0\n",
    "    deposit(50)\n",
    "    balance == 50\n",
    "    deposit(20)\n",
    "    balance == 70\n",
    "    deposit(30, True)\n",
    "    balance == 30\n",
    "    deposit(10, False)\n",
    "    balance == 40\n",
    "    deposit(5, is_new = True)\n",
    "    balance == 5\n",
    "    \"\"\"\n",
    "    global balance\n",
    "    if is_new:\n",
    "        balance = 0\n",
    "    balance += amount\n",
    "\n",
    "balance = 0\n",
    "deposit(50)\n",
    "print(balance == 50)\n",
    "deposit(20)\n",
    "print(balance == 70)\n",
    "deposit(30, True)\n",
    "print(balance == 30)\n",
    "deposit(10, False)\n",
    "print(balance == 40)\n",
    "deposit(5, is_new = True))\n",
    "print(balance == 5)"
   ]
  },
  {
   "cell_type": "code",
   "execution_count": null,
   "id": "d0b84f68-bfca-4b18-a3d4-ef66c97b1787",
   "metadata": {},
   "outputs": [],
   "source": [
    "# 2.\n",
    "def sum_any(*args) -> int:\n",
    "    \"\"\"\n",
    "    If only 1 argument was passed in and it's a list, return\n",
    "    the sum of its elements.\n",
    "    Otherwise, return the sum of the arguments.\n",
    "    If no arguments were given, return 0\n",
    "    Ex.\n",
    "    sum_any([1, 2, 3]) == 6\n",
    "    sum_any(2, 3, 4) == 9\n",
    "    sum_any(3) == 3\n",
    "    sum_any() == 0\n",
    "    \"\"\"\n",
    "    if len(args) == 0:\n",
    "        return 0\n",
    "    if len(args) == 1 and type(args[0]) == list:\n",
    "        return sum(args[0])\n",
    "    return sum(args)\n",
    "print(sum_any([1, 2, 3]) == 6)\n",
    "print(sum_any(2, 3, 4) == 9)\n",
    "print(sum_any(3) == 3)\n",
    "print(sum_any() == 0)"
   ]
  },
  {
   "cell_type": "code",
   "execution_count": 41,
   "id": "1e3e29e5-0faa-4d81-a57c-97e1053f8725",
   "metadata": {},
   "outputs": [],
   "source": [
    "# 3.\n",
    "def sort_players_by_score(players: list, scores: list) -> list:\n",
    "    \"\"\"\n",
    "    Given a list of players and a list of their scores in a game,\n",
    "    sort the list of players by their scores (in ascending order),\n",
    "    and return it as a new list.\n",
    "    Ex.\n",
    "    sort_players_by_score([\"Bob\", \"Jim\", \"Sally\"], [3, 1, 4]) == [\"Jim\", \"Bob\", \"Sally\"]\n",
    "    sort_players_by_score([\"a\", \"b\", \"c\", \"d\"], [4, 3, 2, 1]) == [\"d\", \"c\", \"b\", \"a\"]\n",
    "    sort_players_by_score([\"a\", \"b\"], [1, 2]) == [\"c\", \"b\", \"a\"]\n",
    "    \"\"\"\n",
    "    new_list = []\n",
    "    new_list.extend(players) # copy players into the new list\n",
    "    new_list.sort(key=lambda player: scores[players.index(player)])\n",
    "print(sort_players_by_score([\"Bob\", \"Jim\", \"Sally\"], [3, 1, 4]) == [\"Jim\", \"Bob\", \"Sally\"])\n",
    "print(sort_players_by_score([\"a\", \"b\", \"c\", \"d\"], [4, 3, 2, 1]) == [\"d\", \"c\", \"b\", \"a\"])\n",
    "print(sort_players_by_score([\"a\", \"b\"], [1, 2]) == [\"c\", \"b\", \"a\"])"
   ]
  },
  {
   "cell_type": "markdown",
   "id": "f74786b6-f34a-4eb2-84ab-62a48f1b9850",
   "metadata": {},
   "source": [
    "### 3.2"
   ]
  },
  {
   "cell_type": "markdown",
   "id": "564c387a-1f84-40b6-afbf-86e3a6bb1e8c",
   "metadata": {},
   "source": [
    "#### Coding Activity 1"
   ]
  },
  {
   "cell_type": "code",
   "execution_count": 11,
   "id": "9fa2b6a5-5de0-48bc-9c74-b38648462a90",
   "metadata": {},
   "outputs": [
    {
     "name": "stdin",
     "output_type": "stream",
     "text": [
      "Enter a name:  \n",
      "Enter a name:  Bob123\n",
      "Enter a name:  jim\n",
      "Enter a name:  Steve Smith\n",
      "Enter a name:  \n",
      "Enter a name:  Bob\n"
     ]
    },
    {
     "data": {
      "text/plain": [
       "'Bob'"
      ]
     },
     "execution_count": 11,
     "metadata": {},
     "output_type": "execute_result"
    }
   ],
   "source": [
    "# Write the function below\n",
    "def get_valid_name() -> str:\n",
    "    \"\"\"\n",
    "    Get input from the user until they return a valid name, and\n",
    "    then return the name.\n",
    "    A valid name contains only characters and the first letter\n",
    "    is capitalized.\n",
    "    Ex.\n",
    "    Valid names -> \"Bob\", \"Jim\", and \"Steve\"\n",
    "    Invalid names -> \"\", \"Bob123\", \"jim\", and \"Steve Smith\"\n",
    "    \"\"\"\n",
    "    name = input(\"Enter a name: \")\n",
    "    while not (len(name) > 0 and name.isalpha() and name[0].isupper()):\n",
    "        # or \n",
    "        # not len(name) == 0 or not name.isalpha() or not name[0].isupper()\n",
    "        name = input(\"Enter a name: \")\n",
    "    return name\n",
    "get_valid_name()"
   ]
  },
  {
   "cell_type": "markdown",
   "id": "1168d35c-b1f3-4b06-98e3-ae5ab8186c83",
   "metadata": {},
   "source": [
    "#### Coding Activity 2"
   ]
  },
  {
   "cell_type": "code",
   "execution_count": 3,
   "id": "231beff6-255f-45ab-a38b-312896e82b77",
   "metadata": {},
   "outputs": [
    {
     "name": "stdout",
     "output_type": "stream",
     "text": [
      "True\n",
      "True\n",
      "True\n"
     ]
    }
   ],
   "source": [
    "# Write the following funciton\n",
    "def read_first_n(file_name: str, n: int) -> str:\n",
    "    \"\"\"\n",
    "    The read_first_n method reads the first n lines of the text\n",
    "    and returns them as a string.\n",
    "    Don't forget to close the file once you're done\n",
    "    Ex.\n",
    "    read_first_n(\"grades.txt\", 3) == \"homework,92\\nhomework,85\\nquiz,65\\n\"\n",
    "    read_first_n(\"grades.txt\", 0) == \"\"\n",
    "    read_first_n(\"grades.txt\", 4) == \"homework,92\\nhomework,85\\nquiz,65\\nhomework 90\\n\"\n",
    "    \"\"\"\n",
    "    # solution 1\n",
    "    f = open(file_name)\n",
    "    lines = \"\"\n",
    "    for i in range(n):\n",
    "        lines += f.readline()\n",
    "    return lines\n",
    "\n",
    "    # solution 2\n",
    "    f = open(file_name)\n",
    "    lines_list = f.readlines()\n",
    "    return \"\".join(lines_list[:n])\n",
    "print(read_first_n(\"grades.txt\", 3) == \"homework,92\\nhomework,85\\nquiz,65\\n\")\n",
    "print(read_first_n(\"grades.txt\", 0) == \"\")\n",
    "print(read_first_n(\"grades.txt\", 4) == \"homework,92\\nhomework,85\\nquiz,65\\nhomework 90\\n\")\n"
   ]
  },
  {
   "cell_type": "markdown",
   "id": "6b9d4a26-2c3c-4358-8ebd-192518dcc8cb",
   "metadata": {},
   "source": [
    "#### Coding Activity 3"
   ]
  },
  {
   "cell_type": "code",
   "execution_count": 18,
   "id": "355863d6-eebf-4d80-b890-11b708ee46a7",
   "metadata": {},
   "outputs": [
    {
     "name": "stdout",
     "output_type": "stream",
     "text": [
      "True\n",
      "True\n"
     ]
    }
   ],
   "source": [
    "# Write the following function\n",
    "def write_lines(file_name: str, lines: list):\n",
    "    \"\"\"\n",
    "    Given a file name and a list of strings, replace the content\n",
    "    of the file with each line from lines on a new line.\n",
    "    Ex.\n",
    "    \"foo.txt\", [\"hello\", \"how's it going\"]\n",
    "    ->\n",
    "    <inside foo.txt>\n",
    "    hello\n",
    "    how's it going\n",
    "    \n",
    "    \"bar.txt\", [\"foo\", \"bar\", \"baz\"]\n",
    "    ->\n",
    "    <inside bar.txt>\n",
    "    foo\n",
    "    bar\n",
    "    baz\n",
    "    \"\"\"\n",
    "    # possible solution 1\n",
    "    f = open(file_name, \"w\")\n",
    "    for line in lines:\n",
    "        f.write(line + \"\\n\")\n",
    "    f.close()  \n",
    "    \n",
    "    # possible solution 2\n",
    "    f = open(file_name, \"w\")\n",
    "    f.write(\"\\n\".join(lines))\n",
    "    f.write(\"\\n\") # end with a newline\n",
    "    f.close()\n",
    "write_lines(\"foo.txt\", [\"hello\", \"how's it going\"])\n",
    "print(open(\"foo.txt\").read() == \"hello\\nhow's it going\\n\")\n",
    "\n",
    "write_lines(\"bar.txt\", [\"foo\", \"bar\", \"baz\"])\n",
    "print(open(\"bar.txt\").read() == \"foo\\nbar\\nbaz\\n\")"
   ]
  },
  {
   "cell_type": "markdown",
   "id": "916836ae-4353-416f-8c74-84c0b4f645d4",
   "metadata": {},
   "source": [
    "#### Practice Problems"
   ]
  },
  {
   "cell_type": "code",
   "execution_count": 36,
   "id": "3fa7028c-8e0f-48ae-95d4-fa93c08c8dfc",
   "metadata": {},
   "outputs": [
    {
     "name": "stdout",
     "output_type": "stream",
     "text": [
      "True\n"
     ]
    }
   ],
   "source": [
    "# 1.\n",
    "def calculate_grade(file_name: str) -> float:\n",
    "    \"\"\"\n",
    "    Given a file describing the assignments/grades that a student\n",
    "    received, calculate what grade they got in the class.\n",
    "    Each line in the file describes an assignment and the grade \n",
    "    they got in that assignment.\n",
    "    Homeworks are worth 15% of the grade, quizzes are worth 20%\n",
    "    of the grade, labs are worth 25% of the grade, and exams\n",
    "    are worth 40% of the grade.\n",
    "    Return the weighted grade for the class\n",
    "    Ex.\n",
    "    calculate_grade(\"grades.txt\") == 79.5229375\n",
    "    \"\"\"\n",
    "    with open(file_name) as f:\n",
    "        total_homeworks = 0\n",
    "        total_quizzes = 0\n",
    "        total_labs = 0\n",
    "        total_exams = 0\n",
    "        num_homeworks = 0\n",
    "        num_quizzes = 0\n",
    "        num_labs = 0\n",
    "        num_exams = 0\n",
    "        for line in f:\n",
    "            tokens = line.split(\",\")\n",
    "            assignment_type = tokens[0]\n",
    "            grade = float(tokens[1])\n",
    "            if assignment_type == \"homework\":\n",
    "                total_homeworks += grade * 0.15\n",
    "                num_homeworks += 1\n",
    "            elif assignment_type == \"quiz\":\n",
    "                total_quizzes += grade * 0.2\n",
    "                num_quizzes += 1\n",
    "            elif assignment_type == \"lab\":\n",
    "                total_labs += grade * 0.25\n",
    "                num_labs += 1\n",
    "            elif assignment_type == \"exam\":\n",
    "                total_exams += grade * 0.4\n",
    "                num_exams += 1\n",
    "        total = total_homeworks / num_homeworks + total_quizzes / num_quizzes + total_labs / num_labs + total_exams / num_exams\n",
    "        return total\n",
    "print(calculate_grade(\"grades.txt\") == 79.5229375)"
   ]
  },
  {
   "cell_type": "code",
   "execution_count": 37,
   "id": "3f4ee9f9-4fae-49d5-be83-3540eabcfacb",
   "metadata": {},
   "outputs": [
    {
     "name": "stdout",
     "output_type": "stream",
     "text": [
      "True\n"
     ]
    }
   ],
   "source": [
    "# 2.\n",
    "def create_flashcards(file_name: str, words: list, definitions: list):\n",
    "    \"\"\"\n",
    "    Given a file name, a list of words, and a list of their \n",
    "    definitions, write into the file each word and definition\n",
    "    separated by a tab, with each entry on a new line.\n",
    "    \\t is the tab character\n",
    "    \"chemistry_flashcards.txt\",\n",
    "    [\"acid\", \"base\", \"dissociation\"], \n",
    "    [\"compound that gives off H+ ions in solution\",\n",
    "    \"substance which gives off hydroxide ions (OH-) in solution\",\n",
    "    \"breaking down of a compound into its components to form ions from an ionic substance\"]\n",
    "    ->\n",
    "    acid\\tcompound that gives off H+ ions in solution\n",
    "    base\\tsubstance which gives off hydroxide ions (OH-) in solution\n",
    "    dissociation\\tbreaking down of a compound into its components to form ions from an ionic substance\n",
    "    \"\"\"\n",
    "    with open(file_name, \"w\") as f:\n",
    "        for i in range(len(words)):\n",
    "            f.write(\"{0}\\t{1}\\n\".format(words[i], definitions[i]))\n",
    "    \n",
    "\n",
    "create_flashcards(\"chemistry_flashcards.txt\", [\"acid\", \"base\", \"dissociation\"], [\"compound that gives off H+ ions in solution\",\n",
    "    \"substance which gives off hydroxide ions (OH-) in solution\",\n",
    "    \"breaking down of a compound into its components to form ions from an ionic substance\"])\n",
    "\n",
    "print(open(\"chemistry_flashcards.txt\").read() == \"acid\\tcompound that gives off H+ ions in solution\\nbase\\tsubstance which gives off hydroxide ions (OH-) in solution\\ndissociation\\tbreaking down of a compound into its components to form ions from an ionic substance\\n\")"
   ]
  },
  {
   "cell_type": "markdown",
   "id": "d6c006cc-454b-40ae-8e25-8c130a47d5e4",
   "metadata": {},
   "source": [
    "### 3.3"
   ]
  },
  {
   "cell_type": "markdown",
   "id": "795b8f52-96b0-4127-b447-3f47e18b0538",
   "metadata": {},
   "source": [
    "#### Coding Activity 1"
   ]
  },
  {
   "cell_type": "code",
   "execution_count": null,
   "id": "d5563fe9-0de2-4bbf-a9cc-03697c0a3dbc",
   "metadata": {},
   "outputs": [],
   "source": [
    "# fix the syntax error below\n",
    "print(abs(min((-2 ** (3 + 2), 2, -3, -4))))\n",
    "# this should print 32"
   ]
  },
  {
   "cell_type": "markdown",
   "id": "57d479a9-966c-44aa-b745-d8115223cb7f",
   "metadata": {},
   "source": [
    "#### Practice Problems"
   ]
  },
  {
   "cell_type": "code",
   "execution_count": null,
   "id": "520c7074-1ac7-4b70-9b64-007ad4049976",
   "metadata": {},
   "outputs": [],
   "source": [
    "# 1. fix the function below\n",
    "def add_prefix(string: str, num: int) -> str:\n",
    "    \"\"\"\n",
    "    Adds a string prefix to a number.\n",
    "    Ex.\n",
    "    add_prefix(\"foo\", 123) == \"foo123\"\n",
    "    add_prefix(\"bar\", 0) == \"bar0\"\n",
    "    \"\"\"\n",
    "    return string + str(num)\n",
    "print(add_prefix(\"foo\", 123) == \"foo123\")\n",
    "print(add_prefix(\"bar\", 0) == \"bar0\")"
   ]
  },
  {
   "cell_type": "code",
   "execution_count": null,
   "id": "f99083a1-8a13-41d2-9e5f-2365e199b5e7",
   "metadata": {},
   "outputs": [],
   "source": [
    "# 2. fix the function below\n",
    "def get_middle_num(nums: list) -> int:\n",
    "    \"\"\"\n",
    "    Gets the int in the middle of the nums list.\n",
    "    Ex.\n",
    "    get_middle_num([1, 5, 10]) -> 5\n",
    "    get_middle_num([4, 5, 6, 7]) -> 5\n",
    "    get_middle_num([1]) -> 1\n",
    "    \"\"\"\n",
    "    middle_index = len(strings) / 2\n",
    "    return nums[middle_index]\n",
    "print(get_middle_num([1, 5, 10]) == 5)\n",
    "print(get_middle_num([4, 5, 6, 7]) == 5)\n",
    "print(get_middle_num([1]) == 1)"
   ]
  },
  {
   "cell_type": "code",
   "execution_count": 39,
   "id": "c98a7ae6-6c5d-443e-b157-20b59eedf74d",
   "metadata": {},
   "outputs": [
    {
     "name": "stdout",
     "output_type": "stream",
     "text": [
      "False\n",
      "True\n",
      "True\n",
      "True\n"
     ]
    }
   ],
   "source": [
    "# 3. fix the function below\n",
    "def longest_char_chain(string: str) -> int:\n",
    "    \"\"\"\n",
    "    Given a string, return the length of the longest chain of\n",
    "    the same character.\n",
    "    Ex.\n",
    "    longest_letter_chain(\"aaaaa bbb cc ddd\") == 4\n",
    "    longest_letter_chain(\"aa bbbbbbbbb cc ddd\") == 9\n",
    "    longest_letter_chain(\"a\") == 1\n",
    "    longest_letter_chain(\"\") == 0\n",
    "    \"\"\"\n",
    "    if len(string) == 0 or len(string) == 1:\n",
    "        return len(string)\n",
    "    longest_chain = 1\n",
    "    current_chain = 1\n",
    "    # ------------- ANSWER -----------\n",
    "    # if we go to the end of the string, then when we do\n",
    "    # string[i+1], we end up accessing the index after the end\n",
    "    # of the string, causing an exception. Instead, we want\n",
    "    # to stop iterating right before the last character, i.e.\n",
    "    # len(string) - 1, so that when we calculate string[i+1],\n",
    "    # we grab the last character.\n",
    "    # ------------- ANSWER -----------\n",
    "    for i in range(len(string) - 1): # for each character\n",
    "        # if the character is the same as the character to \n",
    "        # the left\n",
    "        if string[i] == string[i+1]: \n",
    "            # increase chain by one\n",
    "            current_chain += 1 \n",
    "            # if the current chain is longer than the longest one\n",
    "            if current_chain > longest_chain: \n",
    "                # set longest to the current\n",
    "                longest_chain = current_chain\n",
    "        else:\n",
    "            # if the character is a different one, start the \n",
    "            # current chain over\n",
    "            current_chain = 1\n",
    "    return longest_chain\n",
    "\n",
    "print(longest_char_chain(\"aaaaa bbb cc ddd\") == 5)\n",
    "print(longest_char_chain(\"aa bbbbbbbbb cc ddd\") == 9)\n",
    "print(longest_char_chain(\"a\") == 1)\n",
    "print(longest_char_chain(\"\") == 0)"
   ]
  },
  {
   "cell_type": "markdown",
   "id": "66f9673f-1307-46c3-a749-87617cf7f4fa",
   "metadata": {},
   "source": [
    "### 3.3"
   ]
  }
 ],
 "metadata": {
  "kernelspec": {
   "display_name": "Python 3 (ipykernel)",
   "language": "python",
   "name": "python3"
  },
  "language_info": {
   "codemirror_mode": {
    "name": "ipython",
    "version": 3
   },
   "file_extension": ".py",
   "mimetype": "text/x-python",
   "name": "python",
   "nbconvert_exporter": "python",
   "pygments_lexer": "ipython3",
   "version": "3.10.2"
  }
 },
 "nbformat": 4,
 "nbformat_minor": 5
}
