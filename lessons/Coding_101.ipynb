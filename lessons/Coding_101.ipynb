{
 "cells": [
  {
   "cell_type": "markdown",
   "metadata": {
    "id": "6dT-9zWGzvvI"
   },
   "source": [
    "# Coding 101"
   ]
  },
  {
   "cell_type": "markdown",
   "metadata": {
    "id": "JeogYzUXzym6",
    "jp-MarkdownHeadingCollapsed": true,
    "tags": []
   },
   "source": [
    "## Table of Contents"
   ]
  },
  {
   "cell_type": "markdown",
   "metadata": {
    "id": "dlDmStavz1tJ"
   },
   "source": [
    "1. [Introduction](#Introduction)\n",
    "  1. Course Content\n",
    "  2. Course Structure\n",
    "  3. Course Guidelines\n",
    "2. Week 1: Data Types and Control Structures\n",
    "  1. Data, Operators, and Variables\n",
    "  2. If, Else, Elif, and Functions\n",
    "  3. Strings, Lists, and Tuples\n",
    "3. Week 2 Objects, Methods, and Looping\n",
    "  1. Objects, Types, Conversions, and Methods\n",
    "  2. Tuple and String Methods\n",
    "  3. Loops\n",
    "4. Week 3 Files, Exceptions, and Random\n",
    "  1. Inputs and Files\n",
    "  2. Errors and Exceptions\n",
    "  3. Random\n",
    "5. Week 4 Dictionaries, Sets, and Namedtuples\n",
    "  1. Dictionaries and Sets\n",
    "  2. Dictionary and Set Methods\n",
    "  3. Namedtuples\n",
    "6. Week 5 Bringing it All Together\n",
    "  1. Final Review 1\n",
    "  2. Final Review 2\n",
    "  3. The Restauraant Program\n"
   ]
  },
  {
   "cell_type": "markdown",
   "metadata": {
    "id": "z_PP9qnnz8U2"
   },
   "source": [
    "## Introduction"
   ]
  },
  {
   "cell_type": "markdown",
   "metadata": {
    "id": "jFMvEnMwz973"
   },
   "source": [
    "Welcome to the totally free coding bootcamp! In this course, you'll learn the fundamentals of Python and how to apply it at the industry level. If your goal is to take the ICS 31 credit exam, switch into CS or a related field, or simply build your practical skills, this course is for you!"
   ]
  },
  {
   "cell_type": "markdown",
   "metadata": {
    "id": "mkllKQBF0CFx"
   },
   "source": [
    "DISCLAIMER: If you're not familiar with Google Colab (the website you're using to view this document right now), it's a neat way to embed interactice code snippets between text. That way, you can modify the examples as you please while you're reading them."
   ]
  },
  {
   "cell_type": "markdown",
   "metadata": {
    "id": "zp9jFjoO0yCP"
   },
   "source": [
    "You might be wondering, \"Why am I reading text? Don't coders hate to read? Shouldn't I be watching a video lecture with fancy animations/visuals to help me learn better? After all, I'm a visual learner.\" Let this be your first lesson in computer science: coders do read. A lot!"
   ]
  },
  {
   "cell_type": "markdown",
   "metadata": {
    "id": "QIe_j11TRvAb"
   },
   "source": [
    "In fact, at the industry level, programmers spend more time reading than coding. This is because you can soak up information a lot faster by reading than you can by watching a video. It's easy to skim through and pick out the essential pieces of information that you need to know when you're reading, which is why it's good to practice that now. You can Ctrl+F instead of skipping through videos to find what you need. Also, those course websites (Udemy, Coursea, Udacity) either cost money or require you to be a part of an official institution, so...this is what you get."
   ]
  },
  {
   "cell_type": "markdown",
   "metadata": {
    "id": "x-iZ8nHMzI06"
   },
   "source": [
    "### Course Content"
   ]
  },
  {
   "cell_type": "markdown",
   "metadata": {
    "id": "BXJMRFAa-sd-"
   },
   "source": [
    "This course will be divided into 2 parts. The first half of this course will cover the content in ICS 31 at UCI, the fundamentals of Python, which is exactly what you will need to pass the ICS 31 credit exam. The second half of this course will cover how to apply Python and build projects on your own that are worthy of adding to your resume. If you already know how to code in Python, feel free to skip to the second half of this course. "
   ]
  },
  {
   "cell_type": "markdown",
   "metadata": {
    "id": "vfMSllqbBLdG"
   },
   "source": [
    "To be more specific, in the first half of the course, we will cover the following concepts in Python (that are included in the ICS 31 credit exam):\n",
    "\n",
    "*   Variables\n",
    "*   Data Types\n",
    "*   Control Flow\n",
    "*   Functions\n",
    "*   Files\n",
    "*   Exceptions\n",
    "*   Loops\n",
    "*   Data Structures\n",
    "*   Documentation"
   ]
  },
  {
   "cell_type": "markdown",
   "metadata": {
    "id": "gN8rAuzNjDgA"
   },
   "source": [
    "In the latter half of the course, I'll be walking you through the transition from being just a coder to a software engineer. This will include giving tips on how to improve as a coder, how to start your first project, and examples of how you would apply Python in the real world."
   ]
  },
  {
   "cell_type": "markdown",
   "metadata": {
    "id": "GLQZhTr8Veo_"
   },
   "source": [
    "The be more specific, we will cover the following advanced topics:\n",
    "\n",
    "*   Version Control\n",
    "*   keyword arguments\n",
    "*   Virtual Environments\n",
    "*   File Paths\n",
    "*   Scope\n",
    "*   Classes\n",
    "*   Lambda expressions\n",
    "*   Debugging\n",
    "*   f-strings\n",
    "*   Modules\n",
    "*   Coding Best Practices\n",
    "*   Reading Documentation\n",
    "*   Software Engineering Design\n",
    "*   Interacting with APIs\n",
    "*   Real World Example\n",
    "\n"
   ]
  },
  {
   "cell_type": "markdown",
   "metadata": {
    "id": "8iz7qoNU1GCU"
   },
   "source": [
    "DISCLAIMER: The first several modules of this course are based heavily on the book: *Introduction to Computing Using Python, An Application Development Focus, second edition*, by Ljubomir Perkovic (Wiley 2015), since it is the basis for a large portion of the ICS 31 credit exam."
   ]
  },
  {
   "cell_type": "markdown",
   "metadata": {
    "id": "02AdggGO0ynF"
   },
   "source": [
    "### Course Structure"
   ]
  },
  {
   "cell_type": "markdown",
   "metadata": {
    "id": "kWJipHpu1iCJ"
   },
   "source": [
    "This course will be divided into 10 weeks of content with around 4 hours of content each week (think of it as a 4-unit class), which means you should plan for it accordingly. Though, some weeks may be easier or less time-consuming than others, so plan for that as well."
   ]
  },
  {
   "cell_type": "markdown",
   "metadata": {
    "id": "VAn9sV9Yyjvu"
   },
   "source": [
    "Each week will be split up into 3 modules. "
   ]
  },
  {
   "cell_type": "markdown",
   "metadata": {
    "id": "TzTZAgH0yUbs"
   },
   "source": [
    "### Course Guidelines"
   ]
  },
  {
   "cell_type": "markdown",
   "metadata": {
    "id": "HBdWI3NTyWfv"
   },
   "source": [
    "Here are my tips for if you want to succeed in this course:\n",
    "\n",
    "\n",
    "*   Schedule when you will take each module every week. I would recommend you do a module Monday, Wednseday, Friday at a designated time.\n",
    "*   \n",
    "\n"
   ]
  }
 ],
 "metadata": {
  "colab": {
   "collapsed_sections": [],
   "name": "Coding 101.ipynb",
   "provenance": []
  },
  "kernelspec": {
   "display_name": "Python 3 (ipykernel)",
   "language": "python",
   "name": "python3"
  },
  "language_info": {
   "codemirror_mode": {
    "name": "ipython",
    "version": 3
   },
   "file_extension": ".py",
   "mimetype": "text/x-python",
   "name": "python",
   "nbconvert_exporter": "python",
   "pygments_lexer": "ipython3",
   "version": "3.10.2"
  }
 },
 "nbformat": 4,
 "nbformat_minor": 4
}
